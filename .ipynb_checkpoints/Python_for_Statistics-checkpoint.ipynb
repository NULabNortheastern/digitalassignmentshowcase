{
  "cells": [
    {
      "metadata": {
        "collapsed": true
      },
      "cell_type": "markdown",
      "source": "# Introduction to Python for Statistics\n\n## Code and Text written by: <br/>\n## Laura Nelson ~~ *Assistant Professor of Sociology*<br/><br/>Northeastern University\n### Prepared for Professor Kilby <br/> January, 2019\n<br/>\n\n# Introduction\n\nAs social scientists, we now have access to unprecedented amounts of data. This provides great opportunity, but also different challenges. In particular, it is increasingly important to learn a scripting language, such as Python or R, in order to access, collect, and structure data from diverse sources, and analyze data using new and developing methods, such as machine learning.\n\nIn this lecture and hands-on workshop I will provide a brief introduction to the scripting language Python, using the Jupyter platform (what you're looking at now), with an eye toward data representation and analysis.\n\nI am going to throw a lot of syntax at you. There is no way you will remember all of this. Keep your notes, and my notes, as a reference. Focus on learning the syntax, but also getting a higher-level understanding of the way Python works. The syntax will come as you work with it more. If you've never written in Python, all of this may feel very strange to you. It gets easier as you work with it more.\n\n# Learning Goals\n\n- Understand what Python is, why it is useful, and how to use Python for data analysis.\n- Understand how Python interacts with, and represents, data. \n\n# Learning Outcomes\n\n- Learn and be able to explain Python basics - variables, variable types, manipulating variables, and dataframes\n- Explain what the Python libraries Pandas and Statsmodels are and what they do\n- Write enough code to:\n    - Read in a dataset and manipulate a few variables\n    - Produce basic summary statistics from a Pandas dataframe\n    - Produce three visualization from the dataframe: histogram, scatter plot, and bar chart\n    - Implement a simple OLS regression model and interpret the output\n\n    \n# Workshop Outline\n1. Python basics\n2. The Pandas Dataframe\n    - data representation\n    - data manipulation\n    - summary statistics\n3. Data visualization using matplotlib\n4. StatsModels for statistics"
    },
    {
      "metadata": {},
      "cell_type": "markdown",
      "source": "# 1. Python basics"
    },
    {
      "metadata": {
        "trusted": true
      },
      "cell_type": "code",
      "source": "# python is all about functions, variables, and  doing things to variables\n\nprint(\"Hello, world!\")",
      "execution_count": 1,
      "outputs": [
        {
          "output_type": "stream",
          "text": "Hello, world!\n",
          "name": "stdout"
        }
      ]
    },
    {
      "metadata": {},
      "cell_type": "markdown",
      "source": "<a id='arithmetic'></a>\n### Arithmetic"
    },
    {
      "metadata": {
        "trusted": true
      },
      "cell_type": "code",
      "source": "#computers are great at arithmetic\n\n2+5",
      "execution_count": 2,
      "outputs": [
        {
          "output_type": "execute_result",
          "execution_count": 2,
          "data": {
            "text/plain": "7"
          },
          "metadata": {}
        }
      ]
    },
    {
      "metadata": {
        "trusted": true
      },
      "cell_type": "code",
      "source": "(2-5)\nprint(2*5)\n2/5",
      "execution_count": 4,
      "outputs": [
        {
          "output_type": "stream",
          "text": "10\n",
          "name": "stdout"
        },
        {
          "output_type": "execute_result",
          "execution_count": 4,
          "data": {
            "text/plain": "0.4"
          },
          "metadata": {}
        }
      ]
    },
    {
      "metadata": {
        "trusted": true
      },
      "cell_type": "code",
      "source": "2-5, 2*5, 2/5\n(2+5) * 3",
      "execution_count": 6,
      "outputs": [
        {
          "output_type": "execute_result",
          "execution_count": 6,
          "data": {
            "text/plain": "21"
          },
          "metadata": {}
        }
      ]
    },
    {
      "metadata": {
        "trusted": true
      },
      "cell_type": "code",
      "source": "print(5==5)\nprint(5==3)\n#2>5\nprint(2!=3)",
      "execution_count": 10,
      "outputs": [
        {
          "output_type": "stream",
          "text": "True\nFalse\nTrue\n",
          "name": "stdout"
        }
      ]
    },
    {
      "metadata": {},
      "cell_type": "markdown",
      "source": "## Variable assignment"
    },
    {
      "metadata": {},
      "cell_type": "markdown",
      "source": "Assigning variables is something that we do all the time in programming. These aren't quite like the variables from high school algebra, where *x* represents an unknown to solve for. Instead these are like notes to ourselves that we want to save some value(s) for later use.\n\nNote that the equals sign is directional, like an arrow, telling the computer to give a certain value to a certain label."
    },
    {
      "metadata": {
        "trusted": true
      },
      "cell_type": "code",
      "source": "a = 2\nb = 5",
      "execution_count": 11,
      "outputs": []
    },
    {
      "metadata": {
        "trusted": true
      },
      "cell_type": "code",
      "source": "a+b",
      "execution_count": 12,
      "outputs": [
        {
          "output_type": "execute_result",
          "execution_count": 12,
          "data": {
            "text/plain": "7"
          },
          "metadata": {}
        }
      ]
    },
    {
      "metadata": {
        "trusted": true
      },
      "cell_type": "code",
      "source": "this_number = 2\nb/this_number",
      "execution_count": 14,
      "outputs": [
        {
          "output_type": "execute_result",
          "execution_count": 14,
          "data": {
            "text/plain": "2.5"
          },
          "metadata": {}
        }
      ]
    },
    {
      "metadata": {},
      "cell_type": "markdown",
      "source": "## Variable types\n\nThe type a value has is important. The variable type determines what operators you can use, or how the operators behave."
    },
    {
      "metadata": {
        "trusted": true
      },
      "cell_type": "code",
      "source": "type('Hello, world!')",
      "execution_count": 15,
      "outputs": [
        {
          "output_type": "execute_result",
          "execution_count": 15,
          "data": {
            "text/plain": "str"
          },
          "metadata": {}
        }
      ]
    },
    {
      "metadata": {
        "trusted": true
      },
      "cell_type": "code",
      "source": "type(17)",
      "execution_count": 16,
      "outputs": [
        {
          "output_type": "execute_result",
          "execution_count": 16,
          "data": {
            "text/plain": "int"
          },
          "metadata": {}
        }
      ]
    },
    {
      "metadata": {
        "trusted": true
      },
      "cell_type": "code",
      "source": "type(3.2)",
      "execution_count": 17,
      "outputs": [
        {
          "output_type": "execute_result",
          "execution_count": 17,
          "data": {
            "text/plain": "float"
          },
          "metadata": {}
        }
      ]
    },
    {
      "metadata": {
        "trusted": true
      },
      "cell_type": "code",
      "source": "type('17')",
      "execution_count": 18,
      "outputs": [
        {
          "output_type": "execute_result",
          "execution_count": 18,
          "data": {
            "text/plain": "str"
          },
          "metadata": {}
        }
      ]
    },
    {
      "metadata": {
        "trusted": true
      },
      "cell_type": "code",
      "source": "type(int('17'))",
      "execution_count": 21,
      "outputs": [
        {
          "output_type": "execute_result",
          "execution_count": 21,
          "data": {
            "text/plain": "int"
          },
          "metadata": {}
        }
      ]
    },
    {
      "metadata": {
        "trusted": true
      },
      "cell_type": "code",
      "source": "str(3.2)",
      "execution_count": 22,
      "outputs": [
        {
          "output_type": "execute_result",
          "execution_count": 22,
          "data": {
            "text/plain": "'3.2'"
          },
          "metadata": {}
        }
      ]
    },
    {
      "metadata": {
        "trusted": true
      },
      "cell_type": "code",
      "source": "int(7.8)",
      "execution_count": 24,
      "outputs": [
        {
          "output_type": "execute_result",
          "execution_count": 24,
          "data": {
            "text/plain": "7"
          },
          "metadata": {}
        }
      ]
    },
    {
      "metadata": {
        "trusted": true
      },
      "cell_type": "code",
      "source": "float(7)",
      "execution_count": 25,
      "outputs": [
        {
          "output_type": "execute_result",
          "execution_count": 25,
          "data": {
            "text/plain": "7.0"
          },
          "metadata": {}
        }
      ]
    },
    {
      "metadata": {
        "trusted": true
      },
      "cell_type": "code",
      "source": "int(0.044)",
      "execution_count": 26,
      "outputs": [
        {
          "output_type": "execute_result",
          "execution_count": 26,
          "data": {
            "text/plain": "0"
          },
          "metadata": {}
        }
      ]
    },
    {
      "metadata": {
        "trusted": true
      },
      "cell_type": "code",
      "source": "print(17+2)\nprint('17' + 2)",
      "execution_count": 29,
      "outputs": [
        {
          "output_type": "stream",
          "text": "19\n",
          "name": "stdout"
        },
        {
          "output_type": "error",
          "ename": "TypeError",
          "evalue": "must be str, not int",
          "traceback": [
            "\u001b[0;31m---------------------------------------------------------------------------\u001b[0m",
            "\u001b[0;31mTypeError\u001b[0m                                 Traceback (most recent call last)",
            "\u001b[0;32m<ipython-input-29-82aa22658d1b>\u001b[0m in \u001b[0;36m<module>\u001b[0;34m\u001b[0m\n\u001b[1;32m      1\u001b[0m \u001b[0mprint\u001b[0m\u001b[0;34m(\u001b[0m\u001b[0;36m17\u001b[0m\u001b[0;34m+\u001b[0m\u001b[0;36m2\u001b[0m\u001b[0;34m)\u001b[0m\u001b[0;34m\u001b[0m\u001b[0m\n\u001b[0;32m----> 2\u001b[0;31m \u001b[0mprint\u001b[0m\u001b[0;34m(\u001b[0m\u001b[0;34m'17'\u001b[0m \u001b[0;34m+\u001b[0m \u001b[0;36m2\u001b[0m\u001b[0;34m)\u001b[0m\u001b[0;34m\u001b[0m\u001b[0m\n\u001b[0m",
            "\u001b[0;31mTypeError\u001b[0m: must be str, not int"
          ]
        }
      ]
    },
    {
      "metadata": {},
      "cell_type": "markdown",
      "source": "## More on operators and variable types"
    },
    {
      "metadata": {},
      "cell_type": "markdown",
      "source": "In Python, human language text gets represented as a *string*. These contain sequential sets of characters and they are offset by quotation marks, either double (\") or single (').\n\nWe will explore different kinds of operations in Python that are specific to human language objects, but it is useful to start by trying to see them as the computer does, as numerical representations."
    },
    {
      "metadata": {
        "trusted": true
      },
      "cell_type": "code",
      "source": "a = \"Hello\"\nb = \"world\"",
      "execution_count": 31,
      "outputs": []
    },
    {
      "metadata": {
        "trusted": true
      },
      "cell_type": "code",
      "source": "a+b",
      "execution_count": 32,
      "outputs": [
        {
          "output_type": "execute_result",
          "execution_count": 32,
          "data": {
            "text/plain": "'Helloworld'"
          },
          "metadata": {}
        }
      ]
    },
    {
      "metadata": {
        "trusted": true
      },
      "cell_type": "code",
      "source": "a*5",
      "execution_count": 33,
      "outputs": [
        {
          "output_type": "execute_result",
          "execution_count": 33,
          "data": {
            "text/plain": "'HelloHelloHelloHelloHello'"
          },
          "metadata": {}
        }
      ]
    },
    {
      "metadata": {
        "trusted": false
      },
      "cell_type": "code",
      "source": "",
      "execution_count": null,
      "outputs": []
    },
    {
      "metadata": {
        "collapsed": true,
        "trusted": false
      },
      "cell_type": "code",
      "source": "",
      "execution_count": null,
      "outputs": []
    },
    {
      "metadata": {
        "trusted": false
      },
      "cell_type": "code",
      "source": "",
      "execution_count": null,
      "outputs": []
    },
    {
      "metadata": {
        "trusted": false
      },
      "cell_type": "code",
      "source": "",
      "execution_count": null,
      "outputs": []
    },
    {
      "metadata": {
        "trusted": false
      },
      "cell_type": "code",
      "source": "",
      "execution_count": null,
      "outputs": []
    },
    {
      "metadata": {
        "trusted": true
      },
      "cell_type": "code",
      "source": "##Ex: I have 4 dozen eggs. \n#Write a script that assigns that number to a variable, \n#and prints the total number of eggs I have.\n\nnum_dozens = 7\nprint(num_dozens * 12)\n\n\n#Ex: Create a variable for hours worked, and another for pay per hour\n# Use Python to calculate the total weekly earnings based on these two variables\n\nhours = '35'\npay = 256\n\nprint(hours*pay)",
      "execution_count": 39,
      "outputs": [
        {
          "output_type": "stream",
          "text": "84\n35353535353535353535353535353535353535353535353535353535353535353535353535353535353535353535353535353535353535353535353535353535353535353535353535353535353535353535353535353535353535353535353535353535353535353535353535353535353535353535353535353535353535353535353535353535353535353535353535353535353535353535353535353535353535353535353535353535353535353535353535353535353535353535353535353535353535353535353535353535353535353535353535353535353535353535353535353535353535353535353535353535353535353535353535353535\n",
          "name": "stdout"
        }
      ]
    },
    {
      "metadata": {},
      "cell_type": "markdown",
      "source": "# 2. The Pandas Dataframe\n\n******************************\nThe data we'll analyze today comes from:\n\nNational Center for Education Statistics, United States Department of Education. (2009). Early Childhood Longitudinal Study, Kindergarten Class of 1998-99 (ECLS-K) [Data file]. Available from http://nces.ed.gov/ecls/kindergarten.asp\n\nI selected five variables (columns) to analyze:\n\n* reading_score = READING IRT SCALE SCORE\n* math_score = MATH IRT SCALE SCORE\n* knowledge_score = GENERAL KNOWLEDGE IRT SCALE SCORE\n* p2income = TOTAL HOUSEHOLD INCOME\n* incomecat = INCOME CATEGORES\n    * 1 = low income: < \\$40,000\n    * 2 = mid income\n    * 3 = high income: >= \\$70,000\n    \nThe unit of observation (row) is the individual kindergartner.  \n   \n## Motivating Questions\n\n1. Are math, reading, and general knowledge scores related to household income in any predictable way?\n2. Can you predict general knowledge scores from reading or math scores? That is, are reading and math skills related to general knowledge?"
    },
    {
      "metadata": {
        "trusted": true
      },
      "cell_type": "code",
      "source": "import pandas",
      "execution_count": 43,
      "outputs": []
    },
    {
      "metadata": {
        "scrolled": true,
        "trusted": true
      },
      "cell_type": "code",
      "source": "df = pandas.read_csv('education_dataset.csv', sep = ',')\ndf",
      "execution_count": 49,
      "outputs": [
        {
          "output_type": "execute_result",
          "execution_count": 49,
          "data": {
            "text/html": "<div>\n<style>\n    .dataframe thead tr:only-child th {\n        text-align: right;\n    }\n\n    .dataframe thead th {\n        text-align: left;\n    }\n\n    .dataframe tbody tr th {\n        vertical-align: top;\n    }\n</style>\n<table border=\"1\" class=\"dataframe\">\n  <thead>\n    <tr style=\"text-align: right;\">\n      <th></th>\n      <th>reading_score</th>\n      <th>math_score</th>\n      <th>knowledge_score</th>\n      <th>p2income</th>\n      <th>incomecat</th>\n    </tr>\n  </thead>\n  <tbody>\n    <tr>\n      <th>0</th>\n      <td>36.58</td>\n      <td>39.54</td>\n      <td>33.822</td>\n      <td>140000.0</td>\n      <td>3</td>\n    </tr>\n    <tr>\n      <th>1</th>\n      <td>50.82</td>\n      <td>44.44</td>\n      <td>38.147</td>\n      <td>120000.0</td>\n      <td>3</td>\n    </tr>\n    <tr>\n      <th>2</th>\n      <td>40.68</td>\n      <td>28.57</td>\n      <td>28.108</td>\n      <td>90000.0</td>\n      <td>3</td>\n    </tr>\n    <tr>\n      <th>3</th>\n      <td>32.57</td>\n      <td>23.57</td>\n      <td>15.404</td>\n      <td>50000.0</td>\n      <td>2</td>\n    </tr>\n    <tr>\n      <th>4</th>\n      <td>31.98</td>\n      <td>19.65</td>\n      <td>18.727</td>\n      <td>55000.0</td>\n      <td>2</td>\n    </tr>\n    <tr>\n      <th>5</th>\n      <td>50.45</td>\n      <td>36.27</td>\n      <td>33.352</td>\n      <td>150000.0</td>\n      <td>3</td>\n    </tr>\n    <tr>\n      <th>6</th>\n      <td>32.49</td>\n      <td>20.82</td>\n      <td>26.211</td>\n      <td>42000.0</td>\n      <td>2</td>\n    </tr>\n    <tr>\n      <th>7</th>\n      <td>33.30</td>\n      <td>26.85</td>\n      <td>27.072</td>\n      <td>70000.0</td>\n      <td>3</td>\n    </tr>\n    <tr>\n      <th>8</th>\n      <td>65.92</td>\n      <td>47.36</td>\n      <td>33.514</td>\n      <td>100000.0</td>\n      <td>3</td>\n    </tr>\n    <tr>\n      <th>9</th>\n      <td>34.20</td>\n      <td>22.27</td>\n      <td>28.096</td>\n      <td>78000.0</td>\n      <td>3</td>\n    </tr>\n    <tr>\n      <th>10</th>\n      <td>26.77</td>\n      <td>15.97</td>\n      <td>11.269</td>\n      <td>2000.0</td>\n      <td>1</td>\n    </tr>\n    <tr>\n      <th>11</th>\n      <td>43.01</td>\n      <td>33.26</td>\n      <td>24.710</td>\n      <td>50000.0</td>\n      <td>2</td>\n    </tr>\n    <tr>\n      <th>12</th>\n      <td>27.90</td>\n      <td>20.23</td>\n      <td>21.195</td>\n      <td>9000.0</td>\n      <td>1</td>\n    </tr>\n    <tr>\n      <th>13</th>\n      <td>32.05</td>\n      <td>20.27</td>\n      <td>14.700</td>\n      <td>18000.0</td>\n      <td>1</td>\n    </tr>\n    <tr>\n      <th>14</th>\n      <td>26.85</td>\n      <td>25.83</td>\n      <td>23.977</td>\n      <td>41000.0</td>\n      <td>2</td>\n    </tr>\n    <tr>\n      <th>15</th>\n      <td>27.46</td>\n      <td>13.92</td>\n      <td>18.558</td>\n      <td>35000.0</td>\n      <td>1</td>\n    </tr>\n    <tr>\n      <th>16</th>\n      <td>37.42</td>\n      <td>29.90</td>\n      <td>20.702</td>\n      <td>30000.0</td>\n      <td>1</td>\n    </tr>\n    <tr>\n      <th>17</th>\n      <td>38.71</td>\n      <td>25.87</td>\n      <td>27.976</td>\n      <td>55000.0</td>\n      <td>2</td>\n    </tr>\n    <tr>\n      <th>18</th>\n      <td>36.05</td>\n      <td>27.04</td>\n      <td>33.879</td>\n      <td>24000.0</td>\n      <td>1</td>\n    </tr>\n    <tr>\n      <th>19</th>\n      <td>28.97</td>\n      <td>21.08</td>\n      <td>25.621</td>\n      <td>27000.0</td>\n      <td>1</td>\n    </tr>\n    <tr>\n      <th>20</th>\n      <td>33.47</td>\n      <td>32.30</td>\n      <td>23.991</td>\n      <td>22000.0</td>\n      <td>1</td>\n    </tr>\n    <tr>\n      <th>21</th>\n      <td>35.25</td>\n      <td>29.41</td>\n      <td>14.994</td>\n      <td>15000.0</td>\n      <td>1</td>\n    </tr>\n    <tr>\n      <th>22</th>\n      <td>35.04</td>\n      <td>27.45</td>\n      <td>27.330</td>\n      <td>7000.0</td>\n      <td>1</td>\n    </tr>\n    <tr>\n      <th>23</th>\n      <td>27.76</td>\n      <td>25.85</td>\n      <td>34.184</td>\n      <td>36000.0</td>\n      <td>1</td>\n    </tr>\n    <tr>\n      <th>24</th>\n      <td>27.38</td>\n      <td>20.95</td>\n      <td>13.810</td>\n      <td>15000.0</td>\n      <td>1</td>\n    </tr>\n    <tr>\n      <th>25</th>\n      <td>28.18</td>\n      <td>13.48</td>\n      <td>11.294</td>\n      <td>3300.0</td>\n      <td>1</td>\n    </tr>\n    <tr>\n      <th>26</th>\n      <td>23.93</td>\n      <td>17.59</td>\n      <td>20.634</td>\n      <td>20000.0</td>\n      <td>1</td>\n    </tr>\n    <tr>\n      <th>27</th>\n      <td>23.57</td>\n      <td>15.65</td>\n      <td>14.549</td>\n      <td>13000.0</td>\n      <td>1</td>\n    </tr>\n    <tr>\n      <th>28</th>\n      <td>24.97</td>\n      <td>12.38</td>\n      <td>9.223</td>\n      <td>4000.0</td>\n      <td>1</td>\n    </tr>\n    <tr>\n      <th>29</th>\n      <td>23.64</td>\n      <td>12.45</td>\n      <td>8.074</td>\n      <td>11000.0</td>\n      <td>1</td>\n    </tr>\n    <tr>\n      <th>...</th>\n      <td>...</td>\n      <td>...</td>\n      <td>...</td>\n      <td>...</td>\n      <td>...</td>\n    </tr>\n    <tr>\n      <th>11903</th>\n      <td>26.75</td>\n      <td>19.51</td>\n      <td>15.665</td>\n      <td>13000.0</td>\n      <td>1</td>\n    </tr>\n    <tr>\n      <th>11904</th>\n      <td>24.71</td>\n      <td>18.50</td>\n      <td>19.347</td>\n      <td>41000.0</td>\n      <td>2</td>\n    </tr>\n    <tr>\n      <th>11905</th>\n      <td>31.15</td>\n      <td>22.26</td>\n      <td>9.891</td>\n      <td>22000.0</td>\n      <td>1</td>\n    </tr>\n    <tr>\n      <th>11906</th>\n      <td>39.22</td>\n      <td>26.20</td>\n      <td>32.341</td>\n      <td>70000.0</td>\n      <td>3</td>\n    </tr>\n    <tr>\n      <th>11907</th>\n      <td>25.40</td>\n      <td>18.57</td>\n      <td>30.073</td>\n      <td>35000.0</td>\n      <td>1</td>\n    </tr>\n    <tr>\n      <th>11908</th>\n      <td>41.00</td>\n      <td>45.95</td>\n      <td>32.667</td>\n      <td>80000.0</td>\n      <td>3</td>\n    </tr>\n    <tr>\n      <th>11909</th>\n      <td>42.66</td>\n      <td>28.89</td>\n      <td>28.321</td>\n      <td>31000.0</td>\n      <td>1</td>\n    </tr>\n    <tr>\n      <th>11910</th>\n      <td>25.95</td>\n      <td>21.03</td>\n      <td>16.778</td>\n      <td>30000.0</td>\n      <td>1</td>\n    </tr>\n    <tr>\n      <th>11911</th>\n      <td>27.08</td>\n      <td>22.30</td>\n      <td>15.975</td>\n      <td>67000.0</td>\n      <td>2</td>\n    </tr>\n    <tr>\n      <th>11912</th>\n      <td>25.82</td>\n      <td>15.54</td>\n      <td>15.387</td>\n      <td>25000.0</td>\n      <td>1</td>\n    </tr>\n    <tr>\n      <th>11913</th>\n      <td>42.84</td>\n      <td>31.99</td>\n      <td>20.170</td>\n      <td>50000.0</td>\n      <td>2</td>\n    </tr>\n    <tr>\n      <th>11914</th>\n      <td>34.09</td>\n      <td>27.00</td>\n      <td>18.566</td>\n      <td>30000.0</td>\n      <td>1</td>\n    </tr>\n    <tr>\n      <th>11915</th>\n      <td>27.45</td>\n      <td>18.32</td>\n      <td>19.708</td>\n      <td>9500.0</td>\n      <td>1</td>\n    </tr>\n    <tr>\n      <th>11916</th>\n      <td>32.73</td>\n      <td>38.14</td>\n      <td>29.277</td>\n      <td>22000.0</td>\n      <td>1</td>\n    </tr>\n    <tr>\n      <th>11917</th>\n      <td>56.72</td>\n      <td>30.97</td>\n      <td>23.930</td>\n      <td>80000.0</td>\n      <td>3</td>\n    </tr>\n    <tr>\n      <th>11918</th>\n      <td>33.60</td>\n      <td>26.33</td>\n      <td>16.654</td>\n      <td>25000.0</td>\n      <td>1</td>\n    </tr>\n    <tr>\n      <th>11919</th>\n      <td>33.58</td>\n      <td>36.64</td>\n      <td>26.804</td>\n      <td>41000.0</td>\n      <td>2</td>\n    </tr>\n    <tr>\n      <th>11920</th>\n      <td>38.75</td>\n      <td>27.51</td>\n      <td>32.108</td>\n      <td>75000.0</td>\n      <td>3</td>\n    </tr>\n    <tr>\n      <th>11921</th>\n      <td>38.36</td>\n      <td>28.98</td>\n      <td>23.238</td>\n      <td>50000.0</td>\n      <td>2</td>\n    </tr>\n    <tr>\n      <th>11922</th>\n      <td>36.91</td>\n      <td>26.99</td>\n      <td>21.898</td>\n      <td>30000.0</td>\n      <td>1</td>\n    </tr>\n    <tr>\n      <th>11923</th>\n      <td>42.23</td>\n      <td>28.16</td>\n      <td>27.221</td>\n      <td>80000.0</td>\n      <td>3</td>\n    </tr>\n    <tr>\n      <th>11924</th>\n      <td>23.40</td>\n      <td>11.29</td>\n      <td>9.517</td>\n      <td>30000.0</td>\n      <td>1</td>\n    </tr>\n    <tr>\n      <th>11925</th>\n      <td>25.80</td>\n      <td>13.04</td>\n      <td>13.518</td>\n      <td>30000.0</td>\n      <td>1</td>\n    </tr>\n    <tr>\n      <th>11926</th>\n      <td>24.99</td>\n      <td>19.09</td>\n      <td>23.342</td>\n      <td>40000.0</td>\n      <td>2</td>\n    </tr>\n    <tr>\n      <th>11927</th>\n      <td>34.06</td>\n      <td>20.06</td>\n      <td>22.788</td>\n      <td>8000.0</td>\n      <td>1</td>\n    </tr>\n    <tr>\n      <th>11928</th>\n      <td>32.51</td>\n      <td>25.68</td>\n      <td>11.694</td>\n      <td>39000.0</td>\n      <td>1</td>\n    </tr>\n    <tr>\n      <th>11929</th>\n      <td>31.96</td>\n      <td>25.73</td>\n      <td>21.461</td>\n      <td>26000.0</td>\n      <td>1</td>\n    </tr>\n    <tr>\n      <th>11930</th>\n      <td>40.44</td>\n      <td>30.50</td>\n      <td>16.836</td>\n      <td>45000.0</td>\n      <td>2</td>\n    </tr>\n    <tr>\n      <th>11931</th>\n      <td>35.51</td>\n      <td>28.96</td>\n      <td>28.864</td>\n      <td>28000.0</td>\n      <td>1</td>\n    </tr>\n    <tr>\n      <th>11932</th>\n      <td>23.47</td>\n      <td>14.30</td>\n      <td>15.256</td>\n      <td>13000.0</td>\n      <td>1</td>\n    </tr>\n  </tbody>\n</table>\n<p>11933 rows × 5 columns</p>\n</div>",
            "text/plain": "       reading_score  math_score  knowledge_score  p2income  incomecat\n0              36.58       39.54           33.822  140000.0          3\n1              50.82       44.44           38.147  120000.0          3\n2              40.68       28.57           28.108   90000.0          3\n3              32.57       23.57           15.404   50000.0          2\n4              31.98       19.65           18.727   55000.0          2\n5              50.45       36.27           33.352  150000.0          3\n6              32.49       20.82           26.211   42000.0          2\n7              33.30       26.85           27.072   70000.0          3\n8              65.92       47.36           33.514  100000.0          3\n9              34.20       22.27           28.096   78000.0          3\n10             26.77       15.97           11.269    2000.0          1\n11             43.01       33.26           24.710   50000.0          2\n12             27.90       20.23           21.195    9000.0          1\n13             32.05       20.27           14.700   18000.0          1\n14             26.85       25.83           23.977   41000.0          2\n15             27.46       13.92           18.558   35000.0          1\n16             37.42       29.90           20.702   30000.0          1\n17             38.71       25.87           27.976   55000.0          2\n18             36.05       27.04           33.879   24000.0          1\n19             28.97       21.08           25.621   27000.0          1\n20             33.47       32.30           23.991   22000.0          1\n21             35.25       29.41           14.994   15000.0          1\n22             35.04       27.45           27.330    7000.0          1\n23             27.76       25.85           34.184   36000.0          1\n24             27.38       20.95           13.810   15000.0          1\n25             28.18       13.48           11.294    3300.0          1\n26             23.93       17.59           20.634   20000.0          1\n27             23.57       15.65           14.549   13000.0          1\n28             24.97       12.38            9.223    4000.0          1\n29             23.64       12.45            8.074   11000.0          1\n...              ...         ...              ...       ...        ...\n11903          26.75       19.51           15.665   13000.0          1\n11904          24.71       18.50           19.347   41000.0          2\n11905          31.15       22.26            9.891   22000.0          1\n11906          39.22       26.20           32.341   70000.0          3\n11907          25.40       18.57           30.073   35000.0          1\n11908          41.00       45.95           32.667   80000.0          3\n11909          42.66       28.89           28.321   31000.0          1\n11910          25.95       21.03           16.778   30000.0          1\n11911          27.08       22.30           15.975   67000.0          2\n11912          25.82       15.54           15.387   25000.0          1\n11913          42.84       31.99           20.170   50000.0          2\n11914          34.09       27.00           18.566   30000.0          1\n11915          27.45       18.32           19.708    9500.0          1\n11916          32.73       38.14           29.277   22000.0          1\n11917          56.72       30.97           23.930   80000.0          3\n11918          33.60       26.33           16.654   25000.0          1\n11919          33.58       36.64           26.804   41000.0          2\n11920          38.75       27.51           32.108   75000.0          3\n11921          38.36       28.98           23.238   50000.0          2\n11922          36.91       26.99           21.898   30000.0          1\n11923          42.23       28.16           27.221   80000.0          3\n11924          23.40       11.29            9.517   30000.0          1\n11925          25.80       13.04           13.518   30000.0          1\n11926          24.99       19.09           23.342   40000.0          2\n11927          34.06       20.06           22.788    8000.0          1\n11928          32.51       25.68           11.694   39000.0          1\n11929          31.96       25.73           21.461   26000.0          1\n11930          40.44       30.50           16.836   45000.0          2\n11931          35.51       28.96           28.864   28000.0          1\n11932          23.47       14.30           15.256   13000.0          1\n\n[11933 rows x 5 columns]"
          },
          "metadata": {}
        }
      ]
    },
    {
      "metadata": {},
      "cell_type": "markdown",
      "source": "## Dataframe slicing"
    },
    {
      "metadata": {
        "scrolled": true,
        "trusted": true
      },
      "cell_type": "code",
      "source": "df[['reading_score', 'math_score']]",
      "execution_count": 51,
      "outputs": [
        {
          "output_type": "execute_result",
          "execution_count": 51,
          "data": {
            "text/html": "<div>\n<style>\n    .dataframe thead tr:only-child th {\n        text-align: right;\n    }\n\n    .dataframe thead th {\n        text-align: left;\n    }\n\n    .dataframe tbody tr th {\n        vertical-align: top;\n    }\n</style>\n<table border=\"1\" class=\"dataframe\">\n  <thead>\n    <tr style=\"text-align: right;\">\n      <th></th>\n      <th>reading_score</th>\n      <th>math_score</th>\n    </tr>\n  </thead>\n  <tbody>\n    <tr>\n      <th>0</th>\n      <td>36.58</td>\n      <td>39.54</td>\n    </tr>\n    <tr>\n      <th>1</th>\n      <td>50.82</td>\n      <td>44.44</td>\n    </tr>\n    <tr>\n      <th>2</th>\n      <td>40.68</td>\n      <td>28.57</td>\n    </tr>\n    <tr>\n      <th>3</th>\n      <td>32.57</td>\n      <td>23.57</td>\n    </tr>\n    <tr>\n      <th>4</th>\n      <td>31.98</td>\n      <td>19.65</td>\n    </tr>\n    <tr>\n      <th>5</th>\n      <td>50.45</td>\n      <td>36.27</td>\n    </tr>\n    <tr>\n      <th>6</th>\n      <td>32.49</td>\n      <td>20.82</td>\n    </tr>\n    <tr>\n      <th>7</th>\n      <td>33.30</td>\n      <td>26.85</td>\n    </tr>\n    <tr>\n      <th>8</th>\n      <td>65.92</td>\n      <td>47.36</td>\n    </tr>\n    <tr>\n      <th>9</th>\n      <td>34.20</td>\n      <td>22.27</td>\n    </tr>\n    <tr>\n      <th>10</th>\n      <td>26.77</td>\n      <td>15.97</td>\n    </tr>\n    <tr>\n      <th>11</th>\n      <td>43.01</td>\n      <td>33.26</td>\n    </tr>\n    <tr>\n      <th>12</th>\n      <td>27.90</td>\n      <td>20.23</td>\n    </tr>\n    <tr>\n      <th>13</th>\n      <td>32.05</td>\n      <td>20.27</td>\n    </tr>\n    <tr>\n      <th>14</th>\n      <td>26.85</td>\n      <td>25.83</td>\n    </tr>\n    <tr>\n      <th>15</th>\n      <td>27.46</td>\n      <td>13.92</td>\n    </tr>\n    <tr>\n      <th>16</th>\n      <td>37.42</td>\n      <td>29.90</td>\n    </tr>\n    <tr>\n      <th>17</th>\n      <td>38.71</td>\n      <td>25.87</td>\n    </tr>\n    <tr>\n      <th>18</th>\n      <td>36.05</td>\n      <td>27.04</td>\n    </tr>\n    <tr>\n      <th>19</th>\n      <td>28.97</td>\n      <td>21.08</td>\n    </tr>\n    <tr>\n      <th>20</th>\n      <td>33.47</td>\n      <td>32.30</td>\n    </tr>\n    <tr>\n      <th>21</th>\n      <td>35.25</td>\n      <td>29.41</td>\n    </tr>\n    <tr>\n      <th>22</th>\n      <td>35.04</td>\n      <td>27.45</td>\n    </tr>\n    <tr>\n      <th>23</th>\n      <td>27.76</td>\n      <td>25.85</td>\n    </tr>\n    <tr>\n      <th>24</th>\n      <td>27.38</td>\n      <td>20.95</td>\n    </tr>\n    <tr>\n      <th>25</th>\n      <td>28.18</td>\n      <td>13.48</td>\n    </tr>\n    <tr>\n      <th>26</th>\n      <td>23.93</td>\n      <td>17.59</td>\n    </tr>\n    <tr>\n      <th>27</th>\n      <td>23.57</td>\n      <td>15.65</td>\n    </tr>\n    <tr>\n      <th>28</th>\n      <td>24.97</td>\n      <td>12.38</td>\n    </tr>\n    <tr>\n      <th>29</th>\n      <td>23.64</td>\n      <td>12.45</td>\n    </tr>\n    <tr>\n      <th>...</th>\n      <td>...</td>\n      <td>...</td>\n    </tr>\n    <tr>\n      <th>11903</th>\n      <td>26.75</td>\n      <td>19.51</td>\n    </tr>\n    <tr>\n      <th>11904</th>\n      <td>24.71</td>\n      <td>18.50</td>\n    </tr>\n    <tr>\n      <th>11905</th>\n      <td>31.15</td>\n      <td>22.26</td>\n    </tr>\n    <tr>\n      <th>11906</th>\n      <td>39.22</td>\n      <td>26.20</td>\n    </tr>\n    <tr>\n      <th>11907</th>\n      <td>25.40</td>\n      <td>18.57</td>\n    </tr>\n    <tr>\n      <th>11908</th>\n      <td>41.00</td>\n      <td>45.95</td>\n    </tr>\n    <tr>\n      <th>11909</th>\n      <td>42.66</td>\n      <td>28.89</td>\n    </tr>\n    <tr>\n      <th>11910</th>\n      <td>25.95</td>\n      <td>21.03</td>\n    </tr>\n    <tr>\n      <th>11911</th>\n      <td>27.08</td>\n      <td>22.30</td>\n    </tr>\n    <tr>\n      <th>11912</th>\n      <td>25.82</td>\n      <td>15.54</td>\n    </tr>\n    <tr>\n      <th>11913</th>\n      <td>42.84</td>\n      <td>31.99</td>\n    </tr>\n    <tr>\n      <th>11914</th>\n      <td>34.09</td>\n      <td>27.00</td>\n    </tr>\n    <tr>\n      <th>11915</th>\n      <td>27.45</td>\n      <td>18.32</td>\n    </tr>\n    <tr>\n      <th>11916</th>\n      <td>32.73</td>\n      <td>38.14</td>\n    </tr>\n    <tr>\n      <th>11917</th>\n      <td>56.72</td>\n      <td>30.97</td>\n    </tr>\n    <tr>\n      <th>11918</th>\n      <td>33.60</td>\n      <td>26.33</td>\n    </tr>\n    <tr>\n      <th>11919</th>\n      <td>33.58</td>\n      <td>36.64</td>\n    </tr>\n    <tr>\n      <th>11920</th>\n      <td>38.75</td>\n      <td>27.51</td>\n    </tr>\n    <tr>\n      <th>11921</th>\n      <td>38.36</td>\n      <td>28.98</td>\n    </tr>\n    <tr>\n      <th>11922</th>\n      <td>36.91</td>\n      <td>26.99</td>\n    </tr>\n    <tr>\n      <th>11923</th>\n      <td>42.23</td>\n      <td>28.16</td>\n    </tr>\n    <tr>\n      <th>11924</th>\n      <td>23.40</td>\n      <td>11.29</td>\n    </tr>\n    <tr>\n      <th>11925</th>\n      <td>25.80</td>\n      <td>13.04</td>\n    </tr>\n    <tr>\n      <th>11926</th>\n      <td>24.99</td>\n      <td>19.09</td>\n    </tr>\n    <tr>\n      <th>11927</th>\n      <td>34.06</td>\n      <td>20.06</td>\n    </tr>\n    <tr>\n      <th>11928</th>\n      <td>32.51</td>\n      <td>25.68</td>\n    </tr>\n    <tr>\n      <th>11929</th>\n      <td>31.96</td>\n      <td>25.73</td>\n    </tr>\n    <tr>\n      <th>11930</th>\n      <td>40.44</td>\n      <td>30.50</td>\n    </tr>\n    <tr>\n      <th>11931</th>\n      <td>35.51</td>\n      <td>28.96</td>\n    </tr>\n    <tr>\n      <th>11932</th>\n      <td>23.47</td>\n      <td>14.30</td>\n    </tr>\n  </tbody>\n</table>\n<p>11933 rows × 2 columns</p>\n</div>",
            "text/plain": "       reading_score  math_score\n0              36.58       39.54\n1              50.82       44.44\n2              40.68       28.57\n3              32.57       23.57\n4              31.98       19.65\n5              50.45       36.27\n6              32.49       20.82\n7              33.30       26.85\n8              65.92       47.36\n9              34.20       22.27\n10             26.77       15.97\n11             43.01       33.26\n12             27.90       20.23\n13             32.05       20.27\n14             26.85       25.83\n15             27.46       13.92\n16             37.42       29.90\n17             38.71       25.87\n18             36.05       27.04\n19             28.97       21.08\n20             33.47       32.30\n21             35.25       29.41\n22             35.04       27.45\n23             27.76       25.85\n24             27.38       20.95\n25             28.18       13.48\n26             23.93       17.59\n27             23.57       15.65\n28             24.97       12.38\n29             23.64       12.45\n...              ...         ...\n11903          26.75       19.51\n11904          24.71       18.50\n11905          31.15       22.26\n11906          39.22       26.20\n11907          25.40       18.57\n11908          41.00       45.95\n11909          42.66       28.89\n11910          25.95       21.03\n11911          27.08       22.30\n11912          25.82       15.54\n11913          42.84       31.99\n11914          34.09       27.00\n11915          27.45       18.32\n11916          32.73       38.14\n11917          56.72       30.97\n11918          33.60       26.33\n11919          33.58       36.64\n11920          38.75       27.51\n11921          38.36       28.98\n11922          36.91       26.99\n11923          42.23       28.16\n11924          23.40       11.29\n11925          25.80       13.04\n11926          24.99       19.09\n11927          34.06       20.06\n11928          32.51       25.68\n11929          31.96       25.73\n11930          40.44       30.50\n11931          35.51       28.96\n11932          23.47       14.30\n\n[11933 rows x 2 columns]"
          },
          "metadata": {}
        }
      ]
    },
    {
      "metadata": {
        "scrolled": true,
        "trusted": true
      },
      "cell_type": "code",
      "source": "#EX: extract the knowledge score column\ndf['knowledge_score']",
      "execution_count": 52,
      "outputs": [
        {
          "output_type": "execute_result",
          "execution_count": 52,
          "data": {
            "text/plain": "0        33.822\n1        38.147\n2        28.108\n3        15.404\n4        18.727\n5        33.352\n6        26.211\n7        27.072\n8        33.514\n9        28.096\n10       11.269\n11       24.710\n12       21.195\n13       14.700\n14       23.977\n15       18.558\n16       20.702\n17       27.976\n18       33.879\n19       25.621\n20       23.991\n21       14.994\n22       27.330\n23       34.184\n24       13.810\n25       11.294\n26       20.634\n27       14.549\n28        9.223\n29        8.074\n          ...  \n11903    15.665\n11904    19.347\n11905     9.891\n11906    32.341\n11907    30.073\n11908    32.667\n11909    28.321\n11910    16.778\n11911    15.975\n11912    15.387\n11913    20.170\n11914    18.566\n11915    19.708\n11916    29.277\n11917    23.930\n11918    16.654\n11919    26.804\n11920    32.108\n11921    23.238\n11922    21.898\n11923    27.221\n11924     9.517\n11925    13.518\n11926    23.342\n11927    22.788\n11928    11.694\n11929    21.461\n11930    16.836\n11931    28.864\n11932    15.256\nName: knowledge_score, Length: 11933, dtype: float64"
          },
          "metadata": {}
        }
      ]
    },
    {
      "metadata": {
        "trusted": true
      },
      "cell_type": "code",
      "source": "df.iloc[2]",
      "execution_count": 58,
      "outputs": [
        {
          "output_type": "execute_result",
          "execution_count": 58,
          "data": {
            "text/plain": "reading_score         40.680\nmath_score            28.570\nknowledge_score       28.108\np2income           90000.000\nincomecat              3.000\nName: 2, dtype: float64"
          },
          "metadata": {}
        }
      ]
    },
    {
      "metadata": {},
      "cell_type": "markdown",
      "source": "## Summary Statistics"
    },
    {
      "metadata": {
        "trusted": true
      },
      "cell_type": "code",
      "source": "df['reading_score'].mean()",
      "execution_count": 59,
      "outputs": [
        {
          "output_type": "execute_result",
          "execution_count": 59,
          "data": {
            "text/plain": "35.95421520154177"
          },
          "metadata": {}
        }
      ]
    },
    {
      "metadata": {
        "trusted": true
      },
      "cell_type": "code",
      "source": "df['reading_score'].sum()",
      "execution_count": 60,
      "outputs": [
        {
          "output_type": "execute_result",
          "execution_count": 60,
          "data": {
            "text/plain": "429041.6499999979"
          },
          "metadata": {}
        }
      ]
    },
    {
      "metadata": {
        "trusted": true
      },
      "cell_type": "code",
      "source": "df['math_score'].std()",
      "execution_count": 63,
      "outputs": [
        {
          "output_type": "execute_result",
          "execution_count": 63,
          "data": {
            "text/plain": "9.120505071228266"
          },
          "metadata": {}
        }
      ]
    },
    {
      "metadata": {
        "trusted": true
      },
      "cell_type": "code",
      "source": "df.describe()",
      "execution_count": 64,
      "outputs": [
        {
          "output_type": "execute_result",
          "execution_count": 64,
          "data": {
            "text/html": "<div>\n<style>\n    .dataframe thead tr:only-child th {\n        text-align: right;\n    }\n\n    .dataframe thead th {\n        text-align: left;\n    }\n\n    .dataframe tbody tr th {\n        vertical-align: top;\n    }\n</style>\n<table border=\"1\" class=\"dataframe\">\n  <thead>\n    <tr style=\"text-align: right;\">\n      <th></th>\n      <th>reading_score</th>\n      <th>math_score</th>\n      <th>knowledge_score</th>\n      <th>p2income</th>\n      <th>incomecat</th>\n    </tr>\n  </thead>\n  <tbody>\n    <tr>\n      <th>count</th>\n      <td>11933.000000</td>\n      <td>11933.000000</td>\n      <td>11933.000000</td>\n      <td>11933.000000</td>\n      <td>11933.000000</td>\n    </tr>\n    <tr>\n      <th>mean</th>\n      <td>35.954215</td>\n      <td>27.128244</td>\n      <td>23.073694</td>\n      <td>54317.199930</td>\n      <td>1.895165</td>\n    </tr>\n    <tr>\n      <th>std</th>\n      <td>10.473130</td>\n      <td>9.120505</td>\n      <td>7.396978</td>\n      <td>36639.061147</td>\n      <td>0.822692</td>\n    </tr>\n    <tr>\n      <th>min</th>\n      <td>21.010000</td>\n      <td>10.510000</td>\n      <td>6.985000</td>\n      <td>1.000000</td>\n      <td>1.000000</td>\n    </tr>\n    <tr>\n      <th>25%</th>\n      <td>29.340000</td>\n      <td>20.680000</td>\n      <td>17.385000</td>\n      <td>27000.000000</td>\n      <td>1.000000</td>\n    </tr>\n    <tr>\n      <th>50%</th>\n      <td>34.060000</td>\n      <td>25.680000</td>\n      <td>22.954000</td>\n      <td>47000.000000</td>\n      <td>2.000000</td>\n    </tr>\n    <tr>\n      <th>75%</th>\n      <td>39.890000</td>\n      <td>31.590000</td>\n      <td>28.305000</td>\n      <td>72000.000000</td>\n      <td>3.000000</td>\n    </tr>\n    <tr>\n      <th>max</th>\n      <td>138.510000</td>\n      <td>115.650000</td>\n      <td>47.691000</td>\n      <td>150000.000000</td>\n      <td>3.000000</td>\n    </tr>\n  </tbody>\n</table>\n</div>",
            "text/plain": "       reading_score    math_score  knowledge_score       p2income  \\\ncount   11933.000000  11933.000000     11933.000000   11933.000000   \nmean       35.954215     27.128244        23.073694   54317.199930   \nstd        10.473130      9.120505         7.396978   36639.061147   \nmin        21.010000     10.510000         6.985000       1.000000   \n25%        29.340000     20.680000        17.385000   27000.000000   \n50%        34.060000     25.680000        22.954000   47000.000000   \n75%        39.890000     31.590000        28.305000   72000.000000   \nmax       138.510000    115.650000        47.691000  150000.000000   \n\n          incomecat  \ncount  11933.000000  \nmean       1.895165  \nstd        0.822692  \nmin        1.000000  \n25%        1.000000  \n50%        2.000000  \n75%        3.000000  \nmax        3.000000  "
          },
          "metadata": {}
        }
      ]
    },
    {
      "metadata": {
        "trusted": false
      },
      "cell_type": "code",
      "source": "#EX: find the mean knowledge_score\n",
      "execution_count": null,
      "outputs": []
    },
    {
      "metadata": {},
      "cell_type": "markdown",
      "source": "## Differences between means \nWhat if we want to know if the mean is different across categories?"
    },
    {
      "metadata": {
        "trusted": false
      },
      "cell_type": "code",
      "source": "",
      "execution_count": null,
      "outputs": []
    },
    {
      "metadata": {
        "trusted": false
      },
      "cell_type": "code",
      "source": "",
      "execution_count": null,
      "outputs": []
    },
    {
      "metadata": {
        "trusted": false
      },
      "cell_type": "code",
      "source": "",
      "execution_count": null,
      "outputs": []
    },
    {
      "metadata": {
        "collapsed": true,
        "trusted": false
      },
      "cell_type": "code",
      "source": "#Ex: explore other categories based on income group",
      "execution_count": null,
      "outputs": []
    },
    {
      "metadata": {},
      "cell_type": "markdown",
      "source": "# 3. Visualization\n\nWe'll use another library for this: matplotlib"
    },
    {
      "metadata": {
        "collapsed": true,
        "trusted": false
      },
      "cell_type": "code",
      "source": "",
      "execution_count": null,
      "outputs": []
    },
    {
      "metadata": {
        "trusted": false
      },
      "cell_type": "code",
      "source": "",
      "execution_count": null,
      "outputs": []
    },
    {
      "metadata": {
        "trusted": false
      },
      "cell_type": "code",
      "source": "",
      "execution_count": null,
      "outputs": []
    },
    {
      "metadata": {
        "collapsed": true,
        "trusted": false
      },
      "cell_type": "code",
      "source": "#Ex: explore you column of choice here",
      "execution_count": null,
      "outputs": []
    },
    {
      "metadata": {
        "trusted": false
      },
      "cell_type": "code",
      "source": "",
      "execution_count": null,
      "outputs": []
    },
    {
      "metadata": {
        "trusted": false
      },
      "cell_type": "code",
      "source": "#Ex: just based on visuals alone, is there a stronger relationship between math score and general knowledge,\n#Or reading score and general knowledge?",
      "execution_count": null,
      "outputs": []
    },
    {
      "metadata": {
        "trusted": false
      },
      "cell_type": "code",
      "source": "",
      "execution_count": null,
      "outputs": []
    },
    {
      "metadata": {
        "trusted": false
      },
      "cell_type": "code",
      "source": "",
      "execution_count": null,
      "outputs": []
    },
    {
      "metadata": {
        "trusted": false
      },
      "cell_type": "code",
      "source": "",
      "execution_count": null,
      "outputs": []
    },
    {
      "metadata": {
        "trusted": false
      },
      "cell_type": "code",
      "source": "",
      "execution_count": null,
      "outputs": []
    },
    {
      "metadata": {},
      "cell_type": "markdown",
      "source": "# 3. Statistics using StatsModels"
    },
    {
      "metadata": {
        "trusted": false
      },
      "cell_type": "code",
      "source": "",
      "execution_count": null,
      "outputs": []
    },
    {
      "metadata": {},
      "cell_type": "markdown",
      "source": "## T-test"
    },
    {
      "metadata": {
        "scrolled": true,
        "trusted": false
      },
      "cell_type": "code",
      "source": "",
      "execution_count": null,
      "outputs": []
    },
    {
      "metadata": {
        "scrolled": true,
        "trusted": false
      },
      "cell_type": "code",
      "source": "",
      "execution_count": null,
      "outputs": []
    },
    {
      "metadata": {
        "scrolled": true,
        "trusted": false
      },
      "cell_type": "code",
      "source": "",
      "execution_count": null,
      "outputs": []
    },
    {
      "metadata": {
        "scrolled": true,
        "trusted": false
      },
      "cell_type": "code",
      "source": "",
      "execution_count": null,
      "outputs": []
    },
    {
      "metadata": {
        "trusted": false
      },
      "cell_type": "code",
      "source": "",
      "execution_count": null,
      "outputs": []
    },
    {
      "metadata": {
        "collapsed": true,
        "trusted": false
      },
      "cell_type": "code",
      "source": "##Ex: produce a t-test for a variable of your choice",
      "execution_count": null,
      "outputs": []
    },
    {
      "metadata": {},
      "cell_type": "markdown",
      "source": "## OLS regression"
    },
    {
      "metadata": {
        "collapsed": true,
        "trusted": false
      },
      "cell_type": "code",
      "source": "##Is there a relationship between reading score, math score, and general knowledge?\n## What of these relationships has more magnitude?\n# Is there a relationship controlling for income group?",
      "execution_count": 2,
      "outputs": []
    },
    {
      "metadata": {
        "collapsed": true,
        "trusted": false
      },
      "cell_type": "code",
      "source": "",
      "execution_count": null,
      "outputs": []
    },
    {
      "metadata": {
        "trusted": false
      },
      "cell_type": "code",
      "source": "",
      "execution_count": null,
      "outputs": []
    },
    {
      "metadata": {
        "collapsed": true,
        "trusted": false
      },
      "cell_type": "code",
      "source": "##Ex: Explore the relationship between reading score and knowledge score.\n## Do the same for other dependent/independent variables.",
      "execution_count": 3,
      "outputs": []
    },
    {
      "metadata": {
        "collapsed": true,
        "trusted": false
      },
      "cell_type": "code",
      "source": "",
      "execution_count": null,
      "outputs": []
    }
  ],
  "metadata": {
    "kernelspec": {
      "name": "python36",
      "display_name": "Python 3.6",
      "language": "python"
    },
    "language_info": {
      "mimetype": "text/x-python",
      "nbconvert_exporter": "python",
      "name": "python",
      "pygments_lexer": "ipython3",
      "version": "3.6.6",
      "file_extension": ".py",
      "codemirror_mode": {
        "version": 3,
        "name": "ipython"
      }
    }
  },
  "nbformat": 4,
  "nbformat_minor": 2
}