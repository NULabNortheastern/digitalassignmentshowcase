{
  "cells": [
    {
      "metadata": {
        "collapsed": true
      },
      "cell_type": "markdown",
      "source": "# Introduction to Python for Statistics\n\n## Code and Text written by: <br/>\n## Laura Nelson ~~ *Assistant Professor of Sociology*<br/><br/>Northeastern University\n### Prepared for Professor Kilby <br/> January, 2019\n<br/>\n\n# Introduction\n\nAs social scientists, we now have access to unprecedented amounts of data. This provides great opportunity, but also different challenges. In particular, it is increasingly important to learn a scripting language, such as Python or R, in order to access, collect, and structure data from diverse sources, and analyze data using new and developing methods, such as machine learning.\n\nIn this lecture and hands-on workshop I will provide a brief introduction to the scripting language Python, using the Jupyter platform (what you're looking at now), with an eye toward data representation and analysis.\n\nI am going to throw a lot of syntax at you. There is no way you will remember all of this. Keep your notes, and my notes, as a reference. Focus on learning the syntax, but also getting a higher-level understanding of the way Python works. The syntax will come as you work with it more. If you've never written in Python, all of this may feel very strange to you. It gets easier as you work with it more.\n\n# Learning Goals\n\n- Understand what Python is, why it is useful, and how to use Python for data analysis.\n- Understand how Python interacts with, and represents, data. \n\n# Learning Outcomes\n\n- Learn and be able to explain Python basics - variables, variable types, manipulating variables, and dataframes\n- Explain what the Python libraries Pandas and Statsmodels are and what they do\n- Write enough code to:\n    - Read in a dataset and manipulate a few variables\n    - Produce basic summary statistics from a Pandas dataframe\n    - Produce three visualization from the dataframe: histogram, scatter plot, and bar chart\n    - Implement a simple OLS regression model and interpret the output\n\n    \n# Workshop Outline\n1. Python basics\n2. The Pandas Dataframe\n    - data representation\n    - data manipulation\n    - summary statistics\n3. Data visualization using matplotlib\n4. StatsModels for statistics"
    },
    {
      "metadata": {},
      "cell_type": "markdown",
      "source": "# 1. Python basics"
    },
    {
      "metadata": {
        "trusted": true
      },
      "cell_type": "code",
      "source": "# python is all about functions, variables, and doing things to variables using functions\n# the print function\n\nprint(\"Hello, world!\")",
      "execution_count": null,
      "outputs": []
    },
    {
      "metadata": {},
      "cell_type": "markdown",
      "source": "<a id='arithmetic'></a>\n### Arithmetic"
    },
    {
      "metadata": {
        "trusted": true
      },
      "cell_type": "code",
      "source": "# Computers are really good at arithmetic\n# Addition\n\n2+5",
      "execution_count": null,
      "outputs": []
    },
    {
      "metadata": {
        "trusted": true
      },
      "cell_type": "code",
      "source": "# Let's have Python report the results from three operations at the same time\n\nprint(2-5)\nprint(2*5)\nprint(2/5)",
      "execution_count": null,
      "outputs": []
    },
    {
      "metadata": {
        "trusted": true
      },
      "cell_type": "code",
      "source": "# If we have all of our operations in the last line of the cell, Jupyter will print them together\n\n2-5, 2*5, 2/5",
      "execution_count": null,
      "outputs": []
    },
    {
      "metadata": {
        "trusted": true
      },
      "cell_type": "code",
      "source": "# We can also do boolean operators\n# And let's compare values\nprint( 5 == 5)\nprint( 5 == 3)\n2>5",
      "execution_count": null,
      "outputs": []
    },
    {
      "metadata": {},
      "cell_type": "markdown",
      "source": "## Variable assignment"
    },
    {
      "metadata": {},
      "cell_type": "markdown",
      "source": "Assigning variables is something that we do all the time in programming. These aren't quite like the variables from high school algebra, where *x* represents an unknown to solve for. Instead these are like notes to ourselves that we want to save some value(s) for later use.\n\nNote that the equals sign is directional, like an arrow, telling the computer to give a certain value to a certain label."
    },
    {
      "metadata": {
        "trusted": true
      },
      "cell_type": "code",
      "source": "# 'a' is being given the value 2; 'b' is given 5\n\na = 2\nb = 5",
      "execution_count": null,
      "outputs": []
    },
    {
      "metadata": {
        "trusted": true
      },
      "cell_type": "code",
      "source": "# Let's perform an operation on the variables\n\na+b",
      "execution_count": null,
      "outputs": []
    },
    {
      "metadata": {
        "trusted": true
      },
      "cell_type": "code",
      "source": "# Variables can have many different kinds of names\n\nthis_number = 2\nb/this_number",
      "execution_count": null,
      "outputs": []
    },
    {
      "metadata": {},
      "cell_type": "markdown",
      "source": "## Variable types\n\nThe type a value has is important. The variable type determines what operators you can use, or how the operators behave."
    },
    {
      "metadata": {
        "trusted": true
      },
      "cell_type": "code",
      "source": "type('Hellow, world!')",
      "execution_count": null,
      "outputs": []
    },
    {
      "metadata": {
        "trusted": true
      },
      "cell_type": "code",
      "source": "type(17)",
      "execution_count": null,
      "outputs": []
    },
    {
      "metadata": {
        "trusted": true
      },
      "cell_type": "code",
      "source": "type(3.2)",
      "execution_count": null,
      "outputs": []
    },
    {
      "metadata": {
        "trusted": true
      },
      "cell_type": "code",
      "source": "type('17')",
      "execution_count": null,
      "outputs": []
    },
    {
      "metadata": {
        "trusted": true
      },
      "cell_type": "code",
      "source": "print(1,000,000)",
      "execution_count": null,
      "outputs": []
    },
    {
      "metadata": {
        "trusted": true
      },
      "cell_type": "code",
      "source": "type('17')",
      "execution_count": null,
      "outputs": []
    },
    {
      "metadata": {
        "trusted": true
      },
      "cell_type": "code",
      "source": "int('17')",
      "execution_count": null,
      "outputs": []
    },
    {
      "metadata": {
        "trusted": true
      },
      "cell_type": "code",
      "source": "type(int('17'))",
      "execution_count": null,
      "outputs": []
    },
    {
      "metadata": {
        "trusted": true
      },
      "cell_type": "code",
      "source": "float('3.2')",
      "execution_count": null,
      "outputs": []
    },
    {
      "metadata": {
        "trusted": true
      },
      "cell_type": "code",
      "source": "str(17)",
      "execution_count": null,
      "outputs": []
    },
    {
      "metadata": {},
      "cell_type": "markdown",
      "source": "## More on operators and variable types"
    },
    {
      "metadata": {},
      "cell_type": "markdown",
      "source": "In Python, human language text gets represented as a *string*. These contain sequential sets of characters and they are offset by quotation marks, either double (\") or single (').\n\nWe will explore different kinds of operations in Python that are specific to human language objects, but it is useful to start by trying to see them as the computer does, as numerical representations."
    },
    {
      "metadata": {
        "trusted": true
      },
      "cell_type": "code",
      "source": "# The iconic string\n\nprint(\"Hello, World!\")",
      "execution_count": null,
      "outputs": []
    },
    {
      "metadata": {
        "trusted": true
      },
      "cell_type": "code",
      "source": "# Assign these strings to variables\n\na = \"Hello\"\nb = 'World'",
      "execution_count": null,
      "outputs": []
    },
    {
      "metadata": {
        "trusted": true
      },
      "cell_type": "code",
      "source": "# Try out arithmetic operations.\n# When we add strings we call it 'concatenation'\n\nprint(a+\" \"+b)\nprint(a*5)",
      "execution_count": null,
      "outputs": []
    },
    {
      "metadata": {
        "trusted": true
      },
      "cell_type": "code",
      "source": "# Unlike a number that consists of a single value, a string is an ordered\n# sequence of characters. We can find out the length of that sequence.\n\nlen(\"Hello, World!\")",
      "execution_count": null,
      "outputs": []
    },
    {
      "metadata": {
        "trusted": true
      },
      "cell_type": "code",
      "source": "## Careful about types and operators",
      "execution_count": null,
      "outputs": []
    },
    {
      "metadata": {
        "trusted": true
      },
      "cell_type": "code",
      "source": "x = \"string 1\"\ny = \"string 2\"\nz = 5\nw = 3",
      "execution_count": null,
      "outputs": []
    },
    {
      "metadata": {
        "trusted": true
      },
      "cell_type": "code",
      "source": "x + y",
      "execution_count": null,
      "outputs": []
    },
    {
      "metadata": {
        "trusted": true
      },
      "cell_type": "code",
      "source": "z + w",
      "execution_count": null,
      "outputs": []
    },
    {
      "metadata": {
        "trusted": true
      },
      "cell_type": "code",
      "source": "#Why does the following produce an error?\n#y + z",
      "execution_count": null,
      "outputs": []
    },
    {
      "metadata": {
        "trusted": true
      },
      "cell_type": "code",
      "source": "##Ex: I have 4 dozen eggs. \n#Write a script that assigns that number to a variable, \n#and prints the total number of eggs I have.\n\n#Ex: Create a variable for hours worked, and another for pay per hour\n# Use Python to calculate the total weekly earnings based on these two variables",
      "execution_count": null,
      "outputs": []
    },
    {
      "metadata": {},
      "cell_type": "markdown",
      "source": "# 2. The Pandas Dataframe\n\n******************************\nThe data we'll analyze today comes from:\n\nNational Center for Education Statistics, United States Department of Education. (2009). Early Childhood Longitudinal Study, Kindergarten Class of 1998-99 (ECLS-K) [Data file]. Available from http://nces.ed.gov/ecls/kindergarten.asp\n\nI selected five variables (columns) to analyze:\n\n* reading_score = READING IRT SCALE SCORE\n* math_score = MATH IRT SCALE SCORE\n* knowledge_score = GENERAL KNOWLEDGE IRT SCALE SCORE\n* p2income = TOTAL HOUSEHOLD INCOME\n* incomecat = INCOME CATEGORES\n    * 1 = low income: < \\$40,000\n    * 2 = mid income\n    * 3 = high income: >= \\$70,000\n    \nThe unit of observation (row) is the individual kindergartner.  \n   \n## Motivating Questions\n\n1. Are math, reading, and general knowledge scores related to household income in any predictable way?\n2. Can you predict general knowledge scores from reading or math scores? That is, are reading and math skills related to general knowledge?"
    },
    {
      "metadata": {
        "trusted": true
      },
      "cell_type": "code",
      "source": "#import our library\nimport pandas",
      "execution_count": null,
      "outputs": []
    },
    {
      "metadata": {
        "scrolled": true,
        "trusted": true
      },
      "cell_type": "code",
      "source": "df = pandas.read_csv(\"education_dataset.csv\", sep=',')\ndf.head()",
      "execution_count": null,
      "outputs": []
    },
    {
      "metadata": {},
      "cell_type": "markdown",
      "source": "## Dataframe slicing"
    },
    {
      "metadata": {
        "scrolled": true,
        "trusted": true
      },
      "cell_type": "code",
      "source": "#syntax to extract columns\ndf['reading_score'].head()",
      "execution_count": null,
      "outputs": []
    },
    {
      "metadata": {
        "scrolled": true,
        "trusted": true
      },
      "cell_type": "code",
      "source": "## Ex: Extract us the knowledge score column\ndf['knowledge_score'].head()",
      "execution_count": null,
      "outputs": []
    },
    {
      "metadata": {
        "trusted": true
      },
      "cell_type": "code",
      "source": "#extract one row: notice the syntax\ndf.loc[0]",
      "execution_count": null,
      "outputs": []
    },
    {
      "metadata": {},
      "cell_type": "markdown",
      "source": "## Summary Statistics"
    },
    {
      "metadata": {
        "trusted": true
      },
      "cell_type": "code",
      "source": "## Summary statistics\ndf['reading_score'].mean()",
      "execution_count": null,
      "outputs": []
    },
    {
      "metadata": {
        "trusted": true
      },
      "cell_type": "code",
      "source": "df['reading_score'].sum()",
      "execution_count": null,
      "outputs": []
    },
    {
      "metadata": {
        "trusted": true
      },
      "cell_type": "code",
      "source": "df['reading_score'].std()",
      "execution_count": null,
      "outputs": []
    },
    {
      "metadata": {
        "trusted": true
      },
      "cell_type": "code",
      "source": "##Ex: explore one of the other columns",
      "execution_count": null,
      "outputs": []
    },
    {
      "metadata": {
        "trusted": true
      },
      "cell_type": "code",
      "source": "#We can find it all at the same time\n\ndf.describe()",
      "execution_count": null,
      "outputs": []
    },
    {
      "metadata": {},
      "cell_type": "markdown",
      "source": "## Differences between means \nWhat if we want to know if the mean is different across categories?"
    },
    {
      "metadata": {
        "trusted": true
      },
      "cell_type": "code",
      "source": "#advanced: Pandas groupby function\n#create a new dataframe that is grouped by income category\n\ndf_grouped = df.groupby('incomecat')\ndf_grouped",
      "execution_count": null,
      "outputs": []
    },
    {
      "metadata": {
        "trusted": true
      },
      "cell_type": "code",
      "source": "df_grouped['reading_score']",
      "execution_count": null,
      "outputs": []
    },
    {
      "metadata": {
        "trusted": true
      },
      "cell_type": "code",
      "source": "df_grouped['reading_score'].mean()",
      "execution_count": null,
      "outputs": []
    },
    {
      "metadata": {
        "trusted": true
      },
      "cell_type": "code",
      "source": "#Ex: explore other categories based on income group",
      "execution_count": null,
      "outputs": []
    },
    {
      "metadata": {},
      "cell_type": "markdown",
      "source": "# 3. Visualization\n\nWe'll use another library for this: matplotlib"
    },
    {
      "metadata": {
        "trusted": true
      },
      "cell_type": "code",
      "source": "import matplotlib.pyplot as plt",
      "execution_count": null,
      "outputs": []
    },
    {
      "metadata": {
        "trusted": true
      },
      "cell_type": "code",
      "source": "df.hist()\nplt.show()",
      "execution_count": null,
      "outputs": []
    },
    {
      "metadata": {
        "trusted": true
      },
      "cell_type": "code",
      "source": "#That's not pretty. Let's show just one\n#Ex: how might you do this, knowing what you know about how to pull out a column\n\ndf['knowledge_score'].hist()\nplt.show()",
      "execution_count": null,
      "outputs": []
    },
    {
      "metadata": {
        "trusted": true
      },
      "cell_type": "code",
      "source": "#Ex: explore you column of choice here",
      "execution_count": null,
      "outputs": []
    },
    {
      "metadata": {
        "trusted": true
      },
      "cell_type": "code",
      "source": "#Other options:\n#Scatter plot: is math and reading scores correlated?\n\ndf.plot(kind='scatter', x = 'reading_score', y = 'math_score')\nplt.show()",
      "execution_count": null,
      "outputs": []
    },
    {
      "metadata": {
        "trusted": true
      },
      "cell_type": "code",
      "source": "#Ex: just based on visuals alone, is there a stronger relationship between math score and general knowledge,\n#Or reading score and general knowledge?\ndf.plot(kind='scatter', x = 'reading_score', y = 'knowledge_score')\nplt.show()",
      "execution_count": null,
      "outputs": []
    },
    {
      "metadata": {
        "trusted": true
      },
      "cell_type": "code",
      "source": "df.plot(kind='scatter', x = 'math_score', y = 'knowledge_score')\nplt.show()",
      "execution_count": null,
      "outputs": []
    },
    {
      "metadata": {
        "trusted": true
      },
      "cell_type": "code",
      "source": "## Plot average by income\n## remember our grouped by plot\n## Let's first make another dataframe from it\n\ndf_grouped_mean = df_grouped.mean()\ndf_grouped_mean",
      "execution_count": null,
      "outputs": []
    },
    {
      "metadata": {
        "trusted": true
      },
      "cell_type": "code",
      "source": "## We can plot this like we would the original dataframe!\n\ndf_grouped_mean.plot(kind='bar')\nplt.show()",
      "execution_count": null,
      "outputs": []
    },
    {
      "metadata": {
        "trusted": true
      },
      "cell_type": "code",
      "source": "df_grouped_mean[['reading_score', 'math_score', 'knowledge_score']].plot(kind='bar')\nplt.legend(loc=9, bbox_to_anchor=(0.5, -0.2), ncol = 3)\nplt.show()",
      "execution_count": null,
      "outputs": []
    },
    {
      "metadata": {},
      "cell_type": "markdown",
      "source": "# 3. Statistics using StatsModels"
    },
    {
      "metadata": {
        "trusted": true
      },
      "cell_type": "code",
      "source": "#We'll use two parts of the statsmodels library, the ttest and ols\nimport statsmodels.api as sm\nfrom statsmodels.formula.api import ols",
      "execution_count": null,
      "outputs": []
    },
    {
      "metadata": {},
      "cell_type": "markdown",
      "source": "## T-test"
    },
    {
      "metadata": {
        "scrolled": true,
        "trusted": true
      },
      "cell_type": "code",
      "source": "## Task one: is the difference between categories statistically significant?\n#First, one more Pandas skill: data slicing\n\n#pull out a column\ndf['incomecat'].head()",
      "execution_count": null,
      "outputs": []
    },
    {
      "metadata": {
        "scrolled": true,
        "trusted": true
      },
      "cell_type": "code",
      "source": "#test if a row meets a certain condition (remember our boolean variables from above)\n(df['incomecat']==1).head()",
      "execution_count": null,
      "outputs": []
    },
    {
      "metadata": {
        "scrolled": true,
        "trusted": true
      },
      "cell_type": "code",
      "source": "#pull out only rows that meet that condtion\n\ndf[df['incomecat']==1].head()",
      "execution_count": null,
      "outputs": []
    },
    {
      "metadata": {
        "scrolled": true,
        "trusted": true
      },
      "cell_type": "code",
      "source": "#Create three new dataframes, for each category\ndf_cat1 = df[df['incomecat']==1]\ndf_cat2 = df[df['incomecat']==2]\ndf_cat3 = df[df['incomecat']==3]\ndf_cat1.head()",
      "execution_count": null,
      "outputs": []
    },
    {
      "metadata": {
        "trusted": true
      },
      "cell_type": "code",
      "source": "sm.stats.ttest_ind(df_cat1['math_score'], df_cat3['math_score'])",
      "execution_count": null,
      "outputs": []
    },
    {
      "metadata": {
        "trusted": true
      },
      "cell_type": "code",
      "source": "##Ex: produce a t-test for a variable of your choice",
      "execution_count": null,
      "outputs": []
    },
    {
      "metadata": {},
      "cell_type": "markdown",
      "source": "## OLS regression"
    },
    {
      "metadata": {
        "trusted": true
      },
      "cell_type": "code",
      "source": "##Is there a relationship between reading score, math score, and general knowledge?\n## What of these relationships has more magnitude?\n# Is there a relationship controlling for income group?",
      "execution_count": null,
      "outputs": []
    },
    {
      "metadata": {
        "trusted": true
      },
      "cell_type": "code",
      "source": "model = ols(\"knowledge_score ~ incomecat\", df).fit()",
      "execution_count": null,
      "outputs": []
    },
    {
      "metadata": {
        "trusted": true
      },
      "cell_type": "code",
      "source": "print(model.summary()) ",
      "execution_count": null,
      "outputs": []
    },
    {
      "metadata": {
        "trusted": true
      },
      "cell_type": "code",
      "source": "##Ex: Explore the relationship between reading score and knowledge score.\n## Do the same for other dependent/independent variables.",
      "execution_count": null,
      "outputs": []
    }
  ],
  "metadata": {
    "kernelspec": {
      "name": "python3",
      "display_name": "Python 3",
      "language": "python"
    },
    "language_info": {
      "mimetype": "text/x-python",
      "nbconvert_exporter": "python",
      "name": "python",
      "pygments_lexer": "ipython3",
      "version": "3.5.4",
      "file_extension": ".py",
      "codemirror_mode": {
        "version": 3,
        "name": "ipython"
      }
    }
  },
  "nbformat": 4,
  "nbformat_minor": 2
}