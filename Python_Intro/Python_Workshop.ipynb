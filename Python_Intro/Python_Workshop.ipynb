{
 "cells": [
  {
   "cell_type": "markdown",
   "metadata": {
    "collapsed": true
   },
   "source": [
    "# Introduction to Python \n",
    "\n",
    "## Code and Text written by: <br/>\n",
    "## Laura Nelson ~~ *Assistant Professor of Sociology*<br/><br/>Northeastern University\n",
    "\n",
    "<br/>\n",
    "\n",
    "# Introduction\n",
    "\n",
    "It is increasingly important to learn a scripting language, such as Python or R, in order to access, collect, and structure data from diverse sources, and analyze data using new and developing methods, such as machine learning.\n",
    "\n",
    "There is no way you will remember all of this and that is completely normal. Focus on learning the syntax, but also getting a higher-level understanding of the way Python works. This is just a basic introduction to understand how python works and what you can do with it, but there are a lot of resources out there if this is something that interests you. If you've never written in Python, all of this may feel very strange to you. It gets easier as you work with it more.\n",
    "\n",
    "# Learning Goals\n",
    "\n",
    "- Understand what Python is, why it is useful, and how to use Python for data analysis.\n",
    "- Understand how Python interacts with, and represents, data. \n",
    "\n",
    "# Learning Outcomes\n",
    "\n",
    "- Learn and be able to explain Python basics - introduction, arithmatic, dataframes, visualizations\n",
    "    \n",
    "# Workshop Outline\n",
    "1. Python basics\n",
    "2. Dataframes\n",
    "3. Visualizations\n"
   ]
  },
  {
   "cell_type": "markdown",
   "metadata": {},
   "source": [
    "# 1. Python basics"
   ]
  },
  {
   "cell_type": "code",
   "execution_count": null,
   "metadata": {},
   "outputs": [],
   "source": [
    "# python is all about functions, variables, and doing things to variables using functions\n",
    "# the print function\n",
    "\n",
    "print(\"Hello, world!\")"
   ]
  },
  {
   "cell_type": "code",
   "execution_count": null,
   "metadata": {},
   "outputs": [],
   "source": [
    "##try printing something yourself here!\n"
   ]
  },
  {
   "cell_type": "markdown",
   "metadata": {},
   "source": [
    "<a id='arithmetic'></a>\n",
    "### Arithmetic"
   ]
  },
  {
   "cell_type": "code",
   "execution_count": null,
   "metadata": {},
   "outputs": [],
   "source": [
    "# Computers are really good at arithmetic\n",
    "# Addition\n",
    "\n",
    "2+5"
   ]
  },
  {
   "cell_type": "code",
   "execution_count": null,
   "metadata": {},
   "outputs": [],
   "source": [
    "# Let's have Python report the results from three operations at the same time\n",
    "\n",
    "print(2-5)\n",
    "print(2*5)\n",
    "print(2/5)"
   ]
  },
  {
   "cell_type": "code",
   "execution_count": null,
   "metadata": {},
   "outputs": [],
   "source": [
    "## Take 5 minutes and run some algebra here!\n"
   ]
  },
  {
   "cell_type": "markdown",
   "metadata": {},
   "source": [
    "# The Pandas Dataframe\n",
    "\n",
    "******************************\n",
    "The data we'll analyze today comes from:\n",
    "\n",
    "National Center for Education Statistics, United States Department of Education. (2009). Early Childhood Longitudinal Study, Kindergarten Class of 1998-99 (ECLS-K) [Data file]. Available from http://nces.ed.gov/ecls/kindergarten.asp\n",
    "\n",
    "I selected five variables (columns) to analyze:\n",
    "\n",
    "* reading_score = READING IRT SCALE SCORE\n",
    "* math_score = MATH IRT SCALE SCORE\n",
    "* knowledge_score = GENERAL KNOWLEDGE IRT SCALE SCORE\n",
    "* p2income = TOTAL HOUSEHOLD INCOME\n",
    "* incomecat = INCOME CATEGORES\n",
    "    * 1 = low income: < \\$40,000\n",
    "    * 2 = mid income\n",
    "    * 3 = high income: >= \\$70,000\n",
    "    \n",
    "The unit of observation (row) is the individual kindergartner.  \n",
    "   \n",
    "## Motivating Questions\n",
    "\n",
    "1. Are math, reading, and general knowledge scores related to household income in any predictable way?\n",
    "2. Can you predict general knowledge scores from reading or math scores? That is, are reading and math skills related to general knowledge?"
   ]
  },
  {
   "cell_type": "code",
   "execution_count": null,
   "metadata": {},
   "outputs": [],
   "source": [
    "#import our library \n",
    "import pandas"
   ]
  },
  {
   "cell_type": "code",
   "execution_count": null,
   "metadata": {},
   "outputs": [],
   "source": [
    "df = pandas.read_csv(\"education_dataset.csv\", sep=',')\n",
    "df"
   ]
  },
  {
   "cell_type": "code",
   "execution_count": null,
   "metadata": {},
   "outputs": [],
   "source": [
    "#It's easier to view the information when you have a piece of it instead of the entire thing, \n",
    "#especially when you have a LOT of data\n",
    "df.head()"
   ]
  },
  {
   "cell_type": "code",
   "execution_count": null,
   "metadata": {},
   "outputs": [],
   "source": [
    "#syntax to extract columns\n",
    "df['reading_score'].head()"
   ]
  },
  {
   "cell_type": "code",
   "execution_count": null,
   "metadata": {},
   "outputs": [],
   "source": [
    "## Try it yourself: Extract the knowledge score column\n",
    "\n"
   ]
  },
  {
   "cell_type": "code",
   "execution_count": null,
   "metadata": {},
   "outputs": [],
   "source": [
    "#extract one row: notice the syntax\n",
    "df.loc[0]"
   ]
  },
  {
   "cell_type": "code",
   "execution_count": null,
   "metadata": {},
   "outputs": [],
   "source": [
    "## Try it yourself - extract the 20th row of data \n",
    "\n"
   ]
  },
  {
   "cell_type": "markdown",
   "metadata": {},
   "source": [
    "## Summary Statistics"
   ]
  },
  {
   "cell_type": "code",
   "execution_count": null,
   "metadata": {},
   "outputs": [],
   "source": [
    "## Summary statistics\n",
    "df['reading_score'].mean()"
   ]
  },
  {
   "cell_type": "code",
   "execution_count": null,
   "metadata": {},
   "outputs": [],
   "source": [
    "df['reading_score'].sum()"
   ]
  },
  {
   "cell_type": "code",
   "execution_count": null,
   "metadata": {},
   "outputs": [],
   "source": [
    "df['reading_score'].std()"
   ]
  },
  {
   "cell_type": "code",
   "execution_count": null,
   "metadata": {},
   "outputs": [],
   "source": [
    "##Ex: explore one of the other columns - \n",
    "#find the mean, sum and standard deviation of another column that interests you!\n",
    "\n",
    "\n"
   ]
  },
  {
   "cell_type": "code",
   "execution_count": null,
   "metadata": {},
   "outputs": [],
   "source": [
    "#We can find it all at the same time\n",
    "\n",
    "df.describe()"
   ]
  },
  {
   "cell_type": "markdown",
   "metadata": {},
   "source": [
    "# Visualization"
   ]
  },
  {
   "cell_type": "code",
   "execution_count": null,
   "metadata": {},
   "outputs": [],
   "source": [
    "import matplotlib.pyplot as plt"
   ]
  },
  {
   "cell_type": "code",
   "execution_count": null,
   "metadata": {},
   "outputs": [],
   "source": [
    "df.hist()\n",
    "plt.show()"
   ]
  },
  {
   "cell_type": "code",
   "execution_count": null,
   "metadata": {},
   "outputs": [],
   "source": [
    "#That's not pretty. Let's show just one\n",
    "\n",
    "df['knowledge_score'].hist()\n",
    "plt.show()"
   ]
  },
  {
   "cell_type": "code",
   "execution_count": null,
   "metadata": {},
   "outputs": [],
   "source": [
    "## Try doing a histogram with another column that interests you\n",
    "\n",
    "\n"
   ]
  },
  {
   "cell_type": "code",
   "execution_count": null,
   "metadata": {
    "scrolled": true
   },
   "outputs": [],
   "source": [
    "#Other options:\n",
    "#Scatter plot: is math and reading scores correlated?\n",
    "\n",
    "df.plot(kind='scatter', x = 'reading_score', y = 'math_score')\n",
    "plt.show()"
   ]
  },
  {
   "cell_type": "code",
   "execution_count": null,
   "metadata": {},
   "outputs": [],
   "source": [
    "## Finish up by looking at scatterplots of different relationships on your own\n",
    "## What are some patterns you find? Ex: Is there a relationship between scores and household income?\n",
    "\n"
   ]
  },
  {
   "cell_type": "code",
   "execution_count": null,
   "metadata": {},
   "outputs": [],
   "source": [
    "#advanced: Pandas groupby function\n",
    "#create a new dataframe that is grouped by income category\n",
    "\n",
    "df_grouped = df.groupby('incomecat')\n",
    "df_grouped \n",
    "df_grouped_mean = df_grouped.mean()\n",
    "df_grouped_mean"
   ]
  },
  {
   "cell_type": "code",
   "execution_count": null,
   "metadata": {},
   "outputs": [],
   "source": [
    "df_grouped_mean[['reading_score', 'math_score', 'knowledge_score']].plot(kind='bar')\n",
    "plt.legend(loc=9, bbox_to_anchor=(0.5, -0.2), ncol = 3)\n",
    "plt.show()"
   ]
  },
  {
   "cell_type": "markdown",
   "metadata": {},
   "source": [
    "## Want to learn more?\n",
    "\n",
    "If you are interested in Computational Social Science, data analytics, ethical implications, and any of the topics we covered today, we encourage you to begin looking at potential courses or minors you might pursue!\n",
    "\n",
    "- Computational Social Science minor\n",
    "- Digital Minor\n",
    "- Combined major in Computer Science and CSSH\n",
    "- Other courses you might take: DS 2000/DS 20001 (Data Science) \n",
    "\n",
    "\n",
    "### Follow the NULab for workshops, events, potential courses, and more!\n",
    "\n",
    "- https://web.northeastern.edu/nulab/ \n",
    "- @NUlabTMN on Twitter\n",
    "\n",
    "### Our Contact Information\n",
    "- Laura Nelson (l.nelson@northeastern.edu), Department of Sociology and Anthropology\n",
    "- Cara Messina (messina.c@husky.neu.edu), NULab Coordinator: Office Hours: 409 Nightingale Hall, Tuesdays 12-1\n",
    "- Alexis Yohros (yohros.a@husky.neu.edu), Digital Teaching Integration RA"
   ]
  }
 ],
 "metadata": {
  "kernelspec": {
   "display_name": "Python 3",
   "language": "python",
   "name": "python3"
  },
  "language_info": {
   "codemirror_mode": {
    "name": "ipython",
    "version": 3
   },
   "file_extension": ".py",
   "mimetype": "text/x-python",
   "name": "python",
   "nbconvert_exporter": "python",
   "pygments_lexer": "ipython3",
   "version": "3.6.8"
  }
 },
 "nbformat": 4,
 "nbformat_minor": 2
}
