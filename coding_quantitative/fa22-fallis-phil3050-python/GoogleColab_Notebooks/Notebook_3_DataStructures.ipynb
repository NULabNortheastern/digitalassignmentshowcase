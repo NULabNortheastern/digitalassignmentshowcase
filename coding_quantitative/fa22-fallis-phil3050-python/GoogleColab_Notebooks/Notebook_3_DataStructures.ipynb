{
  "cells": [
    {
      "cell_type": "markdown",
      "metadata": {
        "id": "3f2sJmDN8TqG"
      },
      "source": [
        "<img align=\"left\" src=\"https://ithaka-labs.s3.amazonaws.com/static-files/images/tdm/tdmdocs/CC_BY.png\"><br />\n",
        "\n",
        "Adapted by Sarah Connell, Dipa Desai, and Emre Tapan from a notebook created by [Nathan Kelber](http://nkelber.com) and Ted Lawless for [JSTOR Labs](https://labs.jstor.org/) under [Creative Commons CC BY License](https://creativecommons.org/licenses/by/4.0/). See [here](https://ithaka.github.io/tdm-notebooks/book/all-notebooks.html) for the original version. Some contents were adapted from teaching notebooks created by Laura Nelson, University of British Columbia, and from [Python for Everybody](https://www.py4e.com/). Warm thanks to Kate Kryder, Data Analysis & Visualization Specialist at Northeastern University, for helping to develop these notebooks.<br />\n",
        "___"
      ]
    },
    {
      "cell_type": "markdown",
      "metadata": {
        "id": "UWFtTCX08TqI"
      },
      "source": [
        "# Python Data Structures"
      ]
    },
    {
      "cell_type": "markdown",
      "metadata": {
        "id": "PvS3iLZ_8TqI"
      },
      "source": [
        "So far, we've seen a few of Python's inbuilt data types: integers, floats, and strings. **We've also used lists without fully defining them. This lesson will talk about how lists store data**, and cover two additional data types: [tuples](https://constellate.org/docs/key-terms/#tuple) and [dictionaries](https://constellate.org/docs/key-terms/#dictionary). These help us store many values inside of a single variable.\n",
        "\n",
        "The fundamental difference between a tuple and a dictionary is that a tuple stores items in sequential order (starting from 0) while a dictionary stores items in key/value pairs. When we want to retrieve an item in a tuple, we use an index number or a set of index numbers as a reference. When we want to retrieve an item from a dictionary, we supply a key that returns the value (or set of values) associated with that key. Another important difference is that tuples are **immutable**, which means they can't be changed, but dictionaries are **mutable** and can be changed after they are initialized.\n",
        "\n",
        "Each of these approaches can be beneficial depending on what kind of data we are working with, and what we intend to do with the data.\n",
        "\n",
        "For your class assignments using Python, you will be asked to retrieve and change data that is stored in mutable data containers like lists and dictionaries. We will purposefully be spending more time on lists and dictionaries to get you ready for these assignments."
      ]
    },
    {
      "cell_type": "markdown",
      "source": [
        "###Lists\n",
        "\n",
        "In our last workshop, we used iterations to execute commands on each element within a list. We saw that lists can store integers, float values, and strings. We also saw that lists are changeable, or **mutable**. \n",
        "\n",
        "Lists can store anywhere from a zero to millions of values, and it stores these values in order.\n",
        "\n",
        "To initialize a list, we use a list definition statement, in the following format: \n",
        "\n",
        "`my_list = [value0, value1, value2, value3, ...]`\n",
        "\n",
        "Since data in lists are stored in a set order, individual values can be referenced by the value's [index number](https://constellate.org/docs/key-terms/#index-number), or position in the list. \n",
        "\n",
        "Recall that in the last workshop, we used the for loops to count each value in a list, and we saw that Python begins counting each element in the list starting at index number 0.\n"
      ],
      "metadata": {
        "id": "6xZVVZmfw8ji"
      }
    },
    {
      "cell_type": "code",
      "source": [
        "#Let's initialize a list. \n",
        "my_list = [85, 89, 81, 90, 96, 100]"
      ],
      "metadata": {
        "id": "56928vfAzxev"
      },
      "execution_count": null,
      "outputs": []
    },
    {
      "cell_type": "markdown",
      "source": [
        "So, if we want to retrieve only `value1` in `my_list`, we would use the following code block:\n",
        "\n",
        "`my_list[index number]`"
      ],
      "metadata": {
        "id": "GC0Dx1uizwLf"
      }
    },
    {
      "cell_type": "code",
      "source": [
        "# Retrieving an item in a list\n",
        "my_list[1]  #We want to retrieve the second element in the list. Since the index number begins at 0, we refer to index number 1 to retrieve the second element in the list."
      ],
      "metadata": {
        "id": "QmnyPuuZzmlu"
      },
      "execution_count": null,
      "outputs": []
    },
    {
      "cell_type": "markdown",
      "source": [
        "What happens when you change the index number to 3? Try it for yourself!"
      ],
      "metadata": {
        "id": "jqqdTvn02eRk"
      }
    },
    {
      "cell_type": "markdown",
      "source": [
        "We can also retrieve slices of lists by referring to the index numbers. To do this, we use the following code block:\n",
        "\n",
        "`my_list[starting index number : ending index number]`\n",
        "\n",
        "This is especially useful when you want to retrieve a subset of data from a larger list of values. "
      ],
      "metadata": {
        "id": "hN-YC8cO38PX"
      }
    },
    {
      "cell_type": "code",
      "source": [
        "#Retrieving a slice from a list\n",
        "my_list[1:4] "
      ],
      "metadata": {
        "id": "xHSfy0N84qRO"
      },
      "execution_count": null,
      "outputs": []
    },
    {
      "cell_type": "markdown",
      "source": [
        "In the above code, the second index number is the stopping point. This can be confusing if we were expecting 4 values as the output. One easy way to keep track of this is to subtract the index numbers to check how many values should be in the output:\n",
        "\n",
        "(4 - 1 = 3)\n"
      ],
      "metadata": {
        "id": "HpCvx2H55P0r"
      }
    },
    {
      "cell_type": "markdown",
      "source": [
        "We saw last week that we can modify lists. To replace an individual element in a list, we can refer to the element's index number and use an assignment statement to re-assign the element's value. Let's take a look at this.\n",
        "\n",
        "For example, let's say my_list represents your grades over the past few assignments. You did some extra credit to get 5 points added to your lowest grade. Let's use the index number to specify the lowest value in `my_list` and tell Python to re-assign it with a new value."
      ],
      "metadata": {
        "id": "DRUqYP7u6Ewc"
      }
    },
    {
      "cell_type": "code",
      "source": [
        "my_list = [85, 89, 81, 90, 96, 100] #The lowest value has a index number of 2.\n",
        "my_list[2]= (81+5) #Re-assigning the value to be 81+5\n",
        "my_list #Recall my_list to double-check the change was executed"
      ],
      "metadata": {
        "id": "P5qD88c06y2w"
      },
      "execution_count": null,
      "outputs": []
    },
    {
      "cell_type": "markdown",
      "source": [
        "We can also use the len function on lists to check how long our lists are. This is useful if you have been making changes to your lists and want to keep track of how many data elements are stored in your list."
      ],
      "metadata": {
        "id": "dFceVJ5n-S6v"
      }
    },
    {
      "cell_type": "code",
      "source": [
        "#Check how many elements are in your list with the len function\n",
        "len(my_list)"
      ],
      "metadata": {
        "id": "Udy7cH9F-jWw"
      },
      "execution_count": null,
      "outputs": []
    },
    {
      "cell_type": "markdown",
      "source": [
        "Let's move on to looking at tuples! We will see in the next section that lists and tuples look similar, but a key difference between lists and tuples is that lists are mutable. Tuples are not changeable after they are initialized."
      ],
      "metadata": {
        "id": "vyQyPRz373QE"
      }
    },
    {
      "cell_type": "markdown",
      "metadata": {
        "id": "_aGI-U5z8TqI"
      },
      "source": [
        "## Tuples\n",
        "\n",
        "A tuple can store anywhere from zero to millions of items. The items that can be stored in a tuple include the data types we have already learned: integers, floats, and strings—and a tuple may contain different data types. A tuple assignment statement takes the form:\n",
        "\n",
        "`my_tuple = (item0, item1, item2, item3)`\n",
        "\n",
        "with the items separated by commas and the tuple enclosed in parentheses."
      ]
    },
    {
      "cell_type": "code",
      "execution_count": null,
      "metadata": {
        "id": "cpKZcqAG8TqJ"
      },
      "outputs": [],
      "source": [
        "# A tuple containing integers\n",
        "my_favorite_numbers = (17, 19, 100)\n",
        "print(my_favorite_numbers)"
      ]
    },
    {
      "cell_type": "code",
      "execution_count": null,
      "metadata": {
        "id": "HAcWxVhf8TqK"
      },
      "outputs": [],
      "source": [
        "# A tuple containing strings\n",
        "my_favorite_philosophers = ('Margaret Cavendish', 'Mary Wollstonecraft', 'Hannah Arendt')\n",
        "print(my_favorite_philosophers)"
      ]
    },
    {
      "cell_type": "markdown",
      "metadata": {
        "id": "Q44Dd6mA8TqK"
      },
      "source": [
        "Both `my_favorite_numbers` and `my_favorite_philosophers` have three items, but we could have also initialized them with no items `my_favorite_numbers = ()` or many more items. Each item has an [index number](https://constellate.org/docs/key-terms/#index-number) that depends on their order. The first item is 0, the second item is 1, the third item is 2, etc. In the `my_favorite_philosophers` tuple, `'Hannah Arendt'` is item 2.\n",
        "\n",
        "To retrieve an item from a tuple, we put the name of the tuple, followed by the index number for the item we want to retrieve in square brackets.\n",
        "\n",
        "`Retrieving an item in a tuple:`\n",
        "  \n",
        "  &nbsp;&nbsp;&nbsp;&nbsp; `tuple name[index number]`"
      ]
    },
    {
      "cell_type": "code",
      "execution_count": null,
      "metadata": {
        "id": "zPFWj-l58TqK"
      },
      "outputs": [],
      "source": [
        "# Retrieving an item in a tuple\n",
        "my_favorite_philosophers[2]"
      ]
    },
    {
      "cell_type": "markdown",
      "metadata": {
        "id": "EAPEAUUF8TqL"
      },
      "source": [
        "What do you think will happen if we change the index number to 1? What about 3? "
      ]
    },
    {
      "cell_type": "markdown",
      "metadata": {
        "id": "ZpMujX028TqL"
      },
      "source": [
        "We can retrieve a group of consecutive items from a tuple using [slices](https://constellate.org/docs/key-terms/#slice) instead of a single index number. We create a **slice** by indicating a starting and ending index number, separated by a colon.\n",
        "\n",
        "`Taking a slice of a tuple:`\n",
        "  \n",
        "  &nbsp;&nbsp;&nbsp;&nbsp; `tuple name[starting index number: ending index number]`\n",
        "\n",
        "The slice contains all the items between our starting and stopping index number."
      ]
    },
    {
      "cell_type": "code",
      "execution_count": null,
      "metadata": {
        "id": "QRZSV3Mp8TqM"
      },
      "outputs": [],
      "source": [
        "# Taking a slice of a tuple\n",
        "historical_periods = ('Classical Antiquity',\n",
        "                      'Early Middle Ages', \n",
        "                      'High Middle Ages', \n",
        "                      'Late Middle Ages', \n",
        "                      'Early Modern Period', \n",
        "                      'Late Modern Period', \n",
        "                      'Contemporary History')\n",
        "historical_periods[3:5]"
      ]
    },
    {
      "cell_type": "markdown",
      "metadata": {
        "id": "739rz0dK8TqM"
      },
      "source": [
        "Notice that, again, the second index in a slice is the stopping point. Remember a way to check this is by subtracting the indexes in your head (5 - 3 = 2 items).\n",
        "\n",
        "It is not uncommon for tuples to be hundreds or thousands of items long.  If you want to know the length of a tuple, you can use the `len()` function."
      ]
    },
    {
      "cell_type": "code",
      "execution_count": null,
      "metadata": {
        "id": "ITYtjpql8TqM"
      },
      "outputs": [],
      "source": [
        "# Using the len() function to discover the number of items in the tuple\n",
        "len(historical_periods)"
      ]
    },
    {
      "cell_type": "markdown",
      "metadata": {
        "id": "W3SmeCZB8TqN"
      },
      "source": [
        "## Dictionaries\n",
        "\n",
        "Like a tuple, a [dictionary](https://constellate.org/docs/key-terms/#dictionary) can hold many values within a single variable. We have seen that the items of a tuple are stored in a strictly-ordered fashion, starting from item 0. In a dictionary, each [value](https://constellate.org/docs/key-terms/#key-value-pair) is stored in relation to a descriptive [key](https://constellate.org/docs/key-terms/#key-value-pair) forming a [key/value pair](https://constellate.org/docs/key-terms/#key-value-pair). This structure makes dictionaries very useful, because you can supply a key and receive a value without needing to refer to a specific index number. You are not allowed to have duplicate keys in Python dictionaries; each key can be used only once.\n",
        "\n",
        "Whereas a tuple is typed with parentheses `()`, a dictionary is typed with braces `{}`.  The following examples show how key/value pairs can be used to store different kinds of data in a dictionary.\n",
        "\n",
        "`example_dictionary = {keyA : valueA, keyB : valueB, keyC : valueC}`\n",
        "\n",
        "`menu_dictionary = {itemA : priceA, itemB : priceB, ...}`\n",
        "\n",
        "`gradebook_dictionary = {nameA : gradeA, nameB : gradeB, ...}`\n",
        "\n",
        "Another important difference between dictionaries and tuples is that dictionaries are **mutable**, meaning that data in dictionaries can be changed after the dictionary is initialized. Tuples, on the other hand, cannot be changed after being initialized. \n",
        "\n",
        "The values in dictionaries can be any data type. You can have a mix of different data types within a dictionary. The keys can be most data types, including integers, floats, and strings.\n",
        "\n",
        "Here is an example dictionary with the menu items from a restaurant as **keys** and their prices as **values**. \n"
      ]
    },
    {
      "cell_type": "code",
      "execution_count": null,
      "metadata": {
        "id": "BW8UuSdj8TqN"
      },
      "outputs": [],
      "source": [
        "# An example of a dictionary storing menu items and prices\n",
        "breakfast_menu ={\n",
        " 'Breakfast Sandwich': 9.75,\n",
        " 'Croissant Breakfast Sandwich': 11.0,\n",
        " 'Biscuit Sandwich': 9.0,\n",
        " 'Spinach, Sunchoke, & Egg Plate': 11.0,\n",
        " 'Salmon, Avocado, and Egg Sandwich': 11.50,\n",
        " 'Scrambled Egg Plate': 9.75,\n",
        " 'Museli': 6.50,\n",
        " 'Hash': 14.50,\n",
        " 'Egg in a Hole': 12,\n",
        " 'Croque Madame': 13.50,\n",
        " 'Bread & Butter': 6.0}"
      ]
    },
    {
      "cell_type": "code",
      "execution_count": null,
      "metadata": {
        "id": "IE9OsiUs8TqN"
      },
      "outputs": [],
      "source": [
        "# Let's take a look at what we just created\n",
        "print(breakfast_menu)"
      ]
    },
    {
      "cell_type": "code",
      "source": [
        "# If you don't like the look of that, you can use this code instead\n",
        "# We'll talk more about what is happening here in our lesson on importing functions\n",
        "from pprint import pprint\n",
        "pprint(breakfast_menu)"
      ],
      "metadata": {
        "id": "qU73R10cBCjb"
      },
      "execution_count": null,
      "outputs": []
    },
    {
      "cell_type": "markdown",
      "metadata": {
        "id": "TwqGsY0S8TqN"
      },
      "source": [
        "We relied on order to reference the items in our tuples by their index numbers. Dictionaries are different. We use the keys to look up corresponding values, in this format:\n",
        "`dictionary_name[key]`\n",
        "\n",
        "For example: "
      ]
    },
    {
      "cell_type": "code",
      "execution_count": null,
      "metadata": {
        "id": "jUN28Z7P8TqN"
      },
      "outputs": [],
      "source": [
        "breakfast_menu['Breakfast Sandwich']"
      ]
    },
    {
      "cell_type": "markdown",
      "metadata": {
        "id": "4w0SsmUb8TqO"
      },
      "source": [
        "The key `'Breakfast Sandwich'` always maps to the value `9.75` so the order of the items doesn’t matter.\n",
        "\n",
        "This is very different from tuples, where changing the order of the items will also change the item that is retrieved for a particular index number. \n",
        "\n",
        "For example:"
      ]
    },
    {
      "cell_type": "code",
      "source": [
        "# Re-initializing my_favorite_philosophers if this is a new session\n",
        "my_favorite_philosophers = ('Margaret Cavendish', 'Mary Wollstonecraft', 'Hannah Arendt')"
      ],
      "metadata": {
        "id": "kx4Jxd-Fvet1"
      },
      "execution_count": null,
      "outputs": []
    },
    {
      "cell_type": "code",
      "source": [
        "# Retrieving an item from the tuple\n",
        "my_favorite_philosophers[0]"
      ],
      "metadata": {
        "id": "K1xTklOzueXu"
      },
      "execution_count": null,
      "outputs": []
    },
    {
      "cell_type": "code",
      "source": [
        "# Overwriting the tuple with a different order of items\n",
        "my_favorite_philosophers = ('Hannah Arendt', 'Mary Wollstonecraft', 'Margaret Cavendish')\n"
      ],
      "metadata": {
        "id": "NY3JFLNyuee1"
      },
      "execution_count": null,
      "outputs": []
    },
    {
      "cell_type": "code",
      "source": [
        "# Retrieving a different item with the same index number\n",
        "my_favorite_philosophers[0]"
      ],
      "metadata": {
        "id": "gm5MMJKhu3Xm"
      },
      "execution_count": null,
      "outputs": []
    },
    {
      "cell_type": "markdown",
      "source": [
        "Try it yourself! In the code block below, call up the values for `Museli` and for `Egg in a Hole`. Make sure to pay attention to the capitalization–remember that everything is case sensitive!"
      ],
      "metadata": {
        "id": "lECybKqpuST0"
      }
    },
    {
      "cell_type": "code",
      "execution_count": null,
      "metadata": {
        "id": "Y6hbmy0x8TqO"
      },
      "outputs": [],
      "source": [
        "# Fill in your code here\n",
        "# What happens if you enter a key that is not in our dictionary?"
      ]
    },
    {
      "cell_type": "markdown",
      "metadata": {
        "id": "PO57DnbU8TqO"
      },
      "source": [
        "We noted above that dictionaries, unlike tuples, are mutable: we can change them. For example, we might want to add a key/value pair to our dictionary, like so:"
      ]
    },
    {
      "cell_type": "code",
      "execution_count": null,
      "metadata": {
        "id": "YpOW5GPE8TqO"
      },
      "outputs": [],
      "source": [
        "breakfast_menu['Waffle'] = 12.00"
      ]
    },
    {
      "cell_type": "code",
      "execution_count": null,
      "metadata": {
        "id": "UHPLtHX-8TqO"
      },
      "outputs": [],
      "source": [
        "# When we print breakfast_menu, we can see that it has been updated:\n",
        "print(breakfast_menu)\n",
        "\n",
        "# Or, un-comment-out the line below to use the \"pretty print\" function\n",
        "# You will need to comment out the first line, unless you want to print the dictionary twice!\n",
        "# And, be careful about the indentation!\n",
        "#pprint(breakfast_menu)"
      ]
    },
    {
      "cell_type": "markdown",
      "metadata": {
        "id": "55Ys_hYQ8TqP"
      },
      "source": [
        "You can also change the values in a dictionary. Maybe we want to raise the price of the Scrambled Egg Plate:"
      ]
    },
    {
      "cell_type": "code",
      "execution_count": null,
      "metadata": {
        "id": "4mu8uEnq8TqP"
      },
      "outputs": [],
      "source": [
        "breakfast_menu['Scrambled Egg Plate'] = 20.00"
      ]
    },
    {
      "cell_type": "code",
      "execution_count": null,
      "metadata": {
        "id": "sVoJmOR48TqP"
      },
      "outputs": [],
      "source": [
        "# In this code block, call up the value of the 'Scrambled Egg Plate' key to confirm our change\n"
      ]
    },
    {
      "cell_type": "markdown",
      "source": [
        "The `len` function works on dictionaries; it returns the number of key/value pairs:"
      ],
      "metadata": {
        "id": "bA4ZsfX0cdPF"
      }
    },
    {
      "cell_type": "code",
      "source": [
        "len(breakfast_menu)"
      ],
      "metadata": {
        "id": "gd4FxJQcckyj"
      },
      "execution_count": null,
      "outputs": []
    },
    {
      "cell_type": "markdown",
      "source": [
        "We can use the `type` function with dictionaries and tuples, just like we did with other data types."
      ],
      "metadata": {
        "id": "eKt4ziELcYLE"
      }
    },
    {
      "cell_type": "code",
      "source": [
        "# Run this to check the type of a tuple, then check the type of breakfast_menu to check a dictionary\n",
        "type[my_favorite_philosophers]\n"
      ],
      "metadata": {
        "id": "0cUXAuOdcZxD"
      },
      "execution_count": null,
      "outputs": []
    },
    {
      "cell_type": "markdown",
      "source": [
        "###Writing a generalized function to modify a data container\n",
        "\n",
        "You may want to use a function multiple times to change a data container like a dictionary. You can write a generalized function, a function that is written to accept different inputs. \n",
        "\n",
        "Recall that in the last workshop, we learned that writing a function first requires us to define a function name. Then, we write the code block of the task that we want the function to execute.\n",
        "\n",
        "You may want a generalized function to add new key/value pairs to an existing dictionary. For example, let's add a new menu item to the `breakfast_menu`. In the code blocks below, we will define a function called `update_breakfast_menu` to add Pancakes that cost 11 dollars to our original `breakfast_menu` and return the updated menu. Let's look at a specific example of how to add Pancakes and their price to the menu, and then write our generalized function."
      ],
      "metadata": {
        "id": "cSXrZcSkqj7j"
      }
    },
    {
      "cell_type": "code",
      "source": [
        "#Write code to add Pancakes that cost $10 to the breakfast_menu dictionary\n",
        "key = 'Pancakes'\n",
        "value = 10 #Note that we are adding Pancakes that cost $10 in this step, so when we run our generalized function, we can check to see if the value is updated.\n",
        "breakfast_menu[key] = value"
      ],
      "metadata": {
        "id": "6z9AlbQ4ub4t"
      },
      "execution_count": null,
      "outputs": []
    },
    {
      "cell_type": "code",
      "source": [
        "#Writing a generalized function to add key/value pairs to a dictionary\n",
        "def update_breakfast_menu (key, value):   #Define the function name and inputs\n",
        "  update_breakfast_menu = breakfast_menu[key] = value    #Set the function to add the input key/value pair to the breakfast_menu\n",
        "  result = breakfast_menu  \n",
        "  return result    #Set the function to return the updated breakfast_menu\n",
        "\n",
        "update_breakfast_menu('Pancakes', 11)    #Run the function to add Pancakes that cost $11 to the breakfast_menu to see if the price has been updated\n",
        "\n"
      ],
      "metadata": {
        "id": "3GTbzAkxQmtS"
      },
      "execution_count": null,
      "outputs": []
    },
    {
      "cell_type": "markdown",
      "source": [
        "In the `update_breakfast_menu` function, you specify the key, value pair you want to add to the original `breakfast_menu` dictionary.  You can re-run this function with different key/value pairs to add multiple, new menu items and prices.\n",
        "\n",
        "Generalized functions can also be written to modify the values in a dictionary. For example, let's say the cost of avocados has gone up, and you need to double the price of the  Salmon, Avocado, and Egg sandwich in the `breakfast_menu`. \n",
        "\n",
        "In the following generalized function, you specify the function inputs, telling the function to multiply the value of a specific key/value pair in the dictionary. You can re-use this function to change the costs of different key/value pairs by changing the function inputs."
      ],
      "metadata": {
        "id": "Uey4GFAYTlvV"
      }
    },
    {
      "cell_type": "code",
      "source": [
        "#Writing a generalized function to change a value in a dictionary\n",
        "def double_price(key, value, multiplier):   #Define the function name and inputs\n",
        "  double_price = breakfast_menu[key]= value * multiplier  #Set the function to multiply the value of the input key/value pair by the multiplier\n",
        "  result = breakfast_menu   \n",
        "  return result    #Set the function to return the updated breakfast_menu\n",
        "\n",
        "double_price('Salmon, Avocado, and Egg Sandwich', 11.5, 2)    #Run the function with specified inputs to double the price of the Salmon, Avocado, and Egg Sandwich"
      ],
      "metadata": {
        "id": "qmCftZoKVbzh"
      },
      "execution_count": null,
      "outputs": []
    },
    {
      "cell_type": "markdown",
      "metadata": {
        "id": "Lt3nqQKL4oX4"
      },
      "source": [
        "\n",
        "## `for` loops and dictionaries\n",
        "In last week's workshop, we learned how to use for loops to iterate a task over a list. You can also write `for` loops to iterate a task over tuples and dictionaries. \n",
        "\n",
        "By default, if you put a dictionary into a `for` loop, it will iterate over the keys in that dictionary. Here's an example of how that works."
      ]
    },
    {
      "cell_type": "code",
      "execution_count": null,
      "metadata": {
        "id": "o2_TS3PE4oX5"
      },
      "outputs": [],
      "source": [
        "short_menu ={\n",
        " 'Breakfast Sandwich': 9.75,\n",
        " 'Croissant Breakfast Sandwich': 11.00,\n",
        " 'Biscuit Sandwich': 9.00}\n",
        "\n",
        "for key in short_menu:\n",
        "    print(key)"
      ]
    },
    {
      "cell_type": "markdown",
      "source": [
        "`key` is the iteration variable in the block above. Confirm this for yourself by updating the code below to use a different name for your iteration variable (make sure to change both instances!)."
      ],
      "metadata": {
        "id": "-guHQfBW6O6j"
      }
    },
    {
      "cell_type": "code",
      "source": [
        "# Update this code to use a different iteration variable\n",
        "short_menu ={\n",
        " 'Breakfast Sandwich': 9.75,\n",
        " 'Croissant Breakfast Sandwich': 11.00,\n",
        " 'Biscuit Sandwich': 9.00}\n",
        "\n",
        "for sandwich in short_menu:\n",
        "    print(sandwich)"
      ],
      "metadata": {
        "id": "EoW22G3g6ilj"
      },
      "execution_count": null,
      "outputs": []
    },
    {
      "cell_type": "markdown",
      "metadata": {
        "id": "ciaSUCtM4oX5"
      },
      "source": [
        "We can also use the tools we learned earlier in the lesson to work with dictionaries. For example, we might want to retrieve values, instead of keys: "
      ]
    },
    {
      "cell_type": "code",
      "execution_count": null,
      "metadata": {
        "id": "aMAcrkXr4oX6"
      },
      "outputs": [],
      "source": [
        "# A program that prints the prices of menu items\n",
        "short_menu ={\n",
        " 'Breakfast Sandwich': 9.75,\n",
        " 'Croissant Breakfast Sandwich': 11.00,\n",
        " 'Biscuit Sandwich': 9.00}\n",
        "\n",
        "for key in short_menu:\n",
        "    print(\"Price: $\",short_menu[key])"
      ]
    },
    {
      "cell_type": "markdown",
      "metadata": {
        "id": "43F9Slb14oX6"
      },
      "source": [
        "Or, pulling these together, we might want both values and keys:"
      ]
    },
    {
      "cell_type": "code",
      "execution_count": null,
      "metadata": {
        "id": "5c_0Vi-u4oX6"
      },
      "outputs": [],
      "source": [
        "# A program that prints the names and prices of menu items\n",
        "short_menu ={\n",
        " 'Breakfast Sandwich': 9.75,\n",
        " 'Croissant Breakfast Sandwich': 11.00,\n",
        " 'Biscuit Sandwich': 9.00}\n",
        "\n",
        "for key in short_menu:\n",
        "    print(\"For our \" + key + \", the price is $\" + str(short_menu[key])) # We put the `short_menu[key]` inside `str()` to turn the float data type into a string and print the phrase\n",
        "    "
      ]
    },
    {
      "cell_type": "markdown",
      "source": [
        "## Sets \n",
        "\n",
        "Our focus here has been on lists, tuples, and dictionaries, but we are briefly going to discuss one more data type: **sets**. Sets are the last of the four data types in Python that can store collections of data. To recap: these are tuples, lists, sets, and dictionaries.\n",
        "\n",
        "Sets are expressed like so:\n",
        "\n",
        "`example_set = {\"item1\", \"item2\", \"item3\"}`\n",
        "\n",
        "Sets are **unordered** and **unindexed**. That means that the items in a set could be in a different order any time you reference them. You cannot refer to the items in a set by index numbers, as you do with tuples. You'll also note from our example that the items in a set are not keyed, as with dictionaries. Because sets are unindexed, you are not allowed to have duplicate values.\n",
        "\n",
        "You cannot change the items in a set once the set has been initialized. However, you can remove items or add new ones. Taking our generic example, this means that we could remove `item3` or add `item4`, but we couldn't change `item1` to `item_one`.\n",
        "\n",
        "Sets may contain a mix of different data types. However, sets cannot contain **mutable** data types like dictionaries or lists."
      ],
      "metadata": {
        "id": "TwOqRclKu1rv"
      }
    },
    {
      "cell_type": "code",
      "source": [
        "# Initializing an example set\n",
        "my_favorites = {\"green\", 19, \"lily of the valley\", \"blackberries\", \"cookie dough\"}"
      ],
      "metadata": {
        "id": "CtRguQluw1we"
      },
      "execution_count": null,
      "outputs": []
    },
    {
      "cell_type": "code",
      "source": [
        "# We can use the `len()` function to determine the length of a set\n",
        "len(my_favorites)"
      ],
      "metadata": {
        "id": "xUb-W7U_w3Ej"
      },
      "execution_count": null,
      "outputs": []
    },
    {
      "cell_type": "code",
      "source": [
        "# And, we can use `type()` as well\n",
        "type(my_favorites)"
      ],
      "metadata": {
        "id": "g32ac8dr1Hzh"
      },
      "execution_count": null,
      "outputs": []
    },
    {
      "cell_type": "markdown",
      "source": [
        "One thing that makes sets useful is that they do not allow repeat items: this means that putting items into a set is an effective way of removing any duplicates. Sets are also useful for certain math operations that we aren't going to get into here, but that you'll see in the future."
      ],
      "metadata": {
        "id": "1Xwjg_7u2VWP"
      }
    },
    {
      "cell_type": "code",
      "source": [
        "# If you do put duplicate values in a set, they will be ignored\n",
        "my_absolute_favorites = {\"green\", 19, \"lily of the valley\", \"blackberries\", \"cookie dough\",\"green\"}\n",
        "print(my_absolute_favorites)"
      ],
      "metadata": {
        "id": "MDxioFT42TG_"
      },
      "execution_count": null,
      "outputs": []
    },
    {
      "cell_type": "markdown",
      "metadata": {
        "id": "sX355ETZ8TqS"
      },
      "source": [
        "That's it on lists, tuples, dictionaries, and sets! In our next lesson, we'll cover how to write functions with conditional statements that can perform calculations on a certain subset of data."
      ]
    },
    {
      "cell_type": "markdown",
      "metadata": {
        "id": "62AYsqZE8TqS"
      },
      "source": [
        "# Practice Exercises\n",
        "As with the previous two lessons, you should first try running the quick exercises in this notebook, and practice making changes and testing their results. "
      ]
    },
    {
      "cell_type": "markdown",
      "metadata": {
        "id": "w9TCyiQL8TqS"
      },
      "source": [
        "**Exercise One**"
      ]
    },
    {
      "cell_type": "markdown",
      "metadata": {
        "id": "jqgRsAyI8TqS"
      },
      "source": [
        "Initialize a tuple called `class_topics` that contains the following strings, in this exact order: \"Introduction to the Course\", \"Types of Inference\", \"Probability Theory\", \"Programming Fundamentals\", \"Bayesian Inference\", \"Probabilistic Graphical Models\", \"Information Theory\", and \"Advanced Topics\"."
      ]
    },
    {
      "cell_type": "code",
      "execution_count": null,
      "metadata": {
        "id": "8H6GGZlT8TqS"
      },
      "outputs": [],
      "source": [
        "# Initialize the class_topics tuple here"
      ]
    },
    {
      "cell_type": "markdown",
      "metadata": {
        "id": "56XMErM88TqT"
      },
      "source": [
        "Now, using its index number, retrieve \"Probability Theory\" from the `class_topics` tuple."
      ]
    },
    {
      "cell_type": "code",
      "execution_count": null,
      "metadata": {
        "id": "bRzHSX008TqT"
      },
      "outputs": [],
      "source": [
        "# Fill in your code here"
      ]
    },
    {
      "cell_type": "markdown",
      "metadata": {
        "id": "LkvCuQ4E8TqT"
      },
      "source": [
        "Finally, take a slice that retrieves \"Bayesian Inference\", \"Probabilistic Graphical Models\", and \"Information Theory\"."
      ]
    },
    {
      "cell_type": "code",
      "execution_count": null,
      "metadata": {
        "id": "b_2XIpgm8TqT"
      },
      "outputs": [],
      "source": [
        "# Fill in your code here"
      ]
    },
    {
      "cell_type": "markdown",
      "metadata": {
        "id": "6lzOPgZ58TqT"
      },
      "source": [
        "**Exercise Two**"
      ]
    },
    {
      "cell_type": "markdown",
      "metadata": {
        "id": "HhJ4GwBS8TqT"
      },
      "source": [
        "Initialize a dictionary called `snowfall_totals` with the following key/value pairs:\n",
        "<br>Boston: 24.5\n",
        "<br>Brookline: 15\n",
        "<br>Cambridge: 14\n",
        "<br>Framingham: 12.2\n",
        "<br>Malden: 20\n",
        "<br>Wakefield: 21.2\n",
        "\n",
        "Make sure to change the town names to strings!"
      ]
    },
    {
      "cell_type": "code",
      "execution_count": null,
      "metadata": {
        "id": "MDs00--c8TqT"
      },
      "outputs": [],
      "source": [
        "# Initialize your dictionary \n",
        "# Then, use `len` to check the length\n"
      ]
    },
    {
      "cell_type": "markdown",
      "metadata": {
        "id": "MtDhFtO88TqU"
      },
      "source": [
        "Now, add a new key/value pair to your dictionary:\n",
        "<br>Norwood: 19.5"
      ]
    },
    {
      "cell_type": "code",
      "execution_count": null,
      "metadata": {
        "id": "FoiaDtId8TqU"
      },
      "outputs": [],
      "source": [
        "# Add the new key/value pair for Norwood's snowfall\n",
        "# Then use `len` to check the length\n"
      ]
    },
    {
      "cell_type": "markdown",
      "metadata": {
        "id": "-q8nraRQ8TqU"
      },
      "source": [
        "This just in! Wakefield actually got 22.4 inches of snowfall. Update the value in the code block below. "
      ]
    },
    {
      "cell_type": "code",
      "execution_count": null,
      "metadata": {
        "id": "CPMikJLU8TqU"
      },
      "outputs": [],
      "source": [
        "# Update the value for Wakefield to 22.4\n"
      ]
    },
    {
      "cell_type": "markdown",
      "metadata": {
        "id": "gW0Up-TM8TqU"
      },
      "source": [
        "Finally, call up the value of Wakefield to confirm that your change went through. "
      ]
    },
    {
      "cell_type": "code",
      "execution_count": null,
      "metadata": {
        "id": "oWdCkp4Y8TqU"
      },
      "outputs": [],
      "source": [
        "# Call up the value of Wakefield\n"
      ]
    },
    {
      "cell_type": "markdown",
      "metadata": {
        "id": "ta06uHdN8TqU"
      },
      "source": [
        "**Exercise Three**"
      ]
    },
    {
      "cell_type": "markdown",
      "metadata": {
        "id": "MHqpjrlo8TqU"
      },
      "source": [
        "Below is a dictionary with information on the Boston subway system, lightly modified for convenience. Each **key** is a tuple with two strings: the line and the direction (in Boston, \"C\" can be a direction). Each **value** is a string with the last stop of that line and direction."
      ]
    },
    {
      "cell_type": "code",
      "execution_count": null,
      "metadata": {
        "id": "vP_veC8S8TqU"
      },
      "outputs": [],
      "source": [
        "t_stops = {(\"orange\", \"north\"):\"Oak Grove\",\n",
        "           (\"orange\", \"south\"):\"Forest Hills\",\n",
        "           (\"blue\", \"north\"):\"Wonderland\",\n",
        "           (\"blue\", \"south\"):\"Bowdoin\",\n",
        "           (\"red\", \"north\"):\"Alewife\",\n",
        "           (\"red\", \"southeast\"):\"Braintree\",\n",
        "           (\"red\", \"southwest\"):\"Mattapan\",          \n",
        "           (\"green\", \"north\"):\"Lechmere\",\n",
        "           (\"green\", \"B\"):\"Boston College\",\n",
        "           (\"green\", \"C\"):\"Cleveland Circle\",\n",
        "           (\"green\", \"D\"):\"Riverside\",\n",
        "           (\"green\", \"E\"):\"Heath Street\"}"
      ]
    },
    {
      "cell_type": "markdown",
      "metadata": {
        "id": "hZbZRIHB8TqV"
      },
      "source": [
        "Now, we will construct a function using a for loop that iterates through the t_stops dictionary and prints each tuple key.\n",
        "\n",
        "**Hint**: You can look above in this notebook to the program for printing prices from a menu for a model."
      ]
    },
    {
      "cell_type": "code",
      "execution_count": null,
      "metadata": {
        "id": "XX11eXdp8TqV"
      },
      "outputs": [],
      "source": [
        "# This code will initialize the my_direction tuple based on user input\n",
        "t_line = input(\"What are the major subway lines of the MBTA? \")\n",
        "t_heading = input(\"Which directions do the major lines run? \")\n",
        "\n",
        "# Fill in your code here to write a function that prints all the tuple keys from the t_stops dictionary"
      ]
    },
    {
      "cell_type": "markdown",
      "metadata": {
        "id": "P2-9TTjp8TqV"
      },
      "source": [
        "# Solutions\n",
        "These are some sample solutions, but (as we've already noted) you might have taken a different approach. "
      ]
    },
    {
      "cell_type": "code",
      "execution_count": null,
      "metadata": {
        "id": "lq6wyU5D8TqV"
      },
      "outputs": [],
      "source": [
        "# Exercise One\n",
        "# Initialize the class_topics tuple\n",
        "class_topics = (\"Introduction to the Course\", \"Types of Inference\", \"Probability Theory\", \"Programming Fundamentals\", \"Bayesian Inference\", \"Probabilistic Graphical Models\", \"Information Theory\", \"Advanced Topics\")"
      ]
    },
    {
      "cell_type": "code",
      "execution_count": null,
      "metadata": {
        "id": "gxJOhR-x8TqV"
      },
      "outputs": [],
      "source": [
        "# Exercise One\n",
        "# Retrieve \"Probability Theory\"\n",
        "class_topics[2]"
      ]
    },
    {
      "cell_type": "code",
      "execution_count": null,
      "metadata": {
        "id": "MbkupmUX8TqV"
      },
      "outputs": [],
      "source": [
        "# Exercise One\n",
        "# Retrieve \"Bayesian Inference\", \"Probabilistic Graphical Models\", and \"Information Theory\"\n",
        "class_topics[4:7]"
      ]
    },
    {
      "cell_type": "code",
      "execution_count": null,
      "metadata": {
        "id": "i4bENixZ8TqV"
      },
      "outputs": [],
      "source": [
        "# Exercise Two\n",
        "# Initialize your dictionary \n",
        "snowfall_totals = {\"Boston\": 24.5,\n",
        "\"Brookline\": 15,\n",
        "\"Cambridge\": 14,\n",
        "\"Framingham\": 12.2,\n",
        "\"Malden\": 20,\n",
        "\"Wakefield\": 21.2}"
      ]
    },
    {
      "cell_type": "code",
      "execution_count": null,
      "metadata": {
        "id": "IFAI7cdh8TqV"
      },
      "outputs": [],
      "source": [
        "# Exercise Two\n",
        "# Check the length of the dictionary\n",
        "len(snowfall_totals)"
      ]
    },
    {
      "cell_type": "code",
      "execution_count": null,
      "metadata": {
        "id": "4vrQWiPZ8TqW"
      },
      "outputs": [],
      "source": [
        "# Exercise Two\n",
        "# Add the new key/value pair for Norwood's snowfall \n",
        "# Then use `len` to check the length \n",
        "snowfall_totals['Norwood'] = 19.5\n",
        "len(snowfall_totals)"
      ]
    },
    {
      "cell_type": "code",
      "execution_count": null,
      "metadata": {
        "id": "NB7edXml8TqW"
      },
      "outputs": [],
      "source": [
        "# Exercise Two\n",
        "# Update the value for Wakefield to 22.4\n",
        "snowfall_totals['Wakefield'] = 22.4"
      ]
    },
    {
      "cell_type": "code",
      "execution_count": null,
      "metadata": {
        "id": "p4yceyvq8TqW"
      },
      "outputs": [],
      "source": [
        "# Exercise Two\n",
        "# Call up the value for Wakefield\n",
        "snowfall_totals['Wakefield']"
      ]
    },
    {
      "cell_type": "code",
      "execution_count": null,
      "metadata": {
        "id": "oMlODO6F8TqW"
      },
      "outputs": [],
      "source": [
        "# Exercise Three\n",
        "# Initialize the t_stops dictionary\n",
        "t_stops = {(\"orange\", \"north\"):\"Oak Grove\",\n",
        "           (\"orange\", \"south\"):\"Forest Hills\",\n",
        "           (\"blue\", \"north\"):\"Wonderland\",\n",
        "           (\"blue\", \"south\"):\"Bowdoin\",\n",
        "           (\"red\", \"north\"):\"Alewife\",\n",
        "           (\"red\", \"southeast\"):\"Braintree\",\n",
        "           (\"red\", \"southwest\"):\"Mattapan\",          \n",
        "           (\"green\", \"north\"):\"Lechmere\",\n",
        "           (\"green\", \"B\"):\"Boston College\",\n",
        "           (\"green\", \"C\"):\"Cleveland Circle\",\n",
        "           (\"green\", \"D\"):\"Riverside\",\n",
        "           (\"green\", \"E\"):\"Heath Street\",}\n",
        "\n",
        "# Initialize the my_direction tuple based on user input\n",
        "t_line = input(\"What are the major subway lines of the MBTA? \")\n",
        "my_heading = input(\"Which directions do the major lines run? \")\n",
        "\n",
        "# Fill in a function that prints every tuple key from the t_stops dictionary\n",
        "def print_direction(menu):\n",
        "  for key in menu:\n",
        "    print(key, t_stops[key])\n",
        "print_direction(t_stops)"
      ]
    }
  ],
  "metadata": {
    "kernelspec": {
      "display_name": "Python 3",
      "language": "python",
      "name": "python3"
    },
    "language_info": {
      "codemirror_mode": {
        "name": "ipython",
        "version": 3
      },
      "file_extension": ".py",
      "mimetype": "text/x-python",
      "name": "python",
      "nbconvert_exporter": "python",
      "pygments_lexer": "ipython3",
      "version": "3.8.8"
    },
    "toc": {
      "base_numbering": 1,
      "nav_menu": {},
      "number_sections": true,
      "sideBar": true,
      "skip_h1_title": true,
      "title_cell": "Table of Contents",
      "title_sidebar": "Contents",
      "toc_cell": false,
      "toc_position": {
        "height": "calc(100% - 180px)",
        "left": "10px",
        "top": "150px",
        "width": "354px"
      },
      "toc_section_display": true,
      "toc_window_display": false
    },
    "colab": {
      "provenance": []
    }
  },
  "nbformat": 4,
  "nbformat_minor": 0
}