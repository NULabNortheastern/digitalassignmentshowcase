{
  "cells": [
    {
      "cell_type": "markdown",
      "metadata": {
        "id": "Xdss6QGeIAXx"
      },
      "source": [
        "<img align=\"left\" src=\"https://ithaka-labs.s3.amazonaws.com/static-files/images/tdm/tdmdocs/CC_BY.png\"><br />\n",
        "\n",
        "Adapted by Sarah Connell, Dipa Desai, and Emre Tapan from a notebook created by [Nathan Kelber](http://nkelber.com) and Ted Lawless for [JSTOR Labs](https://labs.jstor.org/) under [Creative Commons CC BY License](https://creativecommons.org/licenses/by/4.0/). See [here](https://ithaka.github.io/tdm-notebooks/book/all-notebooks.html) for the original version. Some contents were adapted from teaching notebooks created by Laura Nelson, University of British Columbia, and from [Python for Everybody](https://www.py4e.com/). Warm thanks to Kate Kryder, Data Analysis & Visualization Specialist at Northeastern University, for helping to develop these notebooks.<br />\n",
        "___"
      ]
    },
    {
      "cell_type": "markdown",
      "metadata": {
        "id": "JP2MEu7-IAX0"
      },
      "source": [
        "### Functions\n",
        "\n",
        "Recall that we have used several Python [functions](https://constellate.org/docs/key-terms/#function) already, including `print()`, `len()`, and `type()`. As a reminder, functions are structured such that the function name is followed by a set of parentheses `()`. Inside the parentheses are any [arguments](https://constellate.org/docs/key-terms/#argument) that the functions operate on. We say that arguments are **passed** to the function when it is run. \n",
        "\n",
        "We learned that depending on the function (and your goals for using it), a function may accept no arguments, a single argument, or many arguments. \n",
        "\n",
        "When we introduced functions, we noted that there are three kinds:\n",
        "* Native functions built into Python\n",
        "* Functions others have written that you can import\n",
        "* Functions you write yourself\n",
        "\n",
        "We spent some time in our second workshop talking about importing functions into Python, and how to write your own functions. We will be spending more time today practicing importing and writing functions, and then learning how to use conditional statements in functions. \n",
        "\n",
        "### Libraries and Modules\n",
        "\n",
        "While Python comes with many functions, there are thousands more that others have written. Adding them all to Python would create mass confusion, since many people could use the same name for functions that do different things. The solution then is that functions are stored in [modules](https://constellate.org/docs/key-terms/#module) that can be **imported** for use. A module is a Python file (extension \".py\") that contains the definitions for the functions written in Python. These modules can then be collected into even larger groups called [packages](https://constellate.org/docs/key-terms/#package) and [libraries](https://constellate.org/docs/key-terms/#library). Depending on how many functions you need for the program you are writing, you may import a single module, a package of modules, or a whole library.\n",
        "\n",
        "Recall that the general form of importing a module is:\n",
        "`import module_name`\n",
        "\n",
        "To access one of the functions in the module, you have to specify the name of the module and the name of the function, separated by a dot (also known as a period). This format is called **dot notation**."
      ]
    },
    {
      "cell_type": "markdown",
      "metadata": {
        "id": "sSzSOCjaIAX3"
      },
      "source": [
        "Python has many useful modules, packages, and libraries that you can import. In this class, we will be working with the `math` module, which\n",
        "provides most of the familiar mathematical functions. Before we can use the module, we have to import it:"
      ]
    },
    {
      "cell_type": "code",
      "execution_count": null,
      "metadata": {
        "id": "2lSrSA80IAX4"
      },
      "outputs": [],
      "source": [
        "import math"
      ]
    },
    {
      "cell_type": "markdown",
      "metadata": {
        "id": "bViFPX6HIAX4"
      },
      "source": [
        "Now that we have imported `math`, we can use it following the same notational format. For example, the `sqrt` function from the `math` module will calculate the square root of its argument: "
      ]
    },
    {
      "cell_type": "code",
      "execution_count": null,
      "metadata": {
        "id": "TofKv5j_IAX5"
      },
      "outputs": [],
      "source": [
        "math.sqrt(16)"
      ]
    },
    {
      "cell_type": "markdown",
      "source": [
        "Another function in the `math` module is `ceil()` which rounds a number up to its nearest integer. In the code block below, test out `ceil()` with a float number of your choice."
      ],
      "metadata": {
        "id": "gKr3dBHP8ffa"
      }
    },
    {
      "cell_type": "code",
      "source": [
        "# Use the `ceil()` function from the `math` module here"
      ],
      "metadata": {
        "id": "lk2wBhsw8Sn-"
      },
      "execution_count": null,
      "outputs": []
    },
    {
      "cell_type": "markdown",
      "metadata": {
        "id": "xSYgnEj1IAX5"
      },
      "source": [
        "You can find more about the functions in the `math` module [here](https://docs.python.org/3/library/math.html)."
      ]
    },
    {
      "cell_type": "markdown",
      "metadata": {
        "id": "yH26sH0YIAX5"
      },
      "source": [
        "## Writing a Function\n",
        "\n",
        "When we use built-in or imported functions, we are **calling** a function that has already been written. In our earlier workshops, we learned that to call our own functions, we need to define our function first with a **function definition statement** followed by a [code block](https://constellate.org/docs/key-terms/#code-block):\n",
        "\n",
        "`def my_function():` <br />\n",
        "&nbsp; &nbsp; &nbsp; &nbsp;`do this task`\n",
        "    \n",
        "\n",
        "After the function is defined, we can **call** on it whenever we need by simply executing the function like so:\n",
        "\n",
        "`my_function()`\n",
        "\n",
        "Below is an example function definition:"
      ]
    },
    {
      "cell_type": "code",
      "execution_count": null,
      "metadata": {
        "id": "iaE39wetIAX6"
      },
      "outputs": [],
      "source": [
        "# Creating a simple function that prints lyrics\n",
        "# Note that this just defines the function; we haven't run the function yet\n",
        "# Note also that this is the obligatory Monty Python reference for our Python tutorial\n",
        "def print_lyrics():\n",
        "    print(\"I'm a lumberjack, and I'm okay.\")\n",
        "    print('I sleep all night and I work all day.')"
      ]
    },
    {
      "cell_type": "markdown",
      "metadata": {
        "id": "q0c6bopsIAX6"
      },
      "source": [
        "Recall that `def` is a Python keyword that indicates that this is a function definition. The name of the function is `print_lyrics`. The rules for function names are the same as for variable names: letters, numbers and some punctuation marks are legal, but the first character can't be a number. You can't use a keyword as the name of a function, and you should avoid having a variable and a function with the same name.\n",
        "\n",
        "In this example, the empty parentheses after the name indicate that this function doesn't take any arguments. Later we will build functions that take arguments as their inputs.\n",
        "\n",
        "The first line of the function definition is called the **header**; the rest is called the **body**. The header has to end with a colon and the body has to be indented. The body can contain any number of statements. So far we have only looked at functions with one or a couple of statements in the function body. We will take a look at how to write functions with multiple statements later in this workshop.\n",
        "\n",
        "In the code cell below, try running the function we just defined:"
      ]
    },
    {
      "cell_type": "code",
      "source": [
        "# Run our new `print_lyrics()` function\n"
      ],
      "metadata": {
        "id": "wqaK1hL6SGhO"
      },
      "execution_count": null,
      "outputs": []
    },
    {
      "cell_type": "markdown",
      "metadata": {
        "id": "UMb8Q9IdIAX7"
      },
      "source": [
        "Once you have defined a function, you can use it inside another function. For example, to repeat the previous refrain, we could write a function called `repeat_lyrics`:"
      ]
    },
    {
      "cell_type": "code",
      "execution_count": null,
      "metadata": {
        "id": "uuJiJ23kIAX7"
      },
      "outputs": [],
      "source": [
        "# Defining a function that uses our `print_lyrics()` function\n",
        "def repeat_lyrics():\n",
        "    print_lyrics()\n",
        "    print_lyrics()"
      ]
    },
    {
      "cell_type": "code",
      "execution_count": null,
      "metadata": {
        "id": "cjzE1TqfIAX7"
      },
      "outputs": [],
      "source": [
        "# Running the `repeat_lyrics` function\n",
        "repeat_lyrics()"
      ]
    },
    {
      "cell_type": "markdown",
      "metadata": {
        "id": "p8Go5sqiIAX8"
      },
      "source": [
        "## Parameters and arguments\n",
        "As we have already seen, some functions require arguments.\n",
        "\n",
        "When we write a function definition, we can define a **parameter** to work with the function. We use the word \"parameter\" to describe the variable in parentheses within a function definition:\n",
        "\n",
        "`def my_function(input_variable):` <br />\n",
        "&nbsp; &nbsp; &nbsp; &nbsp;`do this task`\n",
        "\n",
        "In the pseudo-code above, `input_variable` is a parameter because it is being used within the context of a function *definition*. When we run our function, the actual variable or value we pass to the function is called an **argument**.\n",
        "\n",
        "You might see people using the terms \"parameter\" and \"argument\" interchangeably, but there is a distinction. A **parameter** is the variable used within the function definition, and an **argument** is the value or variable that is sent to the function when it is actually run. \n",
        "\n",
        "Here is an example of a user-defined function that takes an argument:"
      ]
    },
    {
      "cell_type": "code",
      "execution_count": null,
      "metadata": {
        "id": "rY-hHlz5IAX8"
      },
      "outputs": [],
      "source": [
        " # In this function definition, the variable `p` is the *parameter*\n",
        "def phrase_length(p):  \n",
        "    print(\"Phrase:\",p)\n",
        "    print(\"Length:\",len(p))"
      ]
    },
    {
      "cell_type": "code",
      "execution_count": null,
      "metadata": {
        "id": "t6mu7TToIAX8"
      },
      "outputs": [],
      "source": [
        "#In this example, we pass the string \"I am a phrase\" to our new function as the *argument*\n",
        "phrase_length('I am a phrase')"
      ]
    },
    {
      "cell_type": "code",
      "execution_count": null,
      "metadata": {
        "id": "GRzhkuheIAX8"
      },
      "outputs": [],
      "source": [
        "#In this block, try running our new function on a few different strings\n",
        "# Uncomment the line and fill in a string phrase in place of the variable `p`\n",
        "\n",
        "#phrase_length(p)"
      ]
    },
    {
      "cell_type": "markdown",
      "metadata": {
        "id": "M2t-PF0bIAX9"
      },
      "source": [
        "This function assigns the argument to a parameter named `p`. The function will work with any value or variable that can be an argument for the `len()` function.\n",
        "\n",
        "For example, we could also first create a variable called `my_string` and then calculate its length with our new function. "
      ]
    },
    {
      "cell_type": "code",
      "execution_count": null,
      "metadata": {
        "id": "JR2rHJNHIAX9"
      },
      "outputs": [],
      "source": [
        "my_string = \"I am a string!\"\n",
        "phrase_length(my_string)"
      ]
    },
    {
      "cell_type": "markdown",
      "metadata": {
        "id": "BsB5p7zYIAX9"
      },
      "source": [
        "In the example above, we chose `p` for the name of the parameter and `phrase_length` for the name of the function, but that was a choice that we made. This code would do the same thing but the poor naming choices make it hard to understand what the code function does."
      ]
    },
    {
      "cell_type": "code",
      "execution_count": null,
      "metadata": {
        "id": "znSDsRcFIAX9"
      },
      "outputs": [],
      "source": [
        "def bicycle_awesomeness(bicycle):   # Remember that function and variable naming should be intuitive. Here the variable bicycle stands in for variable p\n",
        "    print(\"Phrase:\",bicycle)       # We are asking Python to print the word 'Phrase', colon sign, and then the parameter bicycle\n",
        "    print(\"Length:\",len(bicycle))  # We are asking Python to print the word 'Length', colon sign, and then the length of, or number of characters in, the input parameter\n",
        "bicycle_awesomeness('I am a phrase') # We specify the function argument is the string text 'I am a phrase' and run the function"
      ]
    },
    {
      "cell_type": "markdown",
      "metadata": {
        "id": "-srxrJzSIAX-"
      },
      "source": [
        "Just remember to use good judgment and think about how your future self, as well as others, will need to interact with your code when you are naming things."
      ]
    },
    {
      "cell_type": "markdown",
      "metadata": {
        "id": "jz5okdiKIAX-"
      },
      "source": [
        "### Local and Global Scope\n",
        "\n",
        "We have seen that functions make maintaining code easier by avoiding duplication. One of the most dangerous areas for duplication is variable names. As programming projects become larger, the possibility that a variable will be re-used goes up. This can cause weird errors in our programs that are hard to track down. We can alleviate the problem of duplicate variable names through the concepts of [local scope](https://constellate.org/docs/key-terms/#local-scope) and [global scope](https://constellate.org/docs/key-terms/#global-scope).\n",
        "\n",
        "We use the phrase \"local scope\" to describe what happens within a function. The local scope of a function may contain [local variables](https://constellate.org/docs/key-terms/#local-variable), but once that function has completed, the local variables and their contents are erased.\n",
        "\n",
        "On the other hand, we can also create [global variables](https://constellate.org/docs/key-terms/#global-variable) that persist at the top-level of the program *and* within the local scope of a function.\n",
        "\n",
        "**To reiterate:** global variables are those created outside of functions; they can be used both within functions and outside of them. Local variables exist only within the context of their functions. "
      ]
    },
    {
      "cell_type": "markdown",
      "metadata": {
        "id": "StruIqnSIAX-"
      },
      "source": [
        "In fact, you're already very familiar with global variables, because you've been using them throughout these lessons. \n",
        "\n",
        "That is, as you've already seen, when we initialize a variable within a code cell, we can use that variable in any code block within the notebook. For example, we defined the value of `my_string` several cells up, but we can still print it below. "
      ]
    },
    {
      "cell_type": "code",
      "execution_count": null,
      "metadata": {
        "id": "6_zbD-ioIAX-"
      },
      "outputs": [],
      "source": [
        "print(my_string)"
      ]
    },
    {
      "cell_type": "markdown",
      "metadata": {
        "id": "3CiC6ohZIAX_"
      },
      "source": [
        "However, the same is not true for the variables we use within our function definitions. For example, here is a little function that prints out how the user's day has been. "
      ]
    },
    {
      "cell_type": "code",
      "execution_count": null,
      "metadata": {
        "id": "HmCkdaEgIAX_"
      },
      "outputs": [],
      "source": [
        "def my_day():\n",
        "  day = \"fun\"\n",
        "  print(\"My day has been \" + day)\n",
        "\n",
        "my_day()"
      ]
    },
    {
      "cell_type": "markdown",
      "metadata": {
        "id": "oV0mZStaIAX_"
      },
      "source": [
        "But, what happens when we try to use `day` outside of the function?"
      ]
    },
    {
      "cell_type": "code",
      "execution_count": null,
      "metadata": {
        "id": "QLC09ZFuIAX_"
      },
      "outputs": [],
      "source": [
        "print(day)"
      ]
    },
    {
      "cell_type": "markdown",
      "metadata": {
        "id": "JxtX9XT9IAYA"
      },
      "source": [
        "It's possible to use the same variable name for both local and global scopes—this is why you need to be very careful when you are naming your variables! \n",
        "\n",
        "For example, we can create a global variable called `day` and assign it a value of \"busy\". "
      ]
    },
    {
      "cell_type": "code",
      "execution_count": null,
      "metadata": {
        "id": "UMo9GfgxIAYA"
      },
      "outputs": [],
      "source": [
        "day = \"busy\""
      ]
    },
    {
      "cell_type": "markdown",
      "metadata": {
        "id": "_Y65dHGhIAYA"
      },
      "source": [
        "Now that we've initialized this global variable, we can use it in our code. What do you think the outcome will be when you run the code block below? "
      ]
    },
    {
      "cell_type": "code",
      "execution_count": null,
      "metadata": {
        "id": "5fpFgg89IAYA"
      },
      "outputs": [],
      "source": [
        "print(\"My day has been\", day)"
      ]
    },
    {
      "cell_type": "markdown",
      "metadata": {
        "id": "TDlti4crIAYB"
      },
      "source": [
        "Creating this global variable, however, doesn't change the local variable within our function. \n",
        "\n",
        "What do you think the outcome will be when you run the code block below? Scroll up to the function definition to as a reminder of how `day` is defined within the `my_day()` function."
      ]
    },
    {
      "cell_type": "code",
      "execution_count": null,
      "metadata": {
        "id": "H4J0Gs8sIAYB"
      },
      "outputs": [],
      "source": [
        "my_day()"
      ]
    },
    {
      "cell_type": "markdown",
      "metadata": {
        "id": "fcN9o-ZdIAYB"
      },
      "source": [
        "This might seem a bit confusing: the important thing to take home here is that variables you create outside of functions will be **global** and will have the same values throughout your notebook. Variables created inside of functions are **local** and cannot be used outside of those functions. It is possible to make a local variable into a global one, but that is out of scope for this lesson. "
      ]
    },
    {
      "cell_type": "markdown",
      "metadata": {
        "id": "sz1Eg5WfIAYB"
      },
      "source": [
        "### Function Return Values\n",
        "\n",
        "Whether or not a function takes an argument, it will return a value. If we do not specify that return value in our function definition, it is automatically set to `None`, a special value that simply means null or nothing. `None` is **not** the same thing as, say, the integer `0`. \n",
        "\n",
        "We've already seen that some functions will return values that you can do things with, while others might perform some kind of an action but do not produce any result that you can use in other code. For example, the `print()` function just prints its argument. Let's see what happens if we try to initialize a variable as the output of the `print()` function:\n"
      ]
    },
    {
      "cell_type": "code",
      "source": [
        "# Initializing a variable by assigning its value to the output from the `print()` function\n",
        "a_variable = print(\"Some string\")"
      ],
      "metadata": {
        "id": "Fb5upOltDL8D"
      },
      "execution_count": null,
      "outputs": []
    },
    {
      "cell_type": "code",
      "source": [
        "# See what happens when we try to print the new variable\n",
        "print(a_variable) "
      ],
      "metadata": {
        "id": "O6hhqBEHDVac"
      },
      "execution_count": null,
      "outputs": []
    },
    {
      "cell_type": "markdown",
      "source": [
        "To return a result from a function, we use what's called a `return` statement in our function definition. \n",
        "\n",
        "For example, we could make a very simple function called `add_two` that adds two numbers together and returns a result: "
      ],
      "metadata": {
        "id": "lMLuTPBGDnSw"
      }
    },
    {
      "cell_type": "code",
      "execution_count": null,
      "metadata": {
        "id": "um2GTNgiIAYB"
      },
      "outputs": [],
      "source": [
        "# A function for adding two numbers\n",
        "def add_two(a, b):\n",
        "    added = a + b\n",
        "    return added "
      ]
    },
    {
      "cell_type": "code",
      "execution_count": null,
      "metadata": {
        "id": "ox4AdaL_IAYB"
      },
      "outputs": [],
      "source": [
        "# Using our new function\n",
        "add_two(2,7)"
      ]
    },
    {
      "cell_type": "markdown",
      "metadata": {
        "id": "cpAkDbJHIAYB"
      },
      "source": [
        "Note that this function as defined expects two arguments. What do you think will happen if we have only one argument? What about three arguments? Test this out in the code block below:"
      ]
    },
    {
      "cell_type": "code",
      "execution_count": null,
      "metadata": {
        "id": "Qp1QIVS_IAYB"
      },
      "outputs": [],
      "source": [
        "# Try using our add_two function with one or three arguments\n"
      ]
    },
    {
      "cell_type": "markdown",
      "source": [
        "Contrast the result from running `add_two()` with what we just saw with `print()`:"
      ],
      "metadata": {
        "id": "j79rD47VYNBE"
      }
    },
    {
      "cell_type": "code",
      "source": [
        "# Let's try initializing a variable by assigning its value to the output from the `add_two()` function\n",
        "added_variable = add_two(2,7)"
      ],
      "metadata": {
        "id": "G0--k7i-X4IZ"
      },
      "execution_count": null,
      "outputs": []
    },
    {
      "cell_type": "code",
      "source": [
        "# See what happens when we try to print the new variable \n",
        "print(added_variable)"
      ],
      "metadata": {
        "id": "lN0uTi6QYBUS"
      },
      "execution_count": null,
      "outputs": []
    },
    {
      "cell_type": "markdown",
      "metadata": {
        "id": "wm6pdv32GBl_"
      },
      "source": [
        "# Conditional execution\n",
        "When you're writing code, it's often useful to have different outcomes based on different inputs and contexts. This is actually true a lot of the time! For example, if you were trying to get to campus, you would proceed differently depending on your starting location, how much traffic there is, whether there are delays on any T lines, whether you have a Charlie card, if you have access to a bicycle, and so on. It's exactly the same with code: much of the time, you will want to say, \"if **this** thing is true, then run **this** code, but if **that** thing is true, then run **that** code.\"\n",
        "\n",
        "In the context of coding, we talk about **conditional execution**, which is code that only executes when certain conditions are met.\n"
      ]
    },
    {
      "cell_type": "markdown",
      "metadata": {
        "id": "M--7AY1IGBmA"
      },
      "source": [
        "### Boolean Values, Boolean Expressions, and Logical Operators\n",
        "\n",
        "We'll show you how to write such **conditional statements** in this lesson,  but first, let's start with a few concepts that will be useful in conditional execution: Boolean values, Boolean expressions, logical operators, and `in` statements."
      ]
    },
    {
      "cell_type": "markdown",
      "metadata": {
        "id": "KkY796j3GBmB"
      },
      "source": [
        "Let's start with Boolean values. **Boolean values** are one of Python's built-in data types, like the floats, integers, and strings we saw last time. They are used to represent the truth-value of expressions, essentially to say whether something is true or not.\n",
        "\n",
        "There are only two possible values for a Python Boolean: True or False. As we've already seen, Python is case-sensitive, so pay attention to the capitalization here!\n",
        "\n",
        "You can assign Boolean values to variables, as in the below:"
      ]
    },
    {
      "cell_type": "code",
      "execution_count": null,
      "metadata": {
        "id": "gQuXxtpxGBmB"
      },
      "outputs": [],
      "source": [
        "python_is_fun = True"
      ]
    },
    {
      "cell_type": "markdown",
      "metadata": {
        "id": "gM5IPTAdGBmC"
      },
      "source": [
        "With the code above, we've set the value of the `python_is_fun` variable to \"True.\" We can confirm this with the `print()` function:"
      ]
    },
    {
      "cell_type": "code",
      "execution_count": null,
      "metadata": {
        "id": "Vdv8A4KpGBmC"
      },
      "outputs": [],
      "source": [
        "print(python_is_fun)"
      ]
    },
    {
      "cell_type": "markdown",
      "metadata": {
        "id": "oRwAhtnxGBmD"
      },
      "source": [
        "As we've already learned, there are some words that are not allowed for variable names, and those include \"True\" and \"False.\" See what happens when you try to run the code below:"
      ]
    },
    {
      "cell_type": "code",
      "execution_count": null,
      "metadata": {
        "id": "vWmXixM9GBmE",
        "outputId": "9186cad3-2698-414c-860b-877f762c061e",
        "colab": {
          "base_uri": "https://localhost:8080/",
          "height": 130
        }
      },
      "outputs": [
        {
          "output_type": "error",
          "ename": "SyntaxError",
          "evalue": "ignored",
          "traceback": [
            "\u001b[0;36m  File \u001b[0;32m\"<ipython-input-1-d47dbadd308e>\"\u001b[0;36m, line \u001b[0;32m1\u001b[0m\n\u001b[0;31m    True = 'beauty'\u001b[0m\n\u001b[0m                   ^\u001b[0m\n\u001b[0;31mSyntaxError\u001b[0m\u001b[0;31m:\u001b[0m can't assign to keyword\n"
          ]
        }
      ],
      "source": [
        "True = 'beauty'\n"
      ]
    },
    {
      "cell_type": "markdown",
      "metadata": {
        "id": "wWq_dWS3GBmE"
      },
      "source": [
        "Now, let's take a look at **Boolean expressions**. A **boolean expression** is an expression that is either true or false. \n",
        "\n",
        "The following examples use the **operator** ```==```, which compares two **operands** (the things that operators act upon) and produces `True` if they are equal and `False` otherwise. \n",
        "\n",
        "Make sure not to confuse this with the assignment operator, which uses a single equal sign: ```=``` "
      ]
    },
    {
      "cell_type": "code",
      "execution_count": null,
      "metadata": {
        "id": "7hkmxiwhGBmF"
      },
      "outputs": [],
      "source": [
        "# Comparing two values with the equality comparison operator ==\n",
        "5.5==5.5"
      ]
    },
    {
      "cell_type": "markdown",
      "metadata": {
        "id": "fHqq7ll1GBmF"
      },
      "source": [
        "We've actually seen this operator already, when we used ```==``` in the first lesson to compare different data types: "
      ]
    },
    {
      "cell_type": "code",
      "execution_count": null,
      "metadata": {
        "id": "Eew1ie5_GBmF"
      },
      "outputs": [],
      "source": [
        "5.5==\"5.5\""
      ]
    },
    {
      "cell_type": "markdown",
      "metadata": {
        "id": "uI5skkktGBmG"
      },
      "source": [
        "Let's practice writing a few boolean expressions:"
      ]
    },
    {
      "cell_type": "code",
      "execution_count": null,
      "metadata": {
        "id": "4Mo-jvuoGBmG"
      },
      "outputs": [],
      "source": [
        "# Fill in code that will compare two different integers with the == operator\n",
        "\n"
      ]
    },
    {
      "cell_type": "code",
      "execution_count": null,
      "metadata": {
        "id": "MSWMI4jhGBmG"
      },
      "outputs": [],
      "source": [
        "# Now compare an integer and a float\n",
        "3 == 3.0"
      ]
    },
    {
      "cell_type": "markdown",
      "metadata": {
        "id": "4Oj2k8BsGBmH"
      },
      "source": [
        "There are some additional [comparison operators](https://constellate.org/docs/key-terms/#comparison-operator):\n",
        "\n",
        "|Operator|Meaning|\n",
        "|---|---|\n",
        "|==|Equal to|\n",
        "|!=|Not equal to|\n",
        "|<|Less than|\n",
        "|>|Greater than|\n",
        "|<=|Less than or equal to|\n",
        "|>=|Greater than or equal to|"
      ]
    },
    {
      "cell_type": "code",
      "execution_count": null,
      "metadata": {
        "id": "owP3h9umGBmH"
      },
      "outputs": [],
      "source": [
        "# Try using a few of these operators\n",
        "1 < 4"
      ]
    },
    {
      "cell_type": "markdown",
      "metadata": {
        "id": "_5DOOdKCGBmH"
      },
      "source": [
        "We can also use comparison operators with variables:"
      ]
    },
    {
      "cell_type": "code",
      "execution_count": null,
      "metadata": {
        "id": "wK8br46nGBmI"
      },
      "outputs": [],
      "source": [
        "# Create a variable number_of_dogs and assign it the value of zero\n",
        "\n",
        "\n",
        "# Check whether number_of_dogs is greater than or equal to 1\n"
      ]
    },
    {
      "cell_type": "markdown",
      "metadata": {
        "id": "XJrBoo7AGBmI"
      },
      "source": [
        "In Python, there are three **logical operators**: ```and```, ```or```, and ```not```. The semantics of these operators is similar to their meaning in English. For example,\n",
        "\n",
        "```x > 0 and x < 10```\n",
        "\n",
        "is true only if x is greater than 0 and less than 10.\n",
        "\n",
        "However\n",
        "\n",
        "```x > 0 or x < 10``` is true if ***either*** of the conditions is true. So, this would be true as long as x is greater than zero or less than 10. \n",
        "\n",
        "Finally, the ```not``` operator negates a boolean expression, so ```not (x > y)``` is true if x > y is false; that is, if x is less than or equal to y."
      ]
    },
    {
      "cell_type": "code",
      "execution_count": null,
      "metadata": {
        "id": "D_PHbyy6GBmI"
      },
      "outputs": [],
      "source": [
        "# What do you think the evaluation will be here?\n",
        "2==3 and 3>1"
      ]
    },
    {
      "cell_type": "code",
      "execution_count": null,
      "metadata": {
        "id": "v0JYyl85GBmI"
      },
      "outputs": [],
      "source": [
        "# What will the evaluation be here?\n",
        "2==3 or 3>1"
      ]
    },
    {
      "cell_type": "code",
      "execution_count": null,
      "metadata": {
        "id": "OWCz16ahGBmI"
      },
      "outputs": [],
      "source": [
        "# What about here? \n",
        "# What could you change the value of x to so that the evaluation is 'False'? \n",
        "x = 15\n",
        "x < 1 or x != 10"
      ]
    },
    {
      "cell_type": "markdown",
      "metadata": {
        "id": "nXmWdvGGGBmM"
      },
      "source": [
        "One more useful operator is `in`. The `in` operator is another operator that will return a boolean result of either `true` or `false`. It asks whether one string is in another. We will also use the `in` operator on other data types later on.  "
      ]
    },
    {
      "cell_type": "code",
      "execution_count": null,
      "metadata": {
        "id": "hCGFOg0pGBmN"
      },
      "outputs": [],
      "source": [
        "short_menu ={\n",
        " 'Breakfast Sandwich': 9.75,\n",
        " 'Croissant Breakfast Sandwich': 11.00,\n",
        " 'Biscuit Sandwich': 9.00}\n",
        " \n",
        "'Biscuit Sandwich' in short_menu"
      ]
    },
    {
      "cell_type": "code",
      "execution_count": null,
      "metadata": {
        "id": "8QOXh9nDGBmN"
      },
      "outputs": [],
      "source": [
        "# Try this out yourself. What happens if you ask for an item that's not on the short_menu?\n",
        "\n"
      ]
    },
    {
      "cell_type": "markdown",
      "metadata": {
        "id": "jAtD1KccGBmN"
      },
      "source": [
        "### Writing Conditional Statements\n",
        "\n",
        "In order to write useful programs, we often need the ability to check conditions and change the behavior of the program accordingly. Conditional statements give us this ability. The simplest form is the `if` statement:"
      ]
    },
    {
      "cell_type": "code",
      "execution_count": null,
      "metadata": {
        "id": "6ZMSNQbMGBmN"
      },
      "outputs": [],
      "source": [
        "# What do you think would happen if you changed x to a negative number? Give this a try!\n",
        "x = 3\n",
        "if x > 0 :\n",
        "    print('x is positive')"
      ]
    },
    {
      "cell_type": "markdown",
      "metadata": {
        "id": "a3xtSFUzGBmN"
      },
      "source": [
        "If the condition is true, then the indented statement gets executed. If the condition is false, the indented statement is skipped."
      ]
    },
    {
      "cell_type": "markdown",
      "metadata": {
        "id": "DGJpGj6sGBmO"
      },
      "source": [
        "### Structuring conditional statements\n",
        "\n",
        "Conditional statements consist of a **header** that ends with the colon character (```:```) followed by an indented block, called the **body**. \n",
        "\n",
        "There is no limit on the number of statements that can appear in the body, but there must be at least one. \n",
        "\n",
        "Code blocks can contain other blocks forming a hierarchical structure. In such a case, the second block is indented an additional degree. Any given block ends when the number of indentations in the current line is less than the number that started the block. \n",
        "\n",
        "Since the level of indentation describes which code block will be executed, improper indentations will make your code fail. When using indentations to create code blocks, look carefully to make sure you are working in the code block you intend. Each indentation for a code block is created by pressing the tab key. "
      ]
    },
    {
      "cell_type": "markdown",
      "metadata": {
        "id": "Kynl9i1PGBmO"
      },
      "source": [
        "## Types of Conditional Statements\n",
        "\n",
        "We will be focusing on `if` statements, but there are other kinds of conditional statements available in Python, and we will briefly introduce two others: `else` and `elif`.\n",
        "\n",
        "|Statement|Means|Condition for execution|\n",
        "|---|---|---|\n",
        "|`if`|if|if the condition is fulfilled|\n",
        "|`elif`|else if|if no previous conditions were met *and* this condition is met|\n",
        "|`else`|else|if no condition is met (no condition is supplied for an `else` statement)|\n",
        "\n",
        "Let's take a look at each of these."
      ]
    },
    {
      "cell_type": "markdown",
      "metadata": {
        "id": "IoIANn3JGBmO"
      },
      "source": [
        "### `if` Statements\n",
        "\n",
        "An `if` statement begins with an expression that evaluates to **True** or **False**.\n",
        "\n",
        "* if **True**, then perform this action\n",
        "* if **False**, skip over this action\n",
        "\n",
        "In practice, the form looks like this:\n",
        "\n",
        "`if this is True:` <br />\n",
        "&nbsp; &nbsp; &nbsp; &nbsp; `perform this action`\n",
        "\n",
        "Let's put an `if` statement into practice with a very simple function that checks if an item is in the `short_menu`."
      ]
    },
    {
      "cell_type": "code",
      "execution_count": null,
      "metadata": {
        "id": "aQvb7XJGGBmO"
      },
      "outputs": [],
      "source": [
        "# A program that checks if an item is in our short_menu dictionary\n",
        "short_menu ={\n",
        " 'Breakfast Sandwich': 9.75,\n",
        " 'Croissant Breakfast Sandwich': 11.00,\n",
        " 'Biscuit Sandwich': 9.00}\n",
        "\n",
        "if 'Breakfast Sandwich' in short_menu:  # If the statement 'Breakfast Sandwich  in  short_menu' evaluates to be True\n",
        "   print('The Breakfast Sandwich is available on the short_menu!') #Print this phrase"
      ]
    },
    {
      "cell_type": "markdown",
      "metadata": {
        "id": "qRylcf0wGBmP"
      },
      "source": [
        "### `else` Statements\n",
        "\n",
        "An `else` statement *does not require a condition* to evaluate to **True** or **False**. It simply executes when none of the previous conditions are met. The form looks like this:\n",
        "\n",
        "`else:` <br />\n",
        "&nbsp; &nbsp; &nbsp; &nbsp; `perform this action`\n"
      ]
    },
    {
      "cell_type": "code",
      "execution_count": null,
      "metadata": {
        "id": "tWANO8YUGBmP"
      },
      "outputs": [],
      "source": [
        "# A program that checks if the price of an item is greater than 10 and responds \n",
        "\n",
        "if short_menu['Breakfast Sandwich'] > 10 :  # If the Breakast Sandwich has a price greater than ten dollars\n",
        "   print('The price of the Breakfast Sandwich is more than ten dollars.') #Print this phrase\n",
        "else:    #If the prior condition is not met                                               \n",
        "    print('The price of the Breakfast Sandwich is less than or equal to ten dollars.')  #Print this phrase"
      ]
    },
    {
      "cell_type": "markdown",
      "metadata": {
        "id": "s6vHBOLTGBmP"
      },
      "source": [
        "Our new program is more robust because the `else` statement provides an output even if the conditions are not met."
      ]
    },
    {
      "cell_type": "markdown",
      "metadata": {
        "id": "wECykKPtGBmQ"
      },
      "source": [
        "### `elif` Statements\n",
        "\n",
        "An `elif` statement, short for \"else if,\" allows us to create a list of possible conditions where one (and only one) action will be executed. `elif` statements come after an initial `if` statement and before an `else` statement:\n",
        "\n",
        "`if condition A is True:` <br />\n",
        "&nbsp; &nbsp; &nbsp; &nbsp; `perform action A` <br />\n",
        "`elif condition B is True:` <br />\n",
        "&nbsp; &nbsp; &nbsp; &nbsp; `perform action B` <br />\n",
        "`elif condition C is True:` <br />\n",
        "&nbsp; &nbsp; &nbsp; &nbsp; `perform action C` <br />\n",
        "`elif condition D is True:` <br />\n",
        "&nbsp; &nbsp; &nbsp; &nbsp; `perform action D` <br />\n",
        "`else:` <br />\n",
        "&nbsp; &nbsp; &nbsp; &nbsp;`perform action E`\n",
        "\n",
        "There is no limit on the number of `elif` statements. If there is an `else` clause, it has to be at the end, but there doesn’t have to be one.\n"
      ]
    },
    {
      "cell_type": "code",
      "execution_count": null,
      "metadata": {
        "id": "n_9m4jxcGBmQ"
      },
      "outputs": [],
      "source": [
        "# Function to check if the price of a sandwich is either less than 5, greater than 10, or not and print a response\n",
        "if short_menu['Breakfast Sandwich'] < 5:  # If the Breakfast Sandwich costs less than five dollars\n",
        "   print('The Breakfast Sandwich costs less than five dollars!') #Print this phrase\n",
        "elif short_menu['Breakfast Sandwich'] > 10  #Else if the Breakfast Sandwich costs more than ten dollars\n",
        "  print('The Breakfast Sandwich costs more than ten dollars!') #Print this phrase\n",
        "else:   #If none of the above conditions are met\n",
        "    print('The Breakfast Sandwich costs between five and ten dollars') #Print this phrase\n"
      ]
    },
    {
      "cell_type": "markdown",
      "metadata": {
        "id": "cJMfIMgDGBmQ"
      },
      "source": [
        "#### The difference between`elif` and `if`\n",
        "\n",
        "As soon as an `elif` condition is met, all the other `elif` statements below are skipped over. This means that one (and only one) conditional statement is executed when using `elif` statements. The fact that only one `elif` statement is executed is important because it may be possible for multiple conditional statements to evaluate to **True**. A series of `elif` statements evaluates from top-to-bottom, only executing the first `elif` statement whose condition evaluates to **True**. The rest of the `elif` statements are skipped over (whether they are **True** or **False**).\n",
        "\n",
        "In practice, a set of mutually exclusive `if` statements will result in the same actions as an `if` statement followed by `elif` statements. There are a few good reasons, however, to use `elif` statements:\n",
        "\n",
        "1. A series of `elif` statements helps someone reading your code understand that a single choice is being made. \n",
        "2. Using `elif` statements will make your program run faster since other conditional statements are skipped after the first evaluates to **True**. Otherwise, every `if` statement has to be evaluated before the program moves to the next step.\n",
        "3. Writing a mutually exclusive set of `if` statements can be very complex.\n"
      ]
    },
    {
      "cell_type": "markdown",
      "metadata": {
        "id": "-8-sNYu3GBmQ"
      },
      "source": [
        "That's it for conditional execution! We'll be focusing on `if` statements for this class, but it's useful to know about `elif` and `else`. In our next session, we'll talk about some more complex data structures. "
      ]
    },
    {
      "cell_type": "markdown",
      "metadata": {
        "id": "fIGz6nnOGBmQ"
      },
      "source": [
        "# Practice Exercises"
      ]
    },
    {
      "cell_type": "markdown",
      "metadata": {
        "id": "uL6l0-3jGBmR"
      },
      "source": [
        "First, read back through this whole notebook and try out all of the quick exercises. Make sure that you understand what is happening with all of these—if you have questions, come to office hours, ask your TA, or bring them up in the next session. \n",
        "\n",
        "As you're learning code, it's important to try varying different things to see how your results change. The quick exercises will prompt you to test some variations, but you should also be experimenting on your own. Make a change, then think about how you anticipate it will impact your results, then see what happens. "
      ]
    },
    {
      "cell_type": "markdown",
      "metadata": {
        "id": "KByX5l8hGBmR"
      },
      "source": [
        "Here are a few exercises to give you some more practice with these concepts. There is a solution key at the end of this notebook, but please don't look ahead until you have completed the exercises."
      ]
    },
    {
      "cell_type": "markdown",
      "metadata": {
        "id": "AHkxjqxmGBmR"
      },
      "source": [
        "**Exercise one**"
      ]
    },
    {
      "cell_type": "markdown",
      "metadata": {
        "id": "wrSezVODGBmR"
      },
      "source": [
        "For each of the code blocks below, write your prediction of what the output will be when you run the code. Then, try running each code cell to see if your prediction is correct. \n",
        "\n",
        "Remember that you can edit a markdown cell by double clicking in it."
      ]
    },
    {
      "cell_type": "markdown",
      "metadata": {
        "id": "9PVARl6UGBmR"
      },
      "source": [
        "Example one: WRITE YOUR PREDICTION HERE"
      ]
    },
    {
      "cell_type": "code",
      "execution_count": null,
      "metadata": {
        "id": "gYRvmAHjGBmR"
      },
      "outputs": [],
      "source": [
        "2.0 == 4/2"
      ]
    },
    {
      "cell_type": "markdown",
      "metadata": {
        "id": "hROqyBZAGBmS"
      },
      "source": [
        "Example two: WRITE YOUR PREDICTION HERE"
      ]
    },
    {
      "cell_type": "code",
      "execution_count": null,
      "metadata": {
        "id": "ekxh1dN-GBmS"
      },
      "outputs": [],
      "source": [
        "3 == 27/9 and 4.0 == \"4.0\""
      ]
    },
    {
      "cell_type": "markdown",
      "metadata": {
        "id": "CDOPg_8QGBmS"
      },
      "source": [
        "Example three: WRITE YOUR PREDICTION HERE"
      ]
    },
    {
      "cell_type": "code",
      "execution_count": null,
      "metadata": {
        "id": "Rb2gcEa_GBmS"
      },
      "outputs": [],
      "source": [
        "3 == 27/9 or 4 == \"4\""
      ]
    },
    {
      "cell_type": "markdown",
      "metadata": {
        "id": "H4mgb5FyGBmS"
      },
      "source": [
        "**Exercise two**"
      ]
    },
    {
      "cell_type": "markdown",
      "metadata": {
        "id": "-U1lBYZBGBmS"
      },
      "source": [
        "Initialize two variables, one called `hours_worked` with a value of 20 and another called `pay_rate` with a value of 18.5. Then, create a third variable called `weekly_pay` whose value is the outcome when you multiply the first two variables. \n",
        "\n",
        "Or, to put this another way, multiply `hours_worked` and `weekly_pay`, and then assign the output of that expression to the variable `weekly_pay`. \n",
        "\n",
        "Then, print `weekly_pay`."
      ]
    },
    {
      "cell_type": "code",
      "execution_count": null,
      "metadata": {
        "id": "SETeKyJBGBmT"
      },
      "outputs": [],
      "source": [
        "# Fill in your code here\n"
      ]
    },
    {
      "cell_type": "markdown",
      "metadata": {
        "id": "J29hUd7uGBmT"
      },
      "source": [
        "Now, modify your code to include conditional statements that account for overtime that pays \"time and a half\" for hours worked in excess of 40 per week:\n",
        "* If the `hours_worked` variable is less than or equal to 40, the `weekly_pay` variable should remain the `hours_worked` multiplied by the `pay_rate`.\n",
        "* If `hours_worked` is more than 40, then calculate an `overtime_pay` variable that multiplies the amount of hours in excess of 40 by `pay_rate` by 1.5 and then adds this amount to the `weekly_pay` multiplied by 40. \n",
        "\n",
        "Test your code with hours worked that are both above and below 40 (remember that you can overwrite a variable with a new value by rerunning its assignment statement). You can assume in your code that `hours_worked` and `pay_rate` will always be numeric variables."
      ]
    },
    {
      "cell_type": "code",
      "execution_count": null,
      "metadata": {
        "id": "UBQygdVKGBmT"
      },
      "outputs": [],
      "source": [
        "# Fill in your code here\n"
      ]
    },
    {
      "cell_type": "markdown",
      "metadata": {
        "id": "waT21m12GBmT"
      },
      "source": [
        "**Exercise three**\n",
        "\n",
        "Using your knowledge of `if` and `else` conditional statements, write a generalized function that will calculate the weekly pay with overtime for any specified number of hours_worked."
      ]
    },
    {
      "cell_type": "code",
      "execution_count": null,
      "metadata": {
        "id": "nZem2FSOGBmT"
      },
      "outputs": [],
      "source": [
        "# We'll provide you with the first step\n",
        "def calculate_weekly_pay (hours_worked):\n",
        "  # Now, use if and else statements to write the body of the function to calculate weekly_pay if hours_worked is less than or equal to 40, or if hours_worked is greater than 40\n",
        "\n",
        "\n",
        "\n",
        "#Run the generalized function with a specific input for hours_worked \n",
        "\n"
      ]
    },
    {
      "cell_type": "markdown",
      "metadata": {
        "id": "cyFhbRO2GBmT"
      },
      "source": [
        "# Solutions\n",
        "\n",
        "Here are some solutions for the exercises in this notebook. There are many different ways to approach coding, so you might have done something different. As long as the program runs correctly and you understand the concepts at stake, you're on the right track. You can make your code more efficient as you keep learning."
      ]
    },
    {
      "cell_type": "markdown",
      "metadata": {
        "id": "tGU2QElBGBmU"
      },
      "source": [
        "**Exercise One**: Run the code above to see if your predictions were correct. "
      ]
    },
    {
      "cell_type": "code",
      "execution_count": null,
      "metadata": {
        "id": "6ktSPcmoGBmU"
      },
      "outputs": [],
      "source": [
        "# Exercise Two, Part one \n",
        "hours_worked = 20\n",
        "pay_rate= 18\n",
        "weekly_pay = hours_worked * pay_rate\n",
        "print(weekly_pay)"
      ]
    },
    {
      "cell_type": "code",
      "source": [
        "# Exercise Two, Part two \n",
        "hours_worked = 41\n",
        "pay_rate = 18\n",
        "if hours_worked <= 40:\n",
        "    weekly_pay = hours_worked * pay_rate\n",
        "else:\n",
        "    overtime_pay = (hours_worked-40) * pay_rate * 1.5\n",
        "    regular_pay = 40 * pay_rate\n",
        "    weekly_pay = regular_pay + overtime_pay\n",
        "print(weekly_pay)"
      ],
      "metadata": {
        "id": "k9pFigDJdRSL"
      },
      "execution_count": null,
      "outputs": []
    },
    {
      "cell_type": "code",
      "execution_count": null,
      "metadata": {
        "id": "Q4QqE80xGBmU"
      },
      "outputs": [],
      "source": [
        "# Exercise Three\n",
        "def calculate_weekly_pay (hours_worked):\n",
        "  if hours_worked <= 40:\n",
        "    weekly_pay = hours_worked * pay_rate\n",
        "  else:\n",
        "    overtime_pay = (hours_worked-40) * pay_rate * 1.5\n",
        "    regular_pay = 40 * pay_rate\n",
        "    weekly_pay = regular_pay + overtime_pay\n",
        "  print(weekly_pay)\n",
        "\n",
        "calculate_weekly_pay(50)"
      ]
    }
  ],
  "metadata": {
    "kernelspec": {
      "display_name": "Python 3",
      "language": "python",
      "name": "python3"
    },
    "language_info": {
      "codemirror_mode": {
        "name": "ipython",
        "version": 3
      },
      "file_extension": ".py",
      "mimetype": "text/x-python",
      "name": "python",
      "nbconvert_exporter": "python",
      "pygments_lexer": "ipython3",
      "version": "3.8.8"
    },
    "toc": {
      "base_numbering": 1,
      "nav_menu": {},
      "number_sections": true,
      "sideBar": true,
      "skip_h1_title": true,
      "title_cell": "Table of Contents",
      "title_sidebar": "Contents",
      "toc_cell": false,
      "toc_position": {},
      "toc_section_display": true,
      "toc_window_display": false
    },
    "colab": {
      "provenance": []
    }
  },
  "nbformat": 4,
  "nbformat_minor": 0
}