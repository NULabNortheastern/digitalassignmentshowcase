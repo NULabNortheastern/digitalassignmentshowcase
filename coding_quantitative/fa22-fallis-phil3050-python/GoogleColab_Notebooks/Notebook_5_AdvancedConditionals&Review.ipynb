{
  "cells": [
    {
      "cell_type": "markdown",
      "metadata": {
        "id": "LK7RFCPYGBl7"
      },
      "source": [
        "<img align=\"left\" src=\"https://ithaka-labs.s3.amazonaws.com/static-files/images/tdm/tdmdocs/CC_BY.png\"><br />\n",
        "\n",
        "Adapted by Sarah Connell from a notebook created by [Nathan Kelber](http://nkelber.com) and Ted Lawless for [JSTOR Labs](https://labs.jstor.org/) under [Creative Commons CC BY License](https://creativecommons.org/licenses/by/4.0/). See [here](https://ithaka.github.io/tdm-notebooks/book/all-notebooks.html) for the original version. Some contents were adapted from teaching notebooks created by Laura Nelson, University of British Columbia, and from [Python for Everybody](https://www.py4e.com/). Warm thanks to Kate Kryder, Data Analysis & Visualization Specialist at Northeastern University, for helping to develop these notebooks.<br />\n",
        "___"
      ]
    },
    {
      "cell_type": "markdown",
      "source": [
        "So far we have learned fundamentals of Python, including how to assign data to variables and data containers; to use, import, and write functions; to retrieve and modify values in data containers; to iterate a task using for loops; and how to use conditional statements. Today we will be getting into advanced functions, how to combine iterations with conditional statements, and wrapping up our series of workshops on Python!\n"
      ],
      "metadata": {
        "id": "5huyFmS7sHVL"
      }
    },
    {
      "cell_type": "markdown",
      "metadata": {
        "id": "7UBYlvWx4oX9"
      },
      "source": [
        "## Combining loops and conditionals\n",
        "\n",
        "Recall that a `for` loop is a series of instructions, or a program of coded tasks, that you want to perform on multiple elements. It's a way to do the same thing over and over, with different inputs. \n",
        "\n",
        "In our last workshop we learned that conditional statements give us the ability to check conditions and change the behavior of the program accordingly.\n",
        "\n",
        "We might want to do different things to each element in a set depending on the value of that element. We can do so by combining `for` loops with conditional statements.\n",
        "\n",
        "For example, say we want to print whether each element in a list is a negative number or a positive number. Notice the structure of the following program, and the indentation."
      ]
    },
    {
      "cell_type": "code",
      "execution_count": null,
      "metadata": {
        "id": "hLLuhDdp4oX-"
      },
      "outputs": [],
      "source": [
        "# A program for printing whether a number is positive or negative\n",
        "num_list = [9, 500, 20, -10, -.5]\n",
        "for e in num_list:\n",
        "    if e > 0:\n",
        "        print (e, \"is a positive number.\")\n",
        "    elif e <0:\n",
        "        print (e, \"is a negative number.\")"
      ]
    },
    {
      "cell_type": "markdown",
      "metadata": {
        "id": "M_txZsPB4oX-"
      },
      "source": [
        "To find the largest value in sequence, we can construct the following loop. Run this to see what it does and then look below for an explanation."
      ]
    },
    {
      "cell_type": "code",
      "execution_count": null,
      "metadata": {
        "id": "-XHG10f14oX-"
      },
      "outputs": [],
      "source": [
        "# A program for finding the largest number in a list\n",
        "sample_list = [3, 41, 12, 42, 9, 74, 15, 6]\n",
        "largest = None\n",
        "for iter_var in sample_list:\n",
        "    if largest is None or iter_var > largest :\n",
        "        largest = iter_var\n",
        "    print('Testing:', iter_var)\n",
        "    print('The largest so far is', largest)\n",
        "print('The largest number in this list is:', largest)"
      ]
    },
    {
      "cell_type": "markdown",
      "metadata": {
        "id": "tELnU3pf4oX-"
      },
      "source": [
        "The variable `largest` is best thought of as the “largest value we have seen so far”. Before the loop, we set `largest` to the constant `None`. `None` is a special constant value which we can store in a variable to mark the variable as “empty”.\n",
        "\n",
        "Before the loop starts, the largest value we have seen so far is `None` since we have not yet seen any values. While the loop is executing, if `largest` is `None` then we take the first value we see as the largest so far. \n",
        "\n",
        "In the first iteration, when the value of `iter_var` is 3, since `largest` is `None`, we immediately set `largest` to be 3.\n",
        "\n",
        "After the first iteration, `largest` is no longer `None`, so the second part of the compound logical expression that checks `iter_var > largest` triggers only when we see a value that is larger than the “largest so far”. When we see a new “even larger” value we take that new value for `largest`. You can see in the program output that `largest` progresses from 3 to 41 to 42 to 74.\n",
        "\n"
      ]
    },
    {
      "cell_type": "markdown",
      "metadata": {
        "id": "_p8YNEJkIAYC"
      },
      "source": [
        "## Using functions with dictionaries and control statements"
      ]
    },
    {
      "cell_type": "markdown",
      "metadata": {
        "id": "l2fQqsF1IAYC"
      },
      "source": [
        "**Notes**: Make sure you run all the cells in this section in order! The function definitions change throughout this part of the notebook, so you will get an error if there is a mismatch between the version of a function you're using and the sample code for running that function. If you want to go back and try things out again, just make sure that you're paying attention to which version of the functions you're using.\n",
        "\n",
        "You might find it helpful to look back through the tutorials on dictionaries, conditional statements, and `for` loops before reading through this section. \n",
        "\n",
        "Much of what we've learned about conditionals, `for` loops, tuples, and dictionaries can help us to write complex functions and programs that can iterate and execute tasks based on different inputs. \n"
      ]
    },
    {
      "cell_type": "markdown",
      "metadata": {
        "id": "NFmNF-fuIAYC"
      },
      "source": [
        "Let's take a look at how to write functions that use `for` loops to iterate over a set of items and perform repeated tasks. We will see that combining `for` loops and conditional statements can be especially useful when working with large datasets, or datasets with a wide range of values.\n",
        "\n",
        "For example, this function will iterate through our dictionary of snowfall totals in Massachusetts and print out each of the keys along with one of two different strings, depending on the values associated with each key.  "
      ]
    },
    {
      "cell_type": "code",
      "execution_count": null,
      "metadata": {
        "id": "Nb1zpLTZIAYC"
      },
      "outputs": [],
      "source": [
        "# Initializing our dictionary of snowfall totals for Massachusetts\n",
        "snowfall_mass_jan = {\"Boston\": 24.5,\n",
        "\"Brookline\": 15,\n",
        "\"Cambridge\": 14,\n",
        "\"Framingham\": 12.2,\n",
        "\"Malden\": 20,\n",
        "\"Wakefield\": 21.2,\n",
        "\"Norwood\": 19.5}\n",
        "\n",
        "# Defining a function for printing whether towns got a lot of snow or not\n",
        "def weather_report():\n",
        "    for town in snowfall_mass_jan:\n",
        "        if snowfall_mass_jan[town] >= 15:\n",
        "            print(town, \"got a lot of snow in January!\")\n",
        "        elif snowfall_mass_jan[town] < 15:\n",
        "            print (town, \"didn't get as much snow this time\")"
      ]
    },
    {
      "cell_type": "code",
      "execution_count": null,
      "metadata": {
        "id": "vFMGwFaxIAYD"
      },
      "outputs": [],
      "source": [
        "# Based on what you know about for loops, dictionaries, and if statements, what do you think the output of this function will be?\n",
        "# Run the function here to confirm your guess\n",
        "weather_report()"
      ]
    },
    {
      "cell_type": "markdown",
      "metadata": {
        "id": "cnRAio_3IAYD"
      },
      "source": [
        "This example shows how `for` loops can be used in our functions, but it's not very useful yet. As written, it will only operate on a specific dictionary. To make the function more flexible, we can rewrite it so that the dictionary at stake needs to be supplied as an argument.\n",
        "\n",
        "This example also uses more generalized variable names to help you get a sense of how the dictionary's structure is being used in the function."
      ]
    },
    {
      "cell_type": "code",
      "execution_count": null,
      "metadata": {
        "id": "I0WtJA6uIAYD"
      },
      "outputs": [],
      "source": [
        "def weather_report(dictionary):\n",
        "    for key in dictionary:\n",
        "        if dictionary[key] >= 15:\n",
        "            print(key, \"got a lot of snow in January!\")\n",
        "        elif dictionary[key] < 15:\n",
        "            print (key, \"didn't get as much snow this time\") "
      ]
    },
    {
      "cell_type": "code",
      "execution_count": null,
      "metadata": {
        "id": "NkptqEFZIAYD"
      },
      "outputs": [],
      "source": [
        "# Now, we supply the dictionary as an argument of our function\n",
        "weather_report(snowfall_mass_jan)"
      ]
    },
    {
      "cell_type": "markdown",
      "metadata": {
        "id": "g_WRATQhIAYD"
      },
      "source": [
        "Our new and improved function will work on any dictionary. For example, here are some snowfall totals from New Hampshire:"
      ]
    },
    {
      "cell_type": "code",
      "execution_count": null,
      "metadata": {
        "id": "E6xJ6AVBIAYD"
      },
      "outputs": [],
      "source": [
        "snowfall_nh_jan = {\"Dover\": 9,\n",
        "\"Epping\": 10,\n",
        "\"Exeter\": 12,\n",
        "\"Hampton\": 16,\n",
        "\"Rochester\": 10,\n",
        "\"Rye\": 13.5,\n",
        "\"Tamworth\": 3}"
      ]
    },
    {
      "cell_type": "code",
      "execution_count": null,
      "metadata": {
        "id": "cBIIuQpjIAYD"
      },
      "outputs": [],
      "source": [
        "# In this code block, run the `weather_report()` function on the new dictionary\n"
      ]
    },
    {
      "cell_type": "markdown",
      "metadata": {
        "id": "AgI3IQsNIAYE"
      },
      "source": [
        "We have seen that we can also use functions to retrieve or modify information from dictionaries. Let's look at how we can write a generalized function that can retrieve a value associated with a key in any specified dictionary. This would be useful if you have two or more datasets stored in dictionaries and want to use the same function to look up values across different stored datasets.\n",
        "\n",
        "For example, the function defined below will retrieve the value associated with a key from a dictionary. This function is written to require two arguments: the dictionary and a key from that dictionary. "
      ]
    },
    {
      "cell_type": "code",
      "execution_count": null,
      "metadata": {
        "id": "tkA71AebIAYE"
      },
      "outputs": [],
      "source": [
        "# Here we define our function for looking up values based on a specified dictionary and key\n",
        "def snowfall_lookup(dictionary,key):\n",
        "    if key in dictionary: #Checks to see if the key is within the dictionary we want to access.\n",
        "        snowfall = dictionary[key]\n",
        "    return snowfall"
      ]
    },
    {
      "cell_type": "code",
      "execution_count": null,
      "metadata": {
        "id": "PlOQs9t4IAYE"
      },
      "outputs": [],
      "source": [
        "# Now, we can use our function by supplying any dictionary and key\n",
        "snowfall_lookup(snowfall_nh_jan,\"Hampton\") \n",
        "#If we chose \"Boston\" as the key instead of \"Hampton, the function would not return an output because Boston is not a key in the snowfall_nh_jan dictionary."
      ]
    },
    {
      "cell_type": "code",
      "execution_count": null,
      "metadata": {
        "id": "IdwS3CEpIAYE"
      },
      "outputs": [],
      "source": [
        "# Run the snowfall_lookup function on a key from the Massachusetts dictionary\n"
      ]
    },
    {
      "cell_type": "markdown",
      "metadata": {
        "id": "AAJYCzM2IAYE"
      },
      "source": [
        "Remember that we can use other functions within our function definitions, as we did with the `repeat_lyrics()` function in the previous notebook. \n",
        "\n",
        "In this last example, we're defining a function called `get_totals()`, which takes a dictionary as its argument. We first set the local variable `total` to `0` and then iterate through the dictionary with a `for` loop.\n",
        "\n",
        "On each iteration, we overwrite `total` by adding its current value to the result from running the `snowfall_lookup()` function on each key in our dictionary. Because `snowfall_lookup()` retrieves the value for each key, the end result is that `total`'s value is the sum of all the values for all the keys in the dictionary. "
      ]
    },
    {
      "cell_type": "code",
      "execution_count": null,
      "metadata": {
        "id": "W_fgswWrIAYE"
      },
      "outputs": [],
      "source": [
        "# Using a function within a function\n",
        "def get_totals(dictionary):\n",
        "    total = 0 # We start by setting the total variable to 0\n",
        "    for key in dictionary:\n",
        "        total = total + snowfall_lookup(dictionary, key) #This could also be written: total += snowfall_lookup(dictionary, key)\n",
        "    return total\n",
        "\n",
        "# Run our new function on the snowfall_mass_jan dictionary\n",
        "get_totals(snowfall_mass_jan)"
      ]
    },
    {
      "cell_type": "markdown",
      "metadata": {
        "id": "F3UgwWT6IAYF"
      },
      "source": [
        "## Next steps\n",
        "\n",
        "That's it! In these lessons, you've learned the basics of Python, such as variables, functions, and expressions. We've covered how to write loops that iterate through repeated actions and how to construct conditional statements that produce different outcomes based on different inputs. We've also learned how to write our own functions and worked with data structures like dictionaries and tuples. \n",
        "\n",
        "This is a lot, but it's also just the very beginning of what is possible with Python. You'll continue learning more code in this class, and there are many resources for learning Python aimed at humanities students. For example, [Python for Everybody](https://www.py4e.com/) and the [tutorials](https://programminghistorian.org/en/lessons/?topic=python) developed by the Programming Historian project are great places to start. W3Schools also has some [tutorials](https://www.w3schools.com/python/default.asp) on Python that provide clear outlines of core concepts, with examples you can work through. \n",
        "\n",
        "If you would like to work with Python on your own computer, there are several options. Probably the easiest is to download [Anaconda Navigator](https://docs.anaconda.com/anaconda/navigator/index.html). With Anaconda, you can access several platforms for editing code—these include not just a Jupyter Notebooks environment that is similar to what we've been doing with Google Colab but also [Spyder](https://www.spyder-ide.org/), which allows you to edit Python (.py) files directly.\n",
        "\n",
        "Before you're done with this lesson, though, there are a few exercises. As always, we encourage you to read through the full lesson again and try running the suggested code activities and modifying the code samples. \n",
        "\n",
        "You should take a minute to congratulate yourself on how much you have learned about Python in the last few weeks! Learning Python and how to code is difficult, and you have successfully learned and applied many new concepts!"
      ]
    },
    {
      "cell_type": "markdown",
      "metadata": {
        "id": "pChbnXuWIAYF"
      },
      "source": [
        "# Practice Exercises"
      ]
    },
    {
      "cell_type": "markdown",
      "metadata": {
        "id": "07PRXdjWIAYF"
      },
      "source": [
        "**Exercise One**"
      ]
    },
    {
      "cell_type": "markdown",
      "metadata": {
        "id": "xRFiOAWbIAYF"
      },
      "source": [
        "Write a simple function that multiplies two numbers and returns the result."
      ]
    },
    {
      "cell_type": "code",
      "source": [
        "# Fill in your code here\n"
      ],
      "metadata": {
        "id": "SBTPzklwyyUq"
      },
      "execution_count": null,
      "outputs": []
    },
    {
      "cell_type": "markdown",
      "metadata": {
        "id": "TzGq3vglIAYF"
      },
      "source": [
        "**Exercise Two**"
      ]
    },
    {
      "cell_type": "markdown",
      "metadata": {
        "id": "4kpHVvESIAYF"
      },
      "source": [
        "Write a function that compares two numbers and then returns whichever is larger, along with the string \"is larger.\" For example, the result if the function were run on 3 and 23.8 would be: \"23.8 is larger.\" Don't worry about handling equal values just yet.\n",
        "\n"
      ]
    },
    {
      "cell_type": "code",
      "execution_count": null,
      "metadata": {
        "id": "CuuKMx-sIAYF"
      },
      "outputs": [],
      "source": [
        "# Fill in your code here to write a function that compares two numbers\n"
      ]
    },
    {
      "cell_type": "code",
      "execution_count": null,
      "metadata": {
        "id": "Ke9nWqy4IAYF"
      },
      "outputs": [],
      "source": [
        "# Now, test your new function on several pairs of numbers\n"
      ]
    },
    {
      "cell_type": "markdown",
      "metadata": {
        "id": "VJgSIerqIAYG"
      },
      "source": [
        "Can you modify your function so that it can handle numbers that are equal? For example, the result if the function were run on 3 and 3.0 would be \"3 and 3.0 are equal.\" "
      ]
    },
    {
      "cell_type": "code",
      "execution_count": null,
      "metadata": {
        "id": "fhlEMBAIIAYG"
      },
      "outputs": [],
      "source": [
        "# Modify your function to handle equal values\n"
      ]
    },
    {
      "cell_type": "markdown",
      "metadata": {
        "id": "1S28xMMjIAYG"
      },
      "source": [
        "**Exercise Three**"
      ]
    },
    {
      "cell_type": "markdown",
      "metadata": {
        "id": "dr2cKAYCIAYG"
      },
      "source": [
        "Write a function for printing out the count of key/value pairs in a dictionary (yes, you could use `len()` for this, but we want you to practice writing `for` loops that can iterate over dictionaries). Test your new function on both the Massachusetts and New Hampshire snowfall dictionaries (`snowfall_nh_jan` and `snowfall_mass_jan`); remember that if you are starting a new session, you will need to re-initialize the dictionaries. "
      ]
    },
    {
      "cell_type": "code",
      "source": [
        "# Fill in your code here\n"
      ],
      "metadata": {
        "id": "_5qKRdzKy05q"
      },
      "execution_count": null,
      "outputs": []
    },
    {
      "cell_type": "markdown",
      "source": [
        "**Exercise Four**"
      ],
      "metadata": {
        "id": "_p_-6b9G0jtr"
      }
    },
    {
      "cell_type": "markdown",
      "source": [
        "The code below asks for you to fill in some components for a function that will print out the high and low temperatures for a set of towns. Follow the instructions to fill in the missing code. \n",
        "\n",
        "Note that this example uses the trick of adding longer comments by entering them as multiline strings, with triple quotation marks. "
      ],
      "metadata": {
        "id": "OSnqJllD0mRj"
      }
    },
    {
      "cell_type": "code",
      "source": [
        "\n",
        "\"\"\" \n",
        "First, add at least one key/value pair to the dictionary below. You can pick any town \n",
        "that you like, and either look up or make up the high and low temperatures. \n",
        "Just make sure to follow the format in the starter code, with a tuple containing\n",
        "two strings for the key, and an integer for the value. \n",
        "\"\"\"\n",
        "# Add at least one key/value pair to this dictionary\n",
        "town_weather = {(\"Boston\",\"high\"): 52,\n",
        "                (\"Boston\",\"low\"): 34,\n",
        "                (\"Concord\",\"high\"): 52,\n",
        "                (\"Concord\",\"low\"): 25}\n",
        "\n",
        "\"\"\"\n",
        "The function defined below will simply return the first item in a tuple; we'll\n",
        "use this later in a `for` loop to grab all of the towns from the tuples in\n",
        "our town_weather dictionary. \n",
        "\"\"\"\n",
        "\n",
        "def getTown(myTuple):\n",
        "  return myTuple[0] \n",
        "\n",
        "\"\"\"\n",
        "Taking the above as inspiration, define a function called getHighOrLow. This \n",
        "function should return the second item in any tuple that is passed to it as an \n",
        "argument (in the tuples above, that would be the strings \"high\" and \"low\").\n",
        "\n",
        "This isn't a trick question! The code itself is fairly simple—we just want you \n",
        "to get used to writing smaller functions and code snippets that are part of a \n",
        "larger program. \n",
        "\n",
        "Make sure to name your function exactly as instructed, or the code that \n",
        "depends on it will fail. \n",
        "\n",
        "\"\"\"\n",
        "#Fill in your code here\n",
        "\n",
        "\n",
        "\"\"\"Now, we'll pull this all together! This code below will use the two functions\n",
        "we defined above to first define and then run a function called `reportWeather()`.\n",
        "This function will print the name of each town, with its high and low predictions.\n",
        "\n",
        "You don't need to add anything here, but read through the code and make sure you\n",
        "understand what is happening. \n",
        "\"\"\"\n",
        "def reportWeather(weatherDict):\n",
        "  for townTuple in weatherDict:\n",
        "    townName = getTown(townTuple)\n",
        "    highOrLow = getHighOrLow(townTuple)\n",
        "    temp = weatherDict[townTuple]\n",
        "    print(townName, \"will have a\", highOrLow, \"of\", temp)\n",
        "\n",
        "reportWeather(town_weather)"
      ],
      "metadata": {
        "id": "zayhglG7zmNY"
      },
      "execution_count": null,
      "outputs": []
    },
    {
      "cell_type": "markdown",
      "metadata": {
        "id": "CPgkEr24IAYG"
      },
      "source": [
        "# Solutions\n",
        "These are some sample solutions, but (as we've already noted) you might have taken a different approach. "
      ]
    },
    {
      "cell_type": "code",
      "execution_count": null,
      "metadata": {
        "id": "1yFsEsvRIAYG"
      },
      "outputs": [],
      "source": [
        "# Exercise One\n",
        "def multiply_two(a, b):\n",
        "    multiplied = a * b\n",
        "    return multiplied\n",
        "    \n",
        "# Testing the function\n",
        "multiply_two(7,9)"
      ]
    },
    {
      "cell_type": "code",
      "execution_count": null,
      "metadata": {
        "id": "Zuy8lRjTIAYG"
      },
      "outputs": [],
      "source": [
        "# Exercise Two, Part One\n",
        "# A function to compare two different numbers\n",
        "def compare_two(num1,num2):\n",
        "    if num1 > num2:\n",
        "        return str(num1) + ' is larger.'\n",
        "    elif num2 > num1:\n",
        "        return str(num2) + ' is larger.'\n",
        "    \n",
        "# Testing the new function\n",
        "compare_two(3,23.8)"
      ]
    },
    {
      "cell_type": "code",
      "execution_count": null,
      "metadata": {
        "id": "LHMA_ABcIAYG"
      },
      "outputs": [],
      "source": [
        "# Exercise Two, Part Two\n",
        "# A function to compare two numbers that may be different or equal\n",
        "def compare_two(num1,num2):\n",
        "    if num1 > num2:\n",
        "        return str(num1) + ' is larger.'\n",
        "    elif num2 > num1:\n",
        "        return str(num2) + ' is larger.'\n",
        "    elif num2 == num1: \n",
        "        return str(num1) + ' and ' + str(num2) + ' are equal.'\n",
        "\n",
        "# Testing the new function    \n",
        "compare_two(3,3.0)"
      ]
    },
    {
      "cell_type": "code",
      "execution_count": null,
      "metadata": {
        "id": "UEctDBwOIAYH"
      },
      "outputs": [],
      "source": [
        "# Exercise Three\n",
        "# A function to count the number of key/value pairs in a dictionary\n",
        "def dictionary_counter(dictionary):\n",
        "    count = 0\n",
        "    for key in dictionary:\n",
        "        count = count + 1 # This could also be written count +=1\n",
        "    return count\n",
        "\n",
        "# Testing the new function\n",
        "dictionary_counter(snowfall_nh_jan)"
      ]
    },
    {
      "cell_type": "code",
      "source": [
        "# Exercise Four\n",
        "# Initializes the town_weather dictionary\n",
        "town_weather = {(\"Boston\",\"high\"): 52,\n",
        "                (\"Boston\",\"low\"): 34,\n",
        "                (\"Concord\",\"high\"): 52,\n",
        "                (\"Concord\",\"low\"): 25}\n",
        "\n",
        "# Defines a function for getting towns from the tuples in our dictionary\n",
        "def getTown(myTuple):\n",
        "  return myTuple[0]\n",
        "\n",
        "# Defines a function for getting \"high\" or \"low\" from the tuples in our dictionary\n",
        "def getHighOrLow(myTuple):\n",
        "  return myTuple[1]\n",
        "\n",
        "# Defines a function for printing the weather predictions for the towns in the dictionary\n",
        "def reportWeather(weatherDict):\n",
        "  for townTuple in weatherDict:\n",
        "    townName = getTown(townTuple)\n",
        "    highOrLow = getHighOrLow(townTuple)\n",
        "    temp = weatherDict[townTuple]\n",
        "    print(townName, \"will have a\", highOrLow, \"of\", temp)\n",
        "\n",
        "# Runs the reportWeather function\n",
        "reportWeather(town_weather)"
      ],
      "metadata": {
        "id": "zIzmbEvP3_Gm"
      },
      "execution_count": null,
      "outputs": []
    }
  ],
  "metadata": {
    "kernelspec": {
      "display_name": "Python 3",
      "language": "python",
      "name": "python3"
    },
    "language_info": {
      "codemirror_mode": {
        "name": "ipython",
        "version": 3
      },
      "file_extension": ".py",
      "mimetype": "text/x-python",
      "name": "python",
      "nbconvert_exporter": "python",
      "pygments_lexer": "ipython3",
      "version": "3.8.8"
    },
    "toc": {
      "base_numbering": 1,
      "nav_menu": {},
      "number_sections": true,
      "sideBar": true,
      "skip_h1_title": true,
      "title_cell": "Table of Contents",
      "title_sidebar": "Contents",
      "toc_cell": false,
      "toc_position": {},
      "toc_section_display": true,
      "toc_window_display": false
    },
    "colab": {
      "provenance": []
    }
  },
  "nbformat": 4,
  "nbformat_minor": 0
}