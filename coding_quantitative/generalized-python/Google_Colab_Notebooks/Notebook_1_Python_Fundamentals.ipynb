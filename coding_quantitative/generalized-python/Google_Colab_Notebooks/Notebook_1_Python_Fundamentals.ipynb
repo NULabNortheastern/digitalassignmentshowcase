{
  "cells": [
    {
      "cell_type": "markdown",
      "metadata": {
        "id": "LZE4qGG79Xf7"
      },
      "source": [
        "<img align=\"left\" src=\"https://ithaka-labs.s3.amazonaws.com/static-files/images/tdm/tdmdocs/CC_BY.png\"><br />\n",
        "\n",
        "Adapted by Sarah Connell, Dipa Desai, Juniper Johnson, Liam MacLean, Sara Morrell, and Emre Tapan from two notebooks created by [Nathan Kelber](https://nkelber.github.io/) and Ted Lawless for [JSTOR Labs](https://labs.jstor.org/) under [Creative Commons CC BY License](https://creativecommons.org/licenses/by/4.0/). See [here](https://github.com/ithaka/constellate-notebooks) for the original versions. Some exercises were adapted from teaching notebooks created by Laura Nelson, University of British Columbia, and from [Python for Everybody](https://www.py4e.com/). Warm thanks to Kate Kryder, Data Analysis & Visualization Specialist at Northeastern University, for helping to develop these notebooks.<br />\n",
        "___"
      ]
    },
    {
      "cell_type": "markdown",
      "source": [
        "##How to Approach this Course\n",
        "This is an interactive, self-paced course. Through these six notebooks, you will be asked to predict, interact with, and change code. This is meant to get you familiar with both reading and writing code."
      ],
      "metadata": {
        "id": "Wo8mVkmPwP79"
      }
    },
    {
      "cell_type": "markdown",
      "source": [
        "##Notebooks and Google Colab\n",
        "This notebook is divided into two sections. First, we will cover the basics of interacting with Python notebooks in Google Colab and then we will introduce some first concepts of Python code."
      ],
      "metadata": {
        "id": "oNjXC32LIcMT"
      }
    },
    {
      "cell_type": "markdown",
      "metadata": {
        "id": "yvaZV9oZ9XgA"
      },
      "source": [
        "### Cells\n",
        "\n",
        "Similar to the way an essay is composed of paragraphs, notebooks are composed of cells. A cell is like a container for a particular kind of content. There are essentially two kinds of content in notebooks:\n",
        "\n",
        "1. Text Cells—These can contain text, images, video, and the other kinds of explanatory content you might find on a regular website. The cell you're reading right now is a text cell. Text cells are written in what is called **markdown**, which is a lightweight method for formatting text.\n",
        "2. Code Cells—These can contain code written in a variety of languages.\n",
        "\n",
        "A **code cell** can be distinguished from a **text cell** by the fact that it contains a pair of brackets on its left. Code cells in Google Colab also have a grey background."
      ]
    },
    {
      "cell_type": "code",
      "source": [
        "# This is a code cell"
      ],
      "metadata": {
        "id": "XgjCxmX36zln"
      },
      "execution_count": null,
      "outputs": []
    },
    {
      "cell_type": "markdown",
      "metadata": {
        "id": "2FygUjP49XgC"
      },
      "source": [
        "A text cell provides information, but a code cell can be executed to perform an action. The code cell above does not contain any executable content, only a text comment. We can tell the text in the code cell is a comment because it is prefixed by a ``#``. In Python code, if a line is prefaced by a ``#`` then that line is a comment and will not be executed if the code is run. In the Google Colab default view, comments are green.\n",
        "\n",
        "When you are learning code, commenting is *essential*; you should add comments to explain to yourself what the code is doing, to mark any questions that you have, and to remind yourself where you left off in your work (an important rule of coding is that your future self will not remember anything). Commenting is also a responsible practice for any code that you might produce and share in the future. Your public-facing comments should be written to explain how the code is expected to behave, point out the rationale behind your design decisions, and mark out places where a user might want to modify the code. The comments you make as you are learning can be used to explain how the code works to yourself, and to mark any questions you have or places you got stuck."
      ]
    },
    {
      "cell_type": "markdown",
      "metadata": {
        "id": "yDKCuoLB9XgD"
      },
      "source": [
        "### Hello World: Your First Code\n",
        "\n",
        "It is traditional in programming education to begin with a program that prints ``Hello World``. In Python, this is a simple task using the ``print()`` function. A function is a block of code that performs some action—we will cover functions in more detail below. This function simply displays whatever is inside the parentheses. The full syntax to print ``Hello World`` looks like this:\n",
        "\n",
        "```print(\"Hello World\")```\n",
        "\n",
        "The code cell below has the ``print()`` function set up to get you started, so all you need to do is write the text you want to print (in this case, \"Hello World\") inside the quotation marks—make sure not to delete these! We'll cover why the quotation marks are needed soon.\n",
        "\n",
        "To **execute** (or **run**) our code, we have a couple of options:\n",
        "\n",
        "### Option One\n",
        "\n",
        "Mouse over the code cell you wish to run and then push the \"Play\" triangle button to the left of the cell.\n",
        "### Option Two\n",
        "\n",
        "Click in the code cell you wish to run and press Ctrl + Enter (Windows) or Control + Return (OS X) on your keyboard."
      ]
    },
    {
      "cell_type": "code",
      "execution_count": null,
      "metadata": {
        "id": "CG60Yuf99XgE",
        "colab": {
          "base_uri": "https://localhost:8080/"
        },
        "outputId": "6d5aeacd-c563-4f81-d3d0-0319bdb09d3b"
      },
      "outputs": [
        {
          "output_type": "stream",
          "name": "stdout",
          "text": [
            "Hello World\n"
          ]
        }
      ],
      "source": [
        "#Fill in \"Hello World!\" inside of the quotation marks below and then run this block of code\n",
        "print(\"Hello World\")"
      ]
    },
    {
      "cell_type": "markdown",
      "metadata": {
        "id": "W3gc2jFD9XgE"
      },
      "source": [
        "After your code runs, you'll receive any **output** underneath the code that you ran. In this case, that's the words displayed beneath the code. (Often if you run code and it seems like \"nothing happens\", it's because your code didn't include a step to output whatever happened.)\n",
        "\n",
        "After you click out of the cell, a number will appear in the pair of brackets to the left of the code cell to show the order the cell was run. For example, assuming the code cell above is the first one you ran in this notebook, you should see a 1 in the square brackets if you click onto another cell.\n",
        "\n",
        "If your code is complicated or takes some time to execute, you will see an ellipsis (…) in the output line while the code executes. The \"Play\" button will also spin and show you a \"Stop\" option, which you can use to interrupt the code if it gets stuck. The first cell you run in a Colab notebook will also take a bit longer than usual.\n"
      ]
    },
    {
      "cell_type": "markdown",
      "metadata": {
        "id": "UhFxpznY9XgG"
      },
      "source": [
        "Notice that each time you run a code cell, the number in the pair of brackets increases. This keeps track of the order in which cells were run. Technically, you can run the cells in any order, but it is usually a good idea to run them sequentially from top to bottom, to avoid errors."
      ]
    },
    {
      "cell_type": "markdown",
      "metadata": {
        "id": "Lh84zSdf9XgG"
      },
      "source": [
        "### Editing in Google Colab\n",
        "If you want to add a cell in Google Colab, you can do so with the \"+ Code\" and \"+ Text\" buttons at the top left, under the main menu bar. Click on any cell to see your options for editing it, including: cut, copy, move up, move down, and delete.\n",
        "\n",
        "If you want to edit a text cell, double-click on it. Google Colab will automatically show you a preview of how the markdown will display when it is run. Google Colab has some buttons that will help you fill in the markdown. There are plenty of resources online if you do want to add any formatting that isn't provided by the buttons. For more on markdown, see [this guide](https://www.markdownguide.org/cheat-sheet/) or the resource from Google Colab linked below.\n",
        "\n",
        "When you click out of a text cell in Google Colab, it will automatically go back to displaying the formatted version.\n",
        "\n"
      ]
    },
    {
      "cell_type": "markdown",
      "source": [
        "Test editing a text cell here by double-clicking and then filling in your name.\n",
        "\n",
        "**My name is:**"
      ],
      "metadata": {
        "id": "-N0if3J4BCnx"
      }
    },
    {
      "cell_type": "markdown",
      "source": [
        "Google Colab also has some features to help keep Notebooks organized. There is an outline button on the left that will let you see each of the sections in the Notebook. There is also a search option. Google Colab will automatically collapse and \"hide\" groups of multiple cells in a section, as well as very long code cells. To view these, just click on the notification that the cells have been hidden.\n",
        "\n",
        "Google has very good documentation for working in Colab. Here are a few links you might find useful:\n",
        "* [Overview of Colab features](https://colab.research.google.com/notebooks/basic_features_overview.ipynb)\n",
        "* [Guide to Markdown](https://colab.research.google.com/notebooks/markdown_guide.ipynb)\n",
        "* [Frequently Asked Questions](https://research.google.com/colaboratory/faq.html)\n",
        "\n",
        "Code in Google Colab is executed in a **virtual machine** private to your account. Importantly, virtual machines can be deleted by Google if they are idle for a while. Your notebooks (like this one) are secure, but it is best to store any data they generate in separate files on your personal machine, rather than using Colab for long-term data storage.\n",
        "\n",
        "While the code you execute on your Google Colab is private to your account, you should exercise caution before running Colab notebooks that are authored by other individuals. Like emails, social media, and other digital content, Colab notebooks can be used for phishing, data privacy violations, and other malicious attacks. Review the code of unfamiliar Colab notebooks before running the cells.\n",
        "\n",
        "While we'll be using Google Colab for this tutorial, it isn't the only way to code in Python! We will discuss other environments for Python programming in Notebook 5.\n"
      ],
      "metadata": {
        "id": "dEjcMspIBA5u"
      }
    },
    {
      "cell_type": "markdown",
      "source": [
        "### What to do if things seem broken\n",
        "Don't worry, you can't break anything in this notebook! If you need to, you can always make a new copy from the template folder. Google Colab also has a \"playground\" mode that will prevent you from making any permanent changes. Go to \"Open in playground mode\" under the \"File\" menu to access this (note that \"playground\" mode is an option only for Colab notebooks you have saved to your own Drive).\n",
        "\n",
        "If you have a more serious issue with the notebook and you just want to start over, you can go to the \"Runtime\" menu at the top and hit \"Restart runtime\" (or \"Factory reset runtime\" for more serious issues). From this menu, you can also \"Interrupt execution\" for any processes you want to stop (this is the same functionality as hitting the \"Stop\" button).\n",
        "\n",
        "From the \"Edit\" menu, you can choose \"Clear all outputs,\" if you want a clean copy of the notebook without any output from the code cells."
      ],
      "metadata": {
        "id": "QEmIMkV6lgyT"
      }
    },
    {
      "cell_type": "markdown",
      "source": [
        "Okay, now that we've covered the basics of Notebooks in Google Colab, let's turn to some fundamentals of the Python programming language."
      ],
      "metadata": {
        "id": "Q94bsI4fPZEO"
      }
    },
    {
      "cell_type": "markdown",
      "metadata": {
        "id": "NFH4Te829XgG"
      },
      "source": [
        "# Python fundamentals\n",
        "\n",
        "Python is a computer programming language that is widely used in data science and the digital humanities. We'll cover a few Python basics here, giving you the tools to understand some core concepts and run several pre-constructed analyses. If you'd like to learn more, there are many excellent resources online for learning Python, such as [Python for Everybody](https://www.py4e.com/) and the tutorials published by the [Programming Historian](https://programminghistorian.org/en/lessons/?topic=python).\n",
        "\n",
        "**Making Mistakes is Important**\n",
        "\n",
        "Every programmer at every skill level gets errors in their code. Making mistakes is how we all learn to program. Programming is a little like solving a puzzle where the goal is to get the desired outcome through a series of attempts. You won't solve the puzzle if you're afraid to test if the pieces match. An error message will not break your computer. Google Colab can also help you spot mistakes in your code by underlining them in red. Remember, you can always restart the Runtime in a notebook if it stops working properly or make a new copy if you misplace an important piece of code. To learn any skill, you need to be willing to play and experiment. Programming is no different."
      ]
    },
    {
      "cell_type": "markdown",
      "metadata": {
        "id": "2L2EVfJq9XgH"
      },
      "source": [
        "## Expressions and Operators\n",
        "\n",
        "One very simple form of Python programming is an expression using an operator. For example, you might have a simple mathematical statement like:\n",
        "\n",
        "> 1 + 3\n",
        "\n",
        "The operator in this case is `+`, sometimes called \"plus\" or \"addition\". This particular **expression** is a combination of two **values** (1 and 3) and an **operator** (`+`). In Python, expressions are combinations of values, operators, functions, and variables (more on these last two soon!).\n",
        "\n",
        "In the code block below, try writing an expression that uses the addition operator."
      ]
    },
    {
      "cell_type": "code",
      "execution_count": null,
      "metadata": {
        "id": "HFIZSPxk9XgH"
      },
      "outputs": [],
      "source": [
        "# Type an expression in this code block, adding the year you are graduating to your age.\n",
        "\n",
        "# Then, run the code block."
      ]
    },
    {
      "cell_type": "markdown",
      "metadata": {
        "id": "MXKgM8NA9XgH"
      },
      "source": [
        "You can also do subtraction, multiplication, and division, among other mathematical operations. To multiply in Python, you use an asterisk (\\*) and to divide, you use a forward slash (/)."
      ]
    },
    {
      "cell_type": "code",
      "execution_count": null,
      "metadata": {
        "id": "7-RLpOGU9XgI"
      },
      "outputs": [],
      "source": [
        "# Now try multiplication or division in this code block"
      ]
    },
    {
      "cell_type": "markdown",
      "metadata": {
        "id": "GFwKx9fl9XgI"
      },
      "source": [
        "When you run, or **evaluate**, an expression in Python, the order of operations is followed. (You may remember learning the shorthand \"PEMDAS\".) This means that expressions are evaluated in this order:\n",
        "\n",
        "1. Parentheses\n",
        "2. Exponents\n",
        "3. Multiplication and Division (from left to right)\n",
        "4. Addition and Subtraction (from left to right)\n",
        "\n",
        "Python can evaluate parentheses and exponents, as well as a number of additional operators you may not have learned in grade school. Here are the main operators that you might use presented in the order they are evaluated:\n",
        "\n",
        "|Operator| Operation| Example | Evaluation |\n",
        "|---|----|---|---|\n",
        "|\\*\\*| Exponent/Power| 3 ** 3 | 27 |\n",
        "|%| Modulus/Remainder| 34 % 6 | 4 |\n",
        "|/| Division | 30 / 6 | 5|\n",
        "|\\*| Multiplication | 7 * 8 | 56 |\n",
        "|-| Subtraction | 18 - 4| 14|\n",
        "|+| Addition | 4 + 3 | 7 |"
      ]
    },
    {
      "cell_type": "code",
      "execution_count": null,
      "metadata": {
        "id": "heEwPYRk9XgI"
      },
      "outputs": [],
      "source": [
        "# Try a few more operations in this code cell."
      ]
    },
    {
      "cell_type": "markdown",
      "metadata": {
        "id": "uVX6M2En9XgI"
      },
      "source": [
        "You are probably not going to replace the calculator on your phone with Python! But, this example shows you something about how Python works: here, you are creating an **expression** by combining **values** with an **operator** and running the code to produce **output**."
      ]
    },
    {
      "cell_type": "markdown",
      "metadata": {
        "id": "vC-NVqSI9XgI"
      },
      "source": [
        "## Data Types (Integers, Floats, and Strings)\n",
        "\n",
        "In the above examples, our expressions evaluated to a single numerical value. Numerical values come in two basic forms:\n",
        "\n",
        "* integer\n",
        "* float (or floating-point number)\n",
        "\n",
        "An integer, what we sometimes call a \"whole number,\" is a number without a decimal point that can be positive or negative. When a value uses a decimal, it is called a float or floating-point number. Two numbers that are mathematically equivalent could be in two different data types. For example, mathematically 5 is equal to 5.0, yet the former is an integer while the latter is a float.\n",
        "\n",
        "Python can also manipulate text. A snippet of text in Python is called a **string**. A string can be written with single or double quotes, but they need to match each other and they need to be the \"straight\" version, not curly/smart quotes (“ and ”).\n",
        "\n",
        "\n",
        "A string can use letters, spaces, and numbers. So ```5``` is an integer and ```5.0``` is a float, but ```'5'``` and ```'5.0'``` are strings.\n",
        "\n",
        "|Familiar Name | Programming name | Examples |\n",
        "|---|---|---|\n",
        "|Whole number|integer| -3, 0, 2, 534|\n",
        "|Decimal|float | 6.3, -19.23, 5.0, 0.01|\n",
        "|Text|string| 'Hello world', '1700 butterflies', '', '1823'|\n",
        "\n",
        "The distinction between each of these data types may seem unimportant, but Python treats each one differently. For example, we learned the \"+\" operator earlier, but take a look at how \"+\" does different things for integers and for strings:"
      ]
    },
    {
      "cell_type": "code",
      "execution_count": null,
      "metadata": {
        "id": "pU1Z0uEr9XgJ",
        "colab": {
          "base_uri": "https://localhost:8080/"
        },
        "outputId": "5157020c-c476-4819-d656-4a5371ae8d23"
      },
      "outputs": [
        {
          "output_type": "execute_result",
          "data": {
            "text/plain": [
              "20"
            ]
          },
          "metadata": {},
          "execution_count": 5
        }
      ],
      "source": [
        "# Run this code cell to see what the \"+\" does\n",
        "10 + 10"
      ]
    },
    {
      "cell_type": "code",
      "execution_count": null,
      "metadata": {
        "id": "X0ITFlebZbEg",
        "colab": {
          "base_uri": "https://localhost:8080/"
        },
        "outputId": "0bca498b-52b3-4ab4-8186-03c353bd4da2"
      },
      "outputs": [
        {
          "output_type": "execute_result",
          "data": {
            "text/plain": [
              "20.5"
            ]
          },
          "metadata": {},
          "execution_count": 6
        }
      ],
      "source": [
        "# Run this code cell to see what the \"+\" does\n",
        "10 + 10.5"
      ]
    },
    {
      "cell_type": "code",
      "execution_count": null,
      "metadata": {
        "id": "nDyBzOnE9XgJ",
        "colab": {
          "base_uri": "https://localhost:8080/",
          "height": 35
        },
        "outputId": "1c4f3ed7-673e-40ca-dde7-b319bb971211"
      },
      "outputs": [
        {
          "output_type": "execute_result",
          "data": {
            "text/plain": [
              "'hellogoodbye'"
            ],
            "application/vnd.google.colaboratory.intrinsic+json": {
              "type": "string"
            }
          },
          "metadata": {},
          "execution_count": 7
        }
      ],
      "source": [
        "# Run this code cell to see what the \"+\" does\n",
        "\"hello\" + \"goodbye\""
      ]
    },
    {
      "cell_type": "code",
      "execution_count": null,
      "metadata": {
        "id": "LekZ8ud_9XgJ",
        "colab": {
          "base_uri": "https://localhost:8080/",
          "height": 35
        },
        "outputId": "abe17b32-76f4-4ff6-b5d7-bdf623ef46b9"
      },
      "outputs": [
        {
          "output_type": "execute_result",
          "data": {
            "text/plain": [
              "'tenten'"
            ],
            "application/vnd.google.colaboratory.intrinsic+json": {
              "type": "string"
            }
          },
          "metadata": {},
          "execution_count": 8
        }
      ],
      "source": [
        "# Run this code cell to see what the \"+\" does\n",
        "'ten' + 'ten'"
      ]
    },
    {
      "cell_type": "code",
      "execution_count": null,
      "metadata": {
        "id": "rA0Z1olL9XgJ",
        "colab": {
          "base_uri": "https://localhost:8080/",
          "height": 35
        },
        "outputId": "d543eede-9d4a-4745-85cc-3aa744267970"
      },
      "outputs": [
        {
          "output_type": "execute_result",
          "data": {
            "text/plain": [
              "'1010'"
            ],
            "application/vnd.google.colaboratory.intrinsic+json": {
              "type": "string"
            }
          },
          "metadata": {},
          "execution_count": 9
        }
      ],
      "source": [
        "# Run this code cell to see what the \"+\" does\n",
        "\"10\" + \"10\""
      ]
    },
    {
      "cell_type": "markdown",
      "source": [
        "When Python detects that we have two numbers (whether integers or floats), it uses \"+\" to add them. But when it detects that we have two strings, it _concatenates_ them. Python relies on the quote marks to decide whether something is a string or not."
      ],
      "metadata": {
        "id": "j6JYiipnauRJ"
      }
    },
    {
      "cell_type": "markdown",
      "metadata": {
        "id": "kMzTOQ5K9XgK"
      },
      "source": [
        "When we use the addition operator, the values must be all numbers or all strings. Combining them will create an error."
      ]
    },
    {
      "cell_type": "code",
      "execution_count": null,
      "metadata": {
        "id": "Be2UHKbJ9XgK",
        "colab": {
          "base_uri": "https://localhost:8080/",
          "height": 162
        },
        "outputId": "9f2bc578-fef1-4f9b-f7ea-1eb39d1856f0"
      },
      "outputs": [
        {
          "output_type": "error",
          "ename": "TypeError",
          "evalue": "can only concatenate str (not \"int\") to str",
          "traceback": [
            "\u001b[0;31m---------------------------------------------------------------------------\u001b[0m",
            "\u001b[0;31mTypeError\u001b[0m                                 Traceback (most recent call last)",
            "\u001b[0;32m/tmp/ipython-input-907629758.py\u001b[0m in \u001b[0;36m<cell line: 0>\u001b[0;34m()\u001b[0m\n\u001b[1;32m      1\u001b[0m \u001b[0;31m# Try adding a string to an integer\u001b[0m\u001b[0;34m\u001b[0m\u001b[0;34m\u001b[0m\u001b[0m\n\u001b[0;32m----> 2\u001b[0;31m \u001b[0;34m'55'\u001b[0m \u001b[0;34m+\u001b[0m \u001b[0;36m23\u001b[0m\u001b[0;34m\u001b[0m\u001b[0;34m\u001b[0m\u001b[0m\n\u001b[0m",
            "\u001b[0;31mTypeError\u001b[0m: can only concatenate str (not \"int\") to str"
          ]
        }
      ],
      "source": [
        "# Try adding a string to an integer\n",
        "'55' + 23"
      ]
    },
    {
      "cell_type": "markdown",
      "metadata": {
        "id": "NZhZOv3a9XgK"
      },
      "source": [
        "Here, we receive an error because Python doesn't know how to join a string to an integer. Putting this another way, Python is unsure if we want:\n",
        "\n",
        ">'55' + 23\n",
        "\n",
        "to become\n",
        ">'5523'\n",
        "\n",
        "or\n",
        ">78"
      ]
    },
    {
      "cell_type": "markdown",
      "metadata": {
        "id": "F3X9ar2A9XgL"
      },
      "source": [
        "Because these data types operate differently, it is very useful to be able to check which type you're working with. You can do this with the `type()` function. Try running the three code blocks below to check the types for 15, 15.0 and \"15\"."
      ]
    },
    {
      "cell_type": "code",
      "execution_count": null,
      "metadata": {
        "id": "iFOODHVC9XgL",
        "colab": {
          "base_uri": "https://localhost:8080/"
        },
        "outputId": "de6bd6bc-af7c-4eba-bc0c-d6f81b838975"
      },
      "outputs": [
        {
          "output_type": "execute_result",
          "data": {
            "text/plain": [
              "int"
            ]
          },
          "metadata": {},
          "execution_count": 11
        }
      ],
      "source": [
        "# Check the type for 15\n",
        "type(15)"
      ]
    },
    {
      "cell_type": "code",
      "execution_count": null,
      "metadata": {
        "id": "AUKSOwyL9XgL",
        "colab": {
          "base_uri": "https://localhost:8080/"
        },
        "outputId": "59b1aede-87c6-4e14-a9b4-e51383c41e29"
      },
      "outputs": [
        {
          "output_type": "execute_result",
          "data": {
            "text/plain": [
              "float"
            ]
          },
          "metadata": {},
          "execution_count": 12
        }
      ],
      "source": [
        "# Check the type for 15.0\n",
        "type(15.0)"
      ]
    },
    {
      "cell_type": "code",
      "execution_count": null,
      "metadata": {
        "id": "NVzI_rnq9XgL",
        "colab": {
          "base_uri": "https://localhost:8080/"
        },
        "outputId": "b1e936ac-3938-407f-faec-36ae98079694"
      },
      "outputs": [
        {
          "output_type": "execute_result",
          "data": {
            "text/plain": [
              "str"
            ]
          },
          "metadata": {},
          "execution_count": 13
        }
      ],
      "source": [
        "# Check the type for \"15\"\n",
        "type(\"15\")"
      ]
    },
    {
      "cell_type": "markdown",
      "metadata": {
        "id": "IeNKdRrX9XgL"
      },
      "source": [
        "## Variables\n",
        "We noted above that expressions are combinations of values, operators, and variables, and said that we'd be returning to variables. [Variables](https://www.w3schools.com/python/python_variables.asp) in Python point to specific information. There are many kinds of information and data types that a [variable can point to](https://medium.com/@daniel.tooke/variables-and-memory-addresses-in-python-6d96d672ed3d), including the data types we have already discussed (integers, floats, and strings). We create (or **initialize**) a variable with an assignment statement. The assignment statement gives the variable an initial value.\n",
        "\n",
        "Variables are stored in your \"working memory\" during a coding session, which means that they are not saved to your hard drive but that they will persist during your session and will be usable from any cell in your notebook once you have initialized them. When you start a new session or after you clear a notebook, you will need to re-initialize any variables you will be using (that is, you will need to re-run the code with the assignment statements for any variables that you need).\n"
      ]
    },
    {
      "cell_type": "code",
      "execution_count": null,
      "metadata": {
        "id": "J_twjnKp9XgL"
      },
      "outputs": [],
      "source": [
        "# Initialize an integer variable\n",
        "# Note that this code doesn't produce any output; it just establishes the variable\n",
        "new_integer_variable = 6"
      ]
    },
    {
      "cell_type": "code",
      "execution_count": null,
      "metadata": {
        "id": "kBy2An-B9XgL",
        "colab": {
          "base_uri": "https://localhost:8080/"
        },
        "outputId": "2d923a52-cda7-4421-b508-723f851d7b82"
      },
      "outputs": [
        {
          "output_type": "execute_result",
          "data": {
            "text/plain": [
              "6"
            ]
          },
          "metadata": {},
          "execution_count": 15
        }
      ],
      "source": [
        "# Running this code will let you see the value of your variable\n",
        "new_integer_variable"
      ]
    },
    {
      "cell_type": "code",
      "execution_count": null,
      "metadata": {
        "id": "Tb5TLOvk9XgM",
        "colab": {
          "base_uri": "https://localhost:8080/"
        },
        "outputId": "89cd126b-f8e5-4e26-8c70-c9b874d962c8"
      },
      "outputs": [
        {
          "output_type": "execute_result",
          "data": {
            "text/plain": [
              "28"
            ]
          },
          "metadata": {},
          "execution_count": 16
        }
      ],
      "source": [
        "# Add 22 to our new variable\n",
        "new_integer_variable + 22"
      ]
    },
    {
      "cell_type": "markdown",
      "metadata": {
        "id": "ma1X4GRC9XgM"
      },
      "source": [
        "The value of a variable can be overwritten with a new value. You can test this by changing the value in the first code block above, and then re-running everything.\n",
        "\n",
        "We can also overwrite the value of a variable by performing an operation using its original value. In the two cells below, we establish a variable and then add 2 to that variable. As we did above, we then run a line of code that just has the variable name to see the value of our variable."
      ]
    },
    {
      "cell_type": "code",
      "execution_count": null,
      "metadata": {
        "id": "K_sAbr7A9XgM",
        "colab": {
          "base_uri": "https://localhost:8080/"
        },
        "outputId": "186ac25c-db61-4f66-99f1-4a01ff25c8dc"
      },
      "outputs": [
        {
          "output_type": "execute_result",
          "data": {
            "text/plain": [
              "1"
            ]
          },
          "metadata": {},
          "execution_count": 17
        }
      ],
      "source": [
        "# Creating a variable \"cats_in_house\"\n",
        "cats_in_house = 1\n",
        "cats_in_house"
      ]
    },
    {
      "cell_type": "code",
      "execution_count": null,
      "metadata": {
        "id": "1Y-xMjN99XgM",
        "colab": {
          "base_uri": "https://localhost:8080/"
        },
        "outputId": "7c397b6b-ce8c-4d22-b41d-e88222c41565"
      },
      "outputs": [
        {
          "output_type": "execute_result",
          "data": {
            "text/plain": [
              "3"
            ]
          },
          "metadata": {},
          "execution_count": 18
        }
      ],
      "source": [
        "# Adding 2 to our initial variable\n",
        "cats_in_house = cats_in_house + 2\n",
        "cats_in_house"
      ]
    },
    {
      "cell_type": "markdown",
      "source": [
        "Making changes like these is one way a Python program can \"save\" the result of an operation. For example, see what happens if we try to add something to a variable, but we don't include the step of overwriting the original value:"
      ],
      "metadata": {
        "id": "-NTkXHslbmn2"
      }
    },
    {
      "cell_type": "code",
      "source": [
        "# Creating a variable \"current year\"\n",
        "current_year = 2024\n",
        "current_year"
      ],
      "metadata": {
        "id": "uizLQfuYbxDe",
        "colab": {
          "base_uri": "https://localhost:8080/"
        },
        "outputId": "f8d22c1c-4b96-437f-e879-92795e098abe"
      },
      "execution_count": null,
      "outputs": [
        {
          "output_type": "execute_result",
          "data": {
            "text/plain": [
              "2024"
            ]
          },
          "metadata": {},
          "execution_count": 19
        }
      ]
    },
    {
      "cell_type": "code",
      "source": [
        "# Try getting to the future!\n",
        "current_year + 1\n",
        "current_year"
      ],
      "metadata": {
        "id": "Q9eInektb94X",
        "colab": {
          "base_uri": "https://localhost:8080/"
        },
        "outputId": "a51367c8-b527-49a9-9f31-fa7eb6b4a219"
      },
      "execution_count": null,
      "outputs": [
        {
          "output_type": "execute_result",
          "data": {
            "text/plain": [
              "2024"
            ]
          },
          "metadata": {},
          "execution_count": 20
        }
      ]
    },
    {
      "cell_type": "code",
      "source": [
        "# This code will actually \"update\" the year\n",
        "current_year = current_year + 1\n",
        "current_year"
      ],
      "metadata": {
        "id": "lLvcFUKdcEeE",
        "colab": {
          "base_uri": "https://localhost:8080/"
        },
        "outputId": "4fc1a5b3-e562-4bdd-b65c-c406ec461aff"
      },
      "execution_count": null,
      "outputs": [
        {
          "output_type": "execute_result",
          "data": {
            "text/plain": [
              "2025"
            ]
          },
          "metadata": {},
          "execution_count": 21
        }
      ]
    },
    {
      "cell_type": "markdown",
      "metadata": {
        "id": "O9HjE66a9XgM"
      },
      "source": [
        "Whenever you create a new variable, you can always confirm what data type it is with the `type()` function. For example:"
      ]
    },
    {
      "cell_type": "code",
      "execution_count": null,
      "metadata": {
        "id": "7yt14snp9XgM",
        "colab": {
          "base_uri": "https://localhost:8080/"
        },
        "outputId": "4848d5a8-355a-415f-f209-5e9dfb5256db"
      },
      "outputs": [
        {
          "output_type": "execute_result",
          "data": {
            "text/plain": [
              "int"
            ]
          },
          "metadata": {},
          "execution_count": 22
        }
      ],
      "source": [
        "#Checking the type of the variable cats_in_house\n",
        "type(cats_in_house)"
      ]
    },
    {
      "cell_type": "markdown",
      "metadata": {
        "id": "rD3PLgP-9XgN"
      },
      "source": [
        "It can be difficult to keep track of which variables you've initialized, but, fortunately, there is a trick you can use. Running ```%whos``` will give you the basic details for the variables that are active in your current session.\n",
        "\n",
        "**Note**: this command will work in Google Colab Notebooks, but it can't be used with all ```.py``` files."
      ]
    },
    {
      "cell_type": "code",
      "execution_count": null,
      "metadata": {
        "id": "j5KholWP9XgO",
        "colab": {
          "base_uri": "https://localhost:8080/"
        },
        "outputId": "ca45ab8a-b703-44e7-cf72-40ce4992808e"
      },
      "outputs": [
        {
          "output_type": "stream",
          "name": "stdout",
          "text": [
            "Variable               Type    Data/Info\n",
            "----------------------------------------\n",
            "cats_in_house          int     3\n",
            "current_year           int     2025\n",
            "new_integer_variable   int     6\n"
          ]
        }
      ],
      "source": [
        "%whos"
      ]
    },
    {
      "cell_type": "markdown",
      "metadata": {
        "id": "Fn4L4RA19XgO"
      },
      "source": [
        "### Variable naming guidelines\n",
        "You can create a variable with almost any name, but there are a few guidelines that are recommended. First, variable names should be clear and descriptive.\n",
        "\n",
        "For example, if we create a variable that stores the day of the month, it is helpful to give it a name that makes the value stored inside it obvious, something like `day_of_month`. From the computer's perspective, we could call the variable almost anything (`potato`, `bananafish`, `flat_tire`). As long as we are consistent, the code will execute the same. When it comes time to read, modify, and understand the code, however, it will be confusing to you and others. Consider this simple program that lets us compute the full-semester pay for an employee."
      ]
    },
    {
      "cell_type": "code",
      "execution_count": null,
      "metadata": {
        "id": "wvAUWh0b9XgO",
        "colab": {
          "base_uri": "https://localhost:8080/"
        },
        "outputId": "de5b257f-5d20-42a6-d735-6712609215bc"
      },
      "outputs": [
        {
          "output_type": "execute_result",
          "data": {
            "text/plain": [
              "6240"
            ]
          },
          "metadata": {},
          "execution_count": 24
        }
      ],
      "source": [
        "# Compute the semesterly wages for an employee\n",
        "hours_per_week = 20\n",
        "rate = 24\n",
        "weeks_per_semester = 13\n",
        "\n",
        "hours_per_week * rate * weeks_per_semester"
      ]
    },
    {
      "cell_type": "markdown",
      "metadata": {
        "id": "S6XpJP7x9XgO"
      },
      "source": [
        "We could write a program that is logically the same, but uses unhelpful variable names."
      ]
    },
    {
      "cell_type": "code",
      "execution_count": null,
      "metadata": {
        "id": "fm74TjZd9XgO",
        "colab": {
          "base_uri": "https://localhost:8080/"
        },
        "outputId": "831bad0c-f5b9-4277-e30f-56e3628a0e95"
      },
      "outputs": [
        {
          "output_type": "execute_result",
          "data": {
            "text/plain": [
              "6240"
            ]
          },
          "metadata": {},
          "execution_count": 25
        }
      ],
      "source": [
        "hotdogs = 20\n",
        "sasquatch = 24\n",
        "example = 13\n",
        "\n",
        "hotdogs * sasquatch * example"
      ]
    },
    {
      "cell_type": "markdown",
      "metadata": {
        "id": "JJprbOVt9XgO"
      },
      "source": [
        "This code gives us the same answer as the first example, but it is confusing. Not only does this code use variable names that make no sense, it also does not include any comments to explain what the code does. It is not clear that we would change `hotdogs` to set a different number of hours per week. It is not even clear what the purpose of the code **is**. As code gets longer and more complex, having clear variable names and explanatory comments is very important.\n",
        "\n",
        "Keep in mind that abbreviation and shorthand is also likely to turn into nonsense when you forget the original context. Below is a third way to write the exact same program, which might be tempting in the moment, but could cause a lot of frustration to those who read the code in the future."
      ]
    },
    {
      "cell_type": "code",
      "source": [
        "hpw = 20\n",
        "r = 24\n",
        "wps = 13\n",
        "\n",
        "hpw * r * wps"
      ],
      "metadata": {
        "id": "lB_06w-9csos",
        "colab": {
          "base_uri": "https://localhost:8080/"
        },
        "outputId": "d1a9bc45-d5d6-4f0e-d475-681d44d5106f"
      },
      "execution_count": null,
      "outputs": [
        {
          "output_type": "execute_result",
          "data": {
            "text/plain": [
              "6240"
            ]
          },
          "metadata": {},
          "execution_count": 26
        }
      ]
    },
    {
      "cell_type": "markdown",
      "source": [
        "To recap: variable names should be clear, brief, and descriptive, so that you and everyone else who uses your code can easily remember them and recognize what they are meant to represent."
      ],
      "metadata": {
        "id": "MJM45LTbcsA5"
      }
    },
    {
      "cell_type": "markdown",
      "metadata": {
        "id": "RX0BKNWK9XgP"
      },
      "source": [
        "### Variable naming rules\n",
        "\n",
        "In addition to the social best practices discused above, variable names must follow three basic rules that Python enforces:\n",
        "\n",
        "1. Must be one word (no spaces allowed)\n",
        "2. Only letters, numbers and the underscore character (\\_) are allowed\n",
        "3. Cannot begin with a number\n",
        "\n",
        "Additionally, there are some \"reserved words\" in Python that you are not allowed to use for the names of variables (or for any other identifiers that you choose). These words are \"reserved\" because they are already used in the actual Python code. You can see a list of these words [here](https://www.w3schools.com/python/python_ref_keywords.asp). You should also be careful never to use Python function names (like `print`) as your variable names.\n",
        "\n",
        "Finally, it's important to note that Python is case sensitive: ```new_integer``` and ```New_Integer``` are two completely different variables."
      ]
    },
    {
      "cell_type": "code",
      "execution_count": null,
      "metadata": {
        "id": "gEG30Bgc9XgP"
      },
      "outputs": [],
      "source": [
        "# Which of these variable names are acceptable?\n",
        "# \"Comment out\" the variables that are not allowed in Python by putting a # before each line with an invalid variable name\n",
        "# Then run this cell to check if the variable assignment works.\n",
        "# If you get an error, the variable name is not allowed in Python.\n",
        "\n",
        "$variable = 1\n",
        "a variable = 2\n",
        "a_variable = 3\n",
        "4variable = 4\n",
        "variable5 = 5\n",
        "variable-6 = 6\n",
        "variAble = 7\n",
        "Avariable = 8\n"
      ]
    },
    {
      "cell_type": "markdown",
      "metadata": {
        "id": "Q1SqKLWZ9XgP"
      },
      "source": [
        "## Functions\n",
        "\n",
        "Many different kinds of programs often need to do very similar operations. Instead of writing the same code over and over again, you can use a function. Essentially, a function is a small snippet of code that can be quickly referenced and reused, and that does some specific task.\n",
        "\n",
        "There are three kinds of functions:\n",
        "* Native functions built into Python\n",
        "* Functions others have written that you can import\n",
        "* Functions you write yourself\n",
        "\n",
        "We have already used a couple of functions, `type()` and `print()`:"
      ]
    },
    {
      "cell_type": "code",
      "execution_count": null,
      "metadata": {
        "id": "eAD_VkPz9XgP",
        "colab": {
          "base_uri": "https://localhost:8080/"
        },
        "outputId": "062e3d19-955b-4c1f-a7d9-e8f53518a441"
      },
      "outputs": [
        {
          "output_type": "execute_result",
          "data": {
            "text/plain": [
              "float"
            ]
          },
          "metadata": {},
          "execution_count": 27
        }
      ],
      "source": [
        "type(5.5)"
      ]
    },
    {
      "cell_type": "code",
      "execution_count": null,
      "metadata": {
        "id": "W5_ne7PF9XgP",
        "colab": {
          "base_uri": "https://localhost:8080/"
        },
        "outputId": "a04f17a7-3d2f-4563-f95b-bbe872946f52"
      },
      "outputs": [
        {
          "output_type": "stream",
          "name": "stdout",
          "text": [
            "5.5\n"
          ]
        }
      ],
      "source": [
        "print(5.5)"
      ]
    },
    {
      "cell_type": "markdown",
      "metadata": {
        "id": "od2IcLN19XgP"
      },
      "source": [
        "The above example just prints a float. We could also define a variable with our chosen float and then **pass** that variable to the `print()` function. It is common for functions to take an input, called an **argument**, that is placed inside the parentheses."
      ]
    },
    {
      "cell_type": "code",
      "execution_count": null,
      "metadata": {
        "id": "PXXzz2f89XgP",
        "colab": {
          "base_uri": "https://localhost:8080/"
        },
        "outputId": "d719293e-f1f8-47ef-b341-966e56ac94ee"
      },
      "outputs": [
        {
          "output_type": "stream",
          "name": "stdout",
          "text": [
            "5.5\n"
          ]
        }
      ],
      "source": [
        "# Define a variable with a float and then print it\n",
        "hours_worked = 5.5\n",
        "print(hours_worked)"
      ]
    },
    {
      "cell_type": "markdown",
      "source": [
        "You can create local variables like hours_worked and wage_per_hour with float or integer values and run calculations with functions. We will learn how to write an expression to calculate the wages earned after working 5.5 hours this week for $15 an hour.\n",
        "\n",
        "\n",
        "As we've already seen, you can use the variables that you create to perform calculations. For example, you might want to calculate your wages for the week by creating variables for your hours worked and your wage per hour, then multiplying them as in the code cell below.\n"
      ],
      "metadata": {
        "id": "zksAmP64kBNa"
      }
    },
    {
      "cell_type": "code",
      "source": [
        "# Write an expression to calculate the week's wages and then print it\n",
        "hours_worked = 5.5\n",
        "wage_per_hour = 15\n",
        "wages_this_week = wage_per_hour * hours_worked\n",
        "print(wages_this_week)"
      ],
      "metadata": {
        "id": "uyj28BVlf_Hl",
        "colab": {
          "base_uri": "https://localhost:8080/"
        },
        "outputId": "b7ca0390-d702-466b-c835-865fbb6ac9db"
      },
      "execution_count": null,
      "outputs": [
        {
          "output_type": "stream",
          "name": "stdout",
          "text": [
            "82.5\n"
          ]
        }
      ]
    },
    {
      "cell_type": "markdown",
      "source": [
        "\n",
        "\n",
        "However, it is often more useful to have flexible code that can take different inputs. For example, you might **define a function** that can multiply any two input values.\n",
        "\n",
        "This a preview to writing your own functions, which we will learn in the next workshop."
      ],
      "metadata": {
        "id": "0iJNGAotlWzl"
      }
    },
    {
      "cell_type": "code",
      "source": [
        "# Write a generalized function\n",
        "def total_wages(wage_per_hour, hours_worked):\n",
        "  return(wage_per_hour * hours_worked)\n",
        "\n",
        "total_wages(20, 10)"
      ],
      "metadata": {
        "id": "P5bLbTT2gveB",
        "colab": {
          "base_uri": "https://localhost:8080/"
        },
        "outputId": "809efa14-338d-453a-efb2-bef5026474d1"
      },
      "execution_count": null,
      "outputs": [
        {
          "output_type": "execute_result",
          "data": {
            "text/plain": [
              "200"
            ]
          },
          "metadata": {},
          "execution_count": 31
        }
      ]
    },
    {
      "cell_type": "code",
      "source": [
        "# On your own, try running this function with a different set of values as the argument\n",
        "# Replace the #s with the numbers you want to multiply\n",
        "total_wages(10, 10)"
      ],
      "metadata": {
        "id": "J19zQDUTjqAt",
        "colab": {
          "base_uri": "https://localhost:8080/"
        },
        "outputId": "b79e2d89-3b2a-488c-c67d-b6bdb33d9161"
      },
      "execution_count": null,
      "outputs": [
        {
          "output_type": "execute_result",
          "data": {
            "text/plain": [
              "100"
            ]
          },
          "metadata": {},
          "execution_count": 32
        }
      ]
    },
    {
      "cell_type": "markdown",
      "metadata": {
        "id": "dkUlu_859XgQ"
      },
      "source": [
        "In this lesson, we've covered several key concepts for working in Python: expressions, operators, data types, variables, and functions. In our next session, we'll start running more advanced forms of code so we can get a better sense of the logic behind Python. There are some practice exercises below to help you reinforce the concepts we've covered so far."
      ]
    },
    {
      "cell_type": "markdown",
      "metadata": {
        "id": "2iPxgE5W9XgR"
      },
      "source": [
        "# Practice exercises\n",
        "\n",
        "As you're learning code, it's important to try varying different things to see how your results change. The quick exercises will prompt you to test some variations, but you should also be experimenting on your own. Make a change, then think about how you anticipate it will impact your results, then see what happens.\n",
        "\n",
        "Here are a few exercises to give you some more practice with these concepts. There is a solution key at the end of this notebook."
      ]
    },
    {
      "cell_type": "markdown",
      "metadata": {
        "id": "dfkGcW2a9XgR"
      },
      "source": [
        "**Exercise One: Creating and Modifying Variables**\n",
        "\n",
        "Use the code block below to **initialize** a variable called `my_favorite_number` whose value is your favorite number."
      ]
    },
    {
      "cell_type": "code",
      "execution_count": null,
      "metadata": {
        "id": "TH5GLw169XgR"
      },
      "outputs": [],
      "source": [
        "my_favorite_number = 3"
      ]
    },
    {
      "cell_type": "markdown",
      "metadata": {
        "id": "4XVyWiMj9XgR"
      },
      "source": [
        "Now, **print** your new variable using the `print()` function in the code block below."
      ]
    },
    {
      "cell_type": "code",
      "execution_count": null,
      "metadata": {
        "id": "zhv3sG_e9XgR",
        "colab": {
          "base_uri": "https://localhost:8080/"
        },
        "outputId": "e5ea7d28-9fc1-419b-a2bd-a02bdb085714"
      },
      "outputs": [
        {
          "output_type": "stream",
          "name": "stdout",
          "text": [
            "3\n"
          ]
        }
      ],
      "source": [
        "print(my_favorite_number)"
      ]
    },
    {
      "cell_type": "markdown",
      "metadata": {
        "id": "mcVwRk-M9XgR"
      },
      "source": [
        "Now, **overwrite** `my_favorite_number` by using the variable in an expression. Specifically, assign a new value to `my_favorite_number` by adding the original variable to the year you were born."
      ]
    },
    {
      "cell_type": "code",
      "execution_count": null,
      "metadata": {
        "id": "SuFrgTOT9XgR",
        "colab": {
          "base_uri": "https://localhost:8080/"
        },
        "outputId": "8267a29c-cc24-4f2a-97f4-c4aa3b23c44f"
      },
      "outputs": [
        {
          "output_type": "execute_result",
          "data": {
            "text/plain": [
              "1999"
            ]
          },
          "metadata": {},
          "execution_count": 35
        }
      ],
      "source": [
        "my_favorite_number + 1996"
      ]
    },
    {
      "cell_type": "code",
      "source": [
        "my_favorite_number = 1999"
      ],
      "metadata": {
        "id": "JUZ-xmkWPzvB"
      },
      "execution_count": null,
      "outputs": []
    },
    {
      "cell_type": "markdown",
      "metadata": {
        "id": "yCoi35CK9XgR"
      },
      "source": [
        "What do you think the value of `my_favorite_number` is now? Fill in your answer here to practice editing a text cell. (Remember you can double-click on the cell to edit it.)\n",
        "\n",
        "My guess on the value of `my_favorite_number`:\n",
        "\n",
        "Finally, use the `print()` function in the code block below to print out the value for `my_favorite_number` and confirm your answer."
      ]
    },
    {
      "cell_type": "code",
      "execution_count": null,
      "metadata": {
        "id": "phHHmLJ39XgR"
      },
      "outputs": [],
      "source": []
    },
    {
      "cell_type": "markdown",
      "metadata": {
        "id": "WB-MXgP39XgS"
      },
      "source": [
        "**Exercise Two: Performing calculations**\n",
        "\n",
        "Below is code that will calculate and print out the number of hours in a specified number of days. First, run the code as it is, then try changing the number in the first line to calculate the number of hours in a different amount of weeks."
      ]
    },
    {
      "cell_type": "code",
      "execution_count": null,
      "metadata": {
        "id": "ySazCEyi9XgS",
        "colab": {
          "base_uri": "https://localhost:8080/"
        },
        "outputId": "0da5a9ed-71b2-47fa-d191-1599eb670d2b"
      },
      "outputs": [
        {
          "output_type": "stream",
          "name": "stdout",
          "text": [
            "21\n"
          ]
        }
      ],
      "source": [
        "weeks = 3\n",
        "days_in_week = 7\n",
        "days_total = weeks * days_in_week\n",
        "print(days_total)"
      ]
    },
    {
      "cell_type": "markdown",
      "metadata": {
        "id": "69OIlBeK9XgS"
      },
      "source": [
        "In the block below, modify this code to instead calculate the number of minutes in a week."
      ]
    },
    {
      "cell_type": "code",
      "execution_count": null,
      "metadata": {
        "id": "27STCMZD9XgS",
        "colab": {
          "base_uri": "https://localhost:8080/"
        },
        "outputId": "9a8347db-76c2-4f44-bdbb-9cf735d224aa"
      },
      "outputs": [
        {
          "output_type": "stream",
          "name": "stdout",
          "text": [
            "21\n"
          ]
        }
      ],
      "source": [
        "# Modify this code to calculate the minutes in a week\n",
        "weeks = 3\n",
        "days_in_week = 7\n",
        "days_total = weeks * days_in_week\n",
        "print(days_total)"
      ]
    },
    {
      "cell_type": "markdown",
      "source": [
        "\n",
        "\n",
        "**Exercise Three: Writing a Generalized Function**\n",
        "\n",
        "Earlier in this notebook, we looked at a simple program for calculating wages per semester. Run this code below to remind yourself of how the program works:"
      ],
      "metadata": {
        "id": "WVDlFbc-WVqB"
      }
    },
    {
      "cell_type": "code",
      "source": [
        "# Calculate pay per semester\n",
        "hours_per_week = 20\n",
        "rate = 24\n",
        "weeks_per_semester = 13\n",
        "\n",
        "hours_per_week * rate * weeks_per_semester"
      ],
      "metadata": {
        "id": "5ryJuDhvWw9J",
        "colab": {
          "base_uri": "https://localhost:8080/"
        },
        "outputId": "3f768032-48d8-40f8-d1fd-6e1bef0a1322"
      },
      "execution_count": null,
      "outputs": [
        {
          "output_type": "execute_result",
          "data": {
            "text/plain": [
              "6240"
            ]
          },
          "metadata": {},
          "execution_count": 39
        }
      ]
    },
    {
      "cell_type": "markdown",
      "source": [
        "Now, let's make a generalized function that can calcluate pay per semester for any three input values. Fill in the code below to define this function, then try running it for 15 hours per week, $20 per hour, and 13 weeks per semester. You will know you have the function correct if the code executes without errors and returns a value of 3,900."
      ],
      "metadata": {
        "id": "VhDL9ZBZW8ud"
      }
    },
    {
      "cell_type": "code",
      "source": [
        "# Fill in this code to create a generalized function that calculates the number of days in a semester\n",
        "\n",
        "# First replace the #s with the variables you want to multiply\n",
        "def pay_per_semester(##, ##, ##):\n",
        "  return(## * ## * ##)\n",
        "\n",
        "# Then, fill in the three values you want to test the function on (15, 20, and 13)\n",
        "pay_per_semester(##, ##, ##)"
      ],
      "metadata": {
        "id": "oyIwss_dYAvn",
        "colab": {
          "base_uri": "https://localhost:8080/",
          "height": 108
        },
        "outputId": "a22bfcca-6061-4d34-d8dd-17899fd922fb"
      },
      "execution_count": null,
      "outputs": [
        {
          "output_type": "error",
          "ename": "SyntaxError",
          "evalue": "invalid syntax (ipython-input-3972104654.py, line 5)",
          "traceback": [
            "\u001b[0;36m  File \u001b[0;32m\"/tmp/ipython-input-3972104654.py\"\u001b[0;36m, line \u001b[0;32m5\u001b[0m\n\u001b[0;31m    return(## * ## * ##)\u001b[0m\n\u001b[0m    ^\u001b[0m\n\u001b[0;31mSyntaxError\u001b[0m\u001b[0;31m:\u001b[0m invalid syntax\n"
          ]
        }
      ]
    },
    {
      "cell_type": "markdown",
      "metadata": {
        "id": "lOrfNERw9XgT"
      },
      "source": [
        "# Solutions\n",
        "Here are some solutions for the exercises in this notebook. There are many different ways to approach coding, so you might have done something different. As long as the program runs correctly and you understand the concepts at stake, you're on the right track. You can make your code more efficient as you keep learning."
      ]
    },
    {
      "cell_type": "markdown",
      "metadata": {
        "id": "W0A_UhU69XgT"
      },
      "source": [
        "Exercise One:\n",
        "The exact values will vary, but the overwritten value of `my_favorite_number` should be the original value plus the number you added."
      ]
    },
    {
      "cell_type": "code",
      "execution_count": null,
      "metadata": {
        "id": "j2shhCd19XgT",
        "colab": {
          "base_uri": "https://localhost:8080/"
        },
        "outputId": "56c7f117-06f3-4caa-eac2-31304275b52e"
      },
      "outputs": [
        {
          "output_type": "stream",
          "name": "stdout",
          "text": [
            "30240\n"
          ]
        }
      ],
      "source": [
        "# Exercise Two\n",
        "weeks = 3\n",
        "days_in_week = 7\n",
        "hours_in_day = 24\n",
        "minutes_in_hour = 60\n",
        "minutes_total = weeks * days_in_week * hours_in_day * minutes_in_hour\n",
        "print(minutes_total)"
      ]
    },
    {
      "cell_type": "code",
      "source": [
        "# Exercise Three\n",
        "\n",
        "def pay_per_semester(hours_per_week, rate, weeks_per_semester):\n",
        "  return(hours_per_week * rate * weeks_per_semester)\n",
        "\n",
        "pay_per_semester(15, 20, 13)\n"
      ],
      "metadata": {
        "id": "uNe_zSLtoegN",
        "colab": {
          "base_uri": "https://localhost:8080/"
        },
        "outputId": "2201d6db-d5fa-4a40-a6bf-e6d5de4680a5"
      },
      "execution_count": null,
      "outputs": [
        {
          "output_type": "execute_result",
          "data": {
            "text/plain": [
              "3900"
            ]
          },
          "metadata": {},
          "execution_count": 42
        }
      ]
    },
    {
      "cell_type": "code",
      "source": [],
      "metadata": {
        "id": "7Wj6tqOZZmx4"
      },
      "execution_count": null,
      "outputs": []
    }
  ],
  "metadata": {
    "kernelspec": {
      "display_name": "Python 3",
      "language": "python",
      "name": "python3"
    },
    "language_info": {
      "codemirror_mode": {
        "name": "ipython",
        "version": 3
      },
      "file_extension": ".py",
      "mimetype": "text/x-python",
      "name": "python",
      "nbconvert_exporter": "python",
      "pygments_lexer": "ipython3",
      "version": "3.8.8"
    },
    "toc": {
      "base_numbering": 1,
      "nav_menu": {},
      "number_sections": true,
      "sideBar": true,
      "skip_h1_title": false,
      "title_cell": "Table of Contents",
      "title_sidebar": "Contents",
      "toc_cell": false,
      "toc_position": {},
      "toc_section_display": true,
      "toc_window_display": true
    },
    "colab": {
      "provenance": []
    }
  },
  "nbformat": 4,
  "nbformat_minor": 0
}