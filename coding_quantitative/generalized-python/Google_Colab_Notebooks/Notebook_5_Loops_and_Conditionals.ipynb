{
  "cells": [
    {
      "cell_type": "markdown",
      "metadata": {
        "id": "LK7RFCPYGBl7"
      },
      "source": [
        "<img align=\"left\" src=\"https://ithaka-labs.s3.amazonaws.com/static-files/images/tdm/tdmdocs/CC_BY.png\"><br />\n",
        "\n",
        "Adapted by Sarah Connell, Dipa Desai, Juniper Johnson, Liam MacLean, Sara Morrell, and Emre Tapan from a notebook created by [Nathan Kelber](https://nkelber.github.io/) and Ted Lawless for [JSTOR Labs](https://labs.jstor.org/) under [Creative Commons CC BY License](https://creativecommons.org/licenses/by/4.0/). See [here](https://github.com/ithaka/constellate-notebooks) for the original version. Some contents were adapted from teaching notebooks created by Laura Nelson, University of British Columbia, and from [Python for Everybody](https://www.py4e.com/). Warm thanks to Kate Kryder, Data Analysis & Visualization Specialist at Northeastern University, for helping to develop these notebooks.<br />\n",
        "___"
      ]
    },
    {
      "cell_type": "markdown",
      "source": [
        "So far we have learned fundamentals of Python, including how to assign data to variables and data containers; to use, import, and write functions; to retrieve and modify values in data containers; to iterate a task using `for` loops; and how to use conditional statements. In this lesson, we will be getting into advanced functions, how to combine iterations with conditional statements, and how to import CSVs into Python.\n"
      ],
      "metadata": {
        "id": "5huyFmS7sHVL"
      }
    },
    {
      "cell_type": "markdown",
      "source": [
        "# Iteration (loops)"
      ],
      "metadata": {
        "id": "w23pBtpMchX1"
      }
    },
    {
      "cell_type": "markdown",
      "source": [
        "Recall that a **loop** is simply a series of instructions, or things to do, that you want to do on multiple elements. It's a way to do the same thing over and over, with different inputs.\n",
        "\n",
        "There are different types of loops in Python that can perform repeated tasks by \"looping\" back around to the top of the code until some condition has been met.\n",
        "\n",
        "In `for` loop statements, Python will go through a known set of elements and execute the code in the body on each element in the sequence, stopping when it comes to the end of the sequence of elements. We call each time we execute the body of the loop an **iteration**.\n",
        "\n",
        "## `while` loops\n",
        "Another type of a loop that we have not yet discussed is a `while` loop. Whereas the `for` loop runs through code over a sequence (and naturally stop once it's gone through all the items), such as a list or dictionary, the `while` loop will loop through code and execute the statements as long as some condition is true.\n",
        "\n",
        "    while [a condition is True]:\n",
        "          [do something]"
      ],
      "metadata": {
        "id": "t2kh-6-Lc5nC"
      }
    },
    {
      "cell_type": "code",
      "source": [
        "# An example of a while loop. What do you think the output will be?\n",
        "i = 2\n",
        "while i < 10:\n",
        "  print(i)\n",
        "  i+= 1"
      ],
      "metadata": {
        "id": "V_H6TRZac5RC",
        "colab": {
          "base_uri": "https://localhost:8080/"
        },
        "outputId": "dd1cece6-a514-48be-f526-4dd6b831834f"
      },
      "execution_count": null,
      "outputs": [
        {
          "output_type": "stream",
          "name": "stdout",
          "text": [
            "2\n",
            "3\n",
            "4\n",
            "5\n",
            "6\n",
            "7\n",
            "8\n",
            "9\n"
          ]
        }
      ]
    },
    {
      "cell_type": "markdown",
      "source": [
        "`while` loops are useful for when you do not know how many times you will need to iterate the function, since the loop will continue until it reaches a condition that is false.\n",
        "`for` loops are useful for when you want to iterate a function for a set number of times. `while` loops can also be a little \"dangerous\" because you have to make sure there will eventually be a reason for the loop to end.\n",
        "\n",
        "For the rest of this notebook, we will focus on the more-common `for` loops, and combining them with conditional statements."
      ],
      "metadata": {
        "id": "gtaxLN9GdApQ"
      }
    },
    {
      "cell_type": "markdown",
      "metadata": {
        "id": "7UBYlvWx4oX9"
      },
      "source": [
        "# Combining loops and conditionals\n",
        "\n",
        "We might want to do different things to each element in a set depending on the value of that element. We can do so by using conditional statements.\n",
        "\n",
        "For example, say we want to print whether each element in a list is a negative number or a positive number. Notice the structure of the following program, and the indentation."
      ]
    },
    {
      "cell_type": "code",
      "execution_count": null,
      "metadata": {
        "id": "hLLuhDdp4oX-",
        "colab": {
          "base_uri": "https://localhost:8080/"
        },
        "outputId": "a995d5a3-e1f4-496c-f898-5758d4a7fb0c"
      },
      "outputs": [
        {
          "output_type": "stream",
          "name": "stdout",
          "text": [
            "9 is a positive number.\n",
            "500 is a positive number.\n",
            "20 is a positive number.\n",
            "-10 is a negative number.\n",
            "-0.5 is a negative number.\n"
          ]
        }
      ],
      "source": [
        "# A program for printing whether a number is positive or negative\n",
        "num_list = [9, 500, 20, -10, -.5]\n",
        "for e in num_list:\n",
        "    if e > 0:\n",
        "        print (e, \"is a positive number.\")\n",
        "    elif e <0:\n",
        "        print (e, \"is a negative number.\")"
      ]
    },
    {
      "cell_type": "markdown",
      "metadata": {
        "id": "M_txZsPB4oX-"
      },
      "source": [
        "To find the largest value in sequence, we can construct the following loop. Run this to see what it does and then look below for an explanation."
      ]
    },
    {
      "cell_type": "code",
      "execution_count": null,
      "metadata": {
        "id": "-XHG10f14oX-",
        "colab": {
          "base_uri": "https://localhost:8080/"
        },
        "outputId": "69c1b66f-705b-4795-aaa5-39c22f869f1e"
      },
      "outputs": [
        {
          "output_type": "stream",
          "name": "stdout",
          "text": [
            "Testing: 3\n",
            "The largest so far is 3\n",
            "Testing: 41\n",
            "The largest so far is 41\n",
            "Testing: 12\n",
            "The largest so far is 41\n",
            "Testing: 42\n",
            "The largest so far is 42\n",
            "Testing: 9\n",
            "The largest so far is 42\n",
            "Testing: 74\n",
            "The largest so far is 74\n",
            "Testing: 15\n",
            "The largest so far is 74\n",
            "Testing: 6\n",
            "The largest so far is 74\n",
            "The largest number in this list is: 74\n"
          ]
        }
      ],
      "source": [
        "# A program for finding the largest number in a list\n",
        "sample_list = [3, 41, 12, 42, 9, 74, 15, 6]\n",
        "largest = None\n",
        "for iter_var in sample_list:\n",
        "    if largest is None or iter_var > largest :\n",
        "        largest = iter_var\n",
        "    print('Testing:', iter_var)\n",
        "    print('The largest so far is', largest)\n",
        "print('The largest number in this list is:', largest)"
      ]
    },
    {
      "cell_type": "markdown",
      "metadata": {
        "id": "tELnU3pf4oX-"
      },
      "source": [
        "The variable `largest` is best thought of as the “largest value we have seen so far”. We've written it so `largest` starts out at `None`, then `largest` becomes the very first number it sees, then it updates itself every time it sees a larger number than its current value.\n",
        "\n",
        "**Why do we use `None` here?** In order to use the variable `largest` in our loop, we have to create it before the loop, which means we have to give it some kind of starter value. But if we started it with a number (even 0!) this might interfere with the number-comparisons we want to make later. (For example, if our list was entirely negative numbers, 0 would be the largest option!) So we use `None`, a special constant value which we can store in a variable to mark the variable as “empty”.\n",
        "\n",
        "**What happens when this code runs?**\n",
        "\n",
        "In the first iteration, when the value of `iter_var` is 3, since `largest` is `None`, the `if largest is None` condition is met. That sets `largest` to be 3.\n",
        "\n",
        "After the first iteration, `largest` is no longer `None`, so compound logical expression is only met when the second part that checks `iter_var > largest` happens, namely, when we see a value that is larger than the “largest so far”. When we see a new “even larger” value we take that new value for `largest`. If the `iter_var` is *not* larger than `largest`, the code doesn't change any of our variables' values and just proceeds to check the next `iter_var`. You can see in the program output that `largest` progresses from 3 to 41 to 42 to 74.\n",
        "\n"
      ]
    },
    {
      "cell_type": "markdown",
      "metadata": {
        "id": "_p8YNEJkIAYC"
      },
      "source": [
        "## Using functions with dictionaries and conditional statements"
      ]
    },
    {
      "cell_type": "markdown",
      "metadata": {
        "id": "l2fQqsF1IAYC"
      },
      "source": [
        "**Notes**: Make sure you run all the cells in this section in order! The function definitions change throughout this part of the notebook, so you will get an error if there is a mismatch between the version of a function you're using and the sample code for running that function. If you want to go back and try things out again, just make sure that you're paying attention to which version of the functions you're using.\n",
        "\n",
        "You might find it helpful to look back through the tutorials on dictionaries, conditional statements, and `for` loops before reading through this section.\n",
        "\n"
      ]
    },
    {
      "cell_type": "markdown",
      "metadata": {
        "id": "tPG-_hH5IAYC"
      },
      "source": [
        "Much of what we've learned about conditionals, `for` loops, tuples, and dictionaries can help us to write better functions.\n",
        "\n",
        "For example, we can use conditionals to write functions that will have different outcomes based on different inputs. This function will print out a grade, based on the value of its argument."
      ]
    },
    {
      "cell_type": "code",
      "execution_count": null,
      "metadata": {
        "id": "_iaSn4wFIAYC"
      },
      "outputs": [],
      "source": [
        "# A function for printing out grades\n",
        "def grading_bot(grade):\n",
        "    if grade >= 90:\n",
        "        return 'You got an A'\n",
        "    elif grade >= 80:\n",
        "        return 'You got a B'\n",
        "    elif grade >= 70:\n",
        "        return 'You got a C'\n",
        "    else:\n",
        "        return'Take the test again'\n"
      ]
    },
    {
      "cell_type": "code",
      "execution_count": null,
      "metadata": {
        "id": "wfnnu_m_IAYC",
        "colab": {
          "base_uri": "https://localhost:8080/",
          "height": 35
        },
        "outputId": "03e2d431-70f5-4181-9773-dbe1ee694771"
      },
      "outputs": [
        {
          "output_type": "execute_result",
          "data": {
            "text/plain": [
              "'You got an A'"
            ],
            "application/vnd.google.colaboratory.intrinsic+json": {
              "type": "string"
            }
          },
          "metadata": {},
          "execution_count": 5
        }
      ],
      "source": [
        "# Run this, then try again with a different value as the argument\n",
        "grading_bot(90)"
      ]
    },
    {
      "cell_type": "markdown",
      "metadata": {
        "id": "NFmNF-fuIAYC"
      },
      "source": [
        "We can also write functions that use `for` loops to iterate over a set of items and perform repeated tasks. Combining `for` loops and conditional statements can be especially useful.\n",
        "\n",
        "For example, this function will iterate through a dictionary of snowfall totals in Massachusetts and print out each of the keys along with one of two different strings, depending on the values associated with each key.  "
      ]
    },
    {
      "cell_type": "code",
      "execution_count": null,
      "metadata": {
        "id": "Nb1zpLTZIAYC"
      },
      "outputs": [],
      "source": [
        "# Initializing a dictionary of snowfall totals for Massachusetts\n",
        "snowfall_mass_jan = {\"Boston\": 24.5,\n",
        "\"Brookline\": 15,\n",
        "\"Cambridge\": 14,\n",
        "\"Framingham\": 12.2,\n",
        "\"Malden\": 20,\n",
        "\"Wakefield\": 21.2,\n",
        "\"Norwood\": 19.5}\n",
        "\n",
        "# Defining a function for printing whether towns got a lot of snow or not\n",
        "def weather_report():\n",
        "    for town in snowfall_mass_jan:\n",
        "        if snowfall_mass_jan[town] >= 15:\n",
        "            print(town, \"got a lot of snow in January!\")\n",
        "        elif snowfall_mass_jan[town] < 15:\n",
        "            print (town, \"didn't get as much snow this time\")"
      ]
    },
    {
      "cell_type": "code",
      "execution_count": null,
      "metadata": {
        "id": "vFMGwFaxIAYD",
        "colab": {
          "base_uri": "https://localhost:8080/"
        },
        "outputId": "b2da3b38-0f1a-4e8f-a8d0-205d4064ac83"
      },
      "outputs": [
        {
          "output_type": "stream",
          "name": "stdout",
          "text": [
            "Boston got a lot of snow in January!\n",
            "Brookline got a lot of snow in January!\n",
            "Cambridge didn't get as much snow this time\n",
            "Framingham didn't get as much snow this time\n",
            "Malden got a lot of snow in January!\n",
            "Wakefield got a lot of snow in January!\n",
            "Norwood got a lot of snow in January!\n"
          ]
        }
      ],
      "source": [
        "# Based on what you know about for loops, dictionaries, and if statements, what do you think the output of this function will be?\n",
        "# Run the function here to confirm your guess\n",
        "weather_report()"
      ]
    },
    {
      "cell_type": "markdown",
      "metadata": {
        "id": "cnRAio_3IAYD"
      },
      "source": [
        "The code above shows how `for` loops can be used in our functions, but it's not very useful yet. As written, it will only operate on a specific dictionary. To make the function more flexible, we can rewrite it so that the dictionary at stake needs to be supplied as an argument.\n",
        "\n",
        "The example below also uses more generalized variable names to help you get a sense of how the dictionary's structure is being used in the function."
      ]
    },
    {
      "cell_type": "code",
      "execution_count": null,
      "metadata": {
        "id": "I0WtJA6uIAYD"
      },
      "outputs": [],
      "source": [
        "def weather_report(dictionary):\n",
        "    for key in dictionary:\n",
        "        if dictionary[key] >= 15:\n",
        "            print(key, \"got a lot of snow in January!\")\n",
        "        elif dictionary[key] < 15:\n",
        "            print (key, \"didn't get as much snow this time\")"
      ]
    },
    {
      "cell_type": "code",
      "execution_count": null,
      "metadata": {
        "id": "NkptqEFZIAYD",
        "colab": {
          "base_uri": "https://localhost:8080/"
        },
        "outputId": "9c623a0e-c5c3-46cf-a6c9-6d8e2542f7ac"
      },
      "outputs": [
        {
          "output_type": "stream",
          "name": "stdout",
          "text": [
            "Boston got a lot of snow in January!\n",
            "Brookline got a lot of snow in January!\n",
            "Cambridge didn't get as much snow this time\n",
            "Framingham didn't get as much snow this time\n",
            "Malden got a lot of snow in January!\n",
            "Wakefield got a lot of snow in January!\n",
            "Norwood got a lot of snow in January!\n"
          ]
        }
      ],
      "source": [
        "# Now, we supply the dictionary as an argument of our function\n",
        "weather_report(snowfall_mass_jan)"
      ]
    },
    {
      "cell_type": "markdown",
      "metadata": {
        "id": "g_WRATQhIAYD"
      },
      "source": [
        "Our new and improved function will work on any dictionary. For example, here are some snowfall totals from New Hampshire:"
      ]
    },
    {
      "cell_type": "code",
      "execution_count": null,
      "metadata": {
        "id": "E6xJ6AVBIAYD"
      },
      "outputs": [],
      "source": [
        "snowfall_nh_jan = {\"Dover\": 9,\n",
        "\"Epping\": 10,\n",
        "\"Exeter\": 12,\n",
        "\"Hampton\": 16,\n",
        "\"Rochester\": 10,\n",
        "\"Rye\": 13.5,\n",
        "\"Tamworth\": 3}"
      ]
    },
    {
      "cell_type": "code",
      "execution_count": null,
      "metadata": {
        "id": "cBIIuQpjIAYD"
      },
      "outputs": [],
      "source": [
        "# In this code block, run the `weather_report()` function on the new dictionary\n"
      ]
    },
    {
      "cell_type": "markdown",
      "metadata": {
        "id": "AgI3IQsNIAYE"
      },
      "source": [
        "We have seen that we can also use functions to retrieve or modify information from dictionaries. Let's look at how we can write a generalized function that can retrieve a value associated with a key in any specified dictionary. This would be useful if you have two or more datasets stored in dictionaries and want to use the same function to look up values across different stored datasets.\n",
        "\n",
        "For example, the function defined below will retrieve the value associated with a key from a dictionary. This function is written to require two arguments: the dictionary and a key from that dictionary."
      ]
    },
    {
      "cell_type": "code",
      "execution_count": null,
      "metadata": {
        "id": "tkA71AebIAYE"
      },
      "outputs": [],
      "source": [
        "# Here we define our function for looking up values based on a specified dictionary and key\n",
        "def snowfall_lookup(dictionary,key):\n",
        "    if key in dictionary:\n",
        "        snowfall = dictionary[key]\n",
        "    return snowfall"
      ]
    },
    {
      "cell_type": "code",
      "execution_count": null,
      "metadata": {
        "id": "PlOQs9t4IAYE",
        "colab": {
          "base_uri": "https://localhost:8080/"
        },
        "outputId": "5580c60e-43c4-4903-e2a6-22e1aca3f06a"
      },
      "outputs": [
        {
          "output_type": "execute_result",
          "data": {
            "text/plain": [
              "16"
            ]
          },
          "metadata": {},
          "execution_count": 12
        }
      ],
      "source": [
        "# Now, we can use our function by supplying any dictionary and key\n",
        "snowfall_lookup(snowfall_nh_jan,\"Hampton\")"
      ]
    },
    {
      "cell_type": "code",
      "execution_count": null,
      "metadata": {
        "id": "IdwS3CEpIAYE"
      },
      "outputs": [],
      "source": [
        "# Run the snowfall_lookup function on a key from the Massachusetts dictionary\n"
      ]
    },
    {
      "cell_type": "markdown",
      "metadata": {
        "id": "AAJYCzM2IAYE"
      },
      "source": [
        "Remember that we can use other functions within our function definitions.\n",
        "\n",
        "In this next example, we're defining a function called `get_totals()`, which takes a dictionary as its argument. We first set the **local variable** `total` to `0` and then iterate through the dictionary with a `for` loop.\n",
        "\n",
        "On each iteration, we overwrite `total` by adding its current value to the result from running the `snowfall_lookup()` function on each key in our dictionary. Because `snowfall_lookup()` retrieves the value for each key, the end result is that the value of `total` is the sum of all the values for all the keys in the dictionary."
      ]
    },
    {
      "cell_type": "code",
      "execution_count": null,
      "metadata": {
        "id": "W_fgswWrIAYE",
        "colab": {
          "base_uri": "https://localhost:8080/"
        },
        "outputId": "76c53113-0030-43a9-8b43-2fba24f98244"
      },
      "outputs": [
        {
          "output_type": "execute_result",
          "data": {
            "text/plain": [
              "126.4"
            ]
          },
          "metadata": {},
          "execution_count": 13
        }
      ],
      "source": [
        "# Using a function within a function\n",
        "def get_totals(dictionary):\n",
        "    total = 0 # We start by setting the total variable to 0\n",
        "    for key in dictionary:\n",
        "        total = total + snowfall_lookup(dictionary, key) #This could also be written: total += snowfall_lookup(dictionary, key)\n",
        "    return total\n",
        "\n",
        "# Run our new function on the snowfall_mass_jan dictionary\n",
        "get_totals(snowfall_mass_jan)"
      ]
    },
    {
      "cell_type": "markdown",
      "metadata": {
        "id": "pChbnXuWIAYF"
      },
      "source": [
        "# Practice Exercises"
      ]
    },
    {
      "cell_type": "markdown",
      "metadata": {
        "id": "07PRXdjWIAYF"
      },
      "source": [
        "**Exercise One**"
      ]
    },
    {
      "cell_type": "markdown",
      "metadata": {
        "id": "xRFiOAWbIAYF"
      },
      "source": [
        "Write a simple function that multiplies two numbers and returns the result."
      ]
    },
    {
      "cell_type": "code",
      "source": [
        "# Fill in your code here\n"
      ],
      "metadata": {
        "id": "SBTPzklwyyUq"
      },
      "execution_count": null,
      "outputs": []
    },
    {
      "cell_type": "markdown",
      "metadata": {
        "id": "TzGq3vglIAYF"
      },
      "source": [
        "**Exercise Two**"
      ]
    },
    {
      "cell_type": "markdown",
      "metadata": {
        "id": "4kpHVvESIAYF"
      },
      "source": [
        "Write a function that compares two numbers and then returns whichever is larger, along with the string \"is larger.\" For example, the result if the function were run on 3 and 23.8 would be: \"23.8 is larger.\" Don't worry about handling equal values just yet.\n",
        "\n"
      ]
    },
    {
      "cell_type": "code",
      "execution_count": null,
      "metadata": {
        "id": "CuuKMx-sIAYF"
      },
      "outputs": [],
      "source": [
        "# Fill in your code here to write a function that compares two numbers\n"
      ]
    },
    {
      "cell_type": "code",
      "execution_count": null,
      "metadata": {
        "id": "Ke9nWqy4IAYF"
      },
      "outputs": [],
      "source": [
        "# Now, test your new function on several pairs of numbers\n"
      ]
    },
    {
      "cell_type": "markdown",
      "metadata": {
        "id": "VJgSIerqIAYG"
      },
      "source": [
        "Can you modify your function so that it can handle numbers that are equal? For example, the result if the function were run on 3 and 3.0 would be \"3 and 3.0 are equal.\""
      ]
    },
    {
      "cell_type": "code",
      "execution_count": null,
      "metadata": {
        "id": "fhlEMBAIIAYG"
      },
      "outputs": [],
      "source": [
        "# Modify your function to handle equal values\n"
      ]
    },
    {
      "cell_type": "markdown",
      "metadata": {
        "id": "1S28xMMjIAYG"
      },
      "source": [
        "**Exercise Three**"
      ]
    },
    {
      "cell_type": "markdown",
      "metadata": {
        "id": "dr2cKAYCIAYG"
      },
      "source": [
        "Write a function for printing out the count of key/value pairs in a dictionary (yes, you could use `len()` for this, but we want you to practice writing `for` loops that can iterate over dictionaries). Test your new function on both the Massachusetts and New Hampshire snowfall dictionaries (`snowfall_nh_jan` and `snowfall_mass_jan`); remember that if you are starting a new session, you will need to re-initialize the dictionaries."
      ]
    },
    {
      "cell_type": "code",
      "source": [
        "# Fill in your code here\n"
      ],
      "metadata": {
        "id": "_5qKRdzKy05q"
      },
      "execution_count": null,
      "outputs": []
    },
    {
      "cell_type": "markdown",
      "source": [
        "**Exercise Four**"
      ],
      "metadata": {
        "id": "_p_-6b9G0jtr"
      }
    },
    {
      "cell_type": "markdown",
      "source": [
        "The code below asks for you to fill in some components for a function that will print out the high and low temperatures for a set of towns. Follow the instructions to fill in the missing code.\n",
        "\n",
        "Note that this example uses a trick of adding longer comments by entering them as multiline strings, with triple quotation marks."
      ],
      "metadata": {
        "id": "OSnqJllD0mRj"
      }
    },
    {
      "cell_type": "code",
      "source": [
        "\n",
        "\"\"\"\n",
        "First, add at least one key/value pair to the dictionary below. You can pick any town\n",
        "that you like, and either look up or make up the high and low temperatures.\n",
        "Just make sure to follow the format in the starter code, with a tuple containing\n",
        "two strings for the key, and an integer for the value.\n",
        "\"\"\"\n",
        "# Add at least one key/value pair to this dictionary\n",
        "town_weather = {(\"Boston\",\"high\"): 52,\n",
        "                (\"Boston\",\"low\"): 34,\n",
        "                (\"Concord\",\"high\"): 52,\n",
        "                (\"Concord\",\"low\"): 25}\n",
        "\n",
        "\"\"\"\n",
        "The function defined below will simply return the first item in a tuple; we'll\n",
        "use this later in a `for` loop to grab all of the towns from the tuples in\n",
        "our town_weather dictionary.\n",
        "\"\"\"\n",
        "\n",
        "def getTown(myTuple):\n",
        "  return myTuple[0]\n",
        "\n",
        "\"\"\"\n",
        "Taking the above as inspiration, define a function called getHighOrLow. This\n",
        "function should return the second item in any tuple that is passed to it as an\n",
        "argument (in the tuples above, that would be the strings \"high\" and \"low\").\n",
        "\n",
        "This isn't a trick question! The code itself is fairly simple—we just want you\n",
        "to get used to writing smaller functions and code snippets that are part of a\n",
        "larger program.\n",
        "\n",
        "Make sure to name your function exactly as instructed, or the code that\n",
        "depends on it will fail.\n",
        "\n",
        "\"\"\"\n",
        "#Fill in your code here\n",
        "\n",
        "\n",
        "\"\"\"Now, we'll pull this all together! This code below will use the two functions\n",
        "we defined above to first define and then run a function called `reportWeather()`.\n",
        "This function will print the name of each town, with its high and low predictions.\n",
        "\n",
        "You don't need to add anything here, but read through the code and make sure you\n",
        "understand what is happening.\n",
        "\"\"\"\n",
        "def reportWeather(weatherDict):\n",
        "  for townTuple in weatherDict:\n",
        "    townName = getTown(townTuple)\n",
        "    highOrLow = getHighOrLow(townTuple)\n",
        "    temp = weatherDict[townTuple]\n",
        "    print(townName, \"will have a\", highOrLow, \"of\", temp)\n",
        "\n",
        "reportWeather(town_weather)"
      ],
      "metadata": {
        "id": "zayhglG7zmNY",
        "colab": {
          "base_uri": "https://localhost:8080/",
          "height": 297
        },
        "outputId": "0b00234f-79a3-4916-d52f-0cdaac26ee4f"
      },
      "execution_count": null,
      "outputs": [
        {
          "output_type": "error",
          "ename": "NameError",
          "evalue": "name 'getHighOrLow' is not defined",
          "traceback": [
            "\u001b[0;31m---------------------------------------------------------------------------\u001b[0m",
            "\u001b[0;31mNameError\u001b[0m                                 Traceback (most recent call last)",
            "\u001b[0;32m/tmp/ipython-input-2652663744.py\u001b[0m in \u001b[0;36m<cell line: 0>\u001b[0;34m()\u001b[0m\n\u001b[1;32m     50\u001b[0m     \u001b[0mprint\u001b[0m\u001b[0;34m(\u001b[0m\u001b[0mtownName\u001b[0m\u001b[0;34m,\u001b[0m \u001b[0;34m\"will have a\"\u001b[0m\u001b[0;34m,\u001b[0m \u001b[0mhighOrLow\u001b[0m\u001b[0;34m,\u001b[0m \u001b[0;34m\"of\"\u001b[0m\u001b[0;34m,\u001b[0m \u001b[0mtemp\u001b[0m\u001b[0;34m)\u001b[0m\u001b[0;34m\u001b[0m\u001b[0;34m\u001b[0m\u001b[0m\n\u001b[1;32m     51\u001b[0m \u001b[0;34m\u001b[0m\u001b[0m\n\u001b[0;32m---> 52\u001b[0;31m \u001b[0mreportWeather\u001b[0m\u001b[0;34m(\u001b[0m\u001b[0mtown_weather\u001b[0m\u001b[0;34m)\u001b[0m\u001b[0;34m\u001b[0m\u001b[0;34m\u001b[0m\u001b[0m\n\u001b[0m",
            "\u001b[0;32m/tmp/ipython-input-2652663744.py\u001b[0m in \u001b[0;36mreportWeather\u001b[0;34m(weatherDict)\u001b[0m\n\u001b[1;32m     46\u001b[0m   \u001b[0;32mfor\u001b[0m \u001b[0mtownTuple\u001b[0m \u001b[0;32min\u001b[0m \u001b[0mweatherDict\u001b[0m\u001b[0;34m:\u001b[0m\u001b[0;34m\u001b[0m\u001b[0;34m\u001b[0m\u001b[0m\n\u001b[1;32m     47\u001b[0m     \u001b[0mtownName\u001b[0m \u001b[0;34m=\u001b[0m \u001b[0mgetTown\u001b[0m\u001b[0;34m(\u001b[0m\u001b[0mtownTuple\u001b[0m\u001b[0;34m)\u001b[0m\u001b[0;34m\u001b[0m\u001b[0;34m\u001b[0m\u001b[0m\n\u001b[0;32m---> 48\u001b[0;31m     \u001b[0mhighOrLow\u001b[0m \u001b[0;34m=\u001b[0m \u001b[0mgetHighOrLow\u001b[0m\u001b[0;34m(\u001b[0m\u001b[0mtownTuple\u001b[0m\u001b[0;34m)\u001b[0m\u001b[0;34m\u001b[0m\u001b[0;34m\u001b[0m\u001b[0m\n\u001b[0m\u001b[1;32m     49\u001b[0m     \u001b[0mtemp\u001b[0m \u001b[0;34m=\u001b[0m \u001b[0mweatherDict\u001b[0m\u001b[0;34m[\u001b[0m\u001b[0mtownTuple\u001b[0m\u001b[0;34m]\u001b[0m\u001b[0;34m\u001b[0m\u001b[0;34m\u001b[0m\u001b[0m\n\u001b[1;32m     50\u001b[0m     \u001b[0mprint\u001b[0m\u001b[0;34m(\u001b[0m\u001b[0mtownName\u001b[0m\u001b[0;34m,\u001b[0m \u001b[0;34m\"will have a\"\u001b[0m\u001b[0;34m,\u001b[0m \u001b[0mhighOrLow\u001b[0m\u001b[0;34m,\u001b[0m \u001b[0;34m\"of\"\u001b[0m\u001b[0;34m,\u001b[0m \u001b[0mtemp\u001b[0m\u001b[0;34m)\u001b[0m\u001b[0;34m\u001b[0m\u001b[0;34m\u001b[0m\u001b[0m\n",
            "\u001b[0;31mNameError\u001b[0m: name 'getHighOrLow' is not defined"
          ]
        }
      ]
    },
    {
      "cell_type": "markdown",
      "metadata": {
        "id": "CPgkEr24IAYG"
      },
      "source": [
        "# Solutions\n",
        "These are some sample solutions, but, as always, you might have taken a different approach."
      ]
    },
    {
      "cell_type": "code",
      "execution_count": null,
      "metadata": {
        "id": "1yFsEsvRIAYG",
        "colab": {
          "base_uri": "https://localhost:8080/"
        },
        "outputId": "0536b012-af67-4b36-8343-41e07b1aeb65"
      },
      "outputs": [
        {
          "output_type": "execute_result",
          "data": {
            "text/plain": [
              "63"
            ]
          },
          "metadata": {},
          "execution_count": 15
        }
      ],
      "source": [
        "# Exercise One\n",
        "def multiply_two(a, b):\n",
        "    multiplied = a * b\n",
        "    return multiplied\n",
        "\n",
        "# Testing the function\n",
        "multiply_two(7,9)"
      ]
    },
    {
      "cell_type": "code",
      "execution_count": null,
      "metadata": {
        "id": "Zuy8lRjTIAYG",
        "colab": {
          "base_uri": "https://localhost:8080/",
          "height": 35
        },
        "outputId": "943da357-44f9-4050-f5c1-4a39d907082d"
      },
      "outputs": [
        {
          "output_type": "execute_result",
          "data": {
            "text/plain": [
              "'23.8 is larger.'"
            ],
            "application/vnd.google.colaboratory.intrinsic+json": {
              "type": "string"
            }
          },
          "metadata": {},
          "execution_count": 16
        }
      ],
      "source": [
        "# Exercise Two, Part One\n",
        "# A function to compare two different numbers\n",
        "def compare_two(num1,num2):\n",
        "    if num1 > num2:\n",
        "        return str(num1) + ' is larger.'\n",
        "    elif num2 > num1:\n",
        "        return str(num2) + ' is larger.'\n",
        "\n",
        "# Testing the new function\n",
        "compare_two(3,23.8)"
      ]
    },
    {
      "cell_type": "code",
      "execution_count": null,
      "metadata": {
        "id": "LHMA_ABcIAYG",
        "colab": {
          "base_uri": "https://localhost:8080/",
          "height": 35
        },
        "outputId": "14345b64-001e-4eed-adc2-c6ea589df9b6"
      },
      "outputs": [
        {
          "output_type": "execute_result",
          "data": {
            "text/plain": [
              "'3 and 3.0 are equal.'"
            ],
            "application/vnd.google.colaboratory.intrinsic+json": {
              "type": "string"
            }
          },
          "metadata": {},
          "execution_count": 17
        }
      ],
      "source": [
        "# Exercise Two, Part Two\n",
        "# A function to compare two numbers that may be different or equal\n",
        "def compare_two(num1,num2):\n",
        "    if num1 > num2:\n",
        "        return str(num1) + ' is larger.'\n",
        "    elif num2 > num1:\n",
        "        return str(num2) + ' is larger.'\n",
        "    elif num2 == num1:\n",
        "        return str(num1) + ' and ' + str(num2) + ' are equal.'\n",
        "\n",
        "# Testing the new function\n",
        "compare_two(3,3.0)"
      ]
    },
    {
      "cell_type": "code",
      "execution_count": null,
      "metadata": {
        "id": "UEctDBwOIAYH",
        "colab": {
          "base_uri": "https://localhost:8080/"
        },
        "outputId": "5a10c372-196a-41e1-f6d6-90a40cbb5a8f"
      },
      "outputs": [
        {
          "output_type": "execute_result",
          "data": {
            "text/plain": [
              "7"
            ]
          },
          "metadata": {},
          "execution_count": 18
        }
      ],
      "source": [
        "# Exercise Three\n",
        "# A function to count the number of key/value pairs in a dictionary\n",
        "def dictionary_counter(dictionary):\n",
        "    count = 0\n",
        "    for key in dictionary:\n",
        "        count = count + 1 # This could also be written count +=1\n",
        "    return count\n",
        "\n",
        "# Testing the new function\n",
        "dictionary_counter(snowfall_nh_jan)"
      ]
    },
    {
      "cell_type": "code",
      "source": [
        "# Exercise Four\n",
        "# Initializes the town_weather dictionary\n",
        "town_weather = {(\"Boston\",\"high\"): 52,\n",
        "                (\"Boston\",\"low\"): 34,\n",
        "                (\"Concord\",\"high\"): 52,\n",
        "                (\"Concord\",\"low\"): 25}\n",
        "\n",
        "# Defines a function for getting towns from the tuples in our dictionary\n",
        "def getTown(myTuple):\n",
        "  return myTuple[0]\n",
        "\n",
        "# Defines a function for getting \"high\" or \"low\" from the tuples in our dictionary\n",
        "def getHighOrLow(myTuple):\n",
        "  return myTuple[1]\n",
        "\n",
        "# Defines a function for printing the weather predictions for the towns in the dictionary\n",
        "def reportWeather(weatherDict):\n",
        "  for townTuple in weatherDict:\n",
        "    townName = getTown(townTuple)\n",
        "    highOrLow = getHighOrLow(townTuple)\n",
        "    temp = weatherDict[townTuple]\n",
        "    print(townName, \"will have a\", highOrLow, \"of\", temp)\n",
        "\n",
        "# Runs the reportWeather function\n",
        "reportWeather(town_weather)"
      ],
      "metadata": {
        "id": "zIzmbEvP3_Gm",
        "colab": {
          "base_uri": "https://localhost:8080/"
        },
        "outputId": "8e8862bf-66e3-456e-dd43-911f28274653"
      },
      "execution_count": null,
      "outputs": [
        {
          "output_type": "stream",
          "name": "stdout",
          "text": [
            "Boston will have a high of 52\n",
            "Boston will have a low of 34\n",
            "Concord will have a high of 52\n",
            "Concord will have a low of 25\n"
          ]
        }
      ]
    },
    {
      "cell_type": "code",
      "source": [],
      "metadata": {
        "id": "CPvOhEgTGIvQ"
      },
      "execution_count": null,
      "outputs": []
    }
  ],
  "metadata": {
    "kernelspec": {
      "display_name": "Python 3",
      "language": "python",
      "name": "python3"
    },
    "language_info": {
      "codemirror_mode": {
        "name": "ipython",
        "version": 3
      },
      "file_extension": ".py",
      "mimetype": "text/x-python",
      "name": "python",
      "nbconvert_exporter": "python",
      "pygments_lexer": "ipython3",
      "version": "3.8.8"
    },
    "toc": {
      "base_numbering": 1,
      "nav_menu": {},
      "number_sections": true,
      "sideBar": true,
      "skip_h1_title": true,
      "title_cell": "Table of Contents",
      "title_sidebar": "Contents",
      "toc_cell": false,
      "toc_position": {},
      "toc_section_display": true,
      "toc_window_display": false
    },
    "colab": {
      "provenance": []
    }
  },
  "nbformat": 4,
  "nbformat_minor": 0
}