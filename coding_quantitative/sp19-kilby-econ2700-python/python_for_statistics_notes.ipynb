{
  "cells": [
    {
      "metadata": {
        "collapsed": true
      },
      "cell_type": "markdown",
      "source": "# Introduction to Python for Statistics\n\n## Code and Text written by: <br/>\n## Laura Nelson ~~ *Assistant Professor of Sociology*<br/><br/>Northeastern University\n### Prepared for Professor Kilby <br/> January, 2019\n<br/>\n\n# Introduction\n\nAs social scientists, we now have access to unprecedented amounts of data. This provides great opportunity, but also different challenges. In particular, it is increasingly important to learn a scripting language, such as Python or R, in order to access, collect, and structure data from diverse sources, and analyze data using new and developing methods, such as machine learning.\n\nIn this lecture and hands-on workshop I will provide a brief introduction to the scripting language Python, using the Jupyter platform (what you're looking at now), with an eye toward data representation and analysis.\n\nI am going to throw a lot of syntax at you. There is no way you will remember all of this. Keep your notes, and my notes, as a reference. Focus on learning the syntax, but also getting a higher-level understanding of the way Python works. The syntax will come as you work with it more. If you've never written in Python, all of this may feel very strange to you. It gets easier as you work with it more.\n\n# Learning Goals\n\n- Understand what Python is, why it is useful, and how to use Python for data analysis.\n- Understand how Python interacts with, and represents, data. \n\n# Learning Outcomes\n\n- Learn and be able to explain Python basics - variables, variable types, manipulating variables, and dataframes\n- Explain what the Python libraries Pandas and Statsmodels are and what they do\n- Write enough code to:\n    - Read in a dataset and manipulate a few variables\n    - Produce basic summary statistics from a Pandas dataframe\n    - Produce three visualization from the dataframe: histogram, scatter plot, and bar chart\n    - Implement a simple OLS regression model and interpret the output\n\n    \n# Workshop Outline\n1. Python basics\n2. The Pandas Dataframe\n    - data representation\n    - data manipulation\n    - summary statistics\n3. Data visualization using matplotlib\n4. StatsModels for statistics"
    },
    {
      "metadata": {},
      "cell_type": "markdown",
      "source": "# 1. Python basics"
    },
    {
      "metadata": {
        "trusted": true
      },
      "cell_type": "code",
      "source": "# python is all about functions, variables, and doing things to variables using functions\n# the print function\n\nprint(\"Hello, world!\")",
      "execution_count": 1,
      "outputs": [
        {
          "output_type": "stream",
          "text": "Hello, world!\n",
          "name": "stdout"
        }
      ]
    },
    {
      "metadata": {},
      "cell_type": "markdown",
      "source": "<a id='arithmetic'></a>\n### Arithmetic"
    },
    {
      "metadata": {
        "trusted": true
      },
      "cell_type": "code",
      "source": "# Computers are really good at arithmetic\n# Addition\n\n2+5",
      "execution_count": 2,
      "outputs": [
        {
          "output_type": "execute_result",
          "execution_count": 2,
          "data": {
            "text/plain": "7"
          },
          "metadata": {}
        }
      ]
    },
    {
      "metadata": {
        "trusted": true
      },
      "cell_type": "code",
      "source": "# Let's have Python report the results from three operations at the same time\n\nprint(2-5)\nprint(2*5)\nprint(2/5)",
      "execution_count": 3,
      "outputs": [
        {
          "output_type": "stream",
          "text": "-3\n10\n0.4\n",
          "name": "stdout"
        }
      ]
    },
    {
      "metadata": {
        "trusted": true
      },
      "cell_type": "code",
      "source": "# If we have all of our operations in the last line of the cell, Jupyter will print them together\n\n2-5, 2*5, 2/5",
      "execution_count": 4,
      "outputs": [
        {
          "output_type": "execute_result",
          "execution_count": 4,
          "data": {
            "text/plain": "(-3, 10, 0.4)"
          },
          "metadata": {}
        }
      ]
    },
    {
      "metadata": {
        "trusted": true
      },
      "cell_type": "code",
      "source": "# We can also do boolean operators\n# And let's compare values\nprint( 5 == 5)\nprint( 5 == 3)\n2>5",
      "execution_count": 5,
      "outputs": [
        {
          "output_type": "stream",
          "text": "True\nFalse\n",
          "name": "stdout"
        },
        {
          "output_type": "execute_result",
          "execution_count": 5,
          "data": {
            "text/plain": "False"
          },
          "metadata": {}
        }
      ]
    },
    {
      "metadata": {},
      "cell_type": "markdown",
      "source": "## Variable assignment"
    },
    {
      "metadata": {},
      "cell_type": "markdown",
      "source": "Assigning variables is something that we do all the time in programming. These aren't quite like the variables from high school algebra, where *x* represents an unknown to solve for. Instead these are like notes to ourselves that we want to save some value(s) for later use.\n\nNote that the equals sign is directional, like an arrow, telling the computer to give a certain value to a certain label."
    },
    {
      "metadata": {
        "trusted": true
      },
      "cell_type": "code",
      "source": "# 'a' is being given the value 2; 'b' is given 5\n\na = 2\nb = 5",
      "execution_count": 6,
      "outputs": []
    },
    {
      "metadata": {
        "trusted": true
      },
      "cell_type": "code",
      "source": "# Let's perform an operation on the variables\n\na+b",
      "execution_count": 7,
      "outputs": [
        {
          "output_type": "execute_result",
          "execution_count": 7,
          "data": {
            "text/plain": "7"
          },
          "metadata": {}
        }
      ]
    },
    {
      "metadata": {
        "trusted": true
      },
      "cell_type": "code",
      "source": "# Variables can have many different kinds of names\n\nthis_number = 2\nb/this_number",
      "execution_count": 8,
      "outputs": [
        {
          "output_type": "execute_result",
          "execution_count": 8,
          "data": {
            "text/plain": "2.5"
          },
          "metadata": {}
        }
      ]
    },
    {
      "metadata": {},
      "cell_type": "markdown",
      "source": "## Variable types\n\nThe type a value has is important. The variable type determines what operators you can use, or how the operators behave."
    },
    {
      "metadata": {
        "trusted": true
      },
      "cell_type": "code",
      "source": "type('Hellow, world!')",
      "execution_count": 9,
      "outputs": [
        {
          "output_type": "execute_result",
          "execution_count": 9,
          "data": {
            "text/plain": "str"
          },
          "metadata": {}
        }
      ]
    },
    {
      "metadata": {
        "trusted": true
      },
      "cell_type": "code",
      "source": "type(17)",
      "execution_count": 10,
      "outputs": [
        {
          "output_type": "execute_result",
          "execution_count": 10,
          "data": {
            "text/plain": "int"
          },
          "metadata": {}
        }
      ]
    },
    {
      "metadata": {
        "trusted": true
      },
      "cell_type": "code",
      "source": "type(3.2)",
      "execution_count": 11,
      "outputs": [
        {
          "output_type": "execute_result",
          "execution_count": 11,
          "data": {
            "text/plain": "float"
          },
          "metadata": {}
        }
      ]
    },
    {
      "metadata": {
        "trusted": true
      },
      "cell_type": "code",
      "source": "type('17')",
      "execution_count": 12,
      "outputs": [
        {
          "output_type": "execute_result",
          "execution_count": 12,
          "data": {
            "text/plain": "str"
          },
          "metadata": {}
        }
      ]
    },
    {
      "metadata": {
        "trusted": true
      },
      "cell_type": "code",
      "source": "print(1,000,000)",
      "execution_count": 13,
      "outputs": [
        {
          "output_type": "stream",
          "text": "1 0 0\n",
          "name": "stdout"
        }
      ]
    },
    {
      "metadata": {
        "trusted": true
      },
      "cell_type": "code",
      "source": "type('17')",
      "execution_count": 14,
      "outputs": [
        {
          "output_type": "execute_result",
          "execution_count": 14,
          "data": {
            "text/plain": "str"
          },
          "metadata": {}
        }
      ]
    },
    {
      "metadata": {
        "trusted": true
      },
      "cell_type": "code",
      "source": "int('17')",
      "execution_count": 15,
      "outputs": [
        {
          "output_type": "execute_result",
          "execution_count": 15,
          "data": {
            "text/plain": "17"
          },
          "metadata": {}
        }
      ]
    },
    {
      "metadata": {
        "trusted": true
      },
      "cell_type": "code",
      "source": "type(int('17'))",
      "execution_count": 16,
      "outputs": [
        {
          "output_type": "execute_result",
          "execution_count": 16,
          "data": {
            "text/plain": "int"
          },
          "metadata": {}
        }
      ]
    },
    {
      "metadata": {
        "trusted": true
      },
      "cell_type": "code",
      "source": "float('3.2')",
      "execution_count": 17,
      "outputs": [
        {
          "output_type": "execute_result",
          "execution_count": 17,
          "data": {
            "text/plain": "3.2"
          },
          "metadata": {}
        }
      ]
    },
    {
      "metadata": {
        "trusted": true
      },
      "cell_type": "code",
      "source": "str(17)",
      "execution_count": 18,
      "outputs": [
        {
          "output_type": "execute_result",
          "execution_count": 18,
          "data": {
            "text/plain": "'17'"
          },
          "metadata": {}
        }
      ]
    },
    {
      "metadata": {},
      "cell_type": "markdown",
      "source": "## More on operators and variable types"
    },
    {
      "metadata": {},
      "cell_type": "markdown",
      "source": "In Python, human language text gets represented as a *string*. These contain sequential sets of characters and they are offset by quotation marks, either double (\") or single (').\n\nWe will explore different kinds of operations in Python that are specific to human language objects, but it is useful to start by trying to see them as the computer does, as numerical representations."
    },
    {
      "metadata": {
        "trusted": true
      },
      "cell_type": "code",
      "source": "# The iconic string\n\nprint(\"Hello, World!\")",
      "execution_count": 19,
      "outputs": [
        {
          "output_type": "stream",
          "text": "Hello, World!\n",
          "name": "stdout"
        }
      ]
    },
    {
      "metadata": {
        "trusted": true
      },
      "cell_type": "code",
      "source": "# Assign these strings to variables\n\na = \"Hello\"\nb = 'World'",
      "execution_count": 20,
      "outputs": []
    },
    {
      "metadata": {
        "trusted": true
      },
      "cell_type": "code",
      "source": "# Try out arithmetic operations.\n# When we add strings we call it 'concatenation'\n\nprint(a+\" \"+b)\nprint(a*5)",
      "execution_count": 21,
      "outputs": [
        {
          "output_type": "stream",
          "text": "Hello World\nHelloHelloHelloHelloHello\n",
          "name": "stdout"
        }
      ]
    },
    {
      "metadata": {
        "trusted": true
      },
      "cell_type": "code",
      "source": "# Unlike a number that consists of a single value, a string is an ordered\n# sequence of characters. We can find out the length of that sequence.\n\nlen(\"Hello, World!\")",
      "execution_count": 22,
      "outputs": [
        {
          "output_type": "execute_result",
          "execution_count": 22,
          "data": {
            "text/plain": "13"
          },
          "metadata": {}
        }
      ]
    },
    {
      "metadata": {
        "trusted": true
      },
      "cell_type": "code",
      "source": "## Careful about types and operators",
      "execution_count": 23,
      "outputs": []
    },
    {
      "metadata": {
        "trusted": true
      },
      "cell_type": "code",
      "source": "x = \"string 1\"\ny = \"string 2\"\nz = 5\nw = 3",
      "execution_count": 24,
      "outputs": []
    },
    {
      "metadata": {
        "trusted": true
      },
      "cell_type": "code",
      "source": "x + y",
      "execution_count": 25,
      "outputs": [
        {
          "output_type": "execute_result",
          "execution_count": 25,
          "data": {
            "text/plain": "'string 1string 2'"
          },
          "metadata": {}
        }
      ]
    },
    {
      "metadata": {
        "trusted": true
      },
      "cell_type": "code",
      "source": "z + w",
      "execution_count": 26,
      "outputs": [
        {
          "output_type": "execute_result",
          "execution_count": 26,
          "data": {
            "text/plain": "8"
          },
          "metadata": {}
        }
      ]
    },
    {
      "metadata": {
        "trusted": true
      },
      "cell_type": "code",
      "source": "#Why does the following produce an error?\n#y + z",
      "execution_count": 27,
      "outputs": []
    },
    {
      "metadata": {
        "trusted": true
      },
      "cell_type": "code",
      "source": "##Ex: I have 4 dozen eggs. \n#Write a script that assigns that number to a variable, \n#and prints the total number of eggs I have.\n\n#Ex: Create a variable for hours worked, and another for pay per hour\n# Use Python to calculate the total weekly earnings based on these two variables",
      "execution_count": 28,
      "outputs": []
    },
    {
      "metadata": {},
      "cell_type": "markdown",
      "source": "# 2. The Pandas Dataframe\n\n******************************\nThe data we'll analyze today comes from:\n\nNational Center for Education Statistics, United States Department of Education. (2009). Early Childhood Longitudinal Study, Kindergarten Class of 1998-99 (ECLS-K) [Data file]. Available from http://nces.ed.gov/ecls/kindergarten.asp\n\nI selected five variables (columns) to analyze:\n\n* reading_score = READING IRT SCALE SCORE\n* math_score = MATH IRT SCALE SCORE\n* knowledge_score = GENERAL KNOWLEDGE IRT SCALE SCORE\n* p2income = TOTAL HOUSEHOLD INCOME\n* incomecat = INCOME CATEGORES\n    * 1 = low income: < \\$40,000\n    * 2 = mid income\n    * 3 = high income: >= \\$70,000\n    \nThe unit of observation (row) is the individual kindergartner.  \n   \n## Motivating Questions\n\n1. Are math, reading, and general knowledge scores related to household income in any predictable way?\n2. Can you predict general knowledge scores from reading or math scores? That is, are reading and math skills related to general knowledge?"
    },
    {
      "metadata": {
        "trusted": true
      },
      "cell_type": "code",
      "source": "#import our library\nimport pandas",
      "execution_count": 29,
      "outputs": []
    },
    {
      "metadata": {
        "scrolled": true,
        "trusted": true
      },
      "cell_type": "code",
      "source": "df = pandas.read_csv(\"education_dataset.csv\", sep=',')\ndf.head()",
      "execution_count": 30,
      "outputs": [
        {
          "output_type": "execute_result",
          "execution_count": 30,
          "data": {
            "text/html": "<div>\n<table border=\"1\" class=\"dataframe\">\n  <thead>\n    <tr style=\"text-align: right;\">\n      <th></th>\n      <th>reading_score</th>\n      <th>math_score</th>\n      <th>knowledge_score</th>\n      <th>p2income</th>\n      <th>incomecat</th>\n    </tr>\n  </thead>\n  <tbody>\n    <tr>\n      <th>0</th>\n      <td>36.58</td>\n      <td>39.54</td>\n      <td>33.822</td>\n      <td>140000.0</td>\n      <td>3</td>\n    </tr>\n    <tr>\n      <th>1</th>\n      <td>50.82</td>\n      <td>44.44</td>\n      <td>38.147</td>\n      <td>120000.0</td>\n      <td>3</td>\n    </tr>\n    <tr>\n      <th>2</th>\n      <td>40.68</td>\n      <td>28.57</td>\n      <td>28.108</td>\n      <td>90000.0</td>\n      <td>3</td>\n    </tr>\n    <tr>\n      <th>3</th>\n      <td>32.57</td>\n      <td>23.57</td>\n      <td>15.404</td>\n      <td>50000.0</td>\n      <td>2</td>\n    </tr>\n    <tr>\n      <th>4</th>\n      <td>31.98</td>\n      <td>19.65</td>\n      <td>18.727</td>\n      <td>55000.0</td>\n      <td>2</td>\n    </tr>\n  </tbody>\n</table>\n</div>",
            "text/plain": "   reading_score  math_score  knowledge_score  p2income  incomecat\n0          36.58       39.54           33.822  140000.0          3\n1          50.82       44.44           38.147  120000.0          3\n2          40.68       28.57           28.108   90000.0          3\n3          32.57       23.57           15.404   50000.0          2\n4          31.98       19.65           18.727   55000.0          2"
          },
          "metadata": {}
        }
      ]
    },
    {
      "metadata": {},
      "cell_type": "markdown",
      "source": "## Dataframe slicing"
    },
    {
      "metadata": {
        "scrolled": true,
        "trusted": true
      },
      "cell_type": "code",
      "source": "#syntax to extract columns\ndf['reading_score'].head()",
      "execution_count": 31,
      "outputs": [
        {
          "output_type": "execute_result",
          "execution_count": 31,
          "data": {
            "text/plain": "0    36.58\n1    50.82\n2    40.68\n3    32.57\n4    31.98\nName: reading_score, dtype: float64"
          },
          "metadata": {}
        }
      ]
    },
    {
      "metadata": {
        "scrolled": true,
        "trusted": true
      },
      "cell_type": "code",
      "source": "## Ex: Extract us the knowledge score column\ndf['knowledge_score'].head()",
      "execution_count": 32,
      "outputs": [
        {
          "output_type": "execute_result",
          "execution_count": 32,
          "data": {
            "text/plain": "0    33.822\n1    38.147\n2    28.108\n3    15.404\n4    18.727\nName: knowledge_score, dtype: float64"
          },
          "metadata": {}
        }
      ]
    },
    {
      "metadata": {
        "trusted": true
      },
      "cell_type": "code",
      "source": "#extract one row: notice the syntax\ndf.loc[0]",
      "execution_count": 33,
      "outputs": [
        {
          "output_type": "execute_result",
          "execution_count": 33,
          "data": {
            "text/plain": "reading_score          36.580\nmath_score             39.540\nknowledge_score        33.822\np2income           140000.000\nincomecat               3.000\nName: 0, dtype: float64"
          },
          "metadata": {}
        }
      ]
    },
    {
      "metadata": {},
      "cell_type": "markdown",
      "source": "## Summary Statistics"
    },
    {
      "metadata": {
        "trusted": true
      },
      "cell_type": "code",
      "source": "## Summary statistics\ndf['reading_score'].mean()",
      "execution_count": 34,
      "outputs": [
        {
          "output_type": "execute_result",
          "execution_count": 34,
          "data": {
            "text/plain": "35.95421520154177"
          },
          "metadata": {}
        }
      ]
    },
    {
      "metadata": {
        "trusted": true
      },
      "cell_type": "code",
      "source": "df['reading_score'].sum()",
      "execution_count": 35,
      "outputs": [
        {
          "output_type": "execute_result",
          "execution_count": 35,
          "data": {
            "text/plain": "429041.6499999979"
          },
          "metadata": {}
        }
      ]
    },
    {
      "metadata": {
        "trusted": true
      },
      "cell_type": "code",
      "source": "df['reading_score'].std()",
      "execution_count": 36,
      "outputs": [
        {
          "output_type": "execute_result",
          "execution_count": 36,
          "data": {
            "text/plain": "10.473129881360551"
          },
          "metadata": {}
        }
      ]
    },
    {
      "metadata": {
        "trusted": true
      },
      "cell_type": "code",
      "source": "##Ex: explore one of the other columns",
      "execution_count": 37,
      "outputs": []
    },
    {
      "metadata": {
        "trusted": true
      },
      "cell_type": "code",
      "source": "#We can find it all at the same time\n\ndf.describe()",
      "execution_count": 38,
      "outputs": [
        {
          "output_type": "execute_result",
          "execution_count": 38,
          "data": {
            "text/html": "<div>\n<table border=\"1\" class=\"dataframe\">\n  <thead>\n    <tr style=\"text-align: right;\">\n      <th></th>\n      <th>reading_score</th>\n      <th>math_score</th>\n      <th>knowledge_score</th>\n      <th>p2income</th>\n      <th>incomecat</th>\n    </tr>\n  </thead>\n  <tbody>\n    <tr>\n      <th>count</th>\n      <td>11933.000000</td>\n      <td>11933.000000</td>\n      <td>11933.000000</td>\n      <td>11933.000000</td>\n      <td>11933.000000</td>\n    </tr>\n    <tr>\n      <th>mean</th>\n      <td>35.954215</td>\n      <td>27.128244</td>\n      <td>23.073694</td>\n      <td>54317.199930</td>\n      <td>1.895165</td>\n    </tr>\n    <tr>\n      <th>std</th>\n      <td>10.473130</td>\n      <td>9.120505</td>\n      <td>7.396978</td>\n      <td>36639.061147</td>\n      <td>0.822692</td>\n    </tr>\n    <tr>\n      <th>min</th>\n      <td>21.010000</td>\n      <td>10.510000</td>\n      <td>6.985000</td>\n      <td>1.000000</td>\n      <td>1.000000</td>\n    </tr>\n    <tr>\n      <th>25%</th>\n      <td>29.340000</td>\n      <td>20.680000</td>\n      <td>17.385000</td>\n      <td>27000.000000</td>\n      <td>1.000000</td>\n    </tr>\n    <tr>\n      <th>50%</th>\n      <td>34.060000</td>\n      <td>25.680000</td>\n      <td>22.954000</td>\n      <td>47000.000000</td>\n      <td>2.000000</td>\n    </tr>\n    <tr>\n      <th>75%</th>\n      <td>39.890000</td>\n      <td>31.590000</td>\n      <td>28.305000</td>\n      <td>72000.000000</td>\n      <td>3.000000</td>\n    </tr>\n    <tr>\n      <th>max</th>\n      <td>138.510000</td>\n      <td>115.650000</td>\n      <td>47.691000</td>\n      <td>150000.000000</td>\n      <td>3.000000</td>\n    </tr>\n  </tbody>\n</table>\n</div>",
            "text/plain": "       reading_score    math_score  knowledge_score       p2income  \\\ncount   11933.000000  11933.000000     11933.000000   11933.000000   \nmean       35.954215     27.128244        23.073694   54317.199930   \nstd        10.473130      9.120505         7.396978   36639.061147   \nmin        21.010000     10.510000         6.985000       1.000000   \n25%        29.340000     20.680000        17.385000   27000.000000   \n50%        34.060000     25.680000        22.954000   47000.000000   \n75%        39.890000     31.590000        28.305000   72000.000000   \nmax       138.510000    115.650000        47.691000  150000.000000   \n\n          incomecat  \ncount  11933.000000  \nmean       1.895165  \nstd        0.822692  \nmin        1.000000  \n25%        1.000000  \n50%        2.000000  \n75%        3.000000  \nmax        3.000000  "
          },
          "metadata": {}
        }
      ]
    },
    {
      "metadata": {},
      "cell_type": "markdown",
      "source": "## Differences between means \nWhat if we want to know if the mean is different across categories?"
    },
    {
      "metadata": {
        "trusted": true
      },
      "cell_type": "code",
      "source": "#advanced: Pandas groupby function\n#create a new dataframe that is grouped by income category\n\ndf_grouped = df.groupby('incomecat')\ndf_grouped",
      "execution_count": 39,
      "outputs": [
        {
          "output_type": "execute_result",
          "execution_count": 39,
          "data": {
            "text/plain": "<pandas.core.groupby.DataFrameGroupBy object at 0x7f7b14359be0>"
          },
          "metadata": {}
        }
      ]
    },
    {
      "metadata": {
        "trusted": true
      },
      "cell_type": "code",
      "source": "df_grouped['reading_score']",
      "execution_count": 40,
      "outputs": [
        {
          "output_type": "execute_result",
          "execution_count": 40,
          "data": {
            "text/plain": "<pandas.core.groupby.SeriesGroupBy object at 0x7f7b14359b00>"
          },
          "metadata": {}
        }
      ]
    },
    {
      "metadata": {
        "trusted": true
      },
      "cell_type": "code",
      "source": "df_grouped['reading_score'].mean()",
      "execution_count": 41,
      "outputs": [
        {
          "output_type": "execute_result",
          "execution_count": 41,
          "data": {
            "text/plain": "incomecat\n1    32.786798\n2    36.292517\n3    39.898493\nName: reading_score, dtype: float64"
          },
          "metadata": {}
        }
      ]
    },
    {
      "metadata": {
        "trusted": true
      },
      "cell_type": "code",
      "source": "#Ex: explore other categories based on income group",
      "execution_count": 42,
      "outputs": []
    },
    {
      "metadata": {},
      "cell_type": "markdown",
      "source": "# 3. Visualization\n\nWe'll use another library for this: matplotlib"
    },
    {
      "metadata": {
        "trusted": true
      },
      "cell_type": "code",
      "source": "import matplotlib.pyplot as plt",
      "execution_count": 43,
      "outputs": [
        {
          "output_type": "stream",
          "text": "/home/nbuser/anaconda3_420/lib/python3.5/site-packages/matplotlib/font_manager.py:281: UserWarning: Matplotlib is building the font cache using fc-list. This may take a moment.\n  'Matplotlib is building the font cache using fc-list. '\n",
          "name": "stderr"
        }
      ]
    },
    {
      "metadata": {
        "trusted": true
      },
      "cell_type": "code",
      "source": "df.hist()\nplt.show()",
      "execution_count": 44,
      "outputs": [
        {
          "output_type": "display_data",
          "data": {
            "image/png": "[encoded data removed]",
            "text/plain": "<matplotlib.figure.Figure at 0x7f7b10cf7048>"
          },
          "metadata": {}
        }
      ]
    },
    {
      "metadata": {
        "trusted": true
      },
      "cell_type": "code",
      "source": "#That's not pretty. Let's show just one\n#Ex: how might you do this, knowing what you know about how to pull out a column\n\ndf['knowledge_score'].hist()\nplt.show()",
      "execution_count": 45,
      "outputs": [
        {
          "output_type": "display_data",
          "data": {
            "image/png": "[encoded data removed]",
            "text/plain": "<matplotlib.figure.Figure at 0x7f7b10160f60>"
          },
          "metadata": {}
        }
      ]
    },
    {
      "metadata": {
        "trusted": true
      },
      "cell_type": "code",
      "source": "#Ex: explore you column of choice here",
      "execution_count": 46,
      "outputs": []
    },
    {
      "metadata": {
        "trusted": true
      },
      "cell_type": "code",
      "source": "#Other options:\n#Scatter plot: is math and reading scores correlated?\n\ndf.plot(kind='scatter', x = 'reading_score', y = 'math_score')\nplt.show()",
      "execution_count": 47,
      "outputs": [
        {
          "output_type": "display_data",
          "data": {
            "image/png": "[encoded data removed]",
            "text/plain": "<matplotlib.figure.Figure at 0x7f7b0fdc4438>"
          },
          "metadata": {}
        }
      ]
    },
    {
      "metadata": {
        "trusted": true
      },
      "cell_type": "code",
      "source": "#Ex: just based on visuals alone, is there a stronger relationship between math score and general knowledge,\n#Or reading score and general knowledge?\ndf.plot(kind='scatter', x = 'reading_score', y = 'knowledge_score')\nplt.show()",
      "execution_count": 48,
      "outputs": [
        {
          "output_type": "display_data",
          "data": {
            "image/png": "[encoded data removed]",
            "text/plain": "<matplotlib.figure.Figure at 0x7f7b0fc88e80>"
          },
          "metadata": {}
        }
      ]
    },
    {
      "metadata": {
        "trusted": true
      },
      "cell_type": "code",
      "source": "df.plot(kind='scatter', x = 'math_score', y = 'knowledge_score')\nplt.show()",
      "execution_count": 49,
      "outputs": [
        {
          "output_type": "display_data",
          "data": {
            "image/png": "[encoded data removed]",
            "text/plain": "<matplotlib.figure.Figure at 0x7f7b0fcf1240>"
          },
          "metadata": {}
        }
      ]
    },
    {
      "metadata": {
        "trusted": true
      },
      "cell_type": "code",
      "source": "## Plot average by income\n## remember our grouped by plot\n## Let's first make another dataframe from it\n\ndf_grouped_mean = df_grouped.mean()\ndf_grouped_mean",
      "execution_count": 50,
      "outputs": [
        {
          "output_type": "execute_result",
          "execution_count": 50,
          "data": {
            "text/html": "<div>\n<table border=\"1\" class=\"dataframe\">\n  <thead>\n    <tr style=\"text-align: right;\">\n      <th></th>\n      <th>reading_score</th>\n      <th>math_score</th>\n      <th>knowledge_score</th>\n      <th>p2income</th>\n    </tr>\n    <tr>\n      <th>incomecat</th>\n      <th></th>\n      <th></th>\n      <th></th>\n      <th></th>\n    </tr>\n  </thead>\n  <tbody>\n    <tr>\n      <th>1</th>\n      <td>32.786798</td>\n      <td>23.924504</td>\n      <td>19.947683</td>\n      <td>22019.718482</td>\n    </tr>\n    <tr>\n      <th>2</th>\n      <td>36.292517</td>\n      <td>27.568468</td>\n      <td>23.887885</td>\n      <td>51742.759528</td>\n    </tr>\n    <tr>\n      <th>3</th>\n      <td>39.898493</td>\n      <td>31.012720</td>\n      <td>26.451851</td>\n      <td>100989.757352</td>\n    </tr>\n  </tbody>\n</table>\n</div>",
            "text/plain": "           reading_score  math_score  knowledge_score       p2income\nincomecat                                                           \n1              32.786798   23.924504        19.947683   22019.718482\n2              36.292517   27.568468        23.887885   51742.759528\n3              39.898493   31.012720        26.451851  100989.757352"
          },
          "metadata": {}
        }
      ]
    },
    {
      "metadata": {
        "trusted": true
      },
      "cell_type": "code",
      "source": "## We can plot this like we would the original dataframe!\n\ndf_grouped_mean.plot(kind='bar')\nplt.show()",
      "execution_count": 51,
      "outputs": [
        {
          "output_type": "display_data",
          "data": {
            "image/png": "[encoded data removed]",
            "text/plain": "<matplotlib.figure.Figure at 0x7f7b0fcb9b00>"
          },
          "metadata": {}
        }
      ]
    },
    {
      "metadata": {
        "trusted": true
      },
      "cell_type": "code",
      "source": "df_grouped_mean[['reading_score', 'math_score', 'knowledge_score']].plot(kind='bar')\nplt.legend(loc=9, bbox_to_anchor=(0.5, -0.2), ncol = 3)\nplt.show()",
      "execution_count": 52,
      "outputs": [
        {
          "output_type": "display_data",
          "data": {
            "image/png": "[encoded data removed]",
            "text/plain": "<matplotlib.figure.Figure at 0x7f7b0f9c7390>"
          },
          "metadata": {}
        }
      ]
    },
    {
      "metadata": {},
      "cell_type": "markdown",
      "source": "# 3. Statistics using StatsModels"
    },
    {
      "metadata": {
        "trusted": true
      },
      "cell_type": "code",
      "source": "#We'll use two parts of the statsmodels library, the ttest and ols\nimport statsmodels.api as sm\nfrom statsmodels.formula.api import ols",
      "execution_count": 53,
      "outputs": []
    },
    {
      "metadata": {},
      "cell_type": "markdown",
      "source": "## T-test"
    },
    {
      "metadata": {
        "scrolled": true,
        "trusted": true
      },
      "cell_type": "code",
      "source": "## Task one: is the difference between categories statistically significant?\n#First, one more Pandas skill: data slicing\n\n#pull out a column\ndf['incomecat'].head()",
      "execution_count": 54,
      "outputs": [
        {
          "output_type": "execute_result",
          "execution_count": 54,
          "data": {
            "text/plain": "0    3\n1    3\n2    3\n3    2\n4    2\nName: incomecat, dtype: int64"
          },
          "metadata": {}
        }
      ]
    },
    {
      "metadata": {
        "scrolled": true,
        "trusted": true
      },
      "cell_type": "code",
      "source": "#test if a row meets a certain condition (remember our boolean variables from above)\n(df['incomecat']==1).head()",
      "execution_count": 55,
      "outputs": [
        {
          "output_type": "execute_result",
          "execution_count": 55,
          "data": {
            "text/plain": "0    False\n1    False\n2    False\n3    False\n4    False\nName: incomecat, dtype: bool"
          },
          "metadata": {}
        }
      ]
    },
    {
      "metadata": {
        "scrolled": true,
        "trusted": true
      },
      "cell_type": "code",
      "source": "#pull out only rows that meet that condtion\n\ndf[df['incomecat']==1].head()",
      "execution_count": 56,
      "outputs": [
        {
          "output_type": "execute_result",
          "execution_count": 56,
          "data": {
            "text/html": "<div>\n<table border=\"1\" class=\"dataframe\">\n  <thead>\n    <tr style=\"text-align: right;\">\n      <th></th>\n      <th>reading_score</th>\n      <th>math_score</th>\n      <th>knowledge_score</th>\n      <th>p2income</th>\n      <th>incomecat</th>\n    </tr>\n  </thead>\n  <tbody>\n    <tr>\n      <th>10</th>\n      <td>26.77</td>\n      <td>15.97</td>\n      <td>11.269</td>\n      <td>2000.0</td>\n      <td>1</td>\n    </tr>\n    <tr>\n      <th>12</th>\n      <td>27.90</td>\n      <td>20.23</td>\n      <td>21.195</td>\n      <td>9000.0</td>\n      <td>1</td>\n    </tr>\n    <tr>\n      <th>13</th>\n      <td>32.05</td>\n      <td>20.27</td>\n      <td>14.700</td>\n      <td>18000.0</td>\n      <td>1</td>\n    </tr>\n    <tr>\n      <th>15</th>\n      <td>27.46</td>\n      <td>13.92</td>\n      <td>18.558</td>\n      <td>35000.0</td>\n      <td>1</td>\n    </tr>\n    <tr>\n      <th>16</th>\n      <td>37.42</td>\n      <td>29.90</td>\n      <td>20.702</td>\n      <td>30000.0</td>\n      <td>1</td>\n    </tr>\n  </tbody>\n</table>\n</div>",
            "text/plain": "    reading_score  math_score  knowledge_score  p2income  incomecat\n10          26.77       15.97           11.269    2000.0          1\n12          27.90       20.23           21.195    9000.0          1\n13          32.05       20.27           14.700   18000.0          1\n15          27.46       13.92           18.558   35000.0          1\n16          37.42       29.90           20.702   30000.0          1"
          },
          "metadata": {}
        }
      ]
    },
    {
      "metadata": {
        "scrolled": true,
        "trusted": true
      },
      "cell_type": "code",
      "source": "#Create three new dataframes, for each category\ndf_cat1 = df[df['incomecat']==1]\ndf_cat2 = df[df['incomecat']==2]\ndf_cat3 = df[df['incomecat']==3]\ndf_cat1.head()",
      "execution_count": 57,
      "outputs": [
        {
          "output_type": "execute_result",
          "execution_count": 57,
          "data": {
            "text/html": "<div>\n<table border=\"1\" class=\"dataframe\">\n  <thead>\n    <tr style=\"text-align: right;\">\n      <th></th>\n      <th>reading_score</th>\n      <th>math_score</th>\n      <th>knowledge_score</th>\n      <th>p2income</th>\n      <th>incomecat</th>\n    </tr>\n  </thead>\n  <tbody>\n    <tr>\n      <th>10</th>\n      <td>26.77</td>\n      <td>15.97</td>\n      <td>11.269</td>\n      <td>2000.0</td>\n      <td>1</td>\n    </tr>\n    <tr>\n      <th>12</th>\n      <td>27.90</td>\n      <td>20.23</td>\n      <td>21.195</td>\n      <td>9000.0</td>\n      <td>1</td>\n    </tr>\n    <tr>\n      <th>13</th>\n      <td>32.05</td>\n      <td>20.27</td>\n      <td>14.700</td>\n      <td>18000.0</td>\n      <td>1</td>\n    </tr>\n    <tr>\n      <th>15</th>\n      <td>27.46</td>\n      <td>13.92</td>\n      <td>18.558</td>\n      <td>35000.0</td>\n      <td>1</td>\n    </tr>\n    <tr>\n      <th>16</th>\n      <td>37.42</td>\n      <td>29.90</td>\n      <td>20.702</td>\n      <td>30000.0</td>\n      <td>1</td>\n    </tr>\n  </tbody>\n</table>\n</div>",
            "text/plain": "    reading_score  math_score  knowledge_score  p2income  incomecat\n10          26.77       15.97           11.269    2000.0          1\n12          27.90       20.23           21.195    9000.0          1\n13          32.05       20.27           14.700   18000.0          1\n15          27.46       13.92           18.558   35000.0          1\n16          37.42       29.90           20.702   30000.0          1"
          },
          "metadata": {}
        }
      ]
    },
    {
      "metadata": {
        "trusted": true
      },
      "cell_type": "code",
      "source": "sm.stats.ttest_ind(df_cat1['math_score'], df_cat3['math_score'])",
      "execution_count": 58,
      "outputs": [
        {
          "output_type": "execute_result",
          "execution_count": 58,
          "data": {
            "text/plain": "(-36.53139315607543, 7.366476862539346e-271, 8205.0)"
          },
          "metadata": {}
        }
      ]
    },
    {
      "metadata": {
        "trusted": true
      },
      "cell_type": "code",
      "source": "##Ex: produce a t-test for a variable of your choice",
      "execution_count": 59,
      "outputs": []
    },
    {
      "metadata": {},
      "cell_type": "markdown",
      "source": "## OLS regression"
    },
    {
      "metadata": {
        "trusted": true
      },
      "cell_type": "code",
      "source": "##Is there a relationship between reading score, math score, and general knowledge?\n## What of these relationships has more magnitude?\n# Is there a relationship controlling for income group?",
      "execution_count": 60,
      "outputs": []
    },
    {
      "metadata": {
        "trusted": true
      },
      "cell_type": "code",
      "source": "model = ols(\"knowledge_score ~ incomecat\", df).fit()",
      "execution_count": 61,
      "outputs": []
    },
    {
      "metadata": {
        "trusted": true
      },
      "cell_type": "code",
      "source": "print(model.summary()) ",
      "execution_count": 62,
      "outputs": [
        {
          "output_type": "stream",
          "text": "                            OLS Regression Results                            \n==============================================================================\nDep. Variable:        knowledge_score   R-squared:                       0.134\nModel:                            OLS   Adj. R-squared:                  0.133\nMethod:                 Least Squares   F-statistic:                     1838.\nDate:                Tue, 05 Mar 2019   Prob (F-statistic):               0.00\nTime:                        23:19:26   Log-Likelihood:                -39955.\nNo. Observations:               11933   AIC:                         7.991e+04\nDf Residuals:                   11931   BIC:                         7.993e+04\nDf Model:                           1                                         \nCovariance Type:            nonrobust                                         \n==============================================================================\n                 coef    std err          t      P>|t|      [0.025      0.975]\n------------------------------------------------------------------------------\nIntercept     16.8474      0.158    106.424      0.000      16.537      17.158\nincomecat      3.2854      0.077     42.877      0.000       3.135       3.436\n==============================================================================\nOmnibus:                      168.071   Durbin-Watson:                   1.678\nProb(Omnibus):                  0.000   Jarque-Bera (JB):              131.208\nSkew:                           0.175   Prob(JB):                     3.23e-29\nKurtosis:                       2.624   Cond. No.                         6.24\n==============================================================================\n\nWarnings:\n[1] Standard Errors assume that the covariance matrix of the errors is correctly specified.\n",
          "name": "stdout"
        }
      ]
    },
    {
      "metadata": {
        "trusted": true
      },
      "cell_type": "code",
      "source": "##Ex: Explore the relationship between reading score and knowledge score.\n## Do the same for other dependent/independent variables.",
      "execution_count": 63,
      "outputs": []
    }
  ],
  "metadata": {
    "kernelspec": {
      "name": "python3",
      "display_name": "Python 3",
      "language": "python"
    },
    "language_info": {
      "mimetype": "text/x-python",
      "nbconvert_exporter": "python",
      "name": "python",
      "pygments_lexer": "ipython3",
      "version": "3.5.4",
      "file_extension": ".py",
      "codemirror_mode": {
        "version": 3,
        "name": "ipython"
      }
    }
  },
  "nbformat": 4,
  "nbformat_minor": 2
}