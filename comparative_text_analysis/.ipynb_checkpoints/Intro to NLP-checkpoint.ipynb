{
 "cells": [
  {
   "cell_type": "markdown",
   "metadata": {},
   "source": [
    "# Introduction to Natural Language Processing (NLP) and Text Analysis\n",
    "\n",
    "Generally speaking, <i>Computational Text Analysis</i> is a set of interpretive methods which seek to understand patterns in human discourse, in part through statistics. More familiar methods, such as close reading, are exceptionally well-suited to the analysis of individual texts, however our research questions typically compel us to look for relationships across texts, sometimes counting in the thousands or even millions. We have to zoom out, in order to perform so-called <i>distant reading</i>. Fortunately for us, computers are well-suited to identify the kinds of textual relationships that exist at scale.\n",
    "\n",
    "<i>Natural Language Processing</i> is an umbrella term for the methods by which a computer handles human language text. This includes transforming the text into a numerical form that the computer manipulates natively, as well as the measurements that reserchers often perform. In the parlance, <i>natural language</i> refers to a language spoken by humans, as opposed to a <i>formal language</i>, such as Python, which comprises a set of logical operations.\n",
    "\n",
    "\n",
    "# Lecture Outline\n",
    "- Text in Python\n",
    "- Tokenization & Term Frequency\n",
    "- Pre-Processing: \n",
    "    * Changing words to lowercase\n",
    "    * Removing stop words\n",
    "    * Removing punctuation\n",
    "- Part-of-Speech Tagging\n",
    "    * Tagging tokens\n",
    "    * Counting tagged tokens\n",
    "- Concordance\n",
    "- Sentiment"
   ]
  },
  {
   "cell_type": "markdown",
   "metadata": {},
   "source": [
    "# 1. Text in Python\n",
    "\n",
    "First, a quote from Rachel Carson's *Silent Spring*."
   ]
  },
  {
   "cell_type": "code",
   "execution_count": null,
   "metadata": {
    "scrolled": true
   },
   "outputs": [],
   "source": [
    "print(\n",
    "\"Those who contemplate the beauty of the earth find reserves of strength \\\n",
    "that will endure as long as life lasts. \\\n",
    "There is something infinitely healing in the repeated refrains of nature -- \\\n",
    "the assurance that dawn comes after night, and spring after winter.\"\n",
    ") "
   ]
  },
  {
   "cell_type": "code",
   "execution_count": null,
   "metadata": {
    "collapsed": true,
    "scrolled": true
   },
   "outputs": [],
   "source": [
    "# Assign the quote to a variable, so we can refer back to it later\n",
    "# We get to make up the name of our variable, so let's give it a descriptive label: \"sentence\"\n",
    "\n",
    "sentence = \"Those who contemplate the beauty of the earth find reserves of strength \\\n",
    "that will endure as long as life lasts. \\\n",
    "There is something infinitely healing in the repeated refrains of nature -- \\\n",
    "the assurance that dawn comes after night, and spring after winter.\""
   ]
  },
  {
   "cell_type": "code",
   "execution_count": null,
   "metadata": {
    "scrolled": true
   },
   "outputs": [],
   "source": [
    "# Print the contents of the variable 'sentence'\n",
    "\n",
    "print(sentence)"
   ]
  },
  {
   "cell_type": "markdown",
   "metadata": {},
   "source": [
    "# 2. Tokenizing Text and Counting Words\n",
    "\n",
    "The above output is how a human would read that sentence. Next we look the main way in which a computer \"reads\", or *parses*, that sentence.\n",
    "\n",
    "The first step is typically to <i>tokenize</i> it, or to change it into a series of <i>tokens</i>. Each token roughly corresponds to either a word or punctuation mark. These smaller units are more straight-forward for the computer to handle for tasks like counting."
   ]
  },
  {
   "cell_type": "code",
   "execution_count": null,
   "metadata": {
    "scrolled": true
   },
   "outputs": [],
   "source": [
    "# Tokenize our sentence\n",
    "import nltk\n",
    "sentence_tokens = nltk.word_tokenize(sentence)\n",
    "sentence_tokens"
   ]
  },
  {
   "cell_type": "code",
   "execution_count": null,
   "metadata": {
    "scrolled": true
   },
   "outputs": [],
   "source": [
    "# How many tokens are in our list?\n",
    "\n",
    "len(sentence_tokens)"
   ]
  },
  {
   "cell_type": "markdown",
   "metadata": {},
   "source": [
    "## Why might we do this?\n",
    "\n",
    "If it's a much longer text, we can do interesting things with it."
   ]
  },
  {
   "cell_type": "code",
   "execution_count": null,
   "metadata": {
    "collapsed": true,
    "scrolled": true
   },
   "outputs": [],
   "source": [
    "text = '''1. A Fable for Tomorrow \n",
    "\n",
    "THERE WAS ONCE a town in the heart of America where all life seemed to live in \n",
    "harmony with its surroundings. The town lay in the midst of a checkerboard of prosperous \n",
    "farms, with fields of grain and hillsides of orchards where, in spring, white clouds of bloom \n",
    "drifted above the green fields. In autumn, oak and maple and birch set up a blaze of color that \n",
    "flamed and flickered across a backdrop of pines. Then foxes barked in the hills and deer silently \n",
    "crossed the fields, half hidden in the mists of the fall mornings. \n",
    "\n",
    "Along the roads, laurel, viburnum and alder, great ferns and wildflowers delighted the traveler's \n",
    "eye through much of the year. Even in winter the roadsides were places of beauty, where \n",
    "countless birds came to feed on the berries and on the seed heads of the dried weeds rising \n",
    "above the snow. The countryside was, in fact, famous for the abundance and variety of its bird \n",
    "life, and when the flood of migrants was pouring through in spring and fall people traveled from \n",
    "great distances to observe them. Others came to fish the streams, which flowed clear and cold \n",
    "out of the hills and contained shady pools where trout lay. So it had been from the days many \n",
    "years ago when the first settlers raised their houses, sank their wells, and built their barns. \n",
    "Then a strange blight crept over the area and everything began to change. Some evil spell had \n",
    "settled on the community: mysterious maladies swept the flocks of chickens; the cattle and \n",
    "sheep sickened and died. Everywhere was a shadow of death. The farmers spoke of much \n",
    "illness among their families. In the town the doctors had become more and more puzzled by \n",
    "new kinds of sickness appearing among their patients. There had been several sudden and \n",
    "unexplained deaths, not only among adults but even among children, who would be stricken \n",
    "suddenly while at play and die within a few hours. \n",
    "\n",
    "There was a strange stillness. The birds, for example— where had they gone? Many people \n",
    "spoke of them, puzzled and disturbed. The feeding stations in the backyards were deserted. The \n",
    "few birds seen anywhere were moribund; they trembled violently and could not fly. It was a \n",
    "spring without voices. On the mornings that had once throbbed with the dawn chorus of robins, \n",
    "catbirds, doves, jays, wrens, and scores of other bird voices there was now no sound; only \n",
    "silence lay over the fields and woods and marsh. \n",
    "\n",
    "On the farms the hens brooded, but no chicks hatched. The farmers complained that they were \n",
    "unable to raise any pigs— the litters were small and the young survived only a few days. The \n",
    "apple trees were coming into bloom but no bees droned among the blossoms, so there was no \n",
    "pollination and there would be no fruit. The roadsides, once so attractive, were now lined with \n",
    "browned and withered vegetation as though swept by fire. These, too, were silent, deserted by \n",
    "all living things. Even the streams were now lifeless. Anglers no longer visited them, for all the \n",
    "fish had died. \n",
    "\n",
    "In the gutters under the eaves and between the shingles of the roofs, a white granular powder \n",
    "still showed a few patches; some weeks before it had fallen like snow upon the roofs and the \n",
    "lawns, the fields and streams. No witchcraft, no enemy action had silenced the rebirth of new \n",
    "life in this stricken world. The people had done it themselves. \n",
    "\n",
    ". . .This town does not actually exist, but it might easily have a thousand counterpa rts in \n",
    "America or elsewhere in the world. I know of no community that has experienced all the \n",
    "\n",
    "\n",
    "\n",
    "misfortunes I describe. Yet everyone of these disasters has actually happened somewhere, and \n",
    "many real communities have already suffered a substantial number of them. A grim specter \n",
    "has crept upon us almost unnoticed, and this imagined tragedy may easily become a stark \n",
    "reality we all shall know. What has already silenced the voices of spring in countless towns in \n",
    "America? This book is an attempt to explain. \n",
    "\n",
    "\n",
    "\n",
    "2. The Obligation to Endure \n",
    "\n",
    "\n",
    "\n",
    "THE HISTORY OF LIFE on earth has been a history of interaction between living things \n",
    "and their surroundings. To a large extent, the physical form and the habits of the earth's \n",
    "vegetation and its animal life have been molded by the environment. Considering the whole \n",
    "span of earthly time, the opposite effect, in which life actually modifies its surroundings, has \n",
    "been relatively slight. Only within the moment of time represented by the present century has \n",
    "one species— man— acquired significant power to alter the nature of his world. \n",
    "During the past quarter century this power has not only increased to one of disturbing \n",
    "magnitude but it has changed in character. The most alarming of all man's assaults upon the \n",
    "environment is the contamination of air, earth, rivers, and sea with dangerous and even lethal \n",
    "materials. This pollution is for the most part irrecoverable; the chain of evil it initiates not \n",
    "only in the world that must support life but in living tissues is for the most part irreversible. In \n",
    "this now universal contamination of the environment, chemicals are the sinister and little- \n",
    "recognized partners of radiation in changing the very nature of the world— the very nature of \n",
    "its life. Strontium 90, released through nuclear explosions into the air, comes to earth in rain or \n",
    "drifts down as fallout, lodges in soil, enters into the grass or corn or wheat grown there, and in \n",
    "time takes up its abode in the bones of a human being, there to remain until his death. \n",
    "Similarly, chemicals sprayed on croplands or forests or gardens lie long in soil, entering into \n",
    "living organisms, passing from one to another in a chain of poisoning and death. Or they pass \n",
    "mysteriously by underground streams until they emerge and, through the alchemy of air and \n",
    "sunlight, combine into new forms that kill vegetation, sicken cattle, and work unknown harm on \n",
    "those who drink from once pure wells. As Albert Schweitzer has said, 'Man can hardly even \n",
    "recognize the devils of his own creation.' It took hundreds of millions of years to produce the \n",
    "life that now inhabits the earth— eons of time in which that developing and evolving and \n",
    "diversifying life reached a state of adjustment and balance with its surroundings. The \n",
    "environment, rigorously shaping and directing the life it supported, contained elements that \n",
    "were hostile as well as supporting. Certain rocks gave out dangerous radiation; even within the \n",
    "light of the sun, from which all life draws its energy, there were short-wave radiations with \n",
    "power to injure. Given time— time not in years but in millennia— life adjusts, and a balance has \n",
    "been reached. For time is the essential ingredient; but in the modern world there is no time. \n",
    "The rapidity of change and the speed with which new situations are created follow the \n",
    "impetuous and heedless pace of man rather than the deliberate pace of nature. Radiation is no \n",
    "longer merely the background radiation of rocks, the bombardment of cosmic rays, the \n",
    "ultraviolet of the sun that have existed before there was any life on earth; radiation is now the \n",
    "unnatural creation of man's tampering with the atom. The chemicals to which life is asked to \n",
    "make its adjustment are no longer merely the calcium and silica and copper and all the rest of \n",
    "the minerals washed out of the rocks and carried in rivers to the sea; they are the synthetic \n",
    "creations of man's inventive mind, brewed in his laboratories, and having no counterparts in \n",
    "nature. \n",
    "\n",
    "To adjust to these chemicals would require time on the scale that is nature's; it would require \n",
    "not merely the years of a man's life but the life of generations. And even this, were it by some \n",
    "miracle possible, would be futile, for the new chemicals come from our laboratories in an \n",
    "\n",
    "\n",
    "\n",
    "endless stream; almost five hundred annually find their way into actual use in the United States \n",
    "alone. The figure is staggering and its implications are not easily grasped— 500 new chemicals \n",
    "to which the bodies of men and animals are required somehow to adapt each year, chemicals \n",
    "totally outside the limits of biologic experience. \n",
    "\n",
    "Among them are many that are used in man's war against nature. Since the mid-1940s over 200 \n",
    "basic chemicals have been created for use in killing insects, weeds, rodents, and other \n",
    "organisms described in the modern vernacular as 'pests'; and they are sold under several \n",
    "thousand different brand names. These sprays, dusts, and aerosols are now applied almost \n",
    "universally to farms, gardens, forests, and homes— nonselective chemicals that have the power \n",
    "to kill every insect, the 'good' and the 'bad', to still the song of birds and the leaping of fish in \n",
    "the streams, to coat the leaves with a deadly film, and to linger on in soil— all this though the \n",
    "intended target may be only a few weeds or insects. Can anyone believe it is possible to lay \n",
    "down such a barrage of poisons on the surface of the earth without making it unfit for all life? \n",
    "They should not be called 'insecticides', but 'biocides'. The whole process of spraying seems \n",
    "caught up in an endless spiral. Since DDT was released for civilian use, a process of escalation \n",
    "has been going on in which ever more toxic materials must be found. This has happened \n",
    "because insects, in a triumphant vindication of Darwin's principle of the survival of the fittest, \n",
    "have evolved super races immune to the particular insecticide used, hence a deadlier one has \n",
    "always to be developed— and then a deadlier one than that. It has happened also because, for \n",
    "reasons to be described later, destructive insects often undergo a 'flareback', or resurgence, \n",
    "after spraying, in numbers greater than before. Thus the chemical war is never won, and all life \n",
    "is caught in its violent crossfire. \n",
    "\n",
    "Along with the possibility of the extinction of mankind by nuclear war, the central problem of \n",
    "our age has therefore become the contamination of man's total environment with such \n",
    "substances of incredible potential for harm— substances that accumulate in the tissues of \n",
    "plants and animals and even penetrate the germ cells to shatter or alter the very material \n",
    "of heredity upon which the shape of the future depends. \n",
    "\n",
    "Some would-be architects of our future look toward a time when it will be possible to alter the \n",
    "human germ plasm by design. But we may easily be doing so now by inadvertence, for many \n",
    "chemicals, like radiation, bring about gene mutations. It is ironic to think that man might \n",
    "determine his own future by something so seemingly trivial as the choice of an insect spray. \n",
    "All this has been risked— for what? Future historians may well be amazed by our distorted \n",
    "sense of proportion. How could intelligent beings seek to control a few unwanted species by a \n",
    "method that contaminated the entire environment and brought the threat of disease and death \n",
    "even to their own kind? Yet this is precisely what we have done. We have done it, moreover, \n",
    "for reasons that collapse the moment we examine them. We are told that the enormous and \n",
    "expanding use of pesticides is necessary to maintain farm production. Yet is our real problem \n",
    "not one of overproduction? Our farms, despite measures to remove acreages from production \n",
    "and to pay farmers not to produce, have yielded such a staggering excess of crops that the \n",
    "American taxpayer in 1962 is paying out more than one billion dollars a year as the total \n",
    "carrying cost of the surplus-food storage program. And is the situation helped when one branch \n",
    "of the Agriculture Department tries to reduce production while another states, as it did in 1958, \n",
    "'It is believed generally that reduction of crop acreages under provisions of the Soil Bank will \n",
    "stimulate interest in use of chemicals to obtain maximum production on the land retained in \n",
    "\n",
    "\n",
    "\n",
    "crops.' All this is not to say there is no insect problem and no need of control. I am saying, \n",
    "rather, that control must be geared to realities, not to mythical situations, and that the \n",
    "methods employed must be such that they do not destroy us along with the insects. \n",
    ". . . The problem whose attempted solution has brought such a train of disaster in its wake is an \n",
    "accompaniment of our modern way of life. Long before the age of man, insects inhabited the \n",
    "earth— a group of extraordinarily varied and adaptable beings. Over the course of time since \n",
    "man's advent, a small percentage of the more than half a million species of insects have come \n",
    "into conflict with human welfare in two principal ways: as competitors for the food supply and \n",
    "as carriers of human disease. Disease-carrying insects become important where human beings \n",
    "are crowded together, especially under conditions where sanitation is poor, as in time of \n",
    "natural disaster or war or in situations of extreme poverty and deprivation. Then control of \n",
    "some sort becomes necessary. It is a sobering fact, however, as we shall presently see, that the \n",
    "method of massive chemical control has had only limited success, and also threatens to worsen \n",
    "the very conditions it is intended to curb. \n",
    "\n",
    "Under primitive agricultural conditions the farmer had few insect problems. These arose with \n",
    "the intensification of agriculture— the devotion of immense acreages to a single crop. Such a \n",
    "system set the stage for explosive increases in specific insect populations. Single-crop farming \n",
    "does not take advantage of the principles by which nature works; it is agriculture as an engineer \n",
    "might conceive it to be. Nature has introduced great variety into the landscape, but man has \n",
    "displayed a passion for simplifying it. Thus he undoes the built-in checks and balances by which \n",
    "nature holds the species within bounds. One important natural check is a limit on the amount \n",
    "of suitable habitat for each species. Obviously then, an insect that lives on wheat can build up \n",
    "its population to much higher levels on a farm devoted to wheat than on one in which wheat is \n",
    "intermingled with other crops to which the insect is not adapted. The same thing happens in \n",
    "other situations. A generation or more ago, the towns of large areas of the United States lined \n",
    "their streets with the noble elm tree. Now the beauty they hopefully created is threatened with \n",
    "complete destruction as disease sweeps through the elms, carried by a beetle that would have \n",
    "only limited chance to build up large populations and to spread from tree to tree if the elms \n",
    "were only occasional trees in a richly diversified planting. \n",
    "\n",
    "Another factor in the modern insect problem is one that must be viewed against a background \n",
    "of geologic and human history: the spreading of thousands of different kinds of organisms from \n",
    "their native homes to invade new territories. This worldwide migration has been studied and \n",
    "graphically described by the British ecologist Charles Elton in his recent book The Ecology of \n",
    "Invasions. During the Cretaceous Period, some hundred million years ago, flooding seas cut \n",
    "many land bridges between continents and living things found themselves confined in what \n",
    "Elton calls 'colossal separate nature reserves'. There, isolated from others of their kind, they \n",
    "developed many new species. When some of the land masses were joined again, about 15 \n",
    "million years ago, these species began to move out into new territories— a movement that is \n",
    "not only still in progress but is now receiving considerable assistance from man. \n",
    "The importation of plants is the primary agent in the modern spread of species, for animals \n",
    "have almost invariably gone along with the plants, quarantine being a comparatively recent and \n",
    "not completely effective innovation. The United States Office of Plant Introduction alone has \n",
    "introduced almost 200,000 species and varieties of plants from all over the world. Nearly half of \n",
    "the 180 or so major insect enemies of plants in the United States are accidental imports from \n",
    "\n",
    "\n",
    "\n",
    "abroad, and most of them have come as hitchhikers on plants. In new territory, out of reach of \n",
    "the restraining hand of the natural enemies that kept down its numbers in its native land, an \n",
    "invading plant or animal is able to become enormously abundant. Thus it is no accident that our \n",
    "most troublesome insects are introduced species. These invasions, both the naturally occurring \n",
    "and those dependent on human assistance, are likely to continue indefinitely. Quarantine and \n",
    "massive chemical campaigns are only extremely expensive ways of buying time. We are faced, \n",
    "according to Dr. Elton, 'with a life-and-death need not just to find new technological means of \n",
    "suppressing this plant or that animal'; instead we need the basic knowledge of animal \n",
    "populations and their relations to their surroundings that will 'promote an even balance and \n",
    "damp down the explosive power of outbreaks and new invasions.' \n",
    "\n",
    "Much of the necessary knowledge is now available but we do not use it. We train ecologists in \n",
    "our universities and even employ them in our governmental agencies but we seldom take their \n",
    "advice. We allow the chemical death rain to fall as though there were no alternative, whereas \n",
    "in fact there are many, and our ingenuity could soon discover many more if given opportunity. \n",
    "Have we fallen into a mesmerized state that makes us accept as inevitable that which is inferior \n",
    "or detrimental, as though having lost the will or the vision to demand that which is good? Such \n",
    "thinking, in the words of the ecologist Paul Shepard, 'idealizes life with only its head out of \n",
    "water, inches above the limits of toleration of the corruption of its own environment. ..Why \n",
    "should we tolerate a diet of weak poisons, a home in insipid surroundings, a circle of \n",
    "acquaintances who are not quite our enemies, the noise of motors with just enough relief to \n",
    "prevent insanity? Who would want to live in a world which is just not quite fatal?' \n",
    "Yet such a world is pressed upon us. The crusade to create a chemically sterile, insect-free \n",
    "world seems to have engendered a fanatic zeal on the part of many specialists and most of the \n",
    "so-called control agencies. On every hand there is evidence that those engaged in spraying \n",
    "operations exercise a ruthless power. 'The regulatory entomologists. ..function as prosecutor, \n",
    "judge and jury, tax assessor and collector and sheriff to enforce their own orders,' said \n",
    "Connecticut entomologist Neely Turner. The most flagrant abuses go unchecked in both state \n",
    "and federal agencies. It is not my contention that chemical insecticides must never be used. I do \n",
    "contend that we have put poisonous and biologically potent chemicals indiscriminately into the \n",
    "hands of persons largely or wholly ignorant of their potentials for harm. We have subjected \n",
    "enormous numbers of people to contact with these poisons, without their consent and often \n",
    "without their knowledge. If the Bill of Rights contains no guarantee that a citizen shall be secure \n",
    "against lethal poisons distributed either by private individuals or by public officials, it is surely \n",
    "only because our forefathers, despite their considerable wisdom and foresight, could conceive \n",
    "of no such problem. \n",
    "\n",
    "I contend, furthermore, that we have allowed these chemicals to be used with little or no \n",
    "advance investigation of their effect on soil, water, wildlife, and man himself. Future \n",
    "generations are unlikely to condone our lack of prudent concern for the integrity of the natural \n",
    "world that supports all life. There is still very limited awareness of the nature of the threat. This \n",
    "is an era of specialists, each of whom sees his own problem and is unaware of or intolerant of \n",
    "the larger frame into which it fits. It is also an era dominated by industry, in which the right to \n",
    "make a dollar at whatever cost is seldom challenged. When the public protests, confronted with \n",
    "some obvious evidence of damaging results of pesticide applications, it is fed little tranquilizing \n",
    "pills of half truth. We urgently need an end to these false assurances, to the sugar coating of \n",
    "unpalatable facts. It is the public that is being asked to assume the risks that the insect \n",
    "controllers calculate. The public must decide whether it wishes to continue on the present \n",
    "road, and it can do so only when in full possession of the facts. In the words of Jean Rostand, \n",
    "'The obligation to endure gives us the right to know.'''\n"
   ]
  },
  {
   "cell_type": "code",
   "execution_count": null,
   "metadata": {
    "scrolled": true
   },
   "outputs": [],
   "source": [
    "# Assign those token counts to a variable\n",
    "import collections\n",
    "text_tokens = nltk.word_tokenize(text)\n",
    "token_frequency = collections.Counter(text_tokens)\n",
    "token_frequency.most_common(20)"
   ]
  },
  {
   "cell_type": "markdown",
   "metadata": {},
   "source": [
    "### Note on Term Frequency\n",
    "\n",
    "Most of the these terms are uninformative: \"the\", \"it\", \"to\", \".\", etc. This is a standard feature of natural languages: the most frequent words are what are called stop words, and do not help us understand the text. They can be important in some cases, but much of the time they are not. We thus just remove them. "
   ]
  },
  {
   "cell_type": "markdown",
   "metadata": {},
   "source": [
    "# 3. Pre-Processing: Lower Case, Remove Stop Words and Punctuation\n",
    "\n",
    "Typically, a text goes through a number of pre-processing steps before beginning to the actual analysis. We have already seen the tokenization step. Typically, pre-processing includes transforming tokens to lower case and removing stop words and punctuation marks."
   ]
  },
  {
   "cell_type": "markdown",
   "metadata": {},
   "source": [
    "### Lower Case"
   ]
  },
  {
   "cell_type": "code",
   "execution_count": null,
   "metadata": {
    "scrolled": true
   },
   "outputs": [],
   "source": [
    "# And now transform it to lower case, all at once\n",
    "\n",
    "sentence.lower()"
   ]
  },
  {
   "cell_type": "code",
   "execution_count": null,
   "metadata": {
    "collapsed": true,
    "scrolled": true
   },
   "outputs": [],
   "source": [
    "# Okay, let's set our list of tokens to lower case, one at a time\n",
    "\n",
    "# The syntax of the line below is tricky. Don't worry about it for now.\n",
    "# We'll spend plenty of time on it tomorrow!\n",
    "\n",
    "lower_case_tokens = [ word.lower()  for word in sentence_tokens ]"
   ]
  },
  {
   "cell_type": "code",
   "execution_count": null,
   "metadata": {
    "scrolled": true
   },
   "outputs": [],
   "source": [
    "# Inspect\n",
    "\n",
    "print(lower_case_tokens)"
   ]
  },
  {
   "cell_type": "markdown",
   "metadata": {},
   "source": [
    "### Stop Words"
   ]
  },
  {
   "cell_type": "code",
   "execution_count": null,
   "metadata": {
    "scrolled": true
   },
   "outputs": [],
   "source": [
    "# clean up data\n",
    "from nltk.corpus import stopwords\n",
    "import string\n",
    "lower_case_tokens = [ word.lower()  for word in text_tokens ]\n",
    "\n",
    "tokens_nostops = [ word  for word in lower_case_tokens  if word not in stopwords.words('english') ]\n",
    "\n",
    "tokens_clean = [word for word in tokens_nostops if word not in string.punctuation]\n",
    "tokens_clean[:50]"
   ]
  },
  {
   "cell_type": "markdown",
   "metadata": {},
   "source": [
    "### Re-count the Most Frequent Words"
   ]
  },
  {
   "cell_type": "code",
   "execution_count": null,
   "metadata": {
    "scrolled": true
   },
   "outputs": [],
   "source": [
    "# Count the new token list\n",
    "\n",
    "word_frequency_clean = collections.Counter(tokens_clean)\n",
    "word_frequency_clean.most_common(20)"
   ]
  },
  {
   "cell_type": "markdown",
   "metadata": {},
   "source": [
    "Better! The most frequent words now give us a pretty good sense of the substance of this sentence. But we still have problems. For example, the token \"'s\" sneaked in there. One solution is to keep adding stop words to our list, but this could go on forever and is not a good solution when processing lots of text.\n",
    "\n",
    "There's another way of identifying content words, and it involves identifying the part of speech of each word."
   ]
  },
  {
   "cell_type": "markdown",
   "metadata": {},
   "source": [
    "# 4. Part-of-Speech Tagging\n",
    "\n",
    "You may have noticed that stop words are typically short function words, like conjunctions and prepositions. Intuitively, if we could identify the part of speech of a word, we would have another way of identifying which contribute to the text's subject matter. NLTK can do that too!\n",
    "\n",
    "NLTK has a <i>POS Tagger</i>, which identifies and labels the part-of-speech (POS) for every token in a text. The particular labels that NLTK uses come from the Penn Treebank corpus, a major resource from corpus linguistics.\n",
    "\n",
    "You can find a list of all Penn POS tags here: https://www.ling.upenn.edu/courses/Fall_2003/ling001/penn_treebank_pos.html\n",
    "\n",
    "Note that, from this point on, the code is going to get a little more complex. Don't worry about the particularities of each line. For now, we will focus on the NLP tasks themselves and the textual patterns they identify."
   ]
  },
  {
   "cell_type": "code",
   "execution_count": null,
   "metadata": {
    "scrolled": false
   },
   "outputs": [],
   "source": [
    "# Use the NLTK POS tagger\n",
    "\n",
    "tagged_tokens = nltk.pos_tag(text_tokens)\n",
    "tagged_tokens[:20]"
   ]
  },
  {
   "cell_type": "markdown",
   "metadata": {},
   "source": [
    "### Most Frequent POS Tags"
   ]
  },
  {
   "cell_type": "code",
   "execution_count": null,
   "metadata": {
    "scrolled": true
   },
   "outputs": [],
   "source": [
    "# We'll tread lightly here, and just say that we're counting POS tags\n",
    "\n",
    "tag_frequency = collections.Counter( [ tag for (word, tag) in tagged_tokens ])\n",
    "tag_frequency.most_common(10)"
   ]
  },
  {
   "cell_type": "markdown",
   "metadata": {},
   "source": [
    "### Now it's getting interesting\n",
    "\n",
    "The \"IN\" tag refers to prepositions, so it's no surprise that it should be the most common. However, we can see at a glance now that the sentence contains a lot of adjectives, \"JJ\". This feels like it tells us something about the rhetorical style or structure of the sentence: certain qualifiers seem to be important to the meaning of the sentence.\n",
    "\n",
    "Let's dig in to see what those adjectives are."
   ]
  },
  {
   "cell_type": "code",
   "execution_count": null,
   "metadata": {
    "scrolled": true
   },
   "outputs": [],
   "source": [
    "# Let's filter our list, so it only keeps adjectives\n",
    "\n",
    "adjectives = [word for word,pos in tagged_tokens if pos == 'JJ' or pos=='JJR' or pos=='JJS']\n",
    "adj_frequency = collections.Counter(adjectives)\n",
    "adj_frequency.most_common(5)"
   ]
  },
  {
   "cell_type": "code",
   "execution_count": null,
   "metadata": {
    "scrolled": true
   },
   "outputs": [],
   "source": [
    "# Let's do the same for nouns.\n",
    "\n",
    "nouns = [word for word,pos in tagged_tokens if pos=='NN' or pos=='NNS']\n",
    "noun_frequency = collections.Counter(nouns)\n",
    "print(noun_frequency.most_common(5))"
   ]
  },
  {
   "cell_type": "markdown",
   "metadata": {},
   "source": [
    "And now verbs."
   ]
  },
  {
   "cell_type": "code",
   "execution_count": null,
   "metadata": {
    "scrolled": true
   },
   "outputs": [],
   "source": [
    "# And we'll do the verbs in one fell swoop\n",
    "\n",
    "verbs = [word for word,pos in tagged_tokens if pos == 'VB' or pos=='VBD' or pos=='VBG' or pos=='VBN' or pos=='VBP' or pos=='VBZ']\n",
    "verb_frequency = collections.Counter(verbs)\n",
    "print(verb_frequency.most_common(5))"
   ]
  },
  {
   "cell_type": "code",
   "execution_count": null,
   "metadata": {
    "scrolled": true
   },
   "outputs": [],
   "source": [
    "# If we bring all of this together we get a pretty good summary of the sentence\n",
    "\n",
    "print(adj_frequency.most_common(5))\n",
    "print(noun_frequency.most_common(5))\n",
    "print(verb_frequency.most_common(5))"
   ]
  },
  {
   "cell_type": "markdown",
   "metadata": {},
   "source": [
    "# 5. Concordances and Similar Words using NLTK\n",
    "\n",
    "Tallying word frequencies gives us a bird's-eye-view of our text but we lose one important aspect: context. As the dictum goes: \"You shall know a word by the company it keeps.\"\n",
    "\n",
    "Concordances show us every occurrence of a given word in a text, inside a window of context words that appear before and after it. This is helpful for close reading to get at a word's meaning by seeing how it is used. We can also use the logic of shared context in order to identify which words have similar meanings. To illustrate this, we can compare the way the word \"monstrous\" is used in our two novels."
   ]
  },
  {
   "cell_type": "markdown",
   "metadata": {},
   "source": [
    "### Concordance"
   ]
  },
  {
   "cell_type": "code",
   "execution_count": null,
   "metadata": {
    "scrolled": true
   },
   "outputs": [],
   "source": [
    "# Transform our raw token lists in NLTK Text-objects\n",
    "text_nltk = nltk.Text(text_tokens)\n",
    "text_nltk.concordance(\"life\")"
   ]
  },
  {
   "cell_type": "code",
   "execution_count": null,
   "metadata": {},
   "outputs": [],
   "source": [
    "text_nltk.concordance(\"chemicals\")"
   ]
  },
  {
   "cell_type": "markdown",
   "metadata": {},
   "source": [
    "### Contextual Similarity"
   ]
  },
  {
   "cell_type": "code",
   "execution_count": null,
   "metadata": {
    "scrolled": true
   },
   "outputs": [],
   "source": [
    "# Get words that appear in a similar context to \"life\"\n",
    "\n",
    "text_nltk.similar(\"life\")"
   ]
  },
  {
   "cell_type": "code",
   "execution_count": null,
   "metadata": {
    "scrolled": true
   },
   "outputs": [],
   "source": [
    "text_nltk.similar(\"chemicals\")"
   ]
  },
  {
   "cell_type": "markdown",
   "metadata": {},
   "source": [
    "# 6. Sentiment Analysis\n",
    "\n",
    "We can also learn more about the sentiment of text - the positive and negative parts of it."
   ]
  },
  {
   "cell_type": "code",
   "execution_count": null,
   "metadata": {},
   "outputs": [],
   "source": [
    "from textblob import TextBlob\n",
    "\n",
    "#overall polarity (sentiment) of the text\n",
    "#This number suggests overall, it's got almost the same amount of positive sentiment as negative sentiment\n",
    "text_blobbed = TextBlob(text)\n",
    "text_blobbed.sentiment.polarity"
   ]
  },
  {
   "cell_type": "code",
   "execution_count": null,
   "metadata": {},
   "outputs": [],
   "source": [
    "##Explore the text sentiment more\n",
    "\n",
    "\n",
    "##View positive sentences\n",
    "for item in text_blobbed.sentences:\n",
    "    if item.sentiment.polarity > 0.45:\n",
    "        print(item.replace('\\n', ' '))"
   ]
  },
  {
   "cell_type": "code",
   "execution_count": null,
   "metadata": {},
   "outputs": [],
   "source": [
    "##View negative sentences\n",
    "for item in text_blobbed.sentences:\n",
    "    if item.sentiment.polarity < -0.25:\n",
    "        print(item.replace('\\n', ' '))"
   ]
  }
 ],
 "metadata": {
  "kernelspec": {
   "display_name": "Python 3",
   "language": "python",
   "name": "python3"
  },
  "language_info": {
   "codemirror_mode": {
    "name": "ipython",
    "version": 3
   },
   "file_extension": ".py",
   "mimetype": "text/x-python",
   "name": "python",
   "nbconvert_exporter": "python",
   "pygments_lexer": "ipython3",
   "version": "3.6.6"
  }
 },
 "nbformat": 4,
 "nbformat_minor": 1
}
