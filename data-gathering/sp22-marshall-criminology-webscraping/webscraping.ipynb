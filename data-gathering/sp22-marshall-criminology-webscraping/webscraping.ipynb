{
 "cells": [
  {
   "cell_type": "code",
   "execution_count": 24,
   "id": "930962be",
   "metadata": {},
   "outputs": [],
   "source": [
    "%matplotlib inline\n",
    "import pandas as pd\n",
    "import matplotlib.pyplot as plt\n",
    "# here we are importing a few packages we'll be using in this code."
   ]
  },
  {
   "cell_type": "code",
   "execution_count": 44,
   "id": "9b31dcd8",
   "metadata": {},
   "outputs": [],
   "source": [
    "import json\n",
    "import requests\n",
    "import time\n",
    "\n",
    "# we're going to look at how much people in the insomnia subreddit talk about sleep.\n",
    "SEARCH_TERM = 'sleep'\n",
    "subreddit = \"insomnia\"\n",
    "df_reddit_chunks = []\n",
    "\n",
    "for i in range(1, 20): # we're looking back 20 days, one day at a time\n",
    "    time.sleep(5) # necessary so the API doesn't get mad at us\n",
    "    search_str = \"https://api.pushshift.io/reddit/comment/search/?subreddit={}&size=500&after={}d&before={}d\".format(\n",
    "        subreddit, str(i), str(i - 1)\n",
    "    )\n",
    "    r = requests.get(search_str)\n",
    "    reddit_data = r.json()['data']\n",
    "    df = pd.DataFrame(reddit_data) # we're putting this in a fancy spreadsheet\n",
    "    df_reddit_chunks.append(df)\n",
    "    \n",
    "df_reddit = pd.concat(df_reddit_chunks) # putting all the chunks together\n"
   ]
  },
  {
   "cell_type": "code",
   "execution_count": 45,
   "id": "22c628f8",
   "metadata": {},
   "outputs": [
    {
     "data": {
      "text/plain": [
       "(Index(['all_awardings', 'archived', 'associated_award', 'author',\n",
       "        'author_flair_background_color', 'author_flair_css_class',\n",
       "        'author_flair_richtext', 'author_flair_template_id',\n",
       "        'author_flair_text', 'author_flair_text_color', 'author_flair_type',\n",
       "        'author_fullname', 'author_patreon_flair', 'author_premium', 'body',\n",
       "        'body_sha1', 'can_gild', 'collapsed', 'collapsed_because_crowd_control',\n",
       "        'collapsed_reason', 'collapsed_reason_code', 'comment_type',\n",
       "        'controversiality', 'created_utc', 'distinguished', 'gilded',\n",
       "        'gildings', 'id', 'is_submitter', 'link_id', 'locked', 'no_follow',\n",
       "        'parent_id', 'permalink', 'retrieved_utc', 'score', 'score_hidden',\n",
       "        'send_replies', 'stickied', 'subreddit', 'subreddit_id',\n",
       "        'subreddit_name_prefixed', 'subreddit_type', 'top_awarded_type',\n",
       "        'total_awards_received', 'treatment_tags', 'unrepliable_reason',\n",
       "        'author_cakeday'],\n",
       "       dtype='object'),\n",
       " 1900)"
      ]
     },
     "execution_count": 45,
     "metadata": {},
     "output_type": "execute_result"
    }
   ],
   "source": [
    "df_reddit.columns, len(df_reddit)\n",
    "# this is a list of all the information that's in our spreadsheet. \n",
    "# which columns look interesting to you?"
   ]
  },
  {
   "cell_type": "code",
   "execution_count": 46,
   "id": "8cc61544",
   "metadata": {},
   "outputs": [
    {
     "data": {
      "text/plain": [
       "(array([188., 210., 236., 222., 178., 181., 172., 139.,  82.,  48.,  43.,\n",
       "         10.,  18.,   7.,   7.,   0.,   0.,   0.,   0.,   0.,   0.,   0.,\n",
       "        159.]),\n",
       " array([ 0,  1,  2,  3,  4,  5,  6,  7,  8,  9, 10, 11, 12, 13, 14, 15, 16,\n",
       "        17, 18, 19, 20, 21, 22, 23]),\n",
       " <BarContainer object of 23 artists>)"
      ]
     },
     "execution_count": 46,
     "metadata": {},
     "output_type": "execute_result"
    },
    {
     "data": {
      "image/png": "[encoded data removed]",
      "text/plain": [
       "<Figure size 432x288 with 1 Axes>"
      ]
     },
     "metadata": {
      "needs_background": "light"
     },
     "output_type": "display_data"
    }
   ],
   "source": [
    "# now let's see what hours of the day people are posting.\n",
    "# pd.to_datetime converts various timestamps into datetimes that computers can use.\n",
    "df_reddit['hour_of_day'] = pd.to_datetime(df_reddit['created_utc'], unit='s').apply(lambda b: b.hour)\n",
    "# then we can make a histogram of all the hours and count up how many posts there were\n",
    "# at each hour of the night.\n",
    "plt.hist(df_reddit['hour_of_day'], bins=[i for i in range(24)])"
   ]
  },
  {
   "cell_type": "code",
   "execution_count": 47,
   "id": "682be289",
   "metadata": {},
   "outputs": [
    {
     "data": {
      "text/plain": [
       "0.028421052631578948"
      ]
     },
     "execution_count": 47,
     "metadata": {},
     "output_type": "execute_result"
    }
   ],
   "source": [
    "# how often are people talking about melatonin? \n",
    "# we can make a variable that tells us whether a post talks about melatonin\n",
    "# and then take the average of that column!\n",
    "df_reddit['key_in_body'] = df_reddit['body'].apply(lambda b: 'melatonin' in b)\n",
    "df_reddit['key_in_body'].mean()"
   ]
  },
  {
   "cell_type": "code",
   "execution_count": 88,
   "id": "19d228c1",
   "metadata": {},
   "outputs": [],
   "source": [
    "import tweepy\n",
    "SEARCH_TERM = 'snow'\n",
    "bt = \"AAAAAAAAAAAAAAAAAAAAAGu0TgEAAAAAhbwt8wcI2%2B7HTT8DTUiutbOM%2FZw%3DCVjxqMZ8eDZ7Zo5vFFs9Gdi1gc3ktbwJDg1KbCsABYbmVNODFd\" # put your bearer token here\n",
    "auth = tweepy.OAuth2BearerHandler(bt)\n",
    "api = tweepy.API(auth)\n",
    "res = api.search_tweets(\n",
    "    '{} since:20220101'.format(SEARCH_TERM), \n",
    "    count=500, \n",
    "    geocode=\"42.365250,-71.105011,10mi\" # lat/lon for Cambridge MA\n",
    ")"
   ]
  },
  {
   "cell_type": "code",
   "execution_count": 89,
   "id": "f8bf39bb",
   "metadata": {},
   "outputs": [
    {
     "data": {
      "text/plain": [
       "(array([ 1.,  2.,  0.,  1.,  0.,  6.,  8.,  3.,  7.,  4.,  4.,  4.,  6.,\n",
       "         4.,  5.,  5.,  2.,  7.,  5., 26.]),\n",
       " array([ 15.  ,  21.25,  27.5 ,  33.75,  40.  ,  46.25,  52.5 ,  58.75,\n",
       "         65.  ,  71.25,  77.5 ,  83.75,  90.  ,  96.25, 102.5 , 108.75,\n",
       "        115.  , 121.25, 127.5 , 133.75, 140.  ]),\n",
       " <BarContainer object of 20 artists>)"
      ]
     },
     "execution_count": 89,
     "metadata": {},
     "output_type": "execute_result"
    },
    {
     "data": {
      "image/png": "[encoded data removed]",
      "text/plain": [
       "<Figure size 432x288 with 1 Axes>"
      ]
     },
     "metadata": {
      "needs_background": "light"
     },
     "output_type": "display_data"
    }
   ],
   "source": [
    "# how long are people's tweets?\n",
    "plt.hist([len(r._json['text']) for r in res], bins=20)"
   ]
  },
  {
   "cell_type": "code",
   "execution_count": 91,
   "id": "830c94cc",
   "metadata": {},
   "outputs": [
    {
     "data": {
      "text/plain": [
       "0.0"
      ]
     },
     "execution_count": 91,
     "metadata": {},
     "output_type": "execute_result"
    }
   ],
   "source": [
    "import numpy as np\n",
    "# how many tweets had the word 'weekend' in them?\n",
    "np.mean(['weekend' in r._json['text'] for r in res])"
   ]
  },
  {
   "cell_type": "code",
   "execution_count": 101,
   "id": "78ebe3fc",
   "metadata": {},
   "outputs": [],
   "source": [
    "# getting the timestamp tweets were created at and rounding them to the nearest minute\n",
    "created_at_ts = [pd.to_datetime(r._json['created_at']).round('min') for r in res]"
   ]
  },
  {
   "cell_type": "code",
   "execution_count": 102,
   "id": "63892bce",
   "metadata": {},
   "outputs": [],
   "source": [
    "# how many times did we see each timestamp?\n",
    "timestamps = {}\n",
    "for ts in created_at_ts:\n",
    "    if ts in timestamps:\n",
    "        timestamps[ts] += 1\n",
    "    else:\n",
    "        timestamps[ts] = 1\n",
    "\n",
    "xs = []\n",
    "ys = []\n",
    "for ts, count in timestamps.items():\n",
    "    xs.append(ts)\n",
    "    ys.append(count)\n",
    "    \n"
   ]
  },
  {
   "cell_type": "code",
   "execution_count": 103,
   "id": "bd473a90",
   "metadata": {},
   "outputs": [
    {
     "data": {
      "text/plain": [
       "[<matplotlib.lines.Line2D at 0x12364dcd0>]"
      ]
     },
     "execution_count": 103,
     "metadata": {},
     "output_type": "execute_result"
    },
    {
     "data": {
      "image/png": "[encoded data removed]",
      "text/plain": [
       "<Figure size 432x288 with 1 Axes>"
      ]
     },
     "metadata": {
      "needs_background": "light"
     },
     "output_type": "display_data"
    }
   ],
   "source": [
    "# here's a graph of how many times people tweeted over the last hour\n",
    "plt.plot(xs, ys)"
   ]
  },
  {
   "cell_type": "code",
   "execution_count": null,
   "id": "51bf4c47",
   "metadata": {},
   "outputs": [],
   "source": []
  }
 ],
 "metadata": {
  "kernelspec": {
   "display_name": "Python 3 (ipykernel)",
   "language": "python",
   "name": "python3"
  },
  "language_info": {
   "codemirror_mode": {
    "name": "ipython",
    "version": 3
   },
   "file_extension": ".py",
   "mimetype": "text/x-python",
   "name": "python",
   "nbconvert_exporter": "python",
   "pygments_lexer": "ipython3",
   "version": "3.9.9"
  }
 },
 "nbformat": 4,
 "nbformat_minor": 5
}
