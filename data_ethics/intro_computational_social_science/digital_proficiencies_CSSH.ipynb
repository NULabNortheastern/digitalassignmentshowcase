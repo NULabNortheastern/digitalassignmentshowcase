{
 "cells": [
  {
   "cell_type": "markdown",
   "metadata": {},
   "source": [
    " \n",
    "# <center> Integrating Digital Proficiencies </center>\n",
    "\n",
    "## <center> Laura Nelson <br/> <em>Assistant Professor of Sociology <br/> Northeastern University </em>  </center> \n",
    "\n",
    "### <center> Prepared for the CSSH Leadership Retreat <br/> May 22, 2018 </center>"
   ]
  },
  {
   "cell_type": "markdown",
   "metadata": {},
   "source": [
    "## Outline\n",
    "\n",
    "1. An example of digital proficiencies in the social sciences and humanities\n",
    "2. Digital modules, or, how to bring digital proficiencies into our regular courses\n",
    "    * Character Space in Antigone\n",
    "    * Patriot Movement in Boston\n",
    "3. What would we need to be successful?\n"
   ]
  },
  {
   "cell_type": "markdown",
   "metadata": {},
   "source": [
    "************************************\n",
    "\n",
    "# 1. Digital Proficiencies\n",
    "\n",
    "\n",
    "## Types of digitial proficiencies: \n",
    "\n",
    "text analysis, network analysis, 3D modeling, ethics, algorithmic discrimination, virtual reality, game development, web apps, interactive dashboards, text encoding, database management,computer-human interface, digital access, digital democracy, etc. etc.\n",
    "\n",
    "\n",
    "## Examples:\n",
    "1. Foundational digital proficiencies:\n",
    "    * Basics of your own computer:\n",
    "        * File structures\n",
    "        * Primary memory versus secondary memory - long versus short-term memory\n",
    "        * RAM - your computer's white board\n",
    "        * CPU - your computer's brain\n",
    "    * What is a programming language?\n",
    "    * What is digitized data or material?\n",
    "    * How does a computer access data via programming languages?\n",
    "    * What is an algorithm?\n",
    "    * What is machine learning?\n",
    "    * What is AI?\n",
    "2. One type of specialized proficiency: Text Analysis in the Humanities / Social Sciences:\n",
    "    * Text as a data structure and as evidence in literary analysis\n",
    "    * What does it mean for a computer to 'read' a text?\n",
    "    * What is a word, according to a computer, and what are other ways to featurize text?\n",
    "    * Demystify distance reading and humanities analytics (it's just creative counting!)\n",
    "    * Integrate close and distance reading\n",
    "    * Strengths and limitations of text analysis as a method\n",
    "    * Critical interpretation of the output and how to use it as evidence\n",
    "    * Ethics of text analysis and algorithms\n",
    "\n",
    "\n",
    "\n",
    "## Illustrating Example: Counting Words\n",
    "Can you guess the novel by simply looking at the most frequent content words? What does this tell us about language and substance?\n",
    "\n",
    "**************************************"
   ]
  },
  {
   "cell_type": "code",
   "execution_count": null,
   "metadata": {
    "collapsed": true,
    "scrolled": true
   },
   "outputs": [],
   "source": [
    "# Prep\n",
    "import nltk\n",
    "from nltk import word_tokenize\n",
    "from nltk.corpus import stopwords\n",
    "import string\n",
    "\n",
    "\n",
    "# Read Novels from Hard-Drive\n",
    "text1 = open('../data/text1.txt').read()\n",
    "text2 = open('../data/text2.txt').read()\n",
    "\n",
    "\n",
    "# Tokenize Novels\n",
    "text1_tokens = word_tokenize(text1)\n",
    "text2_tokens = word_tokenize(text2)\n",
    "\n",
    "\n",
    "# Set Words to Lower Case\n",
    "text1_tokens_lower = [word.lower() for word in text1_tokens]\n",
    "text2_tokens_lower = [word.lower() for word in text2_tokens]\n",
    "\n",
    "\n",
    "# Remove Stopwords\n",
    "text1_tokens_nostops = [word for word in text1_tokens_lower if word not in stopwords.words('english')]\n",
    "text2_tokens_nostops = [word for word in text2_tokens_lower if word not in stopwords.words('english')]\n",
    "\n",
    "\n",
    "# Remove Punctuation Marks\n",
    "text1_tokens_clean = [word for word in text1_tokens_nostops if word not in string.punctuation]\n",
    "text2_tokens_clean = [word for word in text2_tokens_nostops if word not in string.punctuation]\n",
    "\n",
    "# Tally the Term Frequencies\n",
    "text1_word_frequency = nltk.FreqDist(text1_tokens_clean)\n",
    "text2_word_frequency = nltk.FreqDist(text2_tokens_clean)\n",
    "\n",
    "print(\"Frequent Words for Text 1\",'\\t', \"Frequent Words for Text 2\")\n",
    "print(\"_________________________\",'\\t', \"_________________________\")\n",
    "\n",
    "for i in range(20):\n",
    "    word1, word2 = text1_word_frequency.most_common(20)[i][0], text2_word_frequency.most_common(20)[i][0]\n",
    "    print('\\t',word1, '\\t'*(4 - len(word1)//6), word2)\n",
    "    \n",
    "    \n",
    "## Can you guess the novel from most frequent words?"
   ]
  },
  {
   "cell_type": "markdown",
   "metadata": {},
   "source": [
    "**********************************\n",
    "\n",
    "# 2. Digital Modules \n",
    "\n",
    "## Example 1: Operationalizing\n",
    "\n",
    "### Illustrating questions: \n",
    "\n",
    "What is a protagonist in a play? Who is the protagonist in Sophocles' *Antigone*? How do we know?\n",
    "\n",
    "### Learning Goals:\n",
    "* Basic computing skills above, plus\n",
    "* Operationalizing complex concepts (literary theory: character space)\n",
    "* Integrating distance reading with close reading\n",
    "* Incorporating evidence in literary analysis\n",
    "    * Visulizing evidence\n",
    "    * Interpreting evidence\n",
    "* Benefits and limitations to distance reading and humanities analytics\n",
    "\n",
    "\n",
    "For classes on literature, theater, plays, gender, victorian history, etc."
   ]
  },
  {
   "cell_type": "code",
   "execution_count": null,
   "metadata": {
    "collapsed": true,
    "scrolled": false
   },
   "outputs": [],
   "source": [
    "# Prep\n",
    "import pandas\n",
    "\n",
    "# Import Spreadsheet with Each Character's Lines\n",
    "dialogue_df = pandas.read_csv('../data/antigone_dialogue.csv', index_col=0)\n",
    "\n",
    "# Tokenize\n",
    "dialogue_tokens = [character.split() for character in dialogue_df['DIALOGUE']]\n",
    "\n",
    "# Count the Number of Tokens per Character\n",
    "dialogue_df['WORDS_SPOKEN'] = [len(tokens) for tokens in dialogue_tokens]\n",
    "\n",
    "# List Characters by Number of Words Spoken\n",
    "dialogue_df = dialogue_df.sort_values('WORDS_SPOKEN', ascending = False)\n",
    "\n",
    "# Tell Jupyter to Produce Any Visualizations within Notebook\n",
    "% pylab inline\n",
    "\n",
    "# Makes images look good\n",
    "style.use('ggplot')\n",
    "\n",
    "# Let's visualize!\n",
    "dialogue_df['WORDS_SPOKEN'].plot(kind='bar')\n",
    "\n",
    "\n",
    "## Who is the protagonist of Antigone?"
   ]
  },
  {
   "attachments": {
    "Gibson_GenderShakespeare.png": {
     "image/png": "[encoded data removed]"
    }
   },
   "cell_type": "markdown",
   "metadata": {},
   "source": [
    "*****************************\n",
    "\n",
    "## Bonus: Student project!\n",
    "\n",
    "### Gender and Shakespeare\n",
    "\n",
    "![Gibson_GenderShakespeare.png](attachment:Gibson_GenderShakespeare.png)"
   ]
  },
  {
   "cell_type": "markdown",
   "metadata": {},
   "source": [
    "***************************\n",
    "\n",
    "## Example 2: The power of metadata, and identifying leaders in the Patriot Movement\n",
    "\n",
    "This framework and data come from a [blog post](https://kieranhealy.org/blog/archives/2013/06/09/using-metadata-to-find-paul-revere/) by sociologist Kieran Healy. He did his analysis using R. I reproduce it here using Python. \n",
    "\n",
    "### Illustrating question: \n",
    "\n",
    "Can we identify the leaders of the Patriot Movement using only metadata? That is, can we identify the leaders via organizational memberships only, and without knowing anything about what the members were saying or doing?\n",
    "\n",
    "\n",
    "### Learning Goals:\n",
    "* Basic computing skills from the first example, plus\n",
    "* Interpretation and critical thinking skills from first and second example, plus\n",
    "* Introduction to relational data\n",
    "* Introduction to metadata, and the power of metadata\n",
    "* Ethics of data collection and surveillance, relevance to contemporary issues\n",
    "* How data might be used by police, governments, and in criminology\n",
    "* Another perspective on the Patriot Movement and American history\n",
    "* Benefits and limitations of network analysis\n",
    "\n",
    "For classes in history, social movements, criminology, etc."
   ]
  },
  {
   "cell_type": "code",
   "execution_count": null,
   "metadata": {
    "collapsed": true
   },
   "outputs": [],
   "source": [
    "import pandas\n",
    "import networkx as nx\n",
    "import numpy as np\n",
    "import matplotlib.pyplot as plt"
   ]
  },
  {
   "cell_type": "code",
   "execution_count": null,
   "metadata": {
    "collapsed": true,
    "scrolled": false
   },
   "outputs": [],
   "source": [
    "df = pandas.read_csv(\"../data/PatriotMovementData.csv\", index_col = 0)\n",
    "df"
   ]
  },
  {
   "cell_type": "code",
   "execution_count": null,
   "metadata": {
    "collapsed": true
   },
   "outputs": [],
   "source": [
    "#Matrix manipulation!\n",
    "\n",
    "dfT = df.T\n",
    "df_matrix = df.as_matrix()\n",
    "dfT_matrix = dfT.as_matrix()\n",
    "names_adj = np.dot(df_matrix, dfT_matrix)\n",
    "\n",
    "#dictionary to label the person nodes\n",
    "\n",
    "names = list(dfT.columns.values) #list of person names\n",
    "\n",
    "labels_names = {}\n",
    "\n",
    "for n in range(0,np.shape(names_adj)[0]):\n",
    "    labels_names[n] = names[n]\n",
    "\n",
    "#create graph object\n",
    "G_names = nx.to_networkx_graph(names_adj,create_using=nx.DiGraph())\n",
    "\n",
    "#add node labels\n",
    "nx.relabel_nodes(G_names, labels_names,copy=False)\n",
    "\n",
    "G_names"
   ]
  },
  {
   "cell_type": "code",
   "execution_count": null,
   "metadata": {
    "collapsed": true
   },
   "outputs": [],
   "source": [
    "#Network statistics\n",
    "\n",
    "betweeness_names = nx.betweenness_centrality(G_names, seed = 123)\n",
    "betweeness_names"
   ]
  },
  {
   "cell_type": "markdown",
   "metadata": {},
   "source": [
    "Who do you think is the leader of the Patriot Movement?"
   ]
  },
  {
   "cell_type": "code",
   "execution_count": null,
   "metadata": {
    "collapsed": true
   },
   "outputs": [],
   "source": [
    "#set figure size using matplotlib\n",
    "plt.figure(figsize=(10,12))\n",
    "\n",
    "nx.draw(G_names,\n",
    "    with_labels = True,\n",
    "    node_color = 'black',\n",
    "    node_size = 100,\n",
    "    line_color = 'grey',\n",
    "    edge_color = 'grey',\n",
    "    linewidths = 0,\n",
    "    width = 0.1,\n",
    "    scale = 16,\n",
    "    font_size = 12,\n",
    "    pos = nx.spring_layout(G_names, k=0.35, iterations=50, random_state=1234), \n",
    "    )\n",
    "plt.show()"
   ]
  },
  {
   "cell_type": "code",
   "execution_count": null,
   "metadata": {
    "collapsed": true
   },
   "outputs": [],
   "source": [
    "#sort by value to find the most central person.\n",
    "sorted(betweeness_names, key=betweeness_names.get, reverse=True)"
   ]
  },
  {
   "cell_type": "markdown",
   "metadata": {},
   "source": [
    "# 3. Why digital modules, and what do we need to succeed?\n",
    "\n",
    "## Consistent, Repeated, *Integrated* Exposure\n",
    "\n",
    "* Don't segregate digital methods/skills/proficiencies in their own classes, integrate them throughout our curriculum \n",
    "* Course-specific modules demonstrate how these methods are related to what students are actually interested in, and integrates them into existing ways of knowing\n",
    "* At minimum, students will learn new skills and will be better equipped to be critical consumers of these methods \n",
    "* Some may be interested enough to take full courses! (Make sure they know where to go if they want more)\n",
    "\n",
    "## What do we need for success?\n",
    "\n",
    "1. Open faculty, ready to devote a class or week to these methods/skills\n",
    "2. Trained graduate students to develop course-specific modules, working with faculty teaching the course\n",
    "    * illustrating example \n",
    "    * learning goals\n",
    "    * focus on pedagogy\n",
    "3. Computing resources, to guarantee equal access and pedagogical success\n",
    "    * Final example: [computing in the cloud](https://github.com/lknelson/reproducibility-example)"
   ]
  }
 ],
 "metadata": {
  "anaconda-cloud": {},
  "kernelspec": {
   "display_name": "Python 3",
   "language": "python",
   "name": "python3"
  },
  "language_info": {
   "codemirror_mode": {
    "name": "ipython",
    "version": 3
   },
   "file_extension": ".py",
   "mimetype": "text/x-python",
   "name": "python",
   "nbconvert_exporter": "python",
   "pygments_lexer": "ipython3",
   "version": "3.6.8"
  }
 },
 "nbformat": 4,
 "nbformat_minor": 1
}
