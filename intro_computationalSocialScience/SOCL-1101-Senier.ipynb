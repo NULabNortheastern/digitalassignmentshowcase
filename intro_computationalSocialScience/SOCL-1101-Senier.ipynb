{
 "cells": [
  {
   "cell_type": "markdown",
   "metadata": {},
   "source": [
    "# <center>Computational Social Science: A Brief Introduction</center>\n",
    "\n",
    "## <center>Cara Messina, NULab Coordinator<br/>Alexis Yohros, Digital Teaching Integration Research Assistant<br/>Laura Nelson, Assistant Professor of Sociology<br/>Northeastern University</center>\n",
    "\n",
    "### <center>Prepared for Laura Senier's Sociology 1101 Course<br/>September 13, 2018</center>\n"
   ]
  },
  {
   "cell_type": "markdown",
   "metadata": {},
   "source": [
    "## Outline\n",
    "\n",
    "1. Small group activity\n",
    "2. Introduction to computational social science\n",
    "3. “Big Data” and Data Collection\n",
    "    - What can Facebook tell you about yourself?\n",
    "    - What can Google tell you about yourself?  \n",
    "    - Why is this useful? \n",
    "4. Examples of data analytics: \n",
    "    - #WhyIStayed\n",
    "    - Tracing racial bias\n",
    "5. Live Example: Using computational methods to examine school shooting statistics and narratives\n",
    "6. Ethical Implcaitions\n",
    "    - Machine Learning Perpetuating Racial Bias\n",
    "6. Wrap-up: Small group discussion\n",
    "\n",
    "\n",
    "## Activity \n",
    "\n",
    "![](https://imgs.xkcd.com/comics/correlation.png)\n",
    "\n",
    "### Small Group Discussion:\n",
    "In groups of 2-3 people, have a quick **5 minute discussion** to think about some (or all) of these questions: \n",
    "- What data do you think is being collected about you? \n",
    "- Where and how do you think this data is being collected? \n",
    "- Where is it stored? Who sees it? \n",
    "- How do you imagine your data is being used? \n",
    "- What is your reaction to this information being collected, stored, and potentially used?\n",
    "\n"
   ]
  },
  {
   "cell_type": "markdown",
   "metadata": {},
   "source": [
    "## Introduction\n",
    "For this short lecture, we will be discussing some methodologies in Computational Social Science and the influence of Data Analytics in Sociology and other Social Science disciplines. Computational Social Science uses computational approaches to approach social science questions; for data analytics, data is collected, stored, analyzed, and visualized to better understand patterns in human behavior and action. \n",
    "\n",
    "### Learning Outcomes:\n",
    "- Introduce data collection and analytics \n",
    "- Familiarize yourself with what Python can do\n",
    "- Explore how data is collected through applications like Facebook and Google and how these could be applied to the social sciences\n",
    "- Provide examples for how data can reinforce or challenge beliefs and narratives\n",
    "- Discuss how this data can represent patterns in human behavior and how this data can reflect problematic power structures and biases\n",
    "- Examine the moral and ethical implications of “big data”"
   ]
  },
  {
   "cell_type": "markdown",
   "metadata": {},
   "source": [
    "![](https://blogs.gartner.com/doug-laney/files/2015/01/big-data-word-cloud.jpg)\n",
    "\n",
    "\n",
    "## “Big Data” and Data Collection\n",
    "\n",
    "What do we mean when we say “Big Data?” How can “big data” be used in CSS? What can “big data” tell us about ourselves? \n",
    "\n",
    "* In recent years, a variety of novel digital data sources, colloquially referred to as “big data,” have taken the popular imagination by storm. \n",
    "* These data sources include, but are not limited to: digitized administrative records; activity on and contents of social media and internet platforms; and readings from sensors that track physical and environmental conditions. \n",
    "* Some have argued that such data sets have the potential to transform our understanding of human behavior and society, constituting a meta-field known as computational social science\n",
    "* Lying at the intersection of computer science, statistics and the social sciences, the emerging field of computational social science uses large-scale demographic, behavioral and network data to investigate human activity and relationships.\n"
   ]
  },
  {
   "cell_type": "markdown",
   "metadata": {},
   "source": [
    "![](https://thevpn.guru/wp-content/uploads/2017/08/The-Ugly-Truth-About-How-Facebook-Uses-Your-Private-Data.jpg)\n",
    "\n",
    "## Facebook Ad Preferences\n",
    "\n",
    "Facebook collects and stores all the information about you; it not only collects what you write or enter in the \"about me\" information, but also where you click, who you talk to, and more. This data is collected to create a profile that describes and categorizes who \"you\" are according to Facebook. Part of the reason this data is collected is to create targeted, personal ads. \n",
    "\n",
    "### Activity: What does Facebook tell you about yourself?\n",
    "Once you have found your the categories Facebook has placed you in based on the data you collected, turn to your partner and discuss interesting, accurate, or inaccurate categories. Facebook tells you why it places you in some categories, but some information is less transparent. **If you don't have a Facebook, feel free to listen in on another conversation. We will show you our results shortly.**\n",
    "\n",
    "If you have Facebook, feel free to follow along these steps to see what Facebook can tell you about yourself. \n",
    "\n",
    "        Settings > Ads > Your information > Categories\n",
    "\n",
    "\n",
    "**Step 1: Settings**\n",
    "\n",
    "![](./visuals/fb_settings.png)\n",
    "\n",
    "**Step 2: Ads**\n",
    "\n",
    "![](./visuals/fb_ads.png)\n",
    "\n",
    "**Step 3: Your Ad Profile Information**\n",
    "\n",
    "![](./visuals/fb_yourinfo.png)\n",
    "\n",
    "**Step 4: Look at Your Categories**\n",
    "\n",
    "![](./visuals/fb_yourcategories.png)\n",
    "\n",
    "-------\n",
    "\n",
    "### Discussion\n",
    "After following these steps and reading the results, turn to your partner and briefly discuss (2 minutes):\n",
    " - interesting & surprising (or inaccurate) results\n",
    " - where these results might have come from\n",
    " - a comparison between how you view yourself and how Facebook categorizes you\n",
    "------\n",
    "\n",
    "\n",
    "#### Cara's Categories According to Facebook\n",
    "![](./visuals/fb_carascreenshot1.png)\n",
    "![](./visuals/fb_carascreenshot2.png)\n",
    "\n",
    "\n",
    "#### Alexis' Categories According to Facebook\n",
    "![](./visuals/fb_alexisscreenshot1.png)\n",
    "![](./visuals/fb_alexisscreenshot2.png)\n"
   ]
  },
  {
   "cell_type": "markdown",
   "metadata": {},
   "source": [
    "## Google Timeline\n",
    "\n",
    "Just as Facebook keeps track of the clicks you make, Google keeps track of the steps you make (as well as many other points of data). By using Google Timeline, you can trace the routes you took. The example we are using is a trip Alexis took.\n",
    "\n",
    "\n",
    "![](./visuals/google_alexisscreenshot1.png)\n",
    "![](./visuals/google_alexisscreenshot2.png)\n"
   ]
  },
  {
   "cell_type": "markdown",
   "metadata": {},
   "source": [
    "## So what?\n",
    "\n",
    "The type of data is collected and analyzed creates categories & profiles by tracing patterns through the clicks we make, the advertisements we click, the information we fill out, the content we post, etc. The ways that our information is tracked, categorized, and represented holds power in exploring our patterns in comparison to larger catgories that both Facebook and Google algorithms have created. It's crucial that we be critical of how these categories are chosen, what data influences what categories, and more.\n",
    "\n",
    "### Downloading your data\n",
    "Although most data is not publically available, there are ways you can collect your own data. You can also scrape data from Twitter using Twitter APIs. If you're interested in downloading your data from Facebook and Google, follow these steps and links:\n",
    "\n",
    "**Facebook**: Settings > Your Facebook Information > Download your Information\n",
    "\n",
    "**Google**: https://support.google.com/accounts/answer/3024190?hl=en. Here's a shot of what the downloaded data looks like:\n",
    "\n",
    "![](./visuals/google_download.png)\n",
    "\n",
    "### Ethical Implications\n",
    "\n",
    "![](./visuals/ethics_zuckerberg.jpg)\n",
    "While this is interesting, we encourage you to also begin to see the potential problems with this. The recent Facebook controversy that Facebook sells our data makes our profiles and information *currency*; it also raises problems about autonomy, anonymity, and privacy. How are we being represented and to whom? In ways ways is our information being used? Thse are concerns you should not only think about in your personal lives, but in your research; how will you collect data in an ethical and responsible manner? \n"
   ]
  },
  {
   "cell_type": "markdown",
   "metadata": {},
   "source": [
    "## Examples of Data Analytics, or how to use data to inform social science work\n",
    "\n",
    "By collecting information through Google and whatever is available in an ethical manner, we can begin to ask questions about larger patterns and choices made in these data collection. Think about larger ideas or narratives we hear passed around social media, news outlets, conversations at dinner, and more about the state of America. Part of the goal with using data is to test these narratives and see whether or not data actually reflects what we believe, and do so in a way that are ethical, critical, and statistically sound.\n",
    "\n",
    "### #WhyIStayed: Survivors of Domestic Violence Relationships\n",
    "* Analyzing a Twitter trend to determine the reasons victims of domestic abuse give for staying in and leaving their abusive relationships.\n",
    "* Victims report staying in abusive relationships due to cognitive manipulation, as indicated by a predominance of verbs including manipulate, isolate, convince, think, believe, felt \n",
    "* report leaving when experiencing or fearing physical violence, via predicates such as kill and kick. \n",
    "* They also report staying when in dire financial straits (money), when attempting to keepthe nuclear family united (family, marriage) or when experiencing shame about their situation (ashamed,shame). \n",
    "* They report leaving when threats are made towards loved-ones (son, daughter), gain agency (choose, decide), realize their situation or self-worth (realize, learn, worth, deserve, finally, better), or gain support from friends or family (courage, support, help).\n",
    "\n",
    "![](./visuals/ethics_whyleft.png)\n",
    "\n",
    "### Tracing Trends of Racial Bias Using Data Analytics\n",
    "\n",
    "#### Obama Election\n",
    "During President Obama’s tenure, some believed and argued that racial tensions or racism was “solved” in America and that his race did not influence the election. Stephens-Davidowitz in his article \"How Racist Are We? Ask Google\" presented his findings that used two different data sets to better tackle this: Google search results with dates and locations as well as Pres Obama’s election results with the locations. \n",
    "\n",
    "Using Google Insights, a tool that shows trends in Google searches based on locations & dates, Stephens-Davidowitz got a better understanding  of how Google users were talking about/searching Obama and triangulate that information with election results using dates and locations for each set of data. He found that racial bias may have, in facted, negatively impacted Obama’s election results in particular areas based on the search results in that area. He looked up racially  charged search terms and triangulated those with the election results based on location. \n",
    "\n",
    "|![](./visuals/example_howRacistAreWeVisualization.png)|\n",
    "|:-----:|\n",
    "|Stephens-Davidowitz, S. (9 June 2012) \"How racist are we? Ask Google.\" *The New York Times*|\n",
    "\n",
    "#### Online Dating Apps: \n",
    "* Survey data: a huge majority of users of on-line dating services would reject racists as partners\n",
    "* 84 % say “no” (as opposed to “it depends” or “yes”) when asked\n",
    "* Yet users typically show “attractiveness” ratings that value white appearance rather than black.\n",
    "* This holds for all ethnic groups save blacks\n",
    "* But it’s more pronounced among men rather than women\n",
    "\n",
    "![](./visuals/ethics_dating1.png)\n",
    "![](./visuals/ethics_dating2.png)\n"
   ]
  },
  {
   "cell_type": "markdown",
   "metadata": {},
   "source": [
    "## Using Computational Methods to Examine School Shootings and the Media \n",
    "\n",
    "Grounded in theory and empirical background, the research examines several research questions: \n",
    "* Has the media coverage of school shootings increased over time?\n",
    "* Has the media coverage of school shootings increased over time relative to the amount of school shootings over time? \n",
    "* Has the framing of school shootings changed over time? \n",
    "    * Specifically, has the mention of mass shootings as a gun control issue versus a mental health issue increased, stayed the same, or decreased over time? \n",
    "    \n",
    "#### Measures of Interest:\n",
    "\n",
    "* Fatal School Shootings: at least 1 individual killed by firearms at a school\n",
    "* Multiple-Victim School Shooting: 4 or more victims and at least 2 killed, excluding the assailant, by firearms at a school\n",
    "* NYT Articles mentioning \"school shooting\" per year \n",
    "* Prop: NYT Articles mentioning \"school shooting\" per year // total amount of articles published per year \n",
    "* Mental Health: key words \"mental health\", \"illness\" \n",
    "* Gun Control: key words \"gun control\", \"gun rights\" \n",
    "\n",
    "#### NOTE: the data about fatal school shootings is not publically available. Therefore, we only have images of the code because it can't be run."
   ]
  },
  {
   "cell_type": "markdown",
   "metadata": {},
   "source": [
    "![](./visuals/NYT-code1.png) \n",
    "\n",
    "![](./visuals/NYT-code2.png) \n",
    "\n",
    "![](./visuals/NYT-visual1.png) \n",
    "\n",
    "![](./visuals/NYT-code3.png)\n",
    "\n",
    "![](./visuals/NYT-visual2.png) \n",
    "\n",
    "![](./visuals/NYT-code4.png)\n",
    "\n",
    "![](./visuals/NYT-visual3.png)"
   ]
  },
  {
   "cell_type": "markdown",
   "metadata": {},
   "source": [
    "### Summary: \n",
    "* Schools are safer now than they were in the 1990s.\n",
    "    * Four times the number of children were killed in schools in the early 1990s than today (Fox & Fridel 2018)\n",
    "* There is a negative correlation showing that fatal school shootings have decreased over time\n",
    "* Media has shown a different trend with an increase in articles covering school shootings over time\n",
    "    * Spikes for high victim, high profile shootings\n",
    "* Mentions of mental health and gun control only happen in high profile school shootings: Sandy Hook and Columbine "
   ]
  },
  {
   "cell_type": "markdown",
   "metadata": {},
   "source": [
    "## Moral and Ethical Implications\n",
    "\n",
    "**Issues of privacy, agency, and ethical data collection**: Even if we can collect it, should we collect it? What kind of data should remain private? How can we protect particular vulnerable populations? How can our data collection potentially harm vulnerable populations? \n",
    "- For example, researching a particular hashtag that is used by a vulnerable population to communicate with each other may make more visible a community that is relying on the hashtag; the more visibility this hashtag is, the more likely this vulnerable population will be exposed and potentially harassed/doxxed. Even if something is on the internet and is techinically \"public,\" some information (such as specific hashtag) is less accessible for a *reason*\n",
    "\n",
    "**Issues of relational data**: Our data is wrapped up in each other's data. Even if one person gives permission to use their data, you might be exposing more information about your friends that you realize. For example, there is an algoirthm that can identify whether or not someone is gay based on their friend's data. How far does the permission circle go? If I give permission, do my friends need to give permission, their friends, their friends' friends?\n",
    "\n",
    "**Reinforcing harmful biases**: While using this data can help us better understand human behavior, we also have to understand that this data is reflective of human biases; if we are not careful when collecting, analyzing, and using this data, the data can wind up reinforcing particular power structures and social biases.\n"
   ]
  },
  {
   "cell_type": "markdown",
   "metadata": {},
   "source": [
    "## Machine Bias: There’s software used across the country to predict future criminals. And it’s biased against blacks.\n",
    "\n",
    "* This is the name of the investigative piece written by Pro Publica. \n",
    "* Scores — known as risk assessments — are increasingly common in courtrooms across the nation. \n",
    "* They are used to inform decisions about who can be set free at every stage of the criminal justice system, from assigning bond amounts — as is the case in Fort Lauderdale — to even more fundamental decisions about defendants’ freedom\n",
    "* The score proved remarkably unreliable in forecasting violent crime: Only 20 percent of the people predicted to commit violent crimes actually went on to do so\n",
    "* The formula was particularly likely to falsely flag black defendants as future criminals, wrongly labeling them this way at almost twice the rate as white defendants. White defendants were mislabeled as low risk more often than black defendants.\n",
    "* Difficult to construct a score that doesn’t include items that can be correlated with race — such as poverty, joblessness and social marginalization. “If those are omitted from your risk assessment, accuracy goes down\n",
    "\n",
    "\n",
    "![](./visuals/ethics_arrestStats.png)\n",
    "\n",
    "----\n",
    "![](./visuals/ethics_arrestA1.png)![](./visuals/ethics_arrestA2.png)\n",
    "\n",
    "----\n",
    "\n",
    "![](./visuals/ethics_arrestB2.png)"
   ]
  },
  {
   "cell_type": "markdown",
   "metadata": {},
   "source": [
    "## Wrap-Up Activity\n",
    "\n",
    "Turn back to your partner from the beginning of the discussion. Now that you’ve learned some of the uses of computational social science and data analytics, how have your original thoughts changed? What else would you want to know? What questions would you ask if you had access to all of these data? "
   ]
  },
  {
   "cell_type": "markdown",
   "metadata": {},
   "source": [
    "## Want to learn more?\n",
    "\n",
    "If you are interested in Computational Social Science, data analytics, ethical implications, and any of the topics we covered today, we encourage you to begin looking at potential courses or minors you might pursue!\n",
    "\n",
    "- Computational Social Science Minor\n",
    "- Digital Humanities Minor\n",
    "- Combined major in Computer Science and CSSH\n",
    "- Other courses you might take: DS 2000/DS 20001 (Data Science) \n",
    "\n",
    "\n",
    "### Follow the NULab for workshops, events, potential courses, and more!\n",
    "\n",
    "- https://web.northeastern.edu/nulab/ \n",
    "- @NUlabTMN on Twitter\n",
    "\n",
    "### Our Contact Information\n",
    "- Cara Messina (messina.c@husky.neu.edu), NULab Coordinator: Office Hours: 409 Nightingale Hall, Tuesdays 12-1\n",
    "- Alexis Yohros (yohros.a@husky.neu.edu), Digital Teaching Integration RA"
   ]
  }
 ],
 "metadata": {
  "kernelspec": {
   "display_name": "Python 3",
   "language": "python",
   "name": "python3"
  },
  "language_info": {
   "codemirror_mode": {
    "name": "ipython",
    "version": 3
   },
   "file_extension": ".py",
   "mimetype": "text/x-python",
   "name": "python",
   "nbconvert_exporter": "python",
   "pygments_lexer": "ipython3",
   "version": "3.6.3"
  }
 },
 "nbformat": 4,
 "nbformat_minor": 2
}
