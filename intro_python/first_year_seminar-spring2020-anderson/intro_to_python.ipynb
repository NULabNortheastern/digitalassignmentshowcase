{
  "cells": [
    {
      "metadata": {},
      "cell_type": "markdown",
      "source": "# Using Python: A Brief Introduction</center>\n\n![](https://blogs.gartner.com/doug-laney/files/2015/01/big-data-word-cloud.jpg)\n\n\n## <center><br/>Cara Marta Messina, Digital Teaching Integration Assistant Director<br/>Northeastern University</center>\n\n<center>Prepared for the week of March 16th, 2020<br/>Online iteration. For instructions visit BIT.LY LINK</center>"
    },
    {
      "metadata": {
        "collapsed": true
      },
      "cell_type": "markdown",
      "source": "# Introduction to Python \n\n## Code and Text written by:\n## Laura Nelson -- *Assistant Professor of Sociology*<br/><br/>Northeastern University\n\n<br/>\n\n# Introduction\n\nIt is increasingly important to learn a scripting language, such as Python or R, in order to access, collect, and structure data from diverse sources, and analyze data using new and developing methods, such as machine learning.\n\nThere is no way you will remember all of this and that is completely normal. Focus on learning the syntax, but also getting a higher-level understanding of the way Python works. This is just a basic introduction to understand how python works and what you can do with it, but there are a lot of resources out there if this is something that interests you. If you've never written in Python, all of this may feel very strange to you. It gets easier as you work with it more.\n\n# Learning Goals\n\n- Understand what Python is, why it is useful, and how to use Python for data analysis.\n- Understand how Python interacts with, and represents, data. \n\n# Learning Outcomes\n\n- Learn and be able to explain Python basics - introduction, arithmatic, dataframes, visualizations\n    \n# Workshop Outline\n1. Python basics\n2. Dataframes\n3. Visualizations\n"
    },
    {
      "metadata": {},
      "cell_type": "markdown",
      "source": "# 1. Python basics\nFor the basics, you will be learning how to run <strong>cells</strong>, which are the gray boxes below. Each cell has an <strong>input,</strong> which is your code, and an <em>output</em>, which is the result of your code. # python is all about functions, variables, and doing things to variables using functions\n\nThe first function you will learn is the \"print\" function. The \"print\" function prints whatever is inside the parenthesis. If you want to write text, you use the quotation marks: \"Hello, world!\" Anything in quotes is called a <strong>string</strong>. Strings are mostly textual data.\n\nIf you want to print the results of arithmetic or a function, you do not need the quotation mark.\n\nTo <strong>run a cell,</strong> click the cell you want to run and then click the Run button in your toolbox at the top."
    },
    {
      "metadata": {
        "trusted": true
      },
      "cell_type": "code",
      "source": "# If you would like to comment in a cell, simply use the hashtag at the beginning of each line!\n# Our first function is the print() function\n# Click this cell and then the run function to print \"Hello, world!\"\n\nprint(\"Hello, world!\")",
      "execution_count": null,
      "outputs": []
    },
    {
      "metadata": {
        "trusted": true
      },
      "cell_type": "code",
      "source": "#now try printing arithmetic instead of a string.\nprint(2+2)",
      "execution_count": null,
      "outputs": []
    },
    {
      "metadata": {
        "trusted": true
      },
      "cell_type": "code",
      "source": "##try printing a string (inside quotation marks) yourself here and run the cell.\nprint()\n",
      "execution_count": null,
      "outputs": []
    },
    {
      "metadata": {},
      "cell_type": "markdown",
      "source": "<a id='arithmetic'></a>\n### Arithmetic"
    },
    {
      "metadata": {
        "trusted": true
      },
      "cell_type": "code",
      "source": "# Computers are really good at arithmetic\n# Addition\n\n2+5",
      "execution_count": null,
      "outputs": []
    },
    {
      "metadata": {
        "trusted": true
      },
      "cell_type": "code",
      "source": "# Let's have Python report the results from three operations at the same time\n# Use the print function to see ALL the resRults.\n\nprint(2-5)\nprint(2*5)\nprint(2/5)",
      "execution_count": null,
      "outputs": []
    },
    {
      "metadata": {
        "trusted": true
      },
      "cell_type": "code",
      "source": "## Take 2 minutes and run some algebra here.\n# Use the print function to see ALL the results!\n\n",
      "execution_count": null,
      "outputs": []
    },
    {
      "metadata": {},
      "cell_type": "markdown",
      "source": "# The Pandas Dataframe\n\n******************************\nIn Python, Pandas is a <strong>library</strong> that can convert CSV files to dataframes. \n\n## Our Data\nThe data we'll analyze today is found in the Azure Notebook folder called \"education_dataset.csv). You do <em>not</em> need to open this file. Instead, we are going to use Pandas to read the file into our Juputer Notebook. This dataset comes from:\n\nNational Center for Education Statistics, United States Department of Education. (2009). Early Childhood Longitudinal Study, Kindergarten Class of 1998-99 (ECLS-K) [Data file]. Available from http://nces.ed.gov/ecls/kindergarten.asp\n\nI selected five variables (columns) to analyze:\n\n* reading_score = READING IRT SCALE SCORE\n* math_score = MATH IRT SCALE SCORE\n* knowledge_score = GENERAL KNOWLEDGE IRT SCALE SCORE\n* p2income = TOTAL HOUSEHOLD INCOME\n* incomecat = INCOME CATEGORES\n    * 1 = low income: < \\$40,000\n    * 2 = mid income\n    * 3 = high income: >= \\$70,000\n    \nThe unit of observation (row) is the individual kindergartner.  \n   \n## Motivating Questions\n\n1. Are math, reading, and general knowledge scores related to household income in any predictable way?\n2. Can you predict general knowledge scores from reading or math scores? That is, are reading and math skills related to general knowledge?"
    },
    {
      "metadata": {
        "trusted": true
      },
      "cell_type": "code",
      "source": "# Import our Pandas library \n\nimport pandas",
      "execution_count": null,
      "outputs": []
    },
    {
      "metadata": {
        "trusted": true
      },
      "cell_type": "code",
      "source": "# Create a variable, \"df\" which is the Pandas function reading in our dataset. \ndf = pandas.read_csv(\"education_dataset.csv\", sep=',')\n\n# By just typing the variable name and running the cell, we will be able to see what the variable looks like\ndf",
      "execution_count": null,
      "outputs": []
    },
    {
      "metadata": {
        "trusted": true
      },
      "cell_type": "code",
      "source": "# It's easier to view the information when you have a piece of it instead of the entire thing, \n# Especially when you have a LOT of data\n# The \"head\" function will show you the first 10 rows of our data\n\ndf.head(10)",
      "execution_count": null,
      "outputs": []
    },
    {
      "metadata": {
        "trusted": true
      },
      "cell_type": "code",
      "source": "# How to extract a specific column\n\ndf['reading_score'].head(20)",
      "execution_count": null,
      "outputs": []
    },
    {
      "metadata": {
        "trusted": true
      },
      "cell_type": "code",
      "source": "# Try it yourself: Extract the first 20 rows of knowledge score column\n",
      "execution_count": null,
      "outputs": []
    },
    {
      "metadata": {
        "trusted": true
      },
      "cell_type": "code",
      "source": "# To extract one row: notice the syntax and the ZERO (Python starts at 0)\ndf.loc[0]",
      "execution_count": null,
      "outputs": []
    },
    {
      "metadata": {
        "trusted": true
      },
      "cell_type": "code",
      "source": "## Try it yourself - extract the 20th row of data. Remember, Python starts at 0\n",
      "execution_count": null,
      "outputs": []
    },
    {
      "metadata": {},
      "cell_type": "markdown",
      "source": "## Summary Statistics\n\nNow that you have learned how to read in your dataset and look at some of the information about your dataset, including specific columns and certain row numbers, let's learn some basic statistics about our dataset!\n\nAs a reminder, <strong>df</strong> is the variable name of our dataset. Anytime you type \"df\", you are letting Python know you are using that dataset.\n\nHere is a list of the functions we will look at:\n- .mean() finds the mean, or average, of all the numbers in a particular column or each column from the dataset\n- .sum() finds the sum of all the numbers in a particular column or each column from the dataset\n- .std() finds the standard deviation of all the numbers in a particular column or each column from the dataset\n- .describe() finds the a collection of statistical information from a particular column or the entire dataset"
    },
    {
      "metadata": {
        "trusted": true
      },
      "cell_type": "code",
      "source": "# First, let's find the mean, sum, and standard deviation of every column\n# I will use the print() function to show ALL the outputs\n\nprint(\"MEAN\") #I am printing a line before each function so we know which output belongs with which function\nprint(df.mean())\nprint(\"SUM\")\nprint(df.sum())\nprint(\"STANDARD DEVIATION\")\nprint(df.std())",
      "execution_count": null,
      "outputs": []
    },
    {
      "metadata": {
        "trusted": true
      },
      "cell_type": "code",
      "source": "## Summary statistics: the average reading score\n\ndf['reading_score'].mean()",
      "execution_count": null,
      "outputs": []
    },
    {
      "metadata": {
        "trusted": true
      },
      "cell_type": "code",
      "source": "# Summary statistics: the sum of the reading scores\n\ndf['reading_score'].sum()",
      "execution_count": null,
      "outputs": []
    },
    {
      "metadata": {
        "trusted": true
      },
      "cell_type": "code",
      "source": "#Standard deviation: the standard deviation of the reading scores\n\ndf['reading_score'].std()",
      "execution_count": null,
      "outputs": []
    },
    {
      "metadata": {
        "trusted": true
      },
      "cell_type": "code",
      "source": "# Try it yourself - find the MEAN, SUM, and STANDARD DEVIATION of another column that interests you!\n# Hint: find the column names above\n# Hint 2: if your output is only showing one result, use the 'print' function (put your function inside the print parenthesis)\n\n",
      "execution_count": null,
      "outputs": []
    },
    {
      "metadata": {
        "trusted": true
      },
      "cell_type": "code",
      "source": "# We can find it all at the same time. Simply run this cell!\n\ndf.describe()",
      "execution_count": null,
      "outputs": []
    },
    {
      "metadata": {},
      "cell_type": "markdown",
      "source": "# Visualization\n\nPython can also make quick and easy visualizations. We will be using the library MatPlotLib, which makes quick plots. Run the cells again below.\n\nHere are a list of the important functions:\n- .hist() is a histogram of either an entire dataframe or a particular column in a dataframe\n- .plot() is a basic plot, but we can add attributes in this function, such as the <strong>kind</strong> of plot and the <strong>x</strong> and <strong>y</strong> axes.\n- .groupby() groups your dataframe by particular columns or information. This is a bit more of an advanced technique. "
    },
    {
      "metadata": {
        "trusted": true
      },
      "cell_type": "code",
      "source": "import matplotlib.pyplot as plt",
      "execution_count": null,
      "outputs": []
    },
    {
      "metadata": {
        "trusted": true
      },
      "cell_type": "code",
      "source": "# The hist() function shows a histogram of ALL the columns \ndf.hist()",
      "execution_count": null,
      "outputs": []
    },
    {
      "metadata": {
        "trusted": true
      },
      "cell_type": "code",
      "source": "#That's not pretty. Let's show just ONE column\n\ndf['knowledge_score'].hist()",
      "execution_count": null,
      "outputs": []
    },
    {
      "metadata": {
        "trusted": true
      },
      "cell_type": "code",
      "source": "# Try doing a histogram with another column that interests you\n\n",
      "execution_count": null,
      "outputs": []
    },
    {
      "metadata": {
        "scrolled": true,
        "trusted": true
      },
      "cell_type": "code",
      "source": "# Other options: You can make a scatter plot! \n# We tell Python the \"kind\" of plot is a \"scatter\" and that the X and Y axes are particular columns \n# Our question: is math and reading scores correlated?\n\ndf.plot(kind='scatter', x = 'reading_score', y = 'math_score')\n",
      "execution_count": null,
      "outputs": []
    },
    {
      "metadata": {
        "trusted": true
      },
      "cell_type": "code",
      "source": "## Finish up by looking at scatterplots of different relationships on your own\n## What are some patterns you find? Ex: Is there a relationship between scores and household income?\n\n",
      "execution_count": null,
      "outputs": []
    },
    {
      "metadata": {
        "trusted": true
      },
      "cell_type": "code",
      "source": "# Advanced: Pandas groupby function. This is just a sample of getting more focused while coding.\n# Create a new dataframe that is grouped by income category\n\ndf_grouped = df.groupby('incomecat')\ndf_grouped ",
      "execution_count": null,
      "outputs": []
    },
    {
      "metadata": {
        "trusted": true
      },
      "cell_type": "code",
      "source": "df_grouped_mean = df_grouped.mean()\ndf_grouped_mean",
      "execution_count": null,
      "outputs": []
    },
    {
      "metadata": {
        "trusted": true
      },
      "cell_type": "code",
      "source": "df_grouped_mean[['reading_score', 'math_score', 'knowledge_score']].plot(kind='bar')\nplt.legend(loc=9, bbox_to_anchor=(0.5, -0.2), ncol = 3)\nplt.show()",
      "execution_count": null,
      "outputs": []
    },
    {
      "metadata": {},
      "cell_type": "markdown",
      "source": "## Want to learn more?\n\nIf you are interested in Computational Social Science, data analytics, ethical implications, and any of the topics we covered today, we encourage you to begin looking at potential courses or minors you might pursue!\n\n- Computational Social Science minor\n- Digital Minor\n- Combined major in Computer Science and CSSH\n- Other courses you might take: DS 2000/DS 20001 (Data Science) \n\n\n# Thank You!\n\nIf you have questions, contact us at:\n\n### Cara Marta Messina\nDigital Integration Teaching Initiative<br/>\nAssistant Director<br/>\nmessina.c@husky.neu.edu\n\n### Slides, handouts, and data available at LINK\n### Schedule an appointment with us! [https://bit.ly/diti-office-hours](https://bit.ly/diti-office-hours)"
    }
  ],
  "metadata": {
    "kernelspec": {
      "name": "python3",
      "display_name": "Python 3",
      "language": "python"
    },
    "language_info": {
      "mimetype": "text/x-python",
      "nbconvert_exporter": "python",
      "name": "python",
      "pygments_lexer": "ipython3",
      "version": "3.5.4",
      "file_extension": ".py",
      "codemirror_mode": {
        "version": 3,
        "name": "ipython"
      }
    }
  },
  "nbformat": 4,
  "nbformat_minor": 2
}