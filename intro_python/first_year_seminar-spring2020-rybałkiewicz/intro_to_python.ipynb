{
 "cells": [
  {
   "cell_type": "markdown",
   "metadata": {},
   "source": [
    "# Using Python: A Brief Introduction</center>\n",
    "\n",
    "![](https://blogs.gartner.com/doug-laney/files/2015/01/big-data-word-cloud.jpg)\n",
    "\n",
    "\n",
    "## <center><br/>Cara Marta Messina, Digital Teaching Integration Assistant Director<br/>Northeastern University</center>\n",
    "\n",
    "### <center>Prepared for <br/>March 10th 2020</center>"
   ]
  },
  {
   "cell_type": "markdown",
   "metadata": {},
   "source": [
    "What do we mean when we say “Big Data?” How can “big data” be used in CSS? What can “big data” tell us about ourselves? \n",
    "\n",
    "* In recent years, a variety of novel digital data sources, colloquially referred to as “big data,” have taken the popular imagination by storm. \n",
    "* These data sources include, but are not limited to: digitized administrative records; activity on and contents of social media and internet platforms; and readings from sensors that track physical and environmental conditions. \n",
    "* Some have argued that such data sets have the potential to transform our understanding of human behavior and society, constituting a meta-field known as computational social science\n",
    "* Lying at the intersection of computer science, statistics and the social sciences, the emerging field of computational social science uses large-scale demographic, behavioral and network data to investigate human activity and relationships."
   ]
  },
  {
   "cell_type": "markdown",
   "metadata": {},
   "source": [
    "## Outline\n",
    "\n",
    "1. Small group activity\n",
    "2. Introduction to computational social science\n",
    "3. “Big Data” and Data Collection\n",
    "    - What can Facebook tell you about yourself?\n",
    "    - What can Google tell you about yourself?  \n",
    "    - Why is this useful? \n",
    "4. How will data analytics impact our future?\n",
    "    - Example: Activity tracking products for health insurance\n",
    "5. Live Example: Using computational methods to examine school shooting statistics and narratives\n",
    "6. Introduction to Python & Jupyter Notebook\n",
    "\n",
    "\n",
    "\n",
    "### Small Group Discussion:\n",
    "In groups of 2-3 people, have a quick **5 minute discussion** to think about some (or all) of these questions: \n",
    "- What data do you think is being collected about you? \n",
    "- Where and how do you think this data is being collected? \n",
    "- Where is it stored? Who sees it? \n",
    "- How do you image your data is being used? \n",
    "- What is your reaction to this information being collected, stored, and potentially used?"
   ]
  },
  {
   "cell_type": "markdown",
   "metadata": {},
   "source": [
    "![](https://thevpn.guru/wp-content/uploads/2017/08/The-Ugly-Truth-About-How-Facebook-Uses-Your-Private-Data.jpg)\n",
    "\n",
    "## Social Media Ads\n",
    "\n",
    "Social media apps collect and store all the information about you; it not only collects what you write or enter in your bio, but also which posts you click, what you search, who you follow, who follows you, and data aggregated from other sites, as well. This data is collected to create a profile that describes and categorizes who \"you\" are according to your activities on social media platforms and beyond. Part of the reason this data is collected is to create targeted, personal ads. \n",
    "\n",
    "### Activity: What do your social media ads tell you about yourself?\n",
    "Open up your social media platforms (Facebook, Twitter, YouTube, Instagram, Snapchat, etc). Search for ads that pop up on the platform. Choose a partner and discuss:\n",
    "- What sorts of advertisements are you receiving?\n",
    "- Which advertisements appeal to you? Which do not?\n",
    "- Are these advertisements interesting, surprising, or not surprising? Why?\n",
    "- Compare your advertisements across different social media platforms. How are they similar? How are they different?\n",
    "- Why do you think this adverisement what targeted towards you?\n",
    "\n",
    "**If you don't have any social media accounts, feel free to listen in on another conversation. We will show you our results shortly.**\n",
    "\n",
    "Here are some examples of advertising:\n",
    "\n",
    "\n",
    "![](./visuals/ad-IG1.jpg) \n",
    "\n",
    "![](./visuals/ad-IG2.jpg) \n",
    "\n",
    "![](./visuals/ad-TW1.jpg) \n",
    "\n",
    "![](./visuals/ad-TW2.jpg) "
   ]
  },
  {
   "cell_type": "markdown",
   "metadata": {},
   "source": [
    "## Google Timeline\n",
    "\n",
    "Just as Facebook keeps track of the clicks you make, Google keeps track of the steps you make (as well as many other points of data). By using Google Timeline, you can trace the routes you took. The example we are using is a trip Alexis took.\n",
    "\n",
    "\n",
    "![](./visuals/google_alexisscreenshot1.png)\n",
    "![](./visuals/google_alexisscreenshot2.png)\n"
   ]
  },
  {
   "cell_type": "markdown",
   "metadata": {},
   "source": [
    "## How can collecting data on us impact us in the future?\n",
    "\n",
    "![](https://i0.wp.com/9to5mac.com/wp-content/uploads/sites/6/2018/09/run.jpg?resize=1500%2C0&quality=82&strip=all&ssl=1)\n",
    "\n",
    "### Activity tracker like iPhone or Apple Watch now mandatory for John Hancock life insurance \n",
    "\n",
    "* Policyholders score premium discounts for hitting exercise targets tracked on wearable devices such as a Fitbit or Apple Watch\n",
    "* Raised questions about whether insurers may eventually use data to select the most profitable customers\n",
    "* Will policyholders be penalised for walking through a sketchy area, logged by the GPS in their device? What about an activity tracker logging a strenuous hike as a risk factor? Or deciding that someone is cycling or skiing dangerously fast?\n",
    "\n",
    "\n",
    "### China is building a digital dictatorship to exert control over its 1.4 billion citizens. For some, “social credit” will bring privileges — for others, punishment."
   ]
  },
  {
   "cell_type": "markdown",
   "metadata": {},
   "source": [
    "### #WhyIStayed: Survivors of Domestic Violence Relationships\n",
    "\n",
    "![](./visuals/ethics_whyleft.png)\n",
    "\n",
    "\n",
    "### Big data in Healthcare: From Opiod Crsis to Tracking the Flu\n",
    "\n",
    "![](https://i1.wp.com/ems-solutionsinc.com/wp-content/uploads/2015/11/Screen-Shot-2015-11-23-at-5.23.57-AM.png?ssl=1) \n"
   ]
  },
  {
   "cell_type": "markdown",
   "metadata": {},
   "source": [
    "## Using Computational Methods to Examine School Shootings and the Media \n",
    "\n",
    "Grounded in theory and empirical background, the research examines several research questions: \n",
    "* Has the media coverage of school shootings increased over time?\n",
    "* Has the media coverage of school shootings increased over time relative to the amount of school shootings over time? \n",
    "* Has the framing of school shootings changed over time? \n",
    "    * Specifically, has the mention of mass shootings as a gun control issue versus a mental health issue increased, stayed the same, or decreased over time? "
   ]
  },
  {
   "cell_type": "markdown",
   "metadata": {},
   "source": [
    "![](./visuals/NYT-code1.png) \n",
    "\n",
    "![](./visuals/NYT-code2.png) \n",
    "\n",
    "![](./visuals/NYT-visual1.png) \n",
    "\n",
    "![](./visuals/NYT-code3.png)\n",
    "\n",
    "![](./visuals/NYT-visual2.png) \n",
    "\n",
    "![](./visuals/NYT-code4.png)\n",
    "\n",
    "![](./visuals/NYT-visual3.png)\n",
    "\n",
    "### Summary: \n",
    "* Schools are safer now than they were in the 1990s.\n",
    "    * Four times the number of children were killed in schools in the early 1990s than today (Fox & Fridel 2018)\n",
    "* There is a negative correlation showing that fatal school shootings have decreased over time\n",
    "* Media has shown a different trend with an increase in articles covering school shootings over time\n",
    "    * Spikes for high victim, high profile shootings\n",
    "* Mentions of mental health and gun control only happen in high profile school shootings: Sandy Hook and Columbine "
   ]
  },
  {
   "cell_type": "markdown",
   "metadata": {
    "collapsed": true
   },
   "source": [
    "# Introduction to Python \n",
    "\n",
    "## Code and Text written by: <br/>\n",
    "## Laura Nelson ~~ *Assistant Professor of Sociology*<br/><br/>Northeastern University\n",
    "\n",
    "<br/>\n",
    "\n",
    "# Introduction\n",
    "\n",
    "It is increasingly important to learn a scripting language, such as Python or R, in order to access, collect, and structure data from diverse sources, and analyze data using new and developing methods, such as machine learning.\n",
    "\n",
    "There is no way you will remember all of this and that is completely normal. Focus on learning the syntax, but also getting a higher-level understanding of the way Python works. This is just a basic introduction to understand how python works and what you can do with it, but there are a lot of resources out there if this is something that interests you. If you've never written in Python, all of this may feel very strange to you. It gets easier as you work with it more.\n",
    "\n",
    "# Learning Goals\n",
    "\n",
    "- Understand what Python is, why it is useful, and how to use Python for data analysis.\n",
    "- Understand how Python interacts with, and represents, data. \n",
    "\n",
    "# Learning Outcomes\n",
    "\n",
    "- Learn and be able to explain Python basics - introduction, arithmatic, dataframes, visualizations\n",
    "    \n",
    "# Workshop Outline\n",
    "1. Python basics\n",
    "2. Dataframes\n",
    "3. Visualizations\n"
   ]
  },
  {
   "cell_type": "markdown",
   "metadata": {},
   "source": [
    "# 1. Python basics"
   ]
  },
  {
   "cell_type": "code",
   "execution_count": null,
   "metadata": {},
   "outputs": [],
   "source": [
    "# python is all about functions, variables, and doing things to variables using functions\n",
    "# the print function\n",
    "\n",
    "print(\"Hello, world!\")"
   ]
  },
  {
   "cell_type": "code",
   "execution_count": null,
   "metadata": {},
   "outputs": [],
   "source": [
    "##try printing something yourself here!\n"
   ]
  },
  {
   "cell_type": "markdown",
   "metadata": {},
   "source": [
    "<a id='arithmetic'></a>\n",
    "### Arithmetic"
   ]
  },
  {
   "cell_type": "code",
   "execution_count": null,
   "metadata": {},
   "outputs": [],
   "source": [
    "# Computers are really good at arithmetic\n",
    "# Addition\n",
    "\n",
    "2+5"
   ]
  },
  {
   "cell_type": "code",
   "execution_count": null,
   "metadata": {},
   "outputs": [],
   "source": [
    "# Let's have Python report the results from three operations at the same time\n",
    "\n",
    "print(2-5)\n",
    "print(2*5)\n",
    "print(2/5)"
   ]
  },
  {
   "cell_type": "code",
   "execution_count": null,
   "metadata": {},
   "outputs": [],
   "source": [
    "## Take 5 minutes and run some algebra here!\n"
   ]
  },
  {
   "cell_type": "markdown",
   "metadata": {},
   "source": [
    "# The Pandas Dataframe\n",
    "\n",
    "******************************\n",
    "The data we'll analyze today comes from:\n",
    "\n",
    "National Center for Education Statistics, United States Department of Education. (2009). Early Childhood Longitudinal Study, Kindergarten Class of 1998-99 (ECLS-K) [Data file]. Available from http://nces.ed.gov/ecls/kindergarten.asp\n",
    "\n",
    "I selected five variables (columns) to analyze:\n",
    "\n",
    "* reading_score = READING IRT SCALE SCORE\n",
    "* math_score = MATH IRT SCALE SCORE\n",
    "* knowledge_score = GENERAL KNOWLEDGE IRT SCALE SCORE\n",
    "* p2income = TOTAL HOUSEHOLD INCOME\n",
    "* incomecat = INCOME CATEGORES\n",
    "    * 1 = low income: < \\$40,000\n",
    "    * 2 = mid income\n",
    "    * 3 = high income: >= \\$70,000\n",
    "    \n",
    "The unit of observation (row) is the individual kindergartner.  \n",
    "   \n",
    "## Motivating Questions\n",
    "\n",
    "1. Are math, reading, and general knowledge scores related to household income in any predictable way?\n",
    "2. Can you predict general knowledge scores from reading or math scores? That is, are reading and math skills related to general knowledge?"
   ]
  },
  {
   "cell_type": "code",
   "execution_count": null,
   "metadata": {},
   "outputs": [],
   "source": [
    "#import our library \n",
    "import pandas"
   ]
  },
  {
   "cell_type": "code",
   "execution_count": null,
   "metadata": {},
   "outputs": [],
   "source": [
    "df = pandas.read_csv(\"education_dataset.csv\", sep=',')\n",
    "df"
   ]
  },
  {
   "cell_type": "code",
   "execution_count": null,
   "metadata": {},
   "outputs": [],
   "source": [
    "#It's easier to view the information when you have a piece of it instead of the entire thing, \n",
    "#especially when you have a LOT of data\n",
    "df.head()"
   ]
  },
  {
   "cell_type": "code",
   "execution_count": null,
   "metadata": {},
   "outputs": [],
   "source": [
    "#syntax to extract columns\n",
    "df['reading_score'].head()"
   ]
  },
  {
   "cell_type": "code",
   "execution_count": null,
   "metadata": {},
   "outputs": [],
   "source": [
    "## Try it yourself: Extract the knowledge score column\n",
    "\n",
    "df['knowledge_score'].head()"
   ]
  },
  {
   "cell_type": "code",
   "execution_count": null,
   "metadata": {},
   "outputs": [],
   "source": [
    "#extract one row: notice the syntax and the ZERO\n",
    "df.loc[0]"
   ]
  },
  {
   "cell_type": "code",
   "execution_count": null,
   "metadata": {},
   "outputs": [],
   "source": [
    "## Try it yourself - extract the 20th row of data \n",
    "\n",
    "df.loc[19]"
   ]
  },
  {
   "cell_type": "markdown",
   "metadata": {},
   "source": [
    "## Summary Statistics"
   ]
  },
  {
   "cell_type": "code",
   "execution_count": null,
   "metadata": {},
   "outputs": [],
   "source": [
    "## Summary statistics: Mean\n",
    "df['reading_score'].mean()"
   ]
  },
  {
   "cell_type": "code",
   "execution_count": null,
   "metadata": {},
   "outputs": [],
   "source": [
    "#Sum\n",
    "df['reading_score'].sum()"
   ]
  },
  {
   "cell_type": "code",
   "execution_count": null,
   "metadata": {},
   "outputs": [],
   "source": [
    "#Standard deviation\n",
    "df['reading_score'].std()"
   ]
  },
  {
   "cell_type": "code",
   "execution_count": null,
   "metadata": {},
   "outputs": [],
   "source": [
    "##Ex: explore one of the other columns - \n",
    "#find the MEAN, SUM, and STANDARD DEVIATION of another column that interests you!\n",
    "\n",
    "\n"
   ]
  },
  {
   "cell_type": "code",
   "execution_count": null,
   "metadata": {},
   "outputs": [],
   "source": [
    "#We can find it all at the same time\n",
    "\n",
    "df.describe()"
   ]
  },
  {
   "cell_type": "markdown",
   "metadata": {},
   "source": [
    "# Visualization"
   ]
  },
  {
   "cell_type": "code",
   "execution_count": null,
   "metadata": {},
   "outputs": [],
   "source": [
    "import matplotlib.pyplot as plt"
   ]
  },
  {
   "cell_type": "code",
   "execution_count": null,
   "metadata": {},
   "outputs": [],
   "source": [
    "df.hist()\n",
    "plt.show()"
   ]
  },
  {
   "cell_type": "code",
   "execution_count": null,
   "metadata": {},
   "outputs": [],
   "source": [
    "#That's not pretty. Let's show just one\n",
    "\n",
    "df['knowledge_score'].hist()\n",
    "plt.show()"
   ]
  },
  {
   "cell_type": "code",
   "execution_count": null,
   "metadata": {},
   "outputs": [],
   "source": [
    "## Try doing a histogram with another column that interests you\n",
    "\n",
    "    "
   ]
  },
  {
   "cell_type": "code",
   "execution_count": null,
   "metadata": {
    "scrolled": true
   },
   "outputs": [],
   "source": [
    "#Other options:\n",
    "#Scatter plot: is math and reading scores correlated?\n",
    "\n",
    "df.plot(kind='scatter', x = 'reading_score', y = 'math_score')\n",
    "plt.show()"
   ]
  },
  {
   "cell_type": "code",
   "execution_count": null,
   "metadata": {},
   "outputs": [],
   "source": [
    "## Finish up by looking at scatterplots of different relationships on your own\n",
    "## What are some patterns you find? Ex: Is there a relationship between scores and household income?\n",
    "\n"
   ]
  },
  {
   "cell_type": "code",
   "execution_count": null,
   "metadata": {},
   "outputs": [],
   "source": [
    "#advanced: Pandas groupby function\n",
    "#create a new dataframe that is grouped by income category\n",
    "\n",
    "df_grouped = df.groupby('incomecat')\n",
    "df_grouped \n",
    "df_grouped_mean = df_grouped.mean()\n",
    "df_grouped_mean"
   ]
  },
  {
   "cell_type": "code",
   "execution_count": null,
   "metadata": {},
   "outputs": [],
   "source": [
    "df_grouped_mean[['reading_score', 'math_score', 'knowledge_score']].plot(kind='bar')\n",
    "plt.legend(loc=9, bbox_to_anchor=(0.5, -0.2), ncol = 3)\n",
    "plt.show()"
   ]
  },
  {
   "cell_type": "markdown",
   "metadata": {},
   "source": [
    "## Want to learn more?\n",
    "\n",
    "If you are interested in Computational Social Science, data analytics, ethical implications, and any of the topics we covered today, we encourage you to begin looking at potential courses or minors you might pursue!\n",
    "\n",
    "- Computational Social Science minor\n",
    "- Digital Minor\n",
    "- Combined major in Computer Science and CSSH\n",
    "- Other courses you might take: DS 2000/DS 20001 (Data Science) \n",
    "\n",
    "\n",
    "# Thank You!\n",
    "\n",
    "If you have questions, contact us at:\n",
    "\n",
    "### Cara Marta Messina\n",
    "Digital Integration Teaching Initiative\n",
    "Assistant Director\n",
    "messina.c@husky.neu.edu\n",
    "\n",
    "### Slides, handouts, and data available at [LINK TO GITHUB](INSERT LINK HERE)\n",
    "\n",
    "### Schedule an appointment with us! [https://bit.ly/diti-office-hours](https://bit.ly/diti-office-hours)"
   ]
  }
 ],
 "metadata": {
  "kernelspec": {
   "display_name": "Python 3",
   "language": "python",
   "name": "python3"
  },
  "language_info": {
   "codemirror_mode": {
    "name": "ipython",
    "version": 3
   },
   "file_extension": ".py",
   "mimetype": "text/x-python",
   "name": "python",
   "nbconvert_exporter": "python",
   "pygments_lexer": "ipython3",
   "version": "3.7.4"
  }
 },
 "nbformat": 4,
 "nbformat_minor": 2
}
