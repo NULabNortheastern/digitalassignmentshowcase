{
  "cells": [
    {
      "cell_type": "markdown",
      "metadata": {
        "id": "LZE4qGG79Xf7"
      },
      "source": [
        "<img align=\"left\" src=\"https://ithaka-labs.s3.amazonaws.com/static-files/images/tdm/tdmdocs/CC_BY.png\"><br />\n",
        "\n",
        "Adapted by Sarah Connell, Dipa Desai, Juniper Johnson, Liam MacLean, Sara Morrell, and Emre Tapan from two notebooks created by [Nathan Kelber](https://nkelber.github.io/) and Ted Lawless for [JSTOR Labs](https://labs.jstor.org/) under [Creative Commons CC BY License](https://creativecommons.org/licenses/by/4.0/). See [here](https://github.com/ithaka/constellate-notebooks) for the original versions. Some exercises were adapted from teaching notebooks created by Laura Nelson, University of British Columbia, and from [Python for Everybody](https://www.py4e.com/). Warm thanks to Kate Kryder, Data Analysis & Visualization Specialist at Northeastern University, for helping to develop these notebooks.<br />\n",
        "___"
      ]
    },
    {
      "cell_type": "markdown",
      "source": [
        "###Summary\n",
        "\n",
        "This notebook will explain how to use [Google Colaboratory](https://colab.google/) and fundamental Python capabilities for writing a computational poem.\n",
        "\n",
        "Please create a copy of this notebook by going to \"File\" and then \"Save a copy in Drive\". In your personal copy you can save any changes you make."
      ],
      "metadata": {
        "id": "Wo8mVkmPwP79"
      }
    },
    {
      "cell_type": "markdown",
      "metadata": {
        "id": "yvaZV9oZ9XgA"
      },
      "source": [
        "### Cells\n",
        "\n",
        "Similar to the way an essay is composed of paragraphs, Google Colab notebooks are composed of cells. A cell is like a container for a particular kind of content. There are essentially two kinds of content in notebooks:\n",
        "\n",
        "1. Text Cells—These can contain text, images, video, and the other kinds of explanatory content you might find on a regular website. The cell you're reading right now is a text cell.\n",
        "2. Code Cells—These can contain code written in a variety of computer programming languages.\n",
        "\n",
        "A **code cell** can be distinguished from a **text cell** by the fact that it contains a pair of brackets on its left. Code cells in Google Colab also have a grey or black background."
      ]
    },
    {
      "cell_type": "code",
      "source": [
        "#Code cell 1\n",
        "#This is a code cell"
      ],
      "metadata": {
        "id": "XgjCxmX36zln"
      },
      "execution_count": null,
      "outputs": []
    },
    {
      "cell_type": "markdown",
      "metadata": {
        "id": "2FygUjP49XgC"
      },
      "source": [
        "A text cell provides information, but a code cell can be executed to perform an action. The code cell above does not contain any executable content, only a text comment. We can tell the text in the code cell is a comment because it is prefixed by a ``#``. In Python, if a line is prefaced by a ``#`` then that line is a comment and will not be executed if the code is run.\n",
        "\n",
        "Commenting is *essential*; you should add comments to explain to yourself what the code is doing, to mark any questions that you have, and to remind yourself where you left off in your work (an important rule of coding is that your future self will not remember anything). Commenting is also a responsible practice for any code that you might produce and share in the future. Your public-facing comments should be written to explain how the code is expected to behave, point out the rationale behind your design decisions, and mark out places where a user might want to modify the code. The comments you make as you are learning can be used to explain how the code works to yourself, and to mark any questions you have or places you got stuck."
      ]
    },
    {
      "cell_type": "markdown",
      "metadata": {
        "id": "yDKCuoLB9XgD"
      },
      "source": [
        "## Hello World: Your First Code\n",
        "\n",
        "It is traditional in programming education to begin with a program that prints ``Hello World``. In Python, this is can be done using the ``print()`` function. A function is a block of code that performs some action. This function prints out whatever is inside the parentheses.\n",
        "\n",
        "```print(\"Hello World\")```\n",
        "\n",
        "The code cell below has the ``print()`` function set up to get you started, so all you need to do is write the text you want to print (in this case, \"Hello World\") inside the quotation marks—make sure not to delete these! We'll cover why the quotation marks are needed soon.\n",
        "\n",
        "To **execute** or **run** our code, we have a couple of options:\n",
        "\n",
        "### Option One\n",
        "\n",
        "Mouse over the code cell you wish to run and then push the \"Play\" triangle button to the left of the cell.\n",
        "### Option Two\n",
        "\n",
        "Click in the code cell you wish to run and press Ctrl + Enter (Windows) or Control + Return (OS X) on your keyboard.\n",
        "\n",
        "Note that you will get a warning from Google the first time you run code in a Colab notebook; you can click through this."
      ]
    },
    {
      "cell_type": "code",
      "source": [
        "#Code cell 2\n",
        "print(\"Hello World\")"
      ],
      "metadata": {
        "id": "wTQ8rSPFPovr"
      },
      "execution_count": null,
      "outputs": []
    },
    {
      "cell_type": "code",
      "execution_count": null,
      "metadata": {
        "id": "CG60Yuf99XgE"
      },
      "outputs": [],
      "source": [
        "#Code cell 3\n",
        "#Fill in any text you would like inside of the quotation marks below and then run this block of code\n",
        "print(\"\")"
      ]
    },
    {
      "cell_type": "markdown",
      "metadata": {
        "id": "W3gc2jFD9XgE"
      },
      "source": [
        "After your code runs, you'll receive any output underneath the code you ran. After you click out of the cell, a number will appear in the pair of brackets to the left of the code cell to show the order the cell was run. For example, assuming \"Code Cell 2\" above is the first code cell you actually ran in this notebook, you should see a 1 in the square brackets if you click onto another cell.\n",
        "\n",
        "If your code is complicated or takes some time to execute, you will see an ellipsis (…) in the output line while the code executes. The \"Play\" button will also spin and show you a \"Stop\" option, which you can use to interrupt the code if it gets stuck. The first cell you run in a Colab notebook will also take a bit longer than usual.\n",
        "\n",
        "Notice that each time you run a code cell, the number increases in the pair of brackets. This keeps track of the order in which cells were run. Technically, you can run the cells in any order, but it is usually a good idea to run them sequentially from top to bottom, to avoid errors.\n"
      ]
    },
    {
      "cell_type": "markdown",
      "metadata": {
        "id": "Lh84zSdf9XgG"
      },
      "source": [
        "## Working in Google Colab\n",
        "If you want to add a cell in Google Colab, you can do so with the \"+ Code\" and \"+ Text\" buttons at the top left, under the main menu bar. These buttons also appear when you hover your mouse over the top or bottom of a cell. Click on any cell to see your options for editing it, including: cut, copy, move up, move down, and delete.\n",
        "\n",
        "If you want to edit a text cell, double-click on it. Google colab uses [markdown](https://en.wikipedia.org/wiki/Markdown), a markup language, to format text. You don't need to get too worried about the formatting, and Google Colab has some buttons that will help you format the text. There are plenty of resources online if you do want to add any formatting that isn't provided by the buttons. For more on formatting text with markdown, see this [markdown guide](https://www.markdownguide.org/cheat-sheet/).\n",
        "\n",
        "When you click out of a text cell in Google Colab, it will automatically go back to displaying the formatted version.\n",
        "\n"
      ]
    },
    {
      "cell_type": "markdown",
      "source": [
        "Test editing a text cell here by double-clicking and then filling in your name.\n",
        "\n",
        "**My name is:**"
      ],
      "metadata": {
        "id": "-N0if3J4BCnx"
      }
    },
    {
      "cell_type": "markdown",
      "source": [
        "Google Colab also has some features to help keep Notebooks organized. There is an outline button on the left that will let you see each of the sections in the Notebook. There is also a search option. Google Colab will automatically collapse and \"hide\" groups of multiple cells in a section, as well as very long code cells. To view the hidden cells, just click on the notification that the cells have been hidden.\n",
        "\n",
        "Google has very good documentation for working in Colab. Here are a few links you might find useful:\n",
        "* [Overview of Colab features](https://colab.research.google.com/notebooks/basic_features_overview.ipynb)\n",
        "* [Guide to Markdown](https://colab.research.google.com/notebooks/markdown_guide.ipynb)\n",
        "* [Frequently Asked Questions](https://research.google.com/colaboratory/faq.html)\n",
        "\n",
        "Code in Google Colab is executed in a virtual machine private to your account. However, virtual machines can be deleted by Google if they are idle for a while. It is best to store your data and code in separate files on your personal machine, rather than using Colab for long-term data storage.\n",
        "\n",
        "While the code you execute on your Google Colab is private to your account, you should exercise caution before running Colab notebooks that are authored by other individuals. Like emails, social media, and other digital content, Colab notebooks can be used for phishing, data privacy violations, and other malicious attacks. Review the code of unfamiliar Colab notebooks before running the cells.\n",
        "\n",
        "### What to do if you get stuck\n",
        "Don't worry, you can't break anything in this notebook! If you need to, you can always make a new copy from the Google Colab notebook link in the slides or the [shared Google Drive folder](https://drive.google.com/drive/folders/1_2Eo9OurHiwo7ZNvIBWyPu9OG6gju2SG?usp=sharing). Google Colab also has a \"playground\" mode that will prevent you from making any permanent changes. Go to \"Open in playground mode\" under the \"File\" menu to access this (note that \"playground\" mode is an option only for Colab notebooks you have saved to your own Drive).\n",
        "\n",
        "If you have a more serious issue with the notebook and you just want to start over, you can go to the \"Runtime\" menu at the top and hit \"Restart session\" (or \"Disconnect and delete runtime\" for more serious issues). From this menu, you can also \"Interrupt execution\" for any processes you want to stop (this is the same functionality as hitting the \"Stop\" button on a code cell).\n",
        "\n",
        "From the \"Edit\" menu, you can choose \"Clear all outputs,\" if you want a clean copy of the notebook without any output from the code cells.\n",
        "\n",
        "Lastly, you can go to settings by clicking on the gear icon in the upper right corner, navigate to Miscellaneous, and enable Kitty, Corgi, and/or Crab mode.\n"
      ],
      "metadata": {
        "id": "dEjcMspIBA5u"
      }
    },
    {
      "cell_type": "markdown",
      "metadata": {
        "id": "NFH4Te829XgG"
      },
      "source": [
        "# Python fundamentals\n",
        "\n",
        "Python is a computer programming language that is widely used in data science and the digital humanities. We'll cover a few Python basics here, giving you the tools to understand some core concepts. If you'd like to learn more, there are many excellent resources online for learning Python, such as [Python for Everybody](https://www.py4e.com/) and [tutorials published by the Programming Historian](https://programminghistorian.org/en/lessons/?topic=python).\n",
        "\n",
        "**Making Mistakes is Important**\n",
        "\n",
        "Every programmer at every skill level gets errors in their code. Making mistakes is how we all learn to program. Programming is a little like solving a puzzle where the goal is to get the desired outcome through a series of attempts. You won't solve the puzzle if you're afraid to test if the pieces match. An error message will not break your computer. Remember, you can always restart the session in a notebook if it stops working properly or make a new copy if you misplace an important piece of code. To learn any skill, you need to be willing to play and experiment. Programming is no different."
      ]
    },
    {
      "cell_type": "markdown",
      "metadata": {
        "id": "vC-NVqSI9XgI"
      },
      "source": [
        "## Strings\n",
        "\n",
        "Python can be used to work with both numerical and text data. Here, we will focus on text data in the form of [strings](https://www.w3schools.com/python/python_strings.asp). A string can be written with single or double quotes, but they need to match each other and they need to be the \"straight\" version, not curly/smart quotes.\n",
        "\n",
        "A string can include letters, spaces, line breaks, and numbers. For example, 'Hello World', \"1700 butterflies', and '1823' are all strings.\n",
        "\n",
        "To check if something is a string, we can use the `type()` **function**, which prints out the data type of what is inside the parentheses. In Python, a function is just a piece of code that will do some specific task, like telling you the type of data you have."
      ]
    },
    {
      "cell_type": "code",
      "source": [
        "#Code cell 4\n",
        "#Check the type for \"cats\"\n",
        "type(\"cats\")"
      ],
      "metadata": {
        "id": "6OXbkjp244sE"
      },
      "execution_count": null,
      "outputs": []
    },
    {
      "cell_type": "code",
      "source": [
        "#Code cell 5\n",
        "type(\"15\")"
      ],
      "metadata": {
        "id": "v_lR88NY5B_f"
      },
      "execution_count": null,
      "outputs": []
    },
    {
      "cell_type": "markdown",
      "source": [
        "### Putting strings together"
      ],
      "metadata": {
        "id": "j6JYiipnauRJ"
      }
    },
    {
      "cell_type": "markdown",
      "source": [
        "If you have two or more strings, you can **concatenate** them using a `+` operator."
      ],
      "metadata": {
        "id": "sp-HJgsMd0AO"
      }
    },
    {
      "cell_type": "code",
      "source": [
        "#Code cell 6\n",
        "#Try using the below code to print out \"My favorite color is\" and your favorite color\n",
        "print(\"My favorite color is \" + 'blue')"
      ],
      "metadata": {
        "id": "YrhvlIEId0q9"
      },
      "execution_count": null,
      "outputs": []
    },
    {
      "cell_type": "markdown",
      "source": [
        "To print on two different lines using one `print()`, you can add the newline character `\\n`."
      ],
      "metadata": {
        "id": "aXBPfeuZe3Kt"
      }
    },
    {
      "cell_type": "code",
      "source": [
        "#Code cell 7\n",
        "print(\"My favorite color is \" + '\\n' + 'blue')"
      ],
      "metadata": {
        "id": "-kZDfyUOfMgr"
      },
      "execution_count": null,
      "outputs": []
    },
    {
      "cell_type": "markdown",
      "metadata": {
        "id": "IeNKdRrX9XgL"
      },
      "source": [
        "## Variables\n",
        "[Variables](https://www.w3schools.com/python/python_variables.asp) in Python point to specific information. There are many kinds of information and data types that a [variable can point to](https://medium.com/@daniel.tooke/variables-and-memory-addresses-in-python-6d96d672ed3d), including numerical and text data. We create (or **initialize**) a variable with an [assignment statement](https://www.geeksforgeeks.org/python/different-forms-of-assignment-statements-in-python/). The assignment statement gives the variable an initial value.\n",
        "\n",
        "Global variables are stored in your \"working memory\" during a coding session, which means that they are not saved to your hard drive but that they will persist during your session and will be usable from any cell in your notebook once you have initialized them. When you start a new session or after you clear a notebook, you will need to re-initialize any variables you plan to use (that is, you will need to re-run the code with the assignment statements for any variables that you need).\n",
        "\n",
        "  \n"
      ]
    },
    {
      "cell_type": "code",
      "execution_count": null,
      "metadata": {
        "id": "J_twjnKp9XgL"
      },
      "outputs": [],
      "source": [
        "#Code cell 8\n",
        "#Initialize a string variable\n",
        "#Note that this code doesn't produce any output; it just initializes the variable\n",
        "color = 'pink'"
      ]
    },
    {
      "cell_type": "code",
      "execution_count": null,
      "metadata": {
        "id": "kBy2An-B9XgL"
      },
      "outputs": [],
      "source": [
        "#Code cell 9\n",
        "#Running this code will let you see the value of your variable\n",
        "color"
      ]
    },
    {
      "cell_type": "markdown",
      "source": [
        "The `type()` function can be used on variables to check the data type of that variable"
      ],
      "metadata": {
        "id": "pOnMfeNi6711"
      }
    },
    {
      "cell_type": "code",
      "execution_count": null,
      "metadata": {
        "id": "Tb5TLOvk9XgM"
      },
      "outputs": [],
      "source": [
        "#Code cell 10\n",
        "type(color)"
      ]
    },
    {
      "cell_type": "markdown",
      "metadata": {
        "id": "rD3PLgP-9XgN"
      },
      "source": [
        "The value of a variable can be overwritten with a new value. You can test this by changing the value in the first code block above, and then re-running everything.\n",
        "\n",
        "It can be difficult to keep track of which variables you've initialized, but, fortunately, there is a trick you can use. Running ```%whos``` will give you the basic details for the variables that are active in your current session.\n",
        "\n",
        "**Note**: this command is specifically for Google Colab Notebooks—it can't be used with all ```.py``` files."
      ]
    },
    {
      "cell_type": "code",
      "execution_count": null,
      "metadata": {
        "id": "j5KholWP9XgO"
      },
      "outputs": [],
      "source": [
        "#Code cell 11\n",
        "%whos"
      ]
    },
    {
      "cell_type": "markdown",
      "source": [
        "You can also view variables stored in your working memory by clicking the {*x*} on the left side of the notebook."
      ],
      "metadata": {
        "id": "EauIkgqXnQub"
      }
    },
    {
      "cell_type": "markdown",
      "metadata": {
        "id": "Fn4L4RA19XgO"
      },
      "source": [
        "### Variable naming guidelines\n",
        "You can create a variable with almost any name, but there are a few guidelines that are recommended. First, variable names should be clear and descriptive.\n",
        "\n",
        "For example, if we create a variable that stores a color, it is helpful to give it a name that makes the value stored inside it obvious, something like `color` or `my_favorite_color`. From the computer's perspective, we could call the variable almost anything (`potato`, `bananafish`, `flat_tire`). As long as we are consistent, the code will execute the same. When it comes time to read, modify, and understand the code, however, it will be confusing to you and others."
      ]
    },
    {
      "cell_type": "code",
      "execution_count": null,
      "metadata": {
        "id": "wvAUWh0b9XgO"
      },
      "outputs": [],
      "source": [
        "#Code cell 12\n",
        "my_favorite_color = 'pink'\n",
        "print(my_favorite_color)\n",
        "flat_tire = 'pink'\n",
        "print(flat_tire)"
      ]
    },
    {
      "cell_type": "markdown",
      "metadata": {
        "id": "RX0BKNWK9XgP"
      },
      "source": [
        "### Variable naming rules\n",
        "\n",
        "In addition to being descriptive, variable names must follow three basic rules:\n",
        "\n",
        "1. Cannot contain spaces\n",
        "2. Only letters, numbers and the underscore character (\\_) are allowed\n",
        "3. Cannot begin with a number\n",
        "\n",
        "Additionally, there are some \"reserved words\" in Python that you are not allowed to use for the names of variables (or for any other identifiers that you choose). These words are \"reserved\" because they are already used in the actual Python code. Here is a [list of these words](https://www.w3schools.com/python/python_ref_keywords.asp). You should also be careful never to use Python function names (like `print`) as your variable names.\n",
        "\n",
        "Finally, it's important to note that Python is case sensitive: ```favorite_color``` and ```Favorite_Color``` are two completely different variables."
      ]
    },
    {
      "cell_type": "markdown",
      "source": [
        "##Your Turn: Strings & Variables\n",
        "\n",
        "Option 1: In the code cells below try creating four variables that contain a sentence in the form of a string. Then try printing out the strings together to form a paragraph.\n",
        "\n",
        "Option 2 (Advanced): If you are already familiar with coding, try creating three variables that contain a sentence in the form of a string. Then print out different strings based on user input and try randomizing some of the strings that print out each time. Try [obfuscating](https://nickm.com/articles/Mateas_Montfort__A_Box_Darkly.pdf) your code (Extra advanced)."
      ],
      "metadata": {
        "id": "zCklDg17P71t"
      }
    },
    {
      "cell_type": "code",
      "source": [
        "#Code cell 13\n",
        "#Option 1\n",
        "#Intialize the four variables\n",
        "#Print out the four variables to form a paragraph"
      ],
      "metadata": {
        "id": "S7NYItoQQOnQ"
      },
      "execution_count": null,
      "outputs": []
    },
    {
      "cell_type": "code",
      "source": [
        "#Code cell 14\n",
        "#Option 2 (Advanced)\n"
      ],
      "metadata": {
        "id": "WMjQmRPqQOfM"
      },
      "execution_count": null,
      "outputs": []
    },
    {
      "cell_type": "markdown",
      "source": [
        "##Data Structures\n",
        "\n",
        "[Data structures](https://en.wikipedia.org/wiki/Data_structure) help us [organize and access](https://www.geeksforgeeks.org/dsa/data-structure-meaning/) our data. Here, we will cover lists and dictionaries."
      ],
      "metadata": {
        "id": "4HBsKDN8I143"
      }
    },
    {
      "cell_type": "markdown",
      "source": [
        "###Lists\n",
        "\n",
        "[Lists](https://www.geeksforgeeks.org/python/different-forms-of-assignment-statements-in-python/) in Python can store anywhere from zero to millions of values, and lists store these values in order.\n",
        "\n",
        "To initialize a list, we use a list definition statement, in the following format:\n",
        "\n",
        "`my_list = [value0, value1, value2, value3, ...]`\n",
        "\n",
        "Since data in lists are stored in a set order, individual values can be referenced by the value's index number, or position in the list.\n",
        "\n",
        "Python begins counting each element in the list starting at index number 0."
      ],
      "metadata": {
        "id": "L6KcG7Y0Ovqr"
      }
    },
    {
      "cell_type": "code",
      "source": [
        "#Code cell 15\n",
        "#Let's initialize a list.\n",
        "my_list = ['cat', 'pink', 'blue', 'green', 'potato', 'turtle']"
      ],
      "metadata": {
        "id": "ZmT8UU3BRD0b"
      },
      "execution_count": null,
      "outputs": []
    },
    {
      "cell_type": "markdown",
      "source": [
        "So, if we want to retrieve only `value1` in `my_list`, we would use the following code block:\n",
        "\n",
        "`my_list[index number]`\n",
        "\n",
        "In lists, index numbers start at 0. So, the first value is at index number 0, the second value is at index number 1, etc."
      ],
      "metadata": {
        "id": "ihxo1_5ORG3N"
      }
    },
    {
      "cell_type": "code",
      "source": [
        "#Code cell 16\n",
        "#Retrieving the first item in a list\n",
        "my_list[1]  #Since the index number begins at 0, we refer to index number 0 to retrieve the first element in the list."
      ],
      "metadata": {
        "id": "B8qnI4iBRGnT"
      },
      "execution_count": null,
      "outputs": []
    },
    {
      "cell_type": "markdown",
      "source": [
        "What happens when you change the index number to 3? Try it for yourself!\n",
        "\n"
      ],
      "metadata": {
        "id": "c_cc_qUkRQxa"
      }
    },
    {
      "cell_type": "markdown",
      "source": [
        "You can also use `type()` on lists."
      ],
      "metadata": {
        "id": "1GOikbt7AQTJ"
      }
    },
    {
      "cell_type": "code",
      "source": [
        "#Code cell 17\n",
        "type(my_list)"
      ],
      "metadata": {
        "id": "Zf6CafViAP-U"
      },
      "execution_count": null,
      "outputs": []
    },
    {
      "cell_type": "markdown",
      "source": [
        "###Dictionaries\n",
        "\n",
        "Like lists, a [dictionary](https://docs.python.org/3/tutorial/datastructures.html#dictionaries) can hold many values within a single variable. In a dictionary, each value is stored in relation to a descriptive key forming a [key/value pair](https://www.w3schools.com/python/python_dictionaries.asp). This structure makes dictionaries very useful, because you can supply a key and receive a value without needing to refer to a specific index number. You are not allowed to have duplicate keys in Python dictionaries; each key can be used only once.\n",
        "\n",
        "A dictionary is typed with braces `{}`.  The following examples show how key/value pairs can be used to store different kinds of data in a dictionary.\n",
        "\n",
        "`example_dictionary = {key1 : value1, key2 : value2, key3 : value3}`\n",
        "\n",
        "`word_dictionary = {word1 : definition1, word2 : defintion2, ...}`\n",
        "\n",
        "`pet_birthday_dictionary = {\"Fluffy\" : \"June 1st, 2023\", \"Spot\" : \"April 18th, 2022\", ...}`\n",
        "\n",
        "The values in dictionaries can be any data type. You can have a mix of different data types within a dictionary. The keys can be most data types, including strings and numerical data.\n",
        "\n",
        "Here is an example dictionary with the books from a bookstore as **keys** and their prices as **values**."
      ],
      "metadata": {
        "id": "QGz4Fj3rO9xy"
      }
    },
    {
      "cell_type": "code",
      "source": [
        "#Code cell 18\n",
        "#An example of a dictionary storing books and prices\n",
        "book_prices ={\n",
        " 'The Color Purple': 11.95,\n",
        " 'Sense and Sensibility': 9.95,\n",
        " 'Joan of Arc': 18.95,\n",
        "}"
      ],
      "metadata": {
        "id": "x3534E2lR5_d"
      },
      "execution_count": null,
      "outputs": []
    },
    {
      "cell_type": "code",
      "source": [
        "#Code cell 19\n",
        "#Let's take a look at what we just created\n",
        "print(book_prices)"
      ],
      "metadata": {
        "id": "Zui6JYYMR_Lx"
      },
      "execution_count": null,
      "outputs": []
    },
    {
      "cell_type": "markdown",
      "source": [
        "We relied on order to reference the items in our lists by their index numbers. Dictionaries are different. We use the keys to look up corresponding values, in this format:\n",
        "`dictionary_name[key]`\n",
        "\n",
        "For example:"
      ],
      "metadata": {
        "id": "VA9ppz5USL9Q"
      }
    },
    {
      "cell_type": "code",
      "source": [
        "#Code cell 20\n",
        "book_prices['Joan of Arc']"
      ],
      "metadata": {
        "id": "dLgfOKXPSYvf"
      },
      "execution_count": null,
      "outputs": []
    },
    {
      "cell_type": "markdown",
      "source": [
        "The key `'Joan of Arc'` always maps to the value `18.95`, so the order of the items doesn’t matter.\n"
      ],
      "metadata": {
        "id": "r2sm0L_ESO98"
      }
    },
    {
      "cell_type": "markdown",
      "source": [
        "Try it yourself! In the code block below, call up the values for `The Color Purple` and for `Sense and Sensibility`. Make sure to pay attention to the capitalization–remember that everything is case sensitive!"
      ],
      "metadata": {
        "id": "NPviQ9sVSuiy"
      }
    },
    {
      "cell_type": "code",
      "source": [
        "#Code cell 21\n",
        "#Fill in your code here\n",
        "#What happens if you enter a key that is not in our dictionary?"
      ],
      "metadata": {
        "id": "BEElbgmFSxTF"
      },
      "execution_count": null,
      "outputs": []
    },
    {
      "cell_type": "markdown",
      "source": [
        "We can use the `type` function with dictionaries, just like we did with other data types."
      ],
      "metadata": {
        "id": "zXSbAPd4TrPM"
      }
    },
    {
      "cell_type": "code",
      "source": [
        "#Code cell 22\n",
        "#Run this to check the type of book_prices\n",
        "type(book_prices)"
      ],
      "metadata": {
        "id": "7ie6NKO_Trvf"
      },
      "execution_count": null,
      "outputs": []
    },
    {
      "cell_type": "markdown",
      "source": [
        "### Nesting data structures\n",
        "\n",
        "Python data structures can be nested within each other. For example, you might have a set of lists stored as values within a dictionary.\n",
        "\n",
        "For example, in the dictionary below, the keys are authors and the values are a list of books they have written."
      ],
      "metadata": {
        "id": "qX0r_Mq5Hatg"
      }
    },
    {
      "cell_type": "code",
      "source": [
        "#Code cell 23\n",
        "book_authors ={ #creating a dictionary where the keys are authors and the values are a list of books\n",
        " 'Alice Walker': ['The Color Purple','Meridian','Taking the Arrow Out of the Heart'],\n",
        " 'Jane Austen': ['Pride and Prejudice','Emma','Sense and Sensibility'], #including the book titles as a list\n",
        " 'Leo Tolstoy': ['War and Peace','Anna Karenina','The Death of Ivan Ilyich']\n",
        "}\n",
        "book_authors"
      ],
      "metadata": {
        "id": "lwennCdSHZ_3"
      },
      "execution_count": null,
      "outputs": []
    },
    {
      "cell_type": "markdown",
      "source": [
        "\n",
        "You can use the same tools you've already learned to retrieve items in this dictionary. For example:"
      ],
      "metadata": {
        "id": "dNCSa08GUXAA"
      }
    },
    {
      "cell_type": "code",
      "source": [
        "#Code cell 24\n",
        "book_authors['Alice Walker']"
      ],
      "metadata": {
        "id": "4ElnFYfZUXeh"
      },
      "execution_count": null,
      "outputs": []
    },
    {
      "cell_type": "markdown",
      "source": [
        "To retrieve a value from a list in a dictionary, you can use the dictionary key and the list index position.\n",
        "\n",
        "`example_dictionary[key][list index position]`\n",
        "\n",
        "For example, the below code retrieves the first book in the list of books authored by Jane Austen."
      ],
      "metadata": {
        "id": "R312NZ_6IDnJ"
      }
    },
    {
      "cell_type": "code",
      "source": [
        "#Code cell 25\n",
        "book_authors['Jane Austen'][0]"
      ],
      "metadata": {
        "id": "afLhcN1AIE5n"
      },
      "execution_count": null,
      "outputs": []
    },
    {
      "cell_type": "markdown",
      "source": [
        "You can also have dictionaries nested within another dictionary. For example, the dictionary below contains two books authored by [Alice Walker](https://alicewalkersgarden.com/) (*Meridian* and *Taking the Arrow Out of the Heart*) and two authored by [Jane Austen](https://en.wikipedia.org/wiki/Jane_Austen) (*Pride and Prejudice* and *Emma*) along with the two sentences from each book in a list."
      ],
      "metadata": {
        "id": "hph9_mfCM7QK"
      }
    },
    {
      "cell_type": "code",
      "source": [
        "#Code cell 26\n",
        "book_lines = { #creating the dictionary, each key is an author and the value is a dictionary of two books they have written\n",
        " 'Alice Walker': { #creating the second nested dictionary\n",
        "      #each key in ths dictionary is a book and the values are the first two lines of the book in a list\n",
        "     'Meridian': ['Truman Held drove slowy into the small town of Chicokema as the two black men who worked at the station where he stopped for gas were breaking for lunch.', 'They looked at him as he got out of his car and lifted their Coca-Colas in a slight salute.'],\n",
        "     'Taking the Arrow Out of the Heart': ['And when they spy on us let them discover us loving – it really doesn’t matter what we are loving let it be an exercise of the heart.', 'Hope is a woman who has lost her fear.'] #sources https://alicewalkersgarden.com/2014/01/and-when-they-spy-on-us/ and https://alicewalkersgarden.com/2013/10/hope-of-healing/\n",
        "     },\n",
        " 'Jane Austen': { #creating the first nested dictionary\n",
        "      #each key in ths dictionary is a book and the values are the first two lines of the book in a list\n",
        "     'Pride and Prejudice': ['It is a truth universally acknowledged, that a single man in possession of a good fortune, must be in want of a wife','However little known the feelings or views of such a man may be on his first entering a neighbourhood, this truth is so well fixed in the minds of the surrounding families, that he is considered as the rightful property of some one or other of their daughters.'],\n",
        "     'Emma': ['Emma Woodhouse, handsome, clever, and rich, with a comfortable home and happy disposition, seemed to unite some of the best blessings of existence; and had lived nearly twenty-one years in the world with very little to distress or vex her.',\"She was the youngest of the two daughters of a most affectionate, indulgent father, and had, in consequence of her sister's marriage, been mistress of his house from a very early period.\"]\n",
        "     }\n",
        "}\n",
        "book_lines #printing the nested dictionary"
      ],
      "metadata": {
        "id": "ozetIRb4M7Cc"
      },
      "execution_count": null,
      "outputs": []
    },
    {
      "cell_type": "markdown",
      "source": [
        "In this dictionary, the value associated with each key is another dictionary."
      ],
      "metadata": {
        "id": "BnZFyjelVAPE"
      }
    },
    {
      "cell_type": "code",
      "source": [
        "#Code cell 27\n",
        "book_lines[\"Alice Walker\"] #this retrieves the dictionary of book lines authored by Alice Walker"
      ],
      "metadata": {
        "id": "K9gM1wj7VAjt"
      },
      "execution_count": null,
      "outputs": []
    },
    {
      "cell_type": "markdown",
      "source": [
        "To retrieve a value from a nested dictionary, you can use the dictionary key of the main dictionary and the key of the nested dictionary.\n",
        "\n",
        "`example_dictionary[key][nested dictionary key]`\n",
        "\n",
        "For example, the below code retrieves the lines from \"Pride and Prejudice\" in the nested dictionary of book lines authored by Jane Austen."
      ],
      "metadata": {
        "id": "0NOUURo4UnD1"
      }
    },
    {
      "cell_type": "code",
      "source": [
        "#Code cell 28\n",
        "book_lines[\"Alice Walker\"][\"Taking the Arrow Out of the Heart\"]"
      ],
      "metadata": {
        "id": "WUbe5BXvVbBq"
      },
      "execution_count": null,
      "outputs": []
    },
    {
      "cell_type": "markdown",
      "source": [
        "If you want to retrieve a particular value from a list stored in a nested dictionary, you can use the main dictionary key, the nested dictionary key, and the list index position.\n",
        "\n",
        "`example_dictionary[key][nested dictionary key][list index position]`"
      ],
      "metadata": {
        "id": "nSoUObw8VmOl"
      }
    },
    {
      "cell_type": "code",
      "source": [
        "#Code cell 29\n",
        "book_lines[\"Alice Walker\"][\"Taking the Arrow Out of the Heart\"][0] #this retrieves the first line in the book Pride and Prejudice authored by Jane Austen"
      ],
      "metadata": {
        "id": "9gE0njeGV7lV"
      },
      "execution_count": null,
      "outputs": []
    },
    {
      "cell_type": "markdown",
      "source": [
        "##Your Turn: Data Structures\n",
        "\n",
        "Option 1: Pick three words and make a dictionary with the words as keys and their definitions as values. If you aren't sure what to put, feel free to make up words and definitions. Once you have your dictionary, try printing out combinations of definitions.\n",
        "\n",
        "Option 2: Pick three of your favorite books and make a dictionary with their titles as keys and some of their sentences as values. If you aren't sure what to put, feel free to make up a book title and sentences. Once you have your dictionary, try printing out combinations of lines from different (real or made up) books.\n"
      ],
      "metadata": {
        "id": "i4eAnCDdUro7"
      }
    },
    {
      "cell_type": "code",
      "source": [
        "#Code cell 30\n",
        "#Create your dictionary. You can use the code above as a reference."
      ],
      "metadata": {
        "id": "vv5CVUQyVsQr"
      },
      "execution_count": null,
      "outputs": []
    },
    {
      "cell_type": "code",
      "source": [
        "#Code cell 31\n",
        "#Use indexing to access different sentences from your books or word definitions.\n",
        "#Then print out the sentences or definitions."
      ],
      "metadata": {
        "id": "J8qFJkNJhEKD"
      },
      "execution_count": null,
      "outputs": []
    },
    {
      "cell_type": "markdown",
      "source": [
        "## Conditional statements\n",
        "\n",
        "We can use conditional statements to run a portion of code if a condition is true, run a different portion of code if a different condition is true, or run no code.\n",
        "\n",
        "To see if a condition is true we use `==` to compare two things.\n",
        "\n",
        "For example, the code below determines if it is true or false that `color` is the same as `my_favorite_color`"
      ],
      "metadata": {
        "id": "B8GulCAlB7O9"
      }
    },
    {
      "cell_type": "code",
      "source": [
        "#Code cell 32\n",
        "color = 'pink'\n",
        "my_favorite_color = 'pink'\n",
        "\n",
        "color == my_favorite_color"
      ],
      "metadata": {
        "id": "GHIXh1SxDKTe"
      },
      "execution_count": null,
      "outputs": []
    },
    {
      "cell_type": "markdown",
      "source": [
        "We can also ask Python to print something if a condition is true.\n",
        "\n",
        "For example, we can print out whether that is our favorite color depending on whether `color` is the same as `my_favorite_color` using an `if`statement."
      ],
      "metadata": {
        "id": "hvnrjpgtDfuD"
      }
    },
    {
      "cell_type": "code",
      "source": [
        "#Code cell 33\n",
        "if color == my_favorite_color:\n",
        "  print(\"That's my favorite color!\")"
      ],
      "metadata": {
        "id": "4X0g7cFkDeuz"
      },
      "execution_count": null,
      "outputs": []
    },
    {
      "cell_type": "markdown",
      "source": [
        "We can also use an `else` statement if we want to run a portion of code if a statement is not true."
      ],
      "metadata": {
        "id": "i6yCjkaVEOfL"
      }
    },
    {
      "cell_type": "code",
      "source": [
        "#Code cell 34\n",
        "color = 'blue'\n",
        "my_favorite_color = 'pink'\n",
        "\n",
        "if color == my_favorite_color:\n",
        "  print(\"That's my favorite color!\")\n",
        "else:\n",
        "  print(\"That's not my favorite color.\")"
      ],
      "metadata": {
        "id": "f0o8sKfMEOPg"
      },
      "execution_count": null,
      "outputs": []
    },
    {
      "cell_type": "markdown",
      "source": [
        "Python has an additional conditional statement called `elif`. An `elif` statement, short for \"else if,\" allows us to create a list of possible conditions where one (and only one) action will be executed. `elif` statements come after an initial `if` statement and before an `else` statement:\n",
        "\n",
        "`if condition A is True:` <br />\n",
        "&nbsp; &nbsp; &nbsp; &nbsp; `perform action A` <br />\n",
        "`elif condition B is True:` <br />\n",
        "&nbsp; &nbsp; &nbsp; &nbsp; `perform action B` <br />\n",
        "`elif condition C is True:` <br />\n",
        "&nbsp; &nbsp; &nbsp; &nbsp; `perform action C` <br />\n",
        "`elif condition D is True:` <br />\n",
        "&nbsp; &nbsp; &nbsp; &nbsp; `perform action D` <br />\n",
        "`else:` <br />\n",
        "&nbsp; &nbsp; &nbsp; &nbsp;`perform action E`\n",
        "\n",
        "There is no limit on the number of `elif` statements. If there is an `else` clause, it has to be at the end, but there doesn’t have to be one.\n",
        "\n",
        "For example, if we want to print out whether a color is our favorite color, our second favorite color, or not our first or second favorite color we could use an `elif` statement."
      ],
      "metadata": {
        "id": "RmHa7sH5-uY3"
      }
    },
    {
      "cell_type": "code",
      "source": [
        "#Code cell 35\n",
        "color = 'blue'\n",
        "my_favorite_color = 'pink'\n",
        "my_second_favorite_color = 'blue'"
      ],
      "metadata": {
        "id": "Y04kaigBFUg0"
      },
      "execution_count": null,
      "outputs": []
    },
    {
      "cell_type": "code",
      "source": [
        "#Code cell 36\n",
        "if color == my_favorite_color:\n",
        "  print(\"That's my favorite color!\")\n",
        "elif color == my_second_favorite_color:\n",
        "  print(\"That's my second favorite color!\")\n",
        "else:\n",
        "  print(\"That's not my first or second favorite color.\")"
      ],
      "metadata": {
        "id": "KVfgPc5zHYDU"
      },
      "execution_count": null,
      "outputs": []
    },
    {
      "cell_type": "markdown",
      "source": [
        "Try changing the variable `color` to a different color to show different outcomes."
      ],
      "metadata": {
        "id": "71IyrWJM6sio"
      }
    },
    {
      "cell_type": "markdown",
      "source": [
        "## Functions\n",
        "\n",
        "In computer programming, a function is a collection of code which can be applied and reapplied to complete repetitive or similar tasks. In general, functions can be thought of as a kind of recipe where you plug in a set of ingredients, or parameters, and the function follows the recipe to get the desired output.\n",
        "\n",
        "We've already seen the `print()` function, which displays what is in the parentheses.\n"
      ],
      "metadata": {
        "id": "JPPG06FMHyQk"
      }
    },
    {
      "cell_type": "code",
      "source": [
        "#Code cell 37\n",
        "print(\"Hello World\")"
      ],
      "metadata": {
        "id": "-6T3bP-ROSkH"
      },
      "execution_count": null,
      "outputs": []
    },
    {
      "cell_type": "markdown",
      "source": [
        "Another useful function is `input()`. This function can be used request information from someone running your program and assign it to a variable. For example, in the code below, we use input() to request the user's name, then assign the name to a variable and print it out."
      ],
      "metadata": {
        "id": "CwLZNGQPO4Fm"
      }
    },
    {
      "cell_type": "code",
      "source": [
        "#Code cell 38\n",
        "name = input(\"What is your name? \")\n",
        "print(name)"
      ],
      "metadata": {
        "id": "ZA2IPpT1PkGc"
      },
      "execution_count": null,
      "outputs": []
    },
    {
      "cell_type": "markdown",
      "source": [
        "##Libraries and Modules\n",
        "So far, we've focused mostly on using built-in functions. Now, let's talk about importing others' functions.\n",
        "\n",
        "While Python comes with many functions, there are thousands more that others have written. Adding them all to Python would create mass confusion, since many people could use the same name for functions that do different things. The solution then is that functions are stored in [modules](https://docs.python.org/3/tutorial/modules.html) that can be **imported** for use. A module is a Python file (extension \".py\") that contains the definitions for the functions written in Python. These modules can then be collected into even larger groups called [packages](https://www.geeksforgeeks.org/python/python-packages/) and [libraries](https://www.geeksforgeeks.org/python/libraries-in-python/). Depending on how many functions you need for the program you are writing, you may import a single module, a package of modules, or a whole library.\n",
        "\n",
        "The general form of importing a module is:\n",
        "`import module_name`\n",
        "\n",
        "To access one of the functions in the module, you have to specify the name of the module and the name of the function, separated by a dot (also known as a period). This format is called **dot notation**.\n",
        "\n",
        "For example, the code below imports the [`random`](https://docs.python.org/3/library/random.html) module and uses the `choice()` function from that module to select a random item from a list."
      ],
      "metadata": {
        "id": "9J4Q5Qb3QCbz"
      }
    },
    {
      "cell_type": "code",
      "source": [
        "#Code cell 39\n",
        "# Import the `random` module\n",
        "import random\n",
        "word_list = ['books','printing','paper']\n",
        "# Use dot notation to access the choice() function from the random module\n",
        "random_word = random.choice(word_list)\n",
        "print(random_word)"
      ],
      "metadata": {
        "id": "upzKkvV4PSNm"
      },
      "execution_count": null,
      "outputs": []
    },
    {
      "cell_type": "markdown",
      "source": [
        "Python has many useful modules, packages, and libraries that you can import."
      ],
      "metadata": {
        "id": "MABqd48lQPlu"
      }
    },
    {
      "cell_type": "markdown",
      "source": [
        "#Computational Poem Example\n",
        "\n",
        "This computational poem example is adapted from the House of Dust by Alison Knowles and James Tenney (1967), reimplemented in Python by Nick Montfort.\n",
        "\n",
        "*The House of Dust, copyright (c) 2014, 2024 Nick Montfort <nickm@nickm.com> based on a 1967 program by Alison Knowles & James Tenney intended to work in Python 2 (>= 2.5) as well as 3, however: Copying and distribution of this file, with or without modification, are permitted in any medium without royalty provided the copyright notice and this notice are preserved. This file is offered as-is, without any warranty.*\n",
        "\n",
        "In this adaptation of the House of Dust, we will put into practice the Python fundamentals we have learned so far."
      ],
      "metadata": {
        "id": "OwFDCiJYV5Hk"
      }
    },
    {
      "cell_type": "code",
      "source": [
        "import random"
      ],
      "metadata": {
        "id": "El_97xF6gMIH"
      },
      "execution_count": null,
      "outputs": []
    },
    {
      "cell_type": "code",
      "execution_count": null,
      "metadata": {
        "id": "bu4HLYnqHHhH"
      },
      "outputs": [],
      "source": [
        "#Code cell 40\n",
        "#Create a dictionary of lists to hold the strings used in the poem.\n",
        "poem_dictionary = {'material':['sand', 'dust', 'leaves', 'paper'],\n",
        "                   'location':['in a green, mossy terrain', 'in an overpopulated area', 'by the sea', 'by an abandoned lake'],\n",
        "                   'light_source':['candles', 'all available lighting', 'electricity', 'natural light'],\n",
        "                   'inhabitants_people':['people who sleep very little', 'vegetarians', 'all races of men represented wearing predominantly red clothing'],\n",
        "                   'inhabitants_animals':['horses and birds', 'turtles']\n",
        "                   }"
      ]
    },
    {
      "cell_type": "code",
      "source": [
        "#Code cell 41\n",
        "inhabitants = input(\"Would you like your house to be inhabited by people or animals? (respond with people or animals)\")"
      ],
      "metadata": {
        "id": "IBuEUJ12dvm1"
      },
      "execution_count": null,
      "outputs": []
    },
    {
      "cell_type": "code",
      "execution_count": null,
      "metadata": {
        "id": "eta0D7KRHHUX"
      },
      "outputs": [],
      "source": [
        "#Code cell 42\n",
        "#Use conditional statements to print out different versions of the poem based on user input.\n",
        "#Select random text from the dictionary using random.choice()\n",
        "#Concatenate the strings using +.\n",
        "if inhabitants == \"people\":\n",
        "  text = 'a house of ' + random.choice(poem_dictionary['material']) + '\\n' + '      ' + random.choice(poem_dictionary['location']) + '\\n' + '            using ' + random.choice(poem_dictionary['light_source']) + '\\n' + '                  inhabited by ' + random.choice(poem_dictionary['inhabitants_people']) + '\\n'\n",
        "elif inhabitants == 'animals':\n",
        "  text = 'a house of ' + random.choice(poem_dictionary['material']) + '\\n' + '      ' + random.choice(poem_dictionary['location']) + '\\n' + '            using ' + random.choice(poem_dictionary['light_source']) + '\\n' + '                  inhabited by ' + random.choice(poem_dictionary['inhabitants_animals']) + '\\n'\n",
        "else:\n",
        "  print(\"Please re-run the prior cell and input either people or horses and birds.\")"
      ]
    },
    {
      "cell_type": "code",
      "execution_count": null,
      "metadata": {
        "id": "YkJE2pW_HSxb"
      },
      "outputs": [],
      "source": [
        "#Code cell 43\n",
        "#Print out the poem.\n",
        "print(text)"
      ]
    },
    {
      "cell_type": "code",
      "source": [
        "#Code cell 44\n",
        "#Give your poem a title using the input function.\n",
        "title = input(\"What would you like to title your poem?\")"
      ],
      "metadata": {
        "id": "73TKSobttUih"
      },
      "execution_count": null,
      "outputs": []
    },
    {
      "cell_type": "code",
      "source": [
        "#Code cell 45\n",
        "#Print out your poem with its title.\n",
        "print('\\t\\t\\t\\t' + title)\n",
        "print('\\n')\n",
        "print(text)"
      ],
      "metadata": {
        "id": "cBVj1R0uti3_"
      },
      "execution_count": null,
      "outputs": []
    },
    {
      "cell_type": "markdown",
      "source": [
        "#Your Turn: Writing a Computational Poem\n",
        "\n",
        "Try writing your own computational poem using the example above as a template!\n",
        "\n",
        "(Advanced) Try pauses and loops into your poem."
      ],
      "metadata": {
        "id": "Z7rtVcIFfoe6"
      }
    },
    {
      "cell_type": "code",
      "source": [],
      "metadata": {
        "id": "4sGkhQiJgFwc"
      },
      "execution_count": null,
      "outputs": []
    },
    {
      "cell_type": "code",
      "source": [],
      "metadata": {
        "id": "OUIpQyNYgFtu"
      },
      "execution_count": null,
      "outputs": []
    },
    {
      "cell_type": "code",
      "source": [],
      "metadata": {
        "id": "At2QnalJgFq3"
      },
      "execution_count": null,
      "outputs": []
    },
    {
      "cell_type": "code",
      "source": [],
      "metadata": {
        "id": "9M3wJeBTgFoB"
      },
      "execution_count": null,
      "outputs": []
    },
    {
      "cell_type": "markdown",
      "source": [
        "#Your Turn: Strings & Variables (Advanced) Potential Solution\n",
        "Answer key to the advanced Strings & Variables exercise. This is just one out of many potential solutons to this exercise."
      ],
      "metadata": {
        "id": "Ho-470pQX9_b"
      }
    },
    {
      "cell_type": "code",
      "source": [
        "#Code cell 46\n",
        "#Import the random module\n",
        "import random"
      ],
      "metadata": {
        "id": "DM6bJXj9UnBa"
      },
      "execution_count": null,
      "outputs": []
    },
    {
      "cell_type": "code",
      "source": [
        "#Code cell 47\n",
        "#Define sentence variables\n",
        "sentence_1 = \"I love cats!\"\n",
        "sentence_2 = \"Especially my cats Valka and Inky.\"\n",
        "sentence_3 = \"They are cute, they are fun, they are cuddly.\""
      ],
      "metadata": {
        "id": "j5PGxRgfTG6v"
      },
      "execution_count": null,
      "outputs": []
    },
    {
      "cell_type": "code",
      "source": [
        "#Code cell 48\n",
        "#Split the string assigned to sentence_3 into a list using commas (,) as the seperator\n",
        "word_list = sentence_3.split(\",\")"
      ],
      "metadata": {
        "id": "kesG8v4YUppH"
      },
      "execution_count": null,
      "outputs": []
    },
    {
      "cell_type": "code",
      "source": [
        "#Code cell 49\n",
        "#Display the word list\n",
        "word_list"
      ],
      "metadata": {
        "id": "0Kp3mT9iUyTi"
      },
      "execution_count": null,
      "outputs": []
    },
    {
      "cell_type": "code",
      "source": [
        "#Code cell 50\n",
        "#Ask the user for input\n",
        "answer_1 = input(\"Who do you love?\").lower()\n",
        "\n",
        "#Vary the response based on user input\n",
        "if answer_1 == \"cats\":\n",
        "  print(sentence_1)\n",
        "  print(sentence_2)\n",
        "  list_index = random.randint(0,len(word_list)-1)\n",
        "  print(word_list[list_index])\n",
        "else:\n",
        "  print(\"but why though?\")\n",
        "  answer_2 = input(\"Do you love cats?\").lower()\n",
        "  if answer_2 == \"yes\":\n",
        "    print(sentence_1)\n",
        "    print(sentence_2)\n",
        "    list_index = random.randint(0,len(word_list)-1)\n",
        "    print(word_list[list_index])\n",
        "  else:\n",
        "    print(\"Goodbye\")\n"
      ],
      "metadata": {
        "id": "mYH-V9zXTebZ"
      },
      "execution_count": null,
      "outputs": []
    }
  ],
  "metadata": {
    "kernelspec": {
      "display_name": "Python 3",
      "language": "python",
      "name": "python3"
    },
    "language_info": {
      "codemirror_mode": {
        "name": "ipython",
        "version": 3
      },
      "file_extension": ".py",
      "mimetype": "text/x-python",
      "name": "python",
      "nbconvert_exporter": "python",
      "pygments_lexer": "ipython3",
      "version": "3.8.8"
    },
    "toc": {
      "base_numbering": 1,
      "nav_menu": {},
      "number_sections": true,
      "sideBar": true,
      "skip_h1_title": false,
      "title_cell": "Table of Contents",
      "title_sidebar": "Contents",
      "toc_cell": false,
      "toc_position": {},
      "toc_section_display": true,
      "toc_window_display": true
    },
    "colab": {
      "provenance": []
    }
  },
  "nbformat": 4,
  "nbformat_minor": 0
}