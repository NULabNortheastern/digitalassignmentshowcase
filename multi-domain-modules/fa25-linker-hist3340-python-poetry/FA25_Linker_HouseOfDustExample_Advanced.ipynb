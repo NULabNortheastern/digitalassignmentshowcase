{
  "cells": [
    {
      "cell_type": "markdown",
      "metadata": {
        "id": "fWCl-vyrGvk1"
      },
      "source": [
        "Code for House of Dust by Alison Knowles and James Tenney (1967). Reimplemented in Python by Nick Montfort (https://nickm.com/memslam/the_house_of_dust.py)"
      ]
    },
    {
      "cell_type": "code",
      "execution_count": null,
      "metadata": {
        "id": "6fkSnveTGuQd"
      },
      "outputs": [],
      "source": [
        "#!/usr/bin/python\n",
        "\n",
        "# The House of Dust\n",
        "# copyright (c) 2014, 2024 Nick Montfort <nickm@nickm.com>\n",
        "# based on a 1967 program by Alison Knowles & James Tenney\n",
        "# intended to work in Python 2 (>= 2.5) as well as 3, however:\n",
        "#\n",
        "# Copying and distribution of this file, with or without modification,\n",
        "# are permitted in any medium without royalty provided the copyright\n",
        "# notice and this notice are preserved. This file is offered as-is,\n",
        "# without any warranty.\n",
        "#\n",
        "# Updated 10 March 2015 to remove a duplicate value in \"place\".\n",
        "# Updated 17 November 2015 to remove a near-duplicate value in \"inhabitants\".\n",
        "# Updated 31 May 2018 for compatibility with Python 2 (2.5+) and 3.\n",
        "# Updated 1 January 2024 for Memory Slam 2.0.\n",
        "# Updated 16 February 2024 as a teaching example"
      ]
    },
    {
      "cell_type": "code",
      "execution_count": null,
      "metadata": {
        "id": "Urjc1qfLGnGg"
      },
      "outputs": [],
      "source": [
        "from random import choice\n",
        "from sys import argv\n",
        "from time import sleep"
      ]
    },
    {
      "cell_type": "code",
      "execution_count": null,
      "metadata": {
        "id": "bu4HLYnqHHhH"
      },
      "outputs": [],
      "source": [
        "material = ['sand', 'dust', 'leaves', 'paper', 'tin', 'roots', 'brick', 'stone', 'discarded clothing', 'glass', 'steel', 'plastic', 'mud', 'broken dishes', 'wood', 'straw', 'weeds']"
      ]
    },
    {
      "cell_type": "code",
      "execution_count": null,
      "metadata": {
        "id": "d_kqI-GWHHeu"
      },
      "outputs": [],
      "source": [
        "location = ['in a green, mossy terrain', 'in an overpopulated area', 'by the sea', 'by an abandoned lake', 'in a deserted factory', 'in dense woods', 'in Japan', 'among small hills', 'in Southern France', 'among high mountains', 'on an island', 'in a cold, windy climate', 'in a place with both heavy rain and bright sun', 'in a deserted airport', 'in a hot climate', 'inside a mountain', 'on the sea', 'in Michigan', 'in heavy jungle undergrowth', 'by a river', 'among other houses', 'in a deserted church', 'in a metropolis', 'underwater']"
      ]
    },
    {
      "cell_type": "code",
      "execution_count": null,
      "metadata": {
        "id": "lmVbQZqqHHca"
      },
      "outputs": [],
      "source": [
        "light_source = ['candles', 'all available lighting', 'electricity', 'natural light']"
      ]
    },
    {
      "cell_type": "code",
      "execution_count": null,
      "metadata": {
        "id": "cj0e-tcuHHZT"
      },
      "outputs": [],
      "source": [
        "inhabitants = ['people who sleep very little', 'vegetarians', 'horses and birds', 'all races of men represented wearing predominantly red clothing', 'children and old people', 'various birds and fish', 'lovers', 'people who enjoy eating together', 'people who eat a great deal', 'collectors of all types', 'friends and enemies', 'people who sleep almost all the time', 'very tall people', 'little boys', 'people from many walks of life', 'friends', 'French and German speaking people', 'fishermen and families', 'people who love to read']"
      ]
    },
    {
      "cell_type": "code",
      "execution_count": null,
      "metadata": {
        "id": "eta0D7KRHHUX"
      },
      "outputs": [],
      "source": [
        "def stanza():\n",
        "    text = 'a house of ' + choice(material) + '\\n' + \\\n",
        "           '      ' + choice(location) + '\\n' + \\\n",
        "           '            using ' + choice(light_source) + '\\n' + \\\n",
        "           '                  inhabited by ' + choice(inhabitants) + '\\n'\n",
        "    return text.upper() if (len(argv) > 1 and argv[1] == '-c') else text"
      ]
    },
    {
      "cell_type": "code",
      "execution_count": null,
      "metadata": {
        "colab": {
          "base_uri": "https://localhost:8080/"
        },
        "id": "YkJE2pW_HSxb",
        "outputId": "ab68600e-3881-41d5-83b1-905026fcadbf"
      },
      "outputs": [
        {
          "output_type": "stream",
          "name": "stdout",
          "text": [
            "\n",
            "a house of tin\n",
            "      in a metropolis\n",
            "            using electricity\n",
            "                  inhabited by friends and enemies\n",
            "\n"
          ]
        }
      ],
      "source": [
        "print()\n",
        "while True:\n",
        "    print(stanza())\n",
        "    sleep(8.0)"
      ]
    }
  ],
  "metadata": {
    "colab": {
      "provenance": []
    },
    "kernelspec": {
      "display_name": "Python 3",
      "name": "python3"
    },
    "language_info": {
      "name": "python"
    }
  },
  "nbformat": 4,
  "nbformat_minor": 0
}