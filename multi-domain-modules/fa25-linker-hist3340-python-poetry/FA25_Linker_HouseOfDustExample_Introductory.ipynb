{
  "cells": [
    {
      "cell_type": "markdown",
      "metadata": {
        "id": "fWCl-vyrGvk1"
      },
      "source": [
        "Code for House of Dust by Alison Knowles and James Tenney (1967). Reimplemented in Python by Nick Montfort (https://nickm.com/memslam/the_house_of_dust.py)"
      ]
    },
    {
      "cell_type": "code",
      "execution_count": null,
      "metadata": {
        "id": "6fkSnveTGuQd"
      },
      "outputs": [],
      "source": [
        "#!/usr/bin/python\n",
        "\n",
        "# The House of Dust\n",
        "# copyright (c) 2014, 2024 Nick Montfort <nickm@nickm.com>\n",
        "# based on a 1967 program by Alison Knowles & James Tenney\n",
        "# intended to work in Python 2 (>= 2.5) as well as 3, however:\n",
        "#\n",
        "# Copying and distribution of this file, with or without modification,\n",
        "# are permitted in any medium without royalty provided the copyright\n",
        "# notice and this notice are preserved. This file is offered as-is,\n",
        "# without any warranty.\n",
        "#\n",
        "# Updated 10 March 2015 to remove a duplicate value in \"place\".\n",
        "# Updated 17 November 2015 to remove a near-duplicate value in \"inhabitants\".\n",
        "# Updated 31 May 2018 for compatibility with Python 2 (2.5+) and 3.\n",
        "# Updated 1 January 2024 for Memory Slam 2.0.\n",
        "# Updated 16 February 2024 as a teaching example\n",
        "# Updated 18 September 2025 as an introductory-level teaching example"
      ]
    },
    {
      "cell_type": "code",
      "execution_count": null,
      "metadata": {
        "id": "Urjc1qfLGnGg"
      },
      "outputs": [],
      "source": [
        "#Import the choice function from the random module.\n",
        "from random import choice"
      ]
    },
    {
      "cell_type": "code",
      "source": [
        "#Create a dictionary with your poem lines.\n",
        "poem_dictionary = {'material':['sand', 'dust', 'leaves', 'paper', 'tin', 'roots', 'brick', 'stone', 'discarded clothing', 'glass', 'steel', 'plastic', 'mud', 'broken dishes', 'wood', 'straw', 'weeds'],\n",
        "                   'location':['in a green, mossy terrain', 'in an overpopulated area', 'by the sea', 'by an abandoned lake', 'in a deserted factory', 'in dense woods', 'in Japan', 'among small hills', 'in Southern France', 'among high mountains', 'on an island', 'in a cold, windy climate', 'in a place with both heavy rain and bright sun', 'in a deserted airport', 'in a hot climate', 'inside a mountain', 'on the sea', 'in Michigan', 'in heavy jungle undergrowth', 'by a river', 'among other houses', 'in a deserted church', 'in a metropolis', 'underwater'],\n",
        "                   'light_source':['candles', 'all available lighting', 'electricity', 'natural light'],\n",
        "                   'inhabitants':['people who sleep very little', 'vegetarians', 'horses and birds', 'all races of men represented wearing predominantly red clothing', 'children and old people', 'various birds and fish', 'lovers', 'people who enjoy eating together', 'people who eat a great deal', 'collectors of all types', 'friends and enemies', 'people who sleep almost all the time', 'very tall people', 'little boys', 'people from many walks of life', 'friends', 'French and German speaking people', 'fishermen and families', 'people who love to read']\n",
        "                   }"
      ],
      "metadata": {
        "id": "91htzjiqIVzy"
      },
      "execution_count": null,
      "outputs": []
    },
    {
      "cell_type": "code",
      "execution_count": null,
      "metadata": {
        "id": "eta0D7KRHHUX"
      },
      "outputs": [],
      "source": [
        "#Put together the lines of your poem.\n",
        "text = 'a house of ' + choice(poem_dictionary['material']) + '\\n' + '      ' + choice(poem_dictionary['location']) + '\\n' + '            using ' + choice(poem_dictionary['light_source']) + '\\n' + '                  inhabited by ' + choice(poem_dictionary['inhabitants']) + '\\n'"
      ]
    },
    {
      "cell_type": "code",
      "execution_count": null,
      "metadata": {
        "colab": {
          "base_uri": "https://localhost:8080/"
        },
        "id": "YkJE2pW_HSxb",
        "outputId": "70689bb3-c495-465b-96a7-25541693e548"
      },
      "outputs": [
        {
          "output_type": "stream",
          "name": "stdout",
          "text": [
            "a house of roots\n",
            "      among high mountains\n",
            "            using all available lighting\n",
            "                  inhabited by very tall people\n",
            "\n"
          ]
        }
      ],
      "source": [
        "#Print out your poem.\n",
        "print(text)"
      ]
    },
    {
      "cell_type": "code",
      "source": [
        "#Ask the user for a title for the poem.\n",
        "title = input(\"What would you like to title your poem?\")"
      ],
      "metadata": {
        "colab": {
          "base_uri": "https://localhost:8080/"
        },
        "id": "qeAtxRJKJcjt",
        "outputId": "24166fa5-64be-41eb-a6c9-bc68b67960b7"
      },
      "execution_count": null,
      "outputs": [
        {
          "name": "stdout",
          "output_type": "stream",
          "text": [
            "What would you like to title your poem?mr. underhill\n"
          ]
        }
      ]
    },
    {
      "cell_type": "code",
      "source": [
        "#Print out your poem with its title.\n",
        "print('                 ' + title)\n",
        "print('\\n')\n",
        "print(text)"
      ],
      "metadata": {
        "colab": {
          "base_uri": "https://localhost:8080/"
        },
        "id": "XzvDidXNJ6D-",
        "outputId": "c8d38070-dcc5-4495-e15e-fa7cc712f7ee"
      },
      "execution_count": null,
      "outputs": [
        {
          "output_type": "stream",
          "name": "stdout",
          "text": [
            "                 mr. underhill\n",
            "\n",
            "\n",
            "a house of roots\n",
            "      among high mountains\n",
            "            using all available lighting\n",
            "                  inhabited by very tall people\n",
            "\n"
          ]
        }
      ]
    }
  ],
  "metadata": {
    "colab": {
      "provenance": []
    },
    "kernelspec": {
      "display_name": "Python 3",
      "name": "python3"
    },
    "language_info": {
      "name": "python"
    }
  },
  "nbformat": 4,
  "nbformat_minor": 0
}