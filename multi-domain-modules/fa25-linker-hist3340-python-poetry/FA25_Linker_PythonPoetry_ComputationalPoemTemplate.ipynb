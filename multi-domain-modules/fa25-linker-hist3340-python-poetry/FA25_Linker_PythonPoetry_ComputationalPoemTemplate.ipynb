{
  "nbformat": 4,
  "nbformat_minor": 0,
  "metadata": {
    "colab": {
      "provenance": []
    },
    "kernelspec": {
      "name": "python3",
      "display_name": "Python 3"
    },
    "language_info": {
      "name": "python"
    }
  },
  "cells": [
    {
      "cell_type": "markdown",
      "source": [
        "#Computational Poem Template\n",
        "\n",
        "You can edit this template to write your own compuational poem. Please create a copy of this notebook by going to \"File\" and then \"Save a copy in Drive.\" In your personal copy you can save any changes you make.\n",
        "\n",
        "Remember, making mistakes is part of learning and its okay not to know! If you get stuck, you can refer back to the [lesson Python notebook](https://colab.research.google.com/drive/15s8hRfjYd0-GKY_PkEMH2Io36o0yHcV3?usp=sharing), ask a question in class, or [schedule an office hours appointment](https://bit.ly/diti-meeting) with DITI."
      ],
      "metadata": {
        "id": "jQG9DjnDF2eR"
      }
    },
    {
      "cell_type": "code",
      "source": [
        "#import the choice function from the random module\n",
        "from random import choice"
      ],
      "metadata": {
        "id": "htDqficIK4fG"
      },
      "execution_count": null,
      "outputs": []
    },
    {
      "cell_type": "code",
      "source": [
        "#create a dictionary to hold the strings (text) you will use in your poem\n",
        "poem_dictionary = {'key':['item 1', 'item 2'] #fill in the list with strings to use in your poem\n",
        "                   #use commas , to seperate each key-value pair\n",
        "                  }"
      ],
      "metadata": {
        "id": "phAIAocGDfMJ"
      },
      "execution_count": null,
      "outputs": []
    },
    {
      "cell_type": "code",
      "source": [
        "#randomly select strings and concatenate them using +\n",
        "text = 'example string ' + choice(poem_dictionary['key']) + '\\n' + 'another string'"
      ],
      "metadata": {
        "id": "PkUhNOaWMaYk"
      },
      "execution_count": null,
      "outputs": []
    },
    {
      "cell_type": "code",
      "source": [
        "print(text)"
      ],
      "metadata": {
        "id": "tZRebuijOGfX"
      },
      "execution_count": null,
      "outputs": []
    },
    {
      "cell_type": "code",
      "source": [
        "#title your poem\n",
        "title = input(\"What would you like to call your poem?\")"
      ],
      "metadata": {
        "id": "yiM6aAijOH-H"
      },
      "execution_count": null,
      "outputs": []
    },
    {
      "cell_type": "code",
      "source": [
        "#print out your poem with its title\n",
        "print('                 ' + title)\n",
        "print('\\n')\n",
        "print(text)"
      ],
      "metadata": {
        "id": "mk1L_OhcONWH"
      },
      "execution_count": null,
      "outputs": []
    },
    {
      "cell_type": "markdown",
      "source": [
        "Once you have a first draft of your poem, try adding in conditional statements and changing the poem content based on user input. The [lesson Python notebook](https://colab.research.google.com/drive/15s8hRfjYd0-GKY_PkEMH2Io36o0yHcV3?usp=sharing) has an example of this at the end.\n",
        "\n",
        "If you are comfortable with those tasks, try adding in some attributes from the [advanced House of Dust notebook](https://colab.research.google.com/drive/1282dwFFKllSp-bj0uegU4N1jvyFjJutv?usp=sharing) or even [obfuscating](https://nickm.com/articles/Mateas_Montfort__A_Box_Darkly.pdf) your code."
      ],
      "metadata": {
        "id": "Iniet5wWOqVV"
      }
    },
    {
      "cell_type": "code",
      "source": [],
      "metadata": {
        "id": "rerLOR1tOp_L"
      },
      "execution_count": null,
      "outputs": []
    },
    {
      "cell_type": "code",
      "source": [],
      "metadata": {
        "id": "dVwkf3awOq5Q"
      },
      "execution_count": null,
      "outputs": []
    }
  ]
}