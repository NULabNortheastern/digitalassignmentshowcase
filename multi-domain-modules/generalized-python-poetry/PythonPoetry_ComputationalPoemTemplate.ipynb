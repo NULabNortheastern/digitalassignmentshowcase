{
  "nbformat": 4,
  "nbformat_minor": 0,
  "metadata": {
    "colab": {
      "provenance": []
    },
    "kernelspec": {
      "name": "python3",
      "display_name": "Python 3"
    },
    "language_info": {
      "name": "python"
    }
  },
  "cells": [
    {
      "cell_type": "markdown",
      "source": [
        "#Poem Construction\n",
        "\n",
        "You can edit this template to write your own poem."
      ],
      "metadata": {
        "id": "jQG9DjnDF2eR"
      }
    },
    {
      "cell_type": "code",
      "execution_count": null,
      "metadata": {
        "id": "KiAniQSIFynV"
      },
      "outputs": [],
      "source": [
        "# What module do you need to import to get functions to select a random number\n",
        "# or make a random choice?\n",
        "import random"
      ]
    },
    {
      "cell_type": "code",
      "source": [
        "#What topics do you want your program to select from?\n",
        "poem_topics = [] #insert your topics here in quotation marks (\"\" or '') and separated by commas\n",
        "print(poem_topics) #print out the list of poem topics"
      ],
      "metadata": {
        "id": "SVJLIr1fcLpX"
      },
      "execution_count": null,
      "outputs": []
    },
    {
      "cell_type": "code",
      "source": [
        "#What lines of poetry or words do you want your program to select from?\n",
        "#How can you store those?\n",
        "\n",
        "poetry_lines = {\n",
        "    'topic1' : { #change topic 1 and 2 to your topics\n",
        "        'line1' : [], #list of potential first lines for your poem pertaining to the first topic\n",
        "        'line2' : [] #list of potential second lines for your poem pertaining to the first topic\n",
        "\n",
        "    },\n",
        "    'topic2' : {\n",
        "        'line1' : [], #list of potential first lines pertaining to the second topic\n",
        "        'line2' : [] #list of potential second lines pertaining to the second topic\n",
        "        #how might you add more lines to your poem?\n",
        "    }\n",
        "    #how might you add more topics?\n",
        "}\n",
        "\n",
        "print(poetry_lines)"
      ],
      "metadata": {
        "id": "3pObtQs3cLi2"
      },
      "execution_count": null,
      "outputs": []
    },
    {
      "cell_type": "code",
      "source": [
        "#How can you access your poetry lines or words?\n",
        "poetry_lines['topic1']['line1'][0] #replace with one of your topics and line keys"
      ],
      "metadata": {
        "id": "vXUXmb1fcLbC"
      },
      "execution_count": null,
      "outputs": []
    },
    {
      "cell_type": "code",
      "source": [
        "#How can you randomly select your topic?\n",
        "topic = poem_topics[random.randint(0,1)] #how should you change this based on the number of potential topics?\n",
        "print(\"Topic: \" + topic)"
      ],
      "metadata": {
        "id": "cYCjQSzafnXD"
      },
      "execution_count": null,
      "outputs": []
    },
    {
      "cell_type": "code",
      "source": [
        "#How can you select lines based on your topic?\n",
        "if topic == 'topic1':\n",
        "  #How can you randomly select your lines or words?\n",
        "  print(poetry_lines['topic1']['line1'][random.randint(0,1)]) #how should you change this based on how many potential lines you have?\n",
        "else:\n",
        "  print(poetry_lines['topic2']['line1'][random.randint(0,1)]) #what statement should you add if you have more that two topics?"
      ],
      "metadata": {
        "id": "-3q_NcdpcLQq"
      },
      "execution_count": null,
      "outputs": []
    },
    {
      "cell_type": "markdown",
      "source": [
        "###Once you have the first draft of your poem:\n",
        "\n",
        "*  Try making your poem automatically repeat with variations each time\n",
        "*  Try varying the timing of when lines or stanzas appear\n",
        "*  Try varying the poem output based on user input"
      ],
      "metadata": {
        "id": "iMZHCpaJzn11"
      }
    },
    {
      "cell_type": "code",
      "source": [],
      "metadata": {
        "id": "ZEs2lTghhSJS"
      },
      "execution_count": null,
      "outputs": []
    }
  ]
}