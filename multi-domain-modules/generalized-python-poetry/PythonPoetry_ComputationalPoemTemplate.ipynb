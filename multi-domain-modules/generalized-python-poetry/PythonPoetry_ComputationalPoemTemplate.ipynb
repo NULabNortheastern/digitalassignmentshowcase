{
  "nbformat": 4,
  "nbformat_minor": 0,
  "metadata": {
    "colab": {
      "provenance": []
    },
    "kernelspec": {
      "name": "python3",
      "display_name": "Python 3"
    },
    "language_info": {
      "name": "python"
    }
  },
  "cells": [
    {
      "cell_type": "markdown",
      "source": [
        "#Computational Poem Template\n",
        "\n",
        "You can edit this template to write your own compuational poem. Please create a copy of this notebook by going to \"File\" and then \"Save a copy in Drive.\" In your personal copy you can save any changes you make.\n",
        "\n",
        "Remember, making mistakes is part of learning and its okay not to know! If you get stuck, you can refer back to the [lesson Python notebook](https://colab.research.google.com/drive/1Gc30m3jQ4XoKBnEQKvk8S0Jr_L774afl?usp=sharing)."
      ],
      "metadata": {
        "id": "jQG9DjnDF2eR"
      }
    },
    {
      "cell_type": "code",
      "source": [
        "#import the choice function from the random module\n",
        "from random import choice"
      ],
      "metadata": {
        "id": "htDqficIK4fG"
      },
      "execution_count": null,
      "outputs": []
    },
    {
      "cell_type": "code",
      "source": [
        "#create a dictionary to hold the strings (text) you will use in your poem\n",
        "poem_dictionary = {'key':['item 1', 'item 2'] #fill in the list with strings to use in your poem\n",
        "                   #use commas , to seperate each key-value pair\n",
        "                  }"
      ],
      "metadata": {
        "id": "phAIAocGDfMJ"
      },
      "execution_count": null,
      "outputs": []
    },
    {
      "cell_type": "code",
      "source": [
        "#randomly select strings and concatenate them using +\n",
        "text = 'example string ' + choice(poem_dictionary['key']) + '\\n' + 'another string'"
      ],
      "metadata": {
        "id": "PkUhNOaWMaYk"
      },
      "execution_count": null,
      "outputs": []
    },
    {
      "cell_type": "code",
      "source": [
        "print(text)"
      ],
      "metadata": {
        "id": "tZRebuijOGfX",
        "colab": {
          "base_uri": "https://localhost:8080/"
        },
        "outputId": "0fb1d70f-8b78-47a0-edf4-b6891e4f13b2"
      },
      "execution_count": null,
      "outputs": [
        {
          "output_type": "stream",
          "name": "stdout",
          "text": [
            "example string item 1\n",
            "another string\n"
          ]
        }
      ]
    },
    {
      "cell_type": "markdown",
      "source": [
        "Once you have a first draft of your poem, try adding in attributes from the [House of Dust](https://colab.research.google.com/drive/1neKbXIrVadStKT5VfY3pSJGCyZ31wgPQ?usp=sharing). You can also try adding in conditional statements or other attributes from the computational poems linked at the end of the [lesson notebook](https://colab.research.google.com/drive/1Gc30m3jQ4XoKBnEQKvk8S0Jr_L774afl?usp=sharing)!"
      ],
      "metadata": {
        "id": "Iniet5wWOqVV"
      }
    },
    {
      "cell_type": "code",
      "source": [],
      "metadata": {
        "id": "FMbnUM1tdWsS"
      },
      "execution_count": null,
      "outputs": []
    },
    {
      "cell_type": "code",
      "source": [],
      "metadata": {
        "id": "rerLOR1tOp_L"
      },
      "execution_count": null,
      "outputs": []
    },
    {
      "cell_type": "code",
      "source": [],
      "metadata": {
        "id": "dVwkf3awOq5Q"
      },
      "execution_count": null,
      "outputs": []
    }
  ]
}