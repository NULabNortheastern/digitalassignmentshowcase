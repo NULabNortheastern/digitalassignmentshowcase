{
 "cells": [
  {
   "cell_type": "markdown",
   "metadata": {},
   "source": [
    "# FBI Application Programming Interface (API) Module\n",
    "In this tutorial, we will be using Python to access the FBI's Application Programming Interface (API) to retrieve data from their servers to use in our research. APIs are powerful tools that many websites use for data storage and access. It will not be long before online data is primarily retrieved via APIs, so it is important to know the basic structure and skills required to do so.\n",
    "\n",
    "\n",
    "## Module Outline\n",
    "Step One: Get an API Key<br>\n",
    "Step Two: Documentation<br>\n",
    "Step Three: Initialize API Variables and Import Useful Python Libraries.<br>\n",
    "Step Four: Find the Appropriate Syntax for our Agency of Interest<br>\n",
    "Step Five: Convert Data<br>\n",
    "Step Six: Use our new Knowledge of the FBI Data Structure to Retrieve Crime Data.<br>\n",
    "Step Seven: Narrowing Down Our Search<br>\n",
    "Step Eight: Visualization<br>\n",
    "Step Nine: Saving our Data<br>\n",
    "\n",
    "## Important Terminology\n",
    "<b> Application Programming Interface (API):</b> Functions that allow for access to features or data of an operating system, applications, or online services. <br>\n",
    "<b> Data Scraping:</b> The process of using an API to import or download data from a website into a local machine. <br>\n",
    "<b> API Key:</b> APIs require an access key that behaves like a password to identify users who are accessing the data. <b> Do not</b> share your API key with anyone, nor make it accessible or visible in a public presentation or Jupyter Notebook. <br>\n",
    "<b> Uniform Crime Reporting (UCR):</b> The FBI's nationwide data collection and information system that reports crime statistics.<br>\n",
    "<b> Crime Data Explorer (CDE):</b> The public facing database for the UCR.<br>\n",
    "<b> National Incident-Based Reporting System (NIBRS):</b> A new system the FBI is implementing nationwide for data collection. However, only some municipalities have adopted it so far, but the goal is to have all agencies reporting NIBRS statistics by 2021.<br>\n",
    "<b> Summary Reporting System (SRS):</b> The current FBI standard for agencies reporting crime statistics. SRS is being replaced by the more-specific NIBRS statistics.<br>\n",
    "\n",
    "\n",
    "***\n",
    "\n",
    "## Contact Information\n",
    "Garrett Morrow <br>\n",
    "Digital Teaching Integration Research Fellow <br>\n",
    "PhD Student, Political Science <br>\n",
    "morrow.g [at] husky [dot] neu [dot] edu\n",
    "***"
   ]
  },
  {
   "cell_type": "markdown",
   "metadata": {},
   "source": [
    "## Step One: Get an API Key\n",
    "First, go to https://crime-data-explorer.fr.cloud.gov/api and click on where it says 'Get an API key here.' You will be redirected to the signup to get a key, and it will then be emailed to you."
   ]
  },
  {
   "cell_type": "markdown",
   "metadata": {},
   "source": [
    "## Step Two: Documentation\n",
    "APIs are similar, but they all function differently and require different syntax. You will need to find and reference the documentation for whatever API you would like to use. For the FBI API scroll down to see the endpoint controllers for the API.\n",
    "\n",
    "The FBI is available in a github format, and can be found here: https://github.com/fbi-cde/crime-data-frontend.\n",
    "\n",
    "For more information on the FBI's Uniform Crime Reporting (UCR) Program, see here: https://www.fbi.gov/services/cjis/ucr.\n",
    "\n",
    "Note the the \"requests format\" the FBI API documentation gives you. This is the format we will need to follow with our code and variables.\n",
    "\n",
    "Requests Format: https://api.usa.gov/crime/fbi/sapi/{desired_endpiont}?api_key=<API_KEY>"
   ]
  },
  {
   "cell_type": "markdown",
   "metadata": {},
   "source": [
    "## Step Three: Initialize API Variables and Import Useful Python Libraries.\n",
    "Step three is initialize our API variables to make our data search easier because we insert these variables into later code."
   ]
  },
  {
   "cell_type": "code",
   "execution_count": null,
   "metadata": {},
   "outputs": [],
   "source": [
    "# The first variable is the API key we obtained in step one. This variable should be a string.\n",
    "# Note that I have left this variable empty for you to insert your key between the \"\".\n",
    "\n",
    "key = \"\"\n",
    "\n",
    "# The second variable we need is the base search URL. This is found in the documentation and is also a string.\n",
    "base_url = 'https://api.usa.gov/crime/fbi/sapi'\n",
    "\n",
    "# Next we will import the libraries we will need for data analysis and API scraping.\n",
    "import requests # Enables the 'get' requests we use request data from the API server.\\\n",
    "import json # JSONs are the data structure APIs usually return. JSONs are similar to dictionaries.\n",
    "import pandas # Pandas are spreadsheet-like data structures.\n",
    "import matplotlib.pyplot as plt # Matplotlib (specifically pyplot) is our library for visualization.\n",
    "import seaborn as sns # Seaborn is an alternative plotting library."
   ]
  },
  {
   "cell_type": "markdown",
   "metadata": {},
   "source": [
    "## Step Four: Find the Appropriate Syntax for our Agency of Interest\n",
    "First we will need to use the lookups-controller to find the specific state law enforcement agency that interests us and apply the given syntax to future uses. We already have the base url, so we can now create URL extensions to add on to it.\n",
    "\n",
    "This is the most difficult step of using APIs, as each API uses a different syntax and organizes their data in different ways. You may have to use the URL extension that allows for broad searches or lookups in order to find identifying data (in the case of the FBI, we want to find the Originating Agency Information number or ORI). Then once you have identifying data, you can use the other URL extensions to more in-depth searches of the specific data."
   ]
  },
  {
   "cell_type": "code",
   "execution_count": null,
   "metadata": {},
   "outputs": [],
   "source": [
    "# This is the syntax to search for regions; from documentation:\n",
    "# /api/agencies Returns List of Agencies utilized by CDE Endpoint\n",
    "# The FBI's API uses '?' to end the url and separate the url from the API key.\n",
    "\n",
    "search_url = \"/api/agencies?\""
   ]
  },
  {
   "cell_type": "code",
   "execution_count": null,
   "metadata": {},
   "outputs": [],
   "source": [
    "# Next, we perform the actual search.\n",
    "\n",
    "agency_search = requests.get(base_url + search_url + key)"
   ]
  },
  {
   "cell_type": "code",
   "execution_count": null,
   "metadata": {},
   "outputs": [],
   "source": [
    "# If everything went ok, after our search, we should receive: <Response [200]>\n",
    "# We will need to convert the response into something usable.\n",
    "\n",
    "agency_search"
   ]
  },
  {
   "cell_type": "markdown",
   "metadata": {},
   "source": [
    "## Step Five: Convert Data\n",
    "Next we need to convert the data we received to the JSON format."
   ]
  },
  {
   "cell_type": "code",
   "execution_count": null,
   "metadata": {},
   "outputs": [],
   "source": [
    "# First we can convert the data into text, but this too is mostly unusable .\n",
    "agencyinfo = agency_search.text\n",
    "agencyinfo[:1000]"
   ]
  },
  {
   "cell_type": "code",
   "execution_count": null,
   "metadata": {},
   "outputs": [],
   "source": [
    "# Instead, we convert the text into JSON, which are essentially big dictionaries.\n",
    "agencydata = json.loads(agencyinfo)\n",
    "agencydata"
   ]
  },
  {
   "cell_type": "code",
   "execution_count": null,
   "metadata": {
    "scrolled": true
   },
   "outputs": [],
   "source": [
    "# We need to narrow it down to find information on our specific area of interest.\n",
    "# In this case, Massachusetts.\n",
    "# We can use .keys() to explore the structure of our lookup data.\n",
    "\n",
    "agencydata.keys()"
   ]
  },
  {
   "cell_type": "code",
   "execution_count": null,
   "metadata": {},
   "outputs": [],
   "source": [
    "# We can narrow it down further so we can see the structure of the MA data.\n",
    "\n",
    "agencydata['MA']"
   ]
  },
  {
   "cell_type": "markdown",
   "metadata": {},
   "source": [
    "We know can clearly see the structure for our data and can now use it to use the other API lines to retrieve crime data about our area of interest.\n",
    "\n",
    "The data is structured like so:\n",
    "\n",
    "'MA0130100':<br> {'ori': 'MA0130100',<br>\n",
    "   'agency_name': 'Boston Police Department',<br>\n",
    "   'agency_type_name': 'City',<br>\n",
    "   'state_name': 'Massachusetts',<br>\n",
    "   'state_abbr': 'MA',<br>\n",
    "   'division_name': 'New England',<br>\n",
    "   'region_name': 'Northeast',<br>\n",
    "   'region_desc': 'Region I',<br>\n",
    "   'county_name': 'SUFFOLK',<br>\n",
    "   'nibrs': False,<br>\n",
    "   'latitude': 42.33196,<br>\n",
    "   'longitude': -71.020173,<br>\n",
    "   'nibrs_start_date': None}<br>\n",
    "   \n",
    "As we can see, the Boston Police Department does not use the National Incident Based Reporting System (NIBRS), so we will have to use the legacy Summary Reporting System (SRS) data format which is aggregate data. While the FBI plans on having all crime data in NIBRS format by 2021, some locales, particularly big cities, are still training and adapting."
   ]
  },
  {
   "cell_type": "markdown",
   "metadata": {},
   "source": [
    "## Step Six: Use our new Knowledge of the FBI Data Structure to Retrieve Crime Data. \n",
    "The ORI number for the Boston Police Department is MA0130100 and they use SRS reporting not NIBRS, so we will use this number combined with the SRS crime data url extensions as seen in the FBI's API documentation to retrieve crime statistics. For SRS data, we can use the following endpoints:<br>\n",
    "\n",
    "/api/summarized/agencies/{ori}/offenses/{since}/{until} Agency level SRS Crime Data Endpoint<br>\n",
    "/api/summarized/agencies/{ori}/{offense}/{since}/{until} Agency level SRS Crime Data Endpoint by Offense<br>\n",
    "/api/summarized/state/{stateAbbr}/{offense}/{since}/{until} Agency level SRS Crime Data Endpoint by Offense<br>\n",
    "\n",
    "We will use the first endpoint to retrieve Boston's SRS data. 2018 data is not yet available, so we will use the date range 2000-2017 - if we use 2018 as our endpoint, we will receive an error."
   ]
  },
  {
   "cell_type": "code",
   "execution_count": null,
   "metadata": {},
   "outputs": [],
   "source": [
    "# Similar to our search url above, we will create a new url for our SRS data.\n",
    "# We will need to create start and end date variables because we need to enter integers.\n",
    "\n",
    "boston_url = \"/api/summarized/agencies/MA0130100/offenses/2000/2017?\"\n"
   ]
  },
  {
   "cell_type": "code",
   "execution_count": null,
   "metadata": {},
   "outputs": [],
   "source": [
    "# Again, we will combine our urls and key to get our data.\n",
    "\n",
    "boston_search = requests.get(base_url + boston_url + key)"
   ]
  },
  {
   "cell_type": "code",
   "execution_count": null,
   "metadata": {},
   "outputs": [],
   "source": [
    "# If everything went ok, after our search, we should receive: <Response [200]>\n",
    "\n",
    "boston_search"
   ]
  },
  {
   "cell_type": "code",
   "execution_count": null,
   "metadata": {},
   "outputs": [],
   "source": [
    "# Next we need to convert our data.\n",
    "# First we convert the data into text.\n",
    "\n",
    "bostoninfo = boston_search.text\n",
    "\n",
    "# Next we convert the text into JSON.\n",
    "bostondata = json.loads(bostoninfo)\n",
    "bostondata"
   ]
  },
  {
   "cell_type": "code",
   "execution_count": null,
   "metadata": {},
   "outputs": [],
   "source": [
    "# Again, the way we dig into our data is to use the .keys() function\n",
    "\n",
    "bostondata.keys()"
   ]
  },
  {
   "cell_type": "code",
   "execution_count": null,
   "metadata": {},
   "outputs": [],
   "source": [
    "# Since we found results, we can turn this into a Pandas dataframe.\n",
    "\n",
    "bostondf = pandas.DataFrame(bostondata['results'])"
   ]
  },
  {
   "cell_type": "code",
   "execution_count": null,
   "metadata": {
    "scrolled": true
   },
   "outputs": [],
   "source": [
    "bostondf"
   ]
  },
  {
   "cell_type": "markdown",
   "metadata": {},
   "source": [
    "As we can see, the FBI divides crime statistics into differen categories of offenses. Lets narrow down our search to just burglaries."
   ]
  },
  {
   "cell_type": "markdown",
   "metadata": {},
   "source": [
    "## Step Seven: Narrowing Down Our Search\n"
   ]
  },
  {
   "cell_type": "code",
   "execution_count": null,
   "metadata": {},
   "outputs": [],
   "source": [
    "# First, we create our new, more-specific url - see the endpoint urls above.\n",
    "\n",
    "bostonburgs_url = \"/api/summarized/agencies/MA0130100/burglary/2000/2017?\""
   ]
  },
  {
   "cell_type": "code",
   "execution_count": null,
   "metadata": {},
   "outputs": [],
   "source": [
    "# Next we perform our search with our new url.\n",
    "\n",
    "bostonburgs_search = requests.get(base_url + bostonburgs_url + key)"
   ]
  },
  {
   "cell_type": "code",
   "execution_count": null,
   "metadata": {},
   "outputs": [],
   "source": [
    "# If everything went ok, after our search, we should receive: <Response [200]>\n",
    "\n",
    "bostonburgs_search"
   ]
  },
  {
   "cell_type": "code",
   "execution_count": null,
   "metadata": {},
   "outputs": [],
   "source": [
    "# Next we need to convert our data.\n",
    "# First we convert the data into text.\n",
    "\n",
    "bostonburgsinfo = bostonburgs_search.text\n",
    "\n",
    "# Next we convert the text into JSON.\n",
    "bostonburgsdata = json.loads(bostonburgsinfo)\n",
    "bostonburgsdata"
   ]
  },
  {
   "cell_type": "code",
   "execution_count": null,
   "metadata": {},
   "outputs": [],
   "source": [
    "# Again, the way we dig into our data is to use the .keys() function\n",
    "\n",
    "bostonburgsdata.keys()"
   ]
  },
  {
   "cell_type": "code",
   "execution_count": null,
   "metadata": {},
   "outputs": [],
   "source": [
    "bostonburgsdf = pandas.DataFrame(bostonburgsdata['results'])"
   ]
  },
  {
   "cell_type": "code",
   "execution_count": null,
   "metadata": {},
   "outputs": [],
   "source": [
    "bostonburgsdf"
   ]
  },
  {
   "cell_type": "markdown",
   "metadata": {},
   "source": [
    "## Step Eight: Visualization\n",
    "This section will be a brief example of a simple visualization using the matplotlib pyplot function and the seaborn alternative."
   ]
  },
  {
   "cell_type": "code",
   "execution_count": null,
   "metadata": {},
   "outputs": [],
   "source": [
    "# We will visualize a bar graph to show change over time.\n",
    "\n",
    "bostonburgsdf.plot(kind='bar', x = 'data_year', y='actual') # Our plot function\n",
    "plt.rcParams[\"figure.figsize\"] = [10,5] # This resizes our figure\n",
    "plt.show()"
   ]
  },
  {
   "cell_type": "code",
   "execution_count": null,
   "metadata": {},
   "outputs": [],
   "source": [
    "# Seaborn is a similar, but alternative plotting library.\n",
    "\n",
    "sns.barplot(x='data_year', y='actual', data=bostonburgsdf)\n",
    "plt.rcParams[\"figure.figsize\"] = [10,5] # This resizes our figure\n",
    "plt.title('Boston Burglaries Over Time')\n",
    "plt.ylabel('Burglaries')\n",
    "plt.xlabel('Year')\n",
    "plt.show()"
   ]
  },
  {
   "cell_type": "markdown",
   "metadata": {},
   "source": [
    "## Step Nine: Saving our Data\n",
    "The final step will be to save our data. Since we have our data in a pandas dataframe, we can export this as a .csv file."
   ]
  },
  {
   "cell_type": "code",
   "execution_count": null,
   "metadata": {},
   "outputs": [],
   "source": [
    "# The following function is used to save our data as .csv. Remove the # to run.\n",
    "\n",
    "#bostonburgsdf.to_csv('Boston_burglaries.csv')"
   ]
  }
 ],
 "metadata": {
  "kernelspec": {
   "display_name": "Python 3",
   "language": "python",
   "name": "python3"
  },
  "language_info": {
   "codemirror_mode": {
    "name": "ipython",
    "version": 3
   },
   "file_extension": ".py",
   "mimetype": "text/x-python",
   "name": "python",
   "nbconvert_exporter": "python",
   "pygments_lexer": "ipython3",
   "version": "3.7.1"
  }
 },
 "nbformat": 4,
 "nbformat_minor": 2
}
