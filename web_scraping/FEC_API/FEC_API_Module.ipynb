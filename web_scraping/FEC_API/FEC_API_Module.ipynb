{
 "cells": [
  {
   "cell_type": "markdown",
   "metadata": {},
   "source": [
    "# FEC Application Programming Interface (API) Module\n",
    "\n",
    "In this tutorial, I will be walking you through how to use the Federal Election Commission's (FEC) API. APIs are powerful tools that many websites use for data storage and access. It will not be long before online data is primarily retrieved via APIs, so it is important to know the basic structure and skills required to do so. We will use the FEC API to first look up candidates in the Connecticut 2018 midterm election for the house of representatives to get a candidate ID given by the FEC. Then we will use a candidate ID to look up that candidate's history of campaign finance for as long as the representative has been in office. Finally, we will plot the total disbursements per campaign cycle.\n",
    "\n",
    "## Module Outline\n",
    "Step One: Get an API Key.<br>\n",
    "Step Two: Documentation.<br>\n",
    "Step Three: Initialize API Variables and Import Libraries<br>\n",
    "Step Four: Candidate Search<br>\n",
    "Step Five: Convert Data<br>\n",
    "Step Six: Use Candidate ID to Retrieve Campaign Finance Data<br>\n",
    "Step Seven: Visualize data<br>\n",
    "Conclusion<br>\n",
    "\n",
    "## Important Terminology\n",
    "<b> Application Programming Interface (API):</b> Functions that allow for access to features or data of an operating system, applications, or online services. <br>\n",
    "<b> Data Scraping:</b> The process of using an API to import or download data from a website into a local machine. <br>\n",
    "<b> API Key:</b> APIs require an access key that behaves like a password to identify users who are accessing the data. <b> Do not</b> share your API key with anyone, nor make it accessible or visible in a public presentation or Jupyter Notebook. <br>\n",
    "\n",
    "***\n",
    "\n",
    "## Contact Information\n",
    "Garrett Morrow <br>\n",
    "Digital Teaching Integration Research Fellow <br>\n",
    "PhD Student, Political Science <br>\n",
    "morrow.g [at] husky [dot] neu [dot] edu\n",
    "***"
   ]
  },
  {
   "cell_type": "markdown",
   "metadata": {},
   "source": [
    "## Step One: Get an API Key.\n",
    "First, go to https://api.data.gov/ and click on 'request a key' or 'API key signup'. Enter your name, email, and optional reason for using the API, then click 'signup' and check your email for the key."
   ]
  },
  {
   "cell_type": "markdown",
   "metadata": {},
   "source": [
    "## Step Two: Documentation.\n",
    "Next, go to the OpenFEC API's documentation page to refer to. This is available at:\n",
    "https://api.open.fec.gov/developers/. The FEC API is a powerful tool, and you will need to lookup the specific syntax for the data you are interested in, as well as the different URLs we will need."
   ]
  },
  {
   "cell_type": "markdown",
   "metadata": {},
   "source": [
    "## Step Three: Initialize API Variables and Import Libraries\n",
    "Step three is to initialize our API variables, to make data search easier."
   ]
  },
  {
   "cell_type": "code",
   "execution_count": null,
   "metadata": {},
   "outputs": [],
   "source": [
    "# This first variable is the API key we obtained in step one. I have left this blank, please insert your key between the \"\".\n",
    "key = \"\"\n",
    "\n",
    "# Second variable is the base search URL.\n",
    "base_url = \"http://api.open.fec.gov/v1\"\n",
    "\n",
    "# Next we will import the libraries we will need\n",
    "import requests #requests library, enables get requests\n",
    "import json #data structure, similar to dictionaries\n",
    "import pandas #we know this one!"
   ]
  },
  {
   "cell_type": "markdown",
   "metadata": {},
   "source": [
    "## Step Four: Candidate Search\n",
    "Step four is to query the API to find candidate variable numbers that are assigned by the FEC once a candidate raises or spends $5,000 or above. We will search for candidates whom ran for the House of Representatives from the state of Connecticut in 2018."
   ]
  },
  {
   "cell_type": "code",
   "execution_count": null,
   "metadata": {},
   "outputs": [],
   "source": [
    "# The first variable is URL extension needed for candidate searches.\n",
    "search_url = base_url + \"/candidates/search/\"\n",
    "\n",
    "# The next variable is our search parameters.\n",
    "searchparams = {\"api_key\" : key,# Our API key\n",
    "         \"election_year\" : 2018, # We are interested in the 2018 midterms for this exercise. \n",
    "         \"office\" : \"H\", # H = House of Representatives, see the documentation for other variables.\n",
    "         \"state\" : \"CT\", # We are interested in Connecticut for this exercise.\n",
    "         \"sort\" : \"district\", # We are sorting the list by district, but this can be any other variable.\n",
    "         \"per_page\": \"100\",  # We are maximizing the number of hits we can get per page of data retrieval.\n",
    "         \"page\" : '1'}\n",
    "\n",
    "# Next, we perform the actual search.\n",
    "candidate_search = requests.get(search_url, params=searchparams)"
   ]
  },
  {
   "cell_type": "markdown",
   "metadata": {},
   "source": [
    "## Step Five: Convert Data\n",
    "Next we will convert the data returned by our candidate into JSON data."
   ]
  },
  {
   "cell_type": "code",
   "execution_count": null,
   "metadata": {
    "scrolled": true
   },
   "outputs": [],
   "source": [
    "# First we will convert data into text.\n",
    "candidatetext = candidate_search.text\n",
    "\n",
    "# Next we will convert text into JSON\n",
    "candidatedata = json.loads(candidatetext)\n",
    "\n",
    "# We can now find the keys, and then convert results into a pandas dataframe, then sort the dataframe by district.\n",
    "candidatedata.keys()\n",
    "type(candidatedata['results'])\n",
    "candidatedf = pandas.DataFrame(candidatedata['results'])\n",
    "candidatedf"
   ]
  },
  {
   "cell_type": "markdown",
   "metadata": {},
   "source": [
    "## Step Six: Use Candidate ID to Retrieve Campaign Finance Data\n",
    "We will now use the candidate ID of John B. Larson from the data frame above. Larson has represented Connecticut's first district since 1998 and won office again in the 2018 midterms."
   ]
  },
  {
   "cell_type": "code",
   "execution_count": null,
   "metadata": {},
   "outputs": [],
   "source": [
    "# We will now go back to the API documentation and create the new API URL.\n",
    "finance_url = base_url + \"/candidate/H8CT01046/totals\"\n",
    "\n",
    "# Now we create new search parameters.\n",
    "financeparams = {\"api_key\" : key, # Our API Key\n",
    "                 \"full_election\" : 1} # A boolean operator to retrieve data for full election cycles.\n",
    "\n",
    "# Next we perform the actual query.\n",
    "finance_search = requests.get(finance_url, params=financeparams)                "
   ]
  },
  {
   "cell_type": "code",
   "execution_count": null,
   "metadata": {},
   "outputs": [],
   "source": [
    "# Convert our data into text.\n",
    "financetext = finance_search.text\n",
    "\n",
    "# Convert text into JSON.\n",
    "financedata = json.loads(financetext)\n",
    "financedata.keys()\n",
    "financedf = pandas.DataFrame(financedata['results'])\n",
    "financedf"
   ]
  },
  {
   "cell_type": "markdown",
   "metadata": {},
   "source": [
    "## Step Seven: Visualize data\n",
    "In the next step we will visualize the total campaign disbursments for all of Mr. Larson's campaigns."
   ]
  },
  {
   "cell_type": "code",
   "execution_count": null,
   "metadata": {},
   "outputs": [],
   "source": [
    "# First we import our visualization library.\n",
    "import matplotlib.pyplot as plt\n",
    "\n",
    "# Next we will group the data by the cycle year.\n",
    "plt.bar(x=financedf['cycle'], height=financedf['disbursements'], align = 'center')\n",
    "plt.rcParams[\"figure.figsize\"] = [10,10]\n",
    "plt.xticks(ticks=financedf['cycle'])\n",
    "plt.xlabel('Election Cycle')\n",
    "plt.ylabel('Total Disbursement ($)')\n",
    "plt.show()"
   ]
  },
  {
   "cell_type": "markdown",
   "metadata": {},
   "source": [
    "## Conclusion\n",
    "The FEC API gives us the ability to look up campaign spending as well as many other variables. Representative John B. Larson, a Democrat from Connecticut's first district, spent nearly 2.5 million dollars in the 2010 election cycle, the peak of his campaign spending. 2010 spending may have been expenses necessary to fight off a Tea Party insurgent Republican or perhaps another campaign reason like the *Citizens United* ruling. Note that this spending is only from Representative Larson's campaign itself and does not include other spending like from Political Action Committees."
   ]
  }
 ],
 "metadata": {
  "kernelspec": {
   "display_name": "Python 3",
   "language": "python",
   "name": "python3"
  },
  "language_info": {
   "codemirror_mode": {
    "name": "ipython",
    "version": 3
   },
   "file_extension": ".py",
   "mimetype": "text/x-python",
   "name": "python",
   "nbconvert_exporter": "python",
   "pygments_lexer": "ipython3",
   "version": "3.7.1"
  }
 },
 "nbformat": 4,
 "nbformat_minor": 2
}
